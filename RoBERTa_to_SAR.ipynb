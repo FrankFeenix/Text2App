{
  "nbformat": 4,
  "nbformat_minor": 0,
  "metadata": {
    "colab": {
      "name": "RoBERTa to SAR",
      "provenance": [],
      "toc_visible": true,
      "authorship_tag": "ABX9TyOqPXizvaRNxOvn43y9G4Fk",
      "include_colab_link": true
    },
    "kernelspec": {
      "name": "python3",
      "display_name": "Python 3"
    },
    "language_info": {
      "name": "python"
    },
    "accelerator": "GPU"
  },
  "cells": [
    {
      "cell_type": "markdown",
      "metadata": {
        "id": "view-in-github",
        "colab_type": "text"
      },
      "source": [
        "<a href=\"https://colab.research.google.com/github/Masum06/Text2App/blob/notebooks/RoBERTa_to_SAR.ipynb\" target=\"_parent\"><img src=\"https://colab.research.google.com/assets/colab-badge.svg\" alt=\"Open In Colab\"/></a>"
      ]
    },
    {
      "cell_type": "markdown",
      "metadata": {
        "id": "F864UIM1YUEq"
      },
      "source": [
        "Custom decoder code borrowed from: https://github.com/microsoft/CodeXGLUE"
      ]
    },
    {
      "cell_type": "code",
      "metadata": {
        "colab": {
          "base_uri": "https://localhost:8080/"
        },
        "id": "aBG3u_eYQHKY",
        "outputId": "e724015c-1011-43f9-de37-054b7dbe5db7"
      },
      "source": [
        "!pip install transformers"
      ],
      "execution_count": 16,
      "outputs": [
        {
          "output_type": "stream",
          "text": [
            "Requirement already satisfied: transformers in /usr/local/lib/python3.7/dist-packages (4.4.2)\n",
            "Requirement already satisfied: importlib-metadata; python_version < \"3.8\" in /usr/local/lib/python3.7/dist-packages (from transformers) (3.8.1)\n",
            "Requirement already satisfied: tqdm>=4.27 in /usr/local/lib/python3.7/dist-packages (from transformers) (4.41.1)\n",
            "Requirement already satisfied: sacremoses in /usr/local/lib/python3.7/dist-packages (from transformers) (0.0.44)\n",
            "Requirement already satisfied: packaging in /usr/local/lib/python3.7/dist-packages (from transformers) (20.9)\n",
            "Requirement already satisfied: regex!=2019.12.17 in /usr/local/lib/python3.7/dist-packages (from transformers) (2019.12.20)\n",
            "Requirement already satisfied: requests in /usr/local/lib/python3.7/dist-packages (from transformers) (2.23.0)\n",
            "Requirement already satisfied: tokenizers<0.11,>=0.10.1 in /usr/local/lib/python3.7/dist-packages (from transformers) (0.10.1)\n",
            "Requirement already satisfied: numpy>=1.17 in /usr/local/lib/python3.7/dist-packages (from transformers) (1.19.5)\n",
            "Requirement already satisfied: filelock in /usr/local/lib/python3.7/dist-packages (from transformers) (3.0.12)\n",
            "Requirement already satisfied: typing-extensions>=3.6.4; python_version < \"3.8\" in /usr/local/lib/python3.7/dist-packages (from importlib-metadata; python_version < \"3.8\"->transformers) (3.7.4.3)\n",
            "Requirement already satisfied: zipp>=0.5 in /usr/local/lib/python3.7/dist-packages (from importlib-metadata; python_version < \"3.8\"->transformers) (3.4.1)\n",
            "Requirement already satisfied: joblib in /usr/local/lib/python3.7/dist-packages (from sacremoses->transformers) (1.0.1)\n",
            "Requirement already satisfied: six in /usr/local/lib/python3.7/dist-packages (from sacremoses->transformers) (1.15.0)\n",
            "Requirement already satisfied: click in /usr/local/lib/python3.7/dist-packages (from sacremoses->transformers) (7.1.2)\n",
            "Requirement already satisfied: pyparsing>=2.0.2 in /usr/local/lib/python3.7/dist-packages (from packaging->transformers) (2.4.7)\n",
            "Requirement already satisfied: certifi>=2017.4.17 in /usr/local/lib/python3.7/dist-packages (from requests->transformers) (2020.12.5)\n",
            "Requirement already satisfied: idna<3,>=2.5 in /usr/local/lib/python3.7/dist-packages (from requests->transformers) (2.10)\n",
            "Requirement already satisfied: urllib3!=1.25.0,!=1.25.1,<1.26,>=1.21.1 in /usr/local/lib/python3.7/dist-packages (from requests->transformers) (1.24.3)\n",
            "Requirement already satisfied: chardet<4,>=3.0.2 in /usr/local/lib/python3.7/dist-packages (from requests->transformers) (3.0.4)\n"
          ],
          "name": "stdout"
        }
      ]
    },
    {
      "cell_type": "code",
      "metadata": {
        "colab": {
          "base_uri": "https://localhost:8080/"
        },
        "id": "CHNqpkh3Q2MG",
        "outputId": "f605eac7-d325-4492-b9f8-2590223aa825"
      },
      "source": [
        "!git clone https://github.com/Masum06/CodeXGLUE.git"
      ],
      "execution_count": 17,
      "outputs": [
        {
          "output_type": "stream",
          "text": [
            "Cloning into 'CodeXGLUE'...\n",
            "remote: Enumerating objects: 172, done.\u001b[K\n",
            "remote: Counting objects: 100% (172/172), done.\u001b[K\n",
            "remote: Compressing objects: 100% (157/157), done.\u001b[K\n",
            "remote: Total 2515 (delta 90), reused 31 (delta 13), pack-reused 2343\u001b[K\n",
            "Receiving objects: 100% (2515/2515), 200.42 MiB | 26.13 MiB/s, done.\n",
            "Resolving deltas: 100% (1160/1160), done.\n",
            "Checking out files: 100% (385/385), done.\n"
          ],
          "name": "stdout"
        }
      ]
    },
    {
      "cell_type": "code",
      "metadata": {
        "colab": {
          "base_uri": "https://localhost:8080/"
        },
        "id": "AG59i7w5RCu_",
        "outputId": "eb4d7aaf-568a-4056-a3d3-586c893e1575"
      },
      "source": [
        "cd CodeXGLUE/Code-Text/code-to-text/code"
      ],
      "execution_count": 18,
      "outputs": [
        {
          "output_type": "stream",
          "text": [
            "/content/CodeXGLUE/Code-Text/code-to-text\n"
          ],
          "name": "stdout"
        }
      ]
    },
    {
      "cell_type": "code",
      "metadata": {
        "colab": {
          "base_uri": "https://localhost:8080/"
        },
        "id": "Nc12sfRZSmxT",
        "outputId": "92fea187-3f8f-4bf5-fd1c-bd9854ef6ef1"
      },
      "source": [
        "!nvidia-smi"
      ],
      "execution_count": 20,
      "outputs": [
        {
          "output_type": "stream",
          "text": [
            "Mon Apr  5 04:35:49 2021       \n",
            "+-----------------------------------------------------------------------------+\n",
            "| NVIDIA-SMI 460.67       Driver Version: 460.32.03    CUDA Version: 11.2     |\n",
            "|-------------------------------+----------------------+----------------------+\n",
            "| GPU  Name        Persistence-M| Bus-Id        Disp.A | Volatile Uncorr. ECC |\n",
            "| Fan  Temp  Perf  Pwr:Usage/Cap|         Memory-Usage | GPU-Util  Compute M. |\n",
            "|                               |                      |               MIG M. |\n",
            "|===============================+======================+======================|\n",
            "|   0  Tesla P100-PCIE...  Off  | 00000000:00:04.0 Off |                    0 |\n",
            "| N/A   36C    P0    26W / 250W |      0MiB / 16280MiB |      0%      Default |\n",
            "|                               |                      |                  N/A |\n",
            "+-------------------------------+----------------------+----------------------+\n",
            "                                                                               \n",
            "+-----------------------------------------------------------------------------+\n",
            "| Processes:                                                                  |\n",
            "|  GPU   GI   CI        PID   Type   Process name                  GPU Memory |\n",
            "|        ID   ID                                                   Usage      |\n",
            "|=============================================================================|\n",
            "|  No running processes found                                                 |\n",
            "+-----------------------------------------------------------------------------+\n"
          ],
          "name": "stdout"
        }
      ]
    },
    {
      "cell_type": "markdown",
      "metadata": {
        "id": "_AB_yBB7HC7J"
      },
      "source": [
        "# CodeBERT"
      ]
    },
    {
      "cell_type": "code",
      "metadata": {
        "id": "SXL-8GD_RJT3"
      },
      "source": [
        "%%bash\n",
        "unzip dataset.zip\n",
        "cd dataset\n",
        "wget https://s3.amazonaws.com/code-search-net/CodeSearchNet/v2/ruby.zip\n",
        "\n",
        "unzip ruby.zip\n",
        "rm *.zip\n",
        "rm *.pkl\n",
        "\n",
        "python preprocess.py\n",
        "rm -r */final"
      ],
      "execution_count": null,
      "outputs": []
    },
    {
      "cell_type": "code",
      "metadata": {
        "colab": {
          "base_uri": "https://localhost:8080/"
        },
        "id": "ZMCHPExfRY_f",
        "outputId": "49b7c3e0-1d59-4b8d-ea2f-fab570da638e"
      },
      "source": [
        "%%bash\n",
        "lang=ruby #programming language\n",
        "lr=5e-5\n",
        "batch_size=20\n",
        "beam_size=10\n",
        "source_length=256\n",
        "target_length=128\n",
        "data_dir=dataset\n",
        "output_dir=model/$lang\n",
        "train_file=$data_dir/$lang/train.jsonl\n",
        "dev_file=$data_dir/$lang/valid.jsonl\n",
        "epochs=1\n",
        "pretrained_model=roberta-base #microsoft/codebert-base #Roberta: \n",
        "\n",
        "python code/run.py --do_train --do_eval --model_type roberta --model_name_or_path $pretrained_model \\\n",
        "--train_filename $train_file --dev_filename $dev_file --output_dir $output_dir --max_source_length \\\n",
        "$source_length --max_target_length $target_length --beam_size $beam_size --train_batch_size \\\n",
        "$batch_size --eval_batch_size $batch_size --learning_rate $lr --num_train_epochs $epochs"
      ],
      "execution_count": null,
      "outputs": [
        {
          "output_type": "stream",
          "text": [
            "2021-04-04 12:24:01.168270: I tensorflow/stream_executor/platform/default/dso_loader.cc:49] Successfully opened dynamic library libcudart.so.11.0\n",
            "04/04/2021 12:24:02 - INFO - __main__ -   Namespace(adam_epsilon=1e-08, beam_size=10, config_name='', dev_filename='dataset/ruby/valid.jsonl', do_eval=True, do_lower_case=False, do_test=False, do_train=True, eval_batch_size=20, eval_steps=-1, gradient_accumulation_steps=1, learning_rate=5e-05, load_model_path=None, local_rank=-1, max_grad_norm=1.0, max_source_length=256, max_steps=-1, max_target_length=128, model_name_or_path='roberta-base', model_type='roberta', no_cuda=False, num_train_epochs=1, output_dir='model/ruby', seed=42, test_filename=None, tokenizer_name='', train_batch_size=20, train_filename='dataset/ruby/train.jsonl', train_steps=-1, warmup_steps=0, weight_decay=0.0)\n",
            "04/04/2021 12:24:02 - WARNING - __main__ -   Process rank: -1, device: cuda, n_gpu: 1, distributed training: False\n",
            "04/04/2021 12:24:02 - INFO - filelock -   Lock 140187970765776 acquired on /root/.cache/huggingface/transformers/51ba668f7ff34e7cdfa9561e8361747738113878850a7d717dbc69de8683aaad.c7efaa30a0d80b2958b876969faa180e485944a849deee4ad482332de65365a7.lock\n",
            "\rDownloading:   0%|          | 0.00/501M [00:00<?, ?B/s]\rDownloading:   1%|          | 5.81M/501M [00:00<00:08, 58.1MB/s]\rDownloading:   2%|▏         | 11.0M/501M [00:00<00:08, 56.0MB/s]\rDownloading:   3%|▎         | 17.5M/501M [00:00<00:08, 58.5MB/s]\rDownloading:   5%|▍         | 23.9M/501M [00:00<00:07, 60.1MB/s]\rDownloading:   6%|▌         | 30.5M/501M [00:00<00:07, 61.7MB/s]\rDownloading:   7%|▋         | 37.0M/501M [00:00<00:07, 62.5MB/s]\rDownloading:   9%|▉         | 44.1M/501M [00:00<00:07, 64.9MB/s]\rDownloading:  10%|█         | 51.3M/501M [00:00<00:06, 66.9MB/s]\rDownloading:  12%|█▏        | 58.7M/501M [00:00<00:06, 68.9MB/s]\rDownloading:  13%|█▎        | 66.5M/501M [00:01<00:06, 71.4MB/s]\rDownloading:  15%|█▍        | 73.8M/501M [00:01<00:05, 71.8MB/s]\rDownloading:  16%|█▌        | 81.2M/501M [00:01<00:05, 72.5MB/s]\rDownloading:  18%|█▊        | 89.0M/501M [00:01<00:05, 74.1MB/s]\rDownloading:  19%|█▉        | 96.8M/501M [00:01<00:05, 75.1MB/s]\rDownloading:  21%|██        | 104M/501M [00:01<00:05, 75.2MB/s] \rDownloading:  22%|██▏       | 112M/501M [00:01<00:05, 74.7MB/s]\rDownloading:  24%|██▍       | 119M/501M [00:01<00:05, 71.6MB/s]\rDownloading:  25%|██▌       | 126M/501M [00:01<00:05, 65.2MB/s]\rDownloading:  27%|██▋       | 134M/501M [00:01<00:05, 67.5MB/s]\rDownloading:  28%|██▊       | 141M/501M [00:02<00:05, 69.2MB/s]\rDownloading:  30%|██▉       | 148M/501M [00:02<00:05, 70.0MB/s]\rDownloading:  31%|███       | 155M/501M [00:02<00:05, 68.8MB/s]\rDownloading:  32%|███▏      | 162M/501M [00:02<00:05, 64.9MB/s]\rDownloading:  34%|███▎      | 169M/501M [00:02<00:05, 61.6MB/s]\rDownloading:  35%|███▍      | 175M/501M [00:02<00:05, 59.3MB/s]\rDownloading:  36%|███▌      | 181M/501M [00:02<00:05, 59.4MB/s]\rDownloading:  37%|███▋      | 188M/501M [00:02<00:05, 61.4MB/s]\rDownloading:  39%|███▉      | 195M/501M [00:02<00:04, 63.4MB/s]\rDownloading:  40%|████      | 202M/501M [00:03<00:04, 65.8MB/s]\rDownloading:  42%|████▏     | 210M/501M [00:03<00:04, 68.8MB/s]\rDownloading:  43%|████▎     | 217M/501M [00:03<00:03, 71.0MB/s]\rDownloading:  45%|████▍     | 225M/501M [00:03<00:03, 72.7MB/s]\rDownloading:  46%|████▋     | 233M/501M [00:03<00:03, 73.9MB/s]\rDownloading:  48%|████▊     | 240M/501M [00:03<00:03, 74.7MB/s]\rDownloading:  49%|████▉     | 248M/501M [00:03<00:03, 74.3MB/s]\rDownloading:  51%|█████     | 255M/501M [00:03<00:03, 68.6MB/s]\rDownloading:  52%|█████▏    | 262M/501M [00:03<00:03, 67.5MB/s]\rDownloading:  54%|█████▍    | 270M/501M [00:03<00:03, 69.1MB/s]\rDownloading:  55%|█████▌    | 277M/501M [00:04<00:03, 70.4MB/s]\rDownloading:  57%|█████▋    | 284M/501M [00:04<00:03, 69.6MB/s]\rDownloading:  58%|█████▊    | 291M/501M [00:04<00:03, 69.7MB/s]\rDownloading:  59%|█████▉    | 298M/501M [00:04<00:03, 67.6MB/s]\rDownloading:  61%|██████    | 305M/501M [00:04<00:02, 66.6MB/s]\rDownloading:  62%|██████▏   | 312M/501M [00:04<00:02, 67.3MB/s]\rDownloading:  64%|██████▎   | 319M/501M [00:04<00:02, 66.2MB/s]\rDownloading:  65%|██████▍   | 325M/501M [00:04<00:02, 67.0MB/s]\rDownloading:  66%|██████▋   | 333M/501M [00:04<00:02, 68.9MB/s]\rDownloading:  68%|██████▊   | 340M/501M [00:04<00:02, 70.5MB/s]\rDownloading:  69%|██████▉   | 348M/501M [00:05<00:02, 72.3MB/s]\rDownloading:  71%|███████   | 355M/501M [00:05<00:02, 71.1MB/s]\rDownloading:  72%|███████▏  | 363M/501M [00:05<00:01, 72.2MB/s]\rDownloading:  74%|███████▍  | 370M/501M [00:05<00:01, 73.6MB/s]\rDownloading:  75%|███████▌  | 378M/501M [00:05<00:01, 74.9MB/s]\rDownloading:  77%|███████▋  | 386M/501M [00:05<00:01, 75.8MB/s]\rDownloading:  79%|███████▊  | 394M/501M [00:05<00:01, 74.5MB/s]\rDownloading:  80%|████████  | 401M/501M [00:05<00:01, 74.9MB/s]\rDownloading:  82%|████████▏ | 409M/501M [00:05<00:01, 75.6MB/s]\rDownloading:  83%|████████▎ | 417M/501M [00:06<00:01, 68.0MB/s]\rDownloading:  84%|████████▍ | 423M/501M [00:06<00:01, 62.4MB/s]\rDownloading:  86%|████████▌ | 430M/501M [00:06<00:01, 63.2MB/s]\rDownloading:  87%|████████▋ | 437M/501M [00:06<00:00, 65.1MB/s]\rDownloading:  89%|████████▊ | 444M/501M [00:06<00:01, 52.5MB/s]\rDownloading:  90%|████████▉ | 450M/501M [00:06<00:00, 55.4MB/s]\rDownloading:  91%|█████████ | 456M/501M [00:06<00:00, 55.4MB/s]\rDownloading:  92%|█████████▏| 462M/501M [00:06<00:00, 56.1MB/s]\rDownloading:  93%|█████████▎| 468M/501M [00:06<00:00, 56.8MB/s]\rDownloading:  94%|█████████▍| 474M/501M [00:07<00:00, 57.9MB/s]\rDownloading:  96%|█████████▌| 480M/501M [00:07<00:00, 58.9MB/s]\rDownloading:  97%|█████████▋| 486M/501M [00:07<00:00, 61.0MB/s]\rDownloading:  99%|█████████▊| 494M/501M [00:07<00:00, 65.0MB/s]\rDownloading: 100%|██████████| 501M/501M [00:07<00:00, 67.3MB/s]\n",
            "04/04/2021 12:24:10 - INFO - filelock -   Lock 140187970765776 released on /root/.cache/huggingface/transformers/51ba668f7ff34e7cdfa9561e8361747738113878850a7d717dbc69de8683aaad.c7efaa30a0d80b2958b876969faa180e485944a849deee4ad482332de65365a7.lock\n",
            "04/04/2021 12:24:17 - INFO - __main__ -   *** Example ***\n",
            "04/04/2021 12:24:17 - INFO - __main__ -   idx: 0\n",
            "04/04/2021 12:24:17 - INFO - __main__ -   source_tokens: ['<s>', 'def', '_render', '_', 'body', '_(', '_context', '_,', '_options', '_)', '_if', '_options', '_.', '_key', '?', '_(', '_:', 'partial', '_)', '_[', '_render', '_', 'partial', '_(', '_context', '_,', '_options', '_)', '_]', '_else', '_Streaming', 'Template', 'R', 'end', 'erer', '_.', '_new', '_(', '_@', 'look', 'up', '_', 'context', '_)', '_.', '_render', '_(', '_context', '_,', '_options', '_)', '_end', '_end', '</s>']\n",
            "04/04/2021 12:24:17 - INFO - __main__ -   source_ids: 0 9232 19930 1215 9773 36 5377 2156 1735 4839 114 1735 479 762 116 36 4832 45593 4839 646 19930 1215 45593 36 5377 2156 1735 4839 27779 1493 34245 49522 500 1397 7160 479 92 36 787 13724 658 1215 46796 4839 479 19930 36 5377 2156 1735 4839 253 253 2 1 1 1 1 1 1 1 1 1 1 1 1 1 1 1 1 1 1 1 1 1 1 1 1 1 1 1 1 1 1 1 1 1 1 1 1 1 1 1 1 1 1 1 1 1 1 1 1 1 1 1 1 1 1 1 1 1 1 1 1 1 1 1 1 1 1 1 1 1 1 1 1 1 1 1 1 1 1 1 1 1 1 1 1 1 1 1 1 1 1 1 1 1 1 1 1 1 1 1 1 1 1 1 1 1 1 1 1 1 1 1 1 1 1 1 1 1 1 1 1 1 1 1 1 1 1 1 1 1 1 1 1 1 1 1 1 1 1 1 1 1 1 1 1 1 1 1 1 1 1 1 1 1 1 1 1 1 1 1 1 1 1 1 1 1 1 1 1 1 1 1 1 1 1 1 1 1 1 1 1 1 1 1 1 1 1 1 1 1 1 1 1 1 1 1 1 1 1 1 1 1 1\n",
            "04/04/2021 12:24:17 - INFO - __main__ -   source_mask: 1 1 1 1 1 1 1 1 1 1 1 1 1 1 1 1 1 1 1 1 1 1 1 1 1 1 1 1 1 1 1 1 1 1 1 1 1 1 1 1 1 1 1 1 1 1 1 1 1 1 1 1 1 1 0 0 0 0 0 0 0 0 0 0 0 0 0 0 0 0 0 0 0 0 0 0 0 0 0 0 0 0 0 0 0 0 0 0 0 0 0 0 0 0 0 0 0 0 0 0 0 0 0 0 0 0 0 0 0 0 0 0 0 0 0 0 0 0 0 0 0 0 0 0 0 0 0 0 0 0 0 0 0 0 0 0 0 0 0 0 0 0 0 0 0 0 0 0 0 0 0 0 0 0 0 0 0 0 0 0 0 0 0 0 0 0 0 0 0 0 0 0 0 0 0 0 0 0 0 0 0 0 0 0 0 0 0 0 0 0 0 0 0 0 0 0 0 0 0 0 0 0 0 0 0 0 0 0 0 0 0 0 0 0 0 0 0 0 0 0 0 0 0 0 0 0 0 0 0 0 0 0 0 0 0 0 0 0 0 0 0 0 0 0 0 0 0 0 0 0 0 0 0 0 0 0\n",
            "04/04/2021 12:24:17 - INFO - __main__ -   target_tokens: ['<s>', 'Render', '_but', '_returns', '_a', '_valid', '_Rack', '_body', '_.', '_If', '_fibers', '_are', '_defined', '_we', '_return', '_a', '_streaming', '_body', '_that', '_renders', '_the', '_template', '_piece', '_by', '_piece', '_.', '</s>']\n",
            "04/04/2021 12:24:17 - INFO - __main__ -   target_ids: 0 48440 53 2886 10 8218 34767 809 479 318 32902 32 6533 52 671 10 5230 809 14 33428 5 27663 2125 30 2125 479 2 1 1 1 1 1 1 1 1 1 1 1 1 1 1 1 1 1 1 1 1 1 1 1 1 1 1 1 1 1 1 1 1 1 1 1 1 1 1 1 1 1 1 1 1 1 1 1 1 1 1 1 1 1 1 1 1 1 1 1 1 1 1 1 1 1 1 1 1 1 1 1 1 1 1 1 1 1 1 1 1 1 1 1 1 1 1 1 1 1 1 1 1 1 1 1 1 1 1 1 1 1\n",
            "04/04/2021 12:24:17 - INFO - __main__ -   target_mask: 1 1 1 1 1 1 1 1 1 1 1 1 1 1 1 1 1 1 1 1 1 1 1 1 1 1 1 0 0 0 0 0 0 0 0 0 0 0 0 0 0 0 0 0 0 0 0 0 0 0 0 0 0 0 0 0 0 0 0 0 0 0 0 0 0 0 0 0 0 0 0 0 0 0 0 0 0 0 0 0 0 0 0 0 0 0 0 0 0 0 0 0 0 0 0 0 0 0 0 0 0 0 0 0 0 0 0 0 0 0 0 0 0 0 0 0 0 0 0 0 0 0 0 0 0 0 0 0\n",
            "04/04/2021 12:24:17 - INFO - __main__ -   *** Example ***\n",
            "04/04/2021 12:24:17 - INFO - __main__ -   idx: 1\n",
            "04/04/2021 12:24:17 - INFO - __main__ -   source_tokens: ['<s>', 'def', '_attribute', '_', 'missing', '_(', '_match', '_,', '_*', '_args', '_,', '_&', '_block', '_)', '___', 'send', '__', '_(', '_match', '_.', '_target', '_,', '_match', '_.', '_att', 'r', '_', 'name', '_,', '_args', '_,', '_block', '_)', '_end', '</s>']\n",
            "04/04/2021 12:24:17 - INFO - __main__ -   source_ids: 0 9232 21643 1215 41947 36 914 2156 1009 49503 2156 359 1803 4839 27148 37785 30529 36 914 479 1002 2156 914 479 15095 338 1215 13650 2156 49503 2156 1803 4839 253 2 1 1 1 1 1 1 1 1 1 1 1 1 1 1 1 1 1 1 1 1 1 1 1 1 1 1 1 1 1 1 1 1 1 1 1 1 1 1 1 1 1 1 1 1 1 1 1 1 1 1 1 1 1 1 1 1 1 1 1 1 1 1 1 1 1 1 1 1 1 1 1 1 1 1 1 1 1 1 1 1 1 1 1 1 1 1 1 1 1 1 1 1 1 1 1 1 1 1 1 1 1 1 1 1 1 1 1 1 1 1 1 1 1 1 1 1 1 1 1 1 1 1 1 1 1 1 1 1 1 1 1 1 1 1 1 1 1 1 1 1 1 1 1 1 1 1 1 1 1 1 1 1 1 1 1 1 1 1 1 1 1 1 1 1 1 1 1 1 1 1 1 1 1 1 1 1 1 1 1 1 1 1 1 1 1 1 1 1 1 1 1 1 1 1 1 1 1 1 1 1 1 1 1 1 1 1 1 1 1 1 1 1 1 1 1 1 1 1 1 1 1\n",
            "04/04/2021 12:24:17 - INFO - __main__ -   source_mask: 1 1 1 1 1 1 1 1 1 1 1 1 1 1 1 1 1 1 1 1 1 1 1 1 1 1 1 1 1 1 1 1 1 1 1 0 0 0 0 0 0 0 0 0 0 0 0 0 0 0 0 0 0 0 0 0 0 0 0 0 0 0 0 0 0 0 0 0 0 0 0 0 0 0 0 0 0 0 0 0 0 0 0 0 0 0 0 0 0 0 0 0 0 0 0 0 0 0 0 0 0 0 0 0 0 0 0 0 0 0 0 0 0 0 0 0 0 0 0 0 0 0 0 0 0 0 0 0 0 0 0 0 0 0 0 0 0 0 0 0 0 0 0 0 0 0 0 0 0 0 0 0 0 0 0 0 0 0 0 0 0 0 0 0 0 0 0 0 0 0 0 0 0 0 0 0 0 0 0 0 0 0 0 0 0 0 0 0 0 0 0 0 0 0 0 0 0 0 0 0 0 0 0 0 0 0 0 0 0 0 0 0 0 0 0 0 0 0 0 0 0 0 0 0 0 0 0 0 0 0 0 0 0 0 0 0 0 0 0 0 0 0 0 0 0 0 0 0 0 0 0 0 0 0 0 0\n",
            "04/04/2021 12:24:17 - INFO - __main__ -   target_tokens: ['<s>', '+', '_attribute', '_', 'missing', '_+', '_is', '_like', '_+', '_method', '_', 'missing', '_+', '_but', '_for', '_attributes', '_.', '_When', '_+', '_method', '_', 'missing', '_+', '_is', '_called', '_we', '_check', '_to', '_see', '_if', '_there', '_is', '_a', '_matching', '_attribute', '_method', '_.', '_If', '_so', '_we', '_tell', '_+', '_attribute', '_', 'missing', '_+', '_to', '_dispatch', '_the', '_attribute', '_.', '_This', '_method', '_can', '_be', '_overloaded', '_to', '_customize', '_the', '_behavior', '_.', '</s>']\n",
            "04/04/2021 12:24:17 - INFO - __main__ -   target_ids: 0 2744 21643 1215 41947 2055 16 101 2055 5448 1215 41947 2055 53 13 16763 479 520 2055 5448 1215 41947 2055 16 373 52 1649 7 192 114 89 16 10 8150 21643 5448 479 318 98 52 1137 2055 21643 1215 41947 2055 7 22903 5 21643 479 152 5448 64 28 40894 7 30447 5 3650 479 2 1 1 1 1 1 1 1 1 1 1 1 1 1 1 1 1 1 1 1 1 1 1 1 1 1 1 1 1 1 1 1 1 1 1 1 1 1 1 1 1 1 1 1 1 1 1 1 1 1 1 1 1 1 1 1 1 1 1 1 1 1 1 1 1 1 1\n",
            "04/04/2021 12:24:17 - INFO - __main__ -   target_mask: 1 1 1 1 1 1 1 1 1 1 1 1 1 1 1 1 1 1 1 1 1 1 1 1 1 1 1 1 1 1 1 1 1 1 1 1 1 1 1 1 1 1 1 1 1 1 1 1 1 1 1 1 1 1 1 1 1 1 1 1 1 1 0 0 0 0 0 0 0 0 0 0 0 0 0 0 0 0 0 0 0 0 0 0 0 0 0 0 0 0 0 0 0 0 0 0 0 0 0 0 0 0 0 0 0 0 0 0 0 0 0 0 0 0 0 0 0 0 0 0 0 0 0 0 0 0 0 0\n",
            "04/04/2021 12:24:17 - INFO - __main__ -   *** Example ***\n",
            "04/04/2021 12:24:17 - INFO - __main__ -   idx: 2\n",
            "04/04/2021 12:24:17 - INFO - __main__ -   source_tokens: ['<s>', 'def', '_matched', '_', 'attribute', '_', 'method', '_(', '_method', '_', 'name', '_)', '_matches', '_=', '_self', '_.', '_class', '_.', '_send', '_(', '_:', 'attribute', '_', 'method', '_', 'mat', 'chers', '_', 'match', 'ing', '_,', '_method', '_', 'name', '_)', '_matches', '_.', '_detect', '_{', '_|', '_match', '_|', '_attribute', '_', 'method', '?', '_(', '_match', '_.', '_att', 'r', '_', 'name', '_)', '_}', '_end', '</s>']\n",
            "04/04/2021 12:24:17 - INFO - __main__ -   source_ids: 0 9232 9184 1215 49202 1215 45416 36 5448 1215 13650 4839 2856 5457 1403 479 1380 479 2142 36 4832 49202 1215 45416 1215 9244 7873 1215 10565 154 2156 5448 1215 13650 4839 2856 479 10933 25522 1721 914 1721 21643 1215 45416 116 36 914 479 15095 338 1215 13650 4839 35524 253 2 1 1 1 1 1 1 1 1 1 1 1 1 1 1 1 1 1 1 1 1 1 1 1 1 1 1 1 1 1 1 1 1 1 1 1 1 1 1 1 1 1 1 1 1 1 1 1 1 1 1 1 1 1 1 1 1 1 1 1 1 1 1 1 1 1 1 1 1 1 1 1 1 1 1 1 1 1 1 1 1 1 1 1 1 1 1 1 1 1 1 1 1 1 1 1 1 1 1 1 1 1 1 1 1 1 1 1 1 1 1 1 1 1 1 1 1 1 1 1 1 1 1 1 1 1 1 1 1 1 1 1 1 1 1 1 1 1 1 1 1 1 1 1 1 1 1 1 1 1 1 1 1 1 1 1 1 1 1 1 1 1 1 1 1 1 1 1 1 1 1 1 1 1 1 1 1 1 1 1 1 1 1 1 1 1 1 1 1 1 1 1 1 1 1 1 1 1 1 1\n",
            "04/04/2021 12:24:17 - INFO - __main__ -   source_mask: 1 1 1 1 1 1 1 1 1 1 1 1 1 1 1 1 1 1 1 1 1 1 1 1 1 1 1 1 1 1 1 1 1 1 1 1 1 1 1 1 1 1 1 1 1 1 1 1 1 1 1 1 1 1 1 1 1 0 0 0 0 0 0 0 0 0 0 0 0 0 0 0 0 0 0 0 0 0 0 0 0 0 0 0 0 0 0 0 0 0 0 0 0 0 0 0 0 0 0 0 0 0 0 0 0 0 0 0 0 0 0 0 0 0 0 0 0 0 0 0 0 0 0 0 0 0 0 0 0 0 0 0 0 0 0 0 0 0 0 0 0 0 0 0 0 0 0 0 0 0 0 0 0 0 0 0 0 0 0 0 0 0 0 0 0 0 0 0 0 0 0 0 0 0 0 0 0 0 0 0 0 0 0 0 0 0 0 0 0 0 0 0 0 0 0 0 0 0 0 0 0 0 0 0 0 0 0 0 0 0 0 0 0 0 0 0 0 0 0 0 0 0 0 0 0 0 0 0 0 0 0 0 0 0 0 0 0 0 0 0 0 0 0 0 0 0 0 0 0 0 0 0 0 0 0 0\n",
            "04/04/2021 12:24:17 - INFO - __main__ -   target_tokens: ['<s>', 'Returns', '_a', '_struct', '_representing', '_the', '_matching', '_attribute', '_method', '_.', '_The', '_struct', '_s', '_attributes', '_are', '_prefix', '_base', '_and', '_suffix', '_.', '</s>']\n",
            "04/04/2021 12:24:17 - INFO - __main__ -   target_ids: 0 48826 10 29916 4561 5 8150 21643 5448 479 20 29916 579 16763 32 46622 1542 8 47503 479 2 1 1 1 1 1 1 1 1 1 1 1 1 1 1 1 1 1 1 1 1 1 1 1 1 1 1 1 1 1 1 1 1 1 1 1 1 1 1 1 1 1 1 1 1 1 1 1 1 1 1 1 1 1 1 1 1 1 1 1 1 1 1 1 1 1 1 1 1 1 1 1 1 1 1 1 1 1 1 1 1 1 1 1 1 1 1 1 1 1 1 1 1 1 1 1 1 1 1 1 1 1 1 1 1 1 1 1\n",
            "04/04/2021 12:24:17 - INFO - __main__ -   target_mask: 1 1 1 1 1 1 1 1 1 1 1 1 1 1 1 1 1 1 1 1 1 0 0 0 0 0 0 0 0 0 0 0 0 0 0 0 0 0 0 0 0 0 0 0 0 0 0 0 0 0 0 0 0 0 0 0 0 0 0 0 0 0 0 0 0 0 0 0 0 0 0 0 0 0 0 0 0 0 0 0 0 0 0 0 0 0 0 0 0 0 0 0 0 0 0 0 0 0 0 0 0 0 0 0 0 0 0 0 0 0 0 0 0 0 0 0 0 0 0 0 0 0 0 0 0 0 0 0\n",
            "04/04/2021 12:24:17 - INFO - __main__ -   *** Example ***\n",
            "04/04/2021 12:24:17 - INFO - __main__ -   idx: 3\n",
            "04/04/2021 12:24:17 - INFO - __main__ -   source_tokens: ['<s>', 'def', '_dem', 'od', 'ul', 'ize', '_(', '_path', '_)', '_path', '_=', '_path', '_.', '_to', '_', 's', '_if', '_i', '_=', '_path', '_.', '_r', 'index', '_(', '_\"', '::', '\"', '_)', '_path', '_[', '_(', '_i', '_+', '_2', '_)', '_..', '_-', '_1', '_]', '_else', '_path', '_end', '_end', '</s>']\n",
            "04/04/2021 12:24:17 - INFO - __main__ -   source_ids: 0 9232 4410 1630 922 2072 36 2718 4839 2718 5457 2718 479 7 1215 29 114 939 5457 2718 479 910 18480 36 22 38304 113 4839 2718 646 36 939 2055 132 4839 29942 111 112 27779 1493 2718 253 253 2 1 1 1 1 1 1 1 1 1 1 1 1 1 1 1 1 1 1 1 1 1 1 1 1 1 1 1 1 1 1 1 1 1 1 1 1 1 1 1 1 1 1 1 1 1 1 1 1 1 1 1 1 1 1 1 1 1 1 1 1 1 1 1 1 1 1 1 1 1 1 1 1 1 1 1 1 1 1 1 1 1 1 1 1 1 1 1 1 1 1 1 1 1 1 1 1 1 1 1 1 1 1 1 1 1 1 1 1 1 1 1 1 1 1 1 1 1 1 1 1 1 1 1 1 1 1 1 1 1 1 1 1 1 1 1 1 1 1 1 1 1 1 1 1 1 1 1 1 1 1 1 1 1 1 1 1 1 1 1 1 1 1 1 1 1 1 1 1 1 1 1 1 1 1 1 1 1 1 1 1 1 1 1 1 1 1 1 1 1 1 1 1 1 1 1 1 1 1 1 1 1 1 1 1 1 1 1 1 1 1 1 1\n",
            "04/04/2021 12:24:17 - INFO - __main__ -   source_mask: 1 1 1 1 1 1 1 1 1 1 1 1 1 1 1 1 1 1 1 1 1 1 1 1 1 1 1 1 1 1 1 1 1 1 1 1 1 1 1 1 1 1 1 1 0 0 0 0 0 0 0 0 0 0 0 0 0 0 0 0 0 0 0 0 0 0 0 0 0 0 0 0 0 0 0 0 0 0 0 0 0 0 0 0 0 0 0 0 0 0 0 0 0 0 0 0 0 0 0 0 0 0 0 0 0 0 0 0 0 0 0 0 0 0 0 0 0 0 0 0 0 0 0 0 0 0 0 0 0 0 0 0 0 0 0 0 0 0 0 0 0 0 0 0 0 0 0 0 0 0 0 0 0 0 0 0 0 0 0 0 0 0 0 0 0 0 0 0 0 0 0 0 0 0 0 0 0 0 0 0 0 0 0 0 0 0 0 0 0 0 0 0 0 0 0 0 0 0 0 0 0 0 0 0 0 0 0 0 0 0 0 0 0 0 0 0 0 0 0 0 0 0 0 0 0 0 0 0 0 0 0 0 0 0 0 0 0 0 0 0 0 0 0 0 0 0 0 0 0 0 0 0 0 0 0 0\n",
            "04/04/2021 12:24:17 - INFO - __main__ -   target_tokens: ['<s>', 'Rem', 'oves', '_the', '_module', '_part', '_from', '_the', '_expression', '_in', '_the', '_string', '_.', '</s>']\n",
            "04/04/2021 12:24:17 - INFO - __main__ -   target_ids: 0 31157 14337 5 20686 233 31 5 8151 11 5 6755 479 2 1 1 1 1 1 1 1 1 1 1 1 1 1 1 1 1 1 1 1 1 1 1 1 1 1 1 1 1 1 1 1 1 1 1 1 1 1 1 1 1 1 1 1 1 1 1 1 1 1 1 1 1 1 1 1 1 1 1 1 1 1 1 1 1 1 1 1 1 1 1 1 1 1 1 1 1 1 1 1 1 1 1 1 1 1 1 1 1 1 1 1 1 1 1 1 1 1 1 1 1 1 1 1 1 1 1 1 1 1 1 1 1 1 1\n",
            "04/04/2021 12:24:17 - INFO - __main__ -   target_mask: 1 1 1 1 1 1 1 1 1 1 1 1 1 1 0 0 0 0 0 0 0 0 0 0 0 0 0 0 0 0 0 0 0 0 0 0 0 0 0 0 0 0 0 0 0 0 0 0 0 0 0 0 0 0 0 0 0 0 0 0 0 0 0 0 0 0 0 0 0 0 0 0 0 0 0 0 0 0 0 0 0 0 0 0 0 0 0 0 0 0 0 0 0 0 0 0 0 0 0 0 0 0 0 0 0 0 0 0 0 0 0 0 0 0 0 0 0 0 0 0 0 0 0 0 0 0 0 0\n",
            "04/04/2021 12:24:17 - INFO - __main__ -   *** Example ***\n",
            "04/04/2021 12:24:17 - INFO - __main__ -   idx: 4\n",
            "04/04/2021 12:24:17 - INFO - __main__ -   source_tokens: ['<s>', 'def', '_const', '_', 're', 'gex', 'p', '_(', '_camel', '_', 'c', 'ased', '_', 'word', '_)', '_parts', '_=', '_camel', '_', 'c', 'ased', '_', 'word', '_.', '_split', '_(', '_\"', '::', '\"', '_)', '_return', '_Re', 'gex', 'p', '_.', '_escape', '_(', '_camel', '_', 'c', 'ased', '_', 'word', '_)', '_if', '_parts', '_.', '_blank', '?', '_last', '_=', '_parts', '_.', '_pop', '_parts', '_.', '_reverse', '_.', '_inject', '_(', '_last', '_)', '_do', '_|', '_acc', '_,', '_part', '_|', '_part', '_.', '_empty', '?', '_?', '_acc', '_:', '_\"#', '{', 'part', '}', '(', '::', '#', '{', 'acc', '})', '?\"', '_end', '_end', '</s>']\n",
            "04/04/2021 12:24:17 - INFO - __main__ -   source_ids: 0 9232 10759 1215 241 45767 642 36 35579 1215 438 11835 1215 14742 4839 1667 5457 35579 1215 438 11835 1215 14742 479 3462 36 22 38304 113 4839 671 1223 45767 642 479 5111 36 35579 1215 438 11835 1215 14742 4839 114 1667 479 15818 116 94 5457 1667 479 3495 1667 479 7213 479 17951 36 94 4839 109 1721 7678 2156 233 1721 233 479 5802 116 17487 7678 4832 35290 45152 7755 24303 1640 38304 10431 45152 7904 49424 1917 253 253 2 1 1 1 1 1 1 1 1 1 1 1 1 1 1 1 1 1 1 1 1 1 1 1 1 1 1 1 1 1 1 1 1 1 1 1 1 1 1 1 1 1 1 1 1 1 1 1 1 1 1 1 1 1 1 1 1 1 1 1 1 1 1 1 1 1 1 1 1 1 1 1 1 1 1 1 1 1 1 1 1 1 1 1 1 1 1 1 1 1 1 1 1 1 1 1 1 1 1 1 1 1 1 1 1 1 1 1 1 1 1 1 1 1 1 1 1 1 1 1 1 1 1 1 1 1 1 1 1 1 1 1 1 1 1 1 1 1 1 1 1 1 1 1 1 1 1 1 1 1 1 1 1 1 1 1 1 1 1 1 1 1 1 1 1 1 1 1\n",
            "04/04/2021 12:24:17 - INFO - __main__ -   source_mask: 1 1 1 1 1 1 1 1 1 1 1 1 1 1 1 1 1 1 1 1 1 1 1 1 1 1 1 1 1 1 1 1 1 1 1 1 1 1 1 1 1 1 1 1 1 1 1 1 1 1 1 1 1 1 1 1 1 1 1 1 1 1 1 1 1 1 1 1 1 1 1 1 1 1 1 1 1 1 1 1 1 1 1 1 1 1 1 1 1 0 0 0 0 0 0 0 0 0 0 0 0 0 0 0 0 0 0 0 0 0 0 0 0 0 0 0 0 0 0 0 0 0 0 0 0 0 0 0 0 0 0 0 0 0 0 0 0 0 0 0 0 0 0 0 0 0 0 0 0 0 0 0 0 0 0 0 0 0 0 0 0 0 0 0 0 0 0 0 0 0 0 0 0 0 0 0 0 0 0 0 0 0 0 0 0 0 0 0 0 0 0 0 0 0 0 0 0 0 0 0 0 0 0 0 0 0 0 0 0 0 0 0 0 0 0 0 0 0 0 0 0 0 0 0 0 0 0 0 0 0 0 0 0 0 0 0 0 0 0 0 0 0 0 0 0 0 0 0 0 0 0 0 0 0 0 0\n",
            "04/04/2021 12:24:17 - INFO - __main__ -   target_tokens: ['<s>', 'Mount', 's', '_a', '_regular', '_expression', '_returned', '_as', '_a', '_string', '_to', '_ease', '_interpol', 'ation', '_that', '_will', '_match', '_part', '_by', '_part', '_the', '_given', '_constant', '_.', '</s>']\n",
            "04/04/2021 12:24:17 - INFO - __main__ -   target_ids: 0 42036 29 10 1675 8151 1835 25 10 6755 7 5136 46687 1258 14 40 914 233 30 233 5 576 5891 479 2 1 1 1 1 1 1 1 1 1 1 1 1 1 1 1 1 1 1 1 1 1 1 1 1 1 1 1 1 1 1 1 1 1 1 1 1 1 1 1 1 1 1 1 1 1 1 1 1 1 1 1 1 1 1 1 1 1 1 1 1 1 1 1 1 1 1 1 1 1 1 1 1 1 1 1 1 1 1 1 1 1 1 1 1 1 1 1 1 1 1 1 1 1 1 1 1 1 1 1 1 1 1 1\n",
            "04/04/2021 12:24:17 - INFO - __main__ -   target_mask: 1 1 1 1 1 1 1 1 1 1 1 1 1 1 1 1 1 1 1 1 1 1 1 1 1 0 0 0 0 0 0 0 0 0 0 0 0 0 0 0 0 0 0 0 0 0 0 0 0 0 0 0 0 0 0 0 0 0 0 0 0 0 0 0 0 0 0 0 0 0 0 0 0 0 0 0 0 0 0 0 0 0 0 0 0 0 0 0 0 0 0 0 0 0 0 0 0 0 0 0 0 0 0 0 0 0 0 0 0 0 0 0 0 0 0 0 0 0 0 0 0 0 0 0 0 0 0 0\n",
            "04/04/2021 12:24:33 - INFO - __main__ -   ***** Running training *****\n",
            "04/04/2021 12:24:33 - INFO - __main__ -     Num examples = 24927\n",
            "04/04/2021 12:24:33 - INFO - __main__ -     Batch size = 20\n",
            "04/04/2021 12:24:33 - INFO - __main__ -     Num epoch = 1\n",
            "\r  0%|          | 0/1247 [00:00<?, ?it/s]\repoch 0 loss 12.2195:   0%|          | 0/1247 [00:00<?, ?it/s]\repoch 0 loss 12.2195:   0%|          | 1/1247 [00:01<26:04,  1.26s/it]\repoch 0 loss 12.153:   0%|          | 1/1247 [00:01<26:04,  1.26s/it] \repoch 0 loss 12.153:   0%|          | 2/1247 [00:02<25:45,  1.24s/it]\repoch 0 loss 12.1214:   0%|          | 2/1247 [00:02<25:45,  1.24s/it]\repoch 0 loss 12.1214:   0%|          | 3/1247 [00:03<25:37,  1.24s/it]\repoch 0 loss 12.1358:   0%|          | 3/1247 [00:04<25:37,  1.24s/it]\repoch 0 loss 12.1358:   0%|          | 4/1247 [00:04<25:37,  1.24s/it]\repoch 0 loss 12.1248:   0%|          | 4/1247 [00:05<25:37,  1.24s/it]\repoch 0 loss 12.1248:   0%|          | 5/1247 [00:06<25:35,  1.24s/it]\repoch 0 loss 12.0934:   0%|          | 5/1247 [00:06<25:35,  1.24s/it]\repoch 0 loss 12.0934:   0%|          | 6/1247 [00:07<25:33,  1.24s/it]\repoch 0 loss 12.0596:   0%|          | 6/1247 [00:07<25:33,  1.24s/it]\repoch 0 loss 12.0596:   1%|          | 7/1247 [00:08<25:34,  1.24s/it]\repoch 0 loss 11.9997:   1%|          | 7/1247 [00:09<25:34,  1.24s/it]\repoch 0 loss 11.9997:   1%|          | 8/1247 [00:09<25:33,  1.24s/it]\repoch 0 loss 11.925:   1%|          | 8/1247 [00:10<25:33,  1.24s/it] \repoch 0 loss 11.925:   1%|          | 9/1247 [00:11<25:31,  1.24s/it]\repoch 0 loss 11.8476:   1%|          | 9/1247 [00:11<25:31,  1.24s/it]\repoch 0 loss 11.8476:   1%|          | 10/1247 [00:12<25:32,  1.24s/it]\repoch 0 loss 11.7697:   1%|          | 10/1247 [00:12<25:32,  1.24s/it]\repoch 0 loss 11.7697:   1%|          | 11/1247 [00:13<25:30,  1.24s/it]\repoch 0 loss 11.6702:   1%|          | 11/1247 [00:14<25:30,  1.24s/it]\repoch 0 loss 11.6702:   1%|          | 12/1247 [00:14<25:35,  1.24s/it]\repoch 0 loss 11.5886:   1%|          | 12/1247 [00:15<25:35,  1.24s/it]\repoch 0 loss 11.5886:   1%|          | 13/1247 [00:16<25:37,  1.25s/it]\repoch 0 loss 11.4906:   1%|          | 13/1247 [00:16<25:37,  1.25s/it]\repoch 0 loss 11.4906:   1%|          | 14/1247 [00:17<25:41,  1.25s/it]\repoch 0 loss 11.3703:   1%|          | 14/1247 [00:17<25:41,  1.25s/it]\repoch 0 loss 11.3703:   1%|          | 15/1247 [00:18<25:44,  1.25s/it]\repoch 0 loss 11.2527:   1%|          | 15/1247 [00:19<25:44,  1.25s/it]\repoch 0 loss 11.2527:   1%|▏         | 16/1247 [00:19<25:44,  1.25s/it]\repoch 0 loss 11.144:   1%|▏         | 16/1247 [00:20<25:44,  1.25s/it] \repoch 0 loss 11.144:   1%|▏         | 17/1247 [00:21<25:42,  1.25s/it]\repoch 0 loss 11.0354:   1%|▏         | 17/1247 [00:21<25:42,  1.25s/it]\repoch 0 loss 11.0354:   1%|▏         | 18/1247 [00:22<25:45,  1.26s/it]\repoch 0 loss 10.9165:   1%|▏         | 18/1247 [00:22<25:45,  1.26s/it]\repoch 0 loss 10.9165:   2%|▏         | 19/1247 [00:23<25:46,  1.26s/it]\repoch 0 loss 10.8096:   2%|▏         | 19/1247 [00:24<25:46,  1.26s/it]\repoch 0 loss 10.8096:   2%|▏         | 20/1247 [00:24<25:49,  1.26s/it]\repoch 0 loss 10.6978:   2%|▏         | 20/1247 [00:25<25:49,  1.26s/it]\repoch 0 loss 10.6978:   2%|▏         | 21/1247 [00:26<25:49,  1.26s/it]\repoch 0 loss 10.5811:   2%|▏         | 21/1247 [00:26<25:49,  1.26s/it]\repoch 0 loss 10.5811:   2%|▏         | 22/1247 [00:27<25:49,  1.26s/it]\repoch 0 loss 10.4867:   2%|▏         | 22/1247 [00:27<25:49,  1.26s/it]\repoch 0 loss 10.4867:   2%|▏         | 23/1247 [00:28<25:55,  1.27s/it]\repoch 0 loss 10.3781:   2%|▏         | 23/1247 [00:29<25:55,  1.27s/it]\repoch 0 loss 10.3781:   2%|▏         | 24/1247 [00:30<25:56,  1.27s/it]\repoch 0 loss 10.28:   2%|▏         | 24/1247 [00:30<25:56,  1.27s/it]  \repoch 0 loss 10.28:   2%|▏         | 25/1247 [00:31<25:58,  1.28s/it]\repoch 0 loss 10.1915:   2%|▏         | 25/1247 [00:31<25:58,  1.28s/it]\repoch 0 loss 10.1915:   2%|▏         | 26/1247 [00:32<26:00,  1.28s/it]\repoch 0 loss 10.1088:   2%|▏         | 26/1247 [00:33<26:00,  1.28s/it]\repoch 0 loss 10.1088:   2%|▏         | 27/1247 [00:33<26:06,  1.28s/it]\repoch 0 loss 10.0339:   2%|▏         | 27/1247 [00:34<26:06,  1.28s/it]\repoch 0 loss 10.0339:   2%|▏         | 28/1247 [00:35<26:11,  1.29s/it]\repoch 0 loss 9.9441:   2%|▏         | 28/1247 [00:35<26:11,  1.29s/it] \repoch 0 loss 9.9441:   2%|▏         | 29/1247 [00:36<26:09,  1.29s/it]\repoch 0 loss 9.8746:   2%|▏         | 29/1247 [00:36<26:09,  1.29s/it]\repoch 0 loss 9.8746:   2%|▏         | 30/1247 [00:37<26:07,  1.29s/it]\repoch 0 loss 9.7934:   2%|▏         | 30/1247 [00:38<26:07,  1.29s/it]\repoch 0 loss 9.7934:   2%|▏         | 31/1247 [00:39<26:09,  1.29s/it]\repoch 0 loss 9.7242:   2%|▏         | 31/1247 [00:39<26:09,  1.29s/it]\repoch 0 loss 9.7242:   3%|▎         | 32/1247 [00:40<26:11,  1.29s/it]\repoch 0 loss 9.6588:   3%|▎         | 32/1247 [00:40<26:11,  1.29s/it]\repoch 0 loss 9.6588:   3%|▎         | 33/1247 [00:41<26:08,  1.29s/it]\repoch 0 loss 9.5992:   3%|▎         | 33/1247 [00:42<26:08,  1.29s/it]\repoch 0 loss 9.5992:   3%|▎         | 34/1247 [00:42<26:10,  1.29s/it]\repoch 0 loss 9.551:   3%|▎         | 34/1247 [00:43<26:10,  1.29s/it] \repoch 0 loss 9.551:   3%|▎         | 35/1247 [00:44<26:15,  1.30s/it]\repoch 0 loss 9.4915:   3%|▎         | 35/1247 [00:44<26:15,  1.30s/it]\repoch 0 loss 9.4915:   3%|▎         | 36/1247 [00:45<26:16,  1.30s/it]\repoch 0 loss 9.4407:   3%|▎         | 36/1247 [00:46<26:16,  1.30s/it]\repoch 0 loss 9.4407:   3%|▎         | 37/1247 [00:46<26:19,  1.31s/it]\repoch 0 loss 9.3907:   3%|▎         | 37/1247 [00:47<26:19,  1.31s/it]\repoch 0 loss 9.3907:   3%|▎         | 38/1247 [00:48<26:24,  1.31s/it]\repoch 0 loss 9.335:   3%|▎         | 38/1247 [00:48<26:24,  1.31s/it] \repoch 0 loss 9.335:   3%|▎         | 39/1247 [00:49<26:24,  1.31s/it]\repoch 0 loss 9.286:   3%|▎         | 39/1247 [00:50<26:24,  1.31s/it]\repoch 0 loss 9.286:   3%|▎         | 40/1247 [00:50<26:25,  1.31s/it]\repoch 0 loss 9.2421:   3%|▎         | 40/1247 [00:51<26:25,  1.31s/it]\repoch 0 loss 9.2421:   3%|▎         | 41/1247 [00:52<26:22,  1.31s/it]\repoch 0 loss 9.1922:   3%|▎         | 41/1247 [00:52<26:22,  1.31s/it]\repoch 0 loss 9.1922:   3%|▎         | 42/1247 [00:53<26:21,  1.31s/it]\repoch 0 loss 9.1462:   3%|▎         | 42/1247 [00:53<26:21,  1.31s/it]\repoch 0 loss 9.1462:   3%|▎         | 43/1247 [00:54<26:25,  1.32s/it]\repoch 0 loss 9.0972:   3%|▎         | 43/1247 [00:55<26:25,  1.32s/it]\repoch 0 loss 9.0972:   4%|▎         | 44/1247 [00:56<26:30,  1.32s/it]\repoch 0 loss 9.0534:   4%|▎         | 44/1247 [00:56<26:30,  1.32s/it]\repoch 0 loss 9.0534:   4%|▎         | 45/1247 [00:57<26:31,  1.32s/it]\repoch 0 loss 9.0092:   4%|▎         | 45/1247 [00:57<26:31,  1.32s/it]\repoch 0 loss 9.0092:   4%|▎         | 46/1247 [00:58<26:33,  1.33s/it]\repoch 0 loss 8.9854:   4%|▎         | 46/1247 [00:59<26:33,  1.33s/it]\repoch 0 loss 8.9854:   4%|▍         | 47/1247 [01:00<26:39,  1.33s/it]\repoch 0 loss 8.9522:   4%|▍         | 47/1247 [01:00<26:39,  1.33s/it]\repoch 0 loss 8.9522:   4%|▍         | 48/1247 [01:01<26:41,  1.34s/it]\repoch 0 loss 8.9125:   4%|▍         | 48/1247 [01:01<26:41,  1.34s/it]\repoch 0 loss 8.9125:   4%|▍         | 49/1247 [01:02<26:42,  1.34s/it]\repoch 0 loss 8.8771:   4%|▍         | 49/1247 [01:03<26:42,  1.34s/it]\repoch 0 loss 8.8771:   4%|▍         | 50/1247 [01:04<26:46,  1.34s/it]\repoch 0 loss 8.8416:   4%|▍         | 50/1247 [01:04<26:46,  1.34s/it]\repoch 0 loss 8.8416:   4%|▍         | 51/1247 [01:05<26:51,  1.35s/it]\repoch 0 loss 8.8096:   4%|▍         | 51/1247 [01:06<26:51,  1.35s/it]\repoch 0 loss 8.8096:   4%|▍         | 52/1247 [01:06<26:52,  1.35s/it]\repoch 0 loss 8.7788:   4%|▍         | 52/1247 [01:07<26:52,  1.35s/it]\repoch 0 loss 8.7788:   4%|▍         | 53/1247 [01:08<26:55,  1.35s/it]\repoch 0 loss 8.7462:   4%|▍         | 53/1247 [01:08<26:55,  1.35s/it]\repoch 0 loss 8.7462:   4%|▍         | 54/1247 [01:09<26:59,  1.36s/it]\repoch 0 loss 8.7158:   4%|▍         | 54/1247 [01:10<26:59,  1.36s/it]\repoch 0 loss 8.7158:   4%|▍         | 55/1247 [01:10<27:04,  1.36s/it]\repoch 0 loss 8.6849:   4%|▍         | 55/1247 [01:11<27:04,  1.36s/it]\repoch 0 loss 8.6849:   4%|▍         | 56/1247 [01:12<27:07,  1.37s/it]\repoch 0 loss 8.6606:   4%|▍         | 56/1247 [01:12<27:07,  1.37s/it]\repoch 0 loss 8.6606:   5%|▍         | 57/1247 [01:13<27:11,  1.37s/it]\repoch 0 loss 8.6315:   5%|▍         | 57/1247 [01:14<27:11,  1.37s/it]\repoch 0 loss 8.6315:   5%|▍         | 58/1247 [01:15<27:16,  1.38s/it]\repoch 0 loss 8.5968:   5%|▍         | 58/1247 [01:15<27:16,  1.38s/it]\repoch 0 loss 8.5968:   5%|▍         | 59/1247 [01:16<27:16,  1.38s/it]\repoch 0 loss 8.5699:   5%|▍         | 59/1247 [01:17<27:16,  1.38s/it]\repoch 0 loss 8.5699:   5%|▍         | 60/1247 [01:17<27:20,  1.38s/it]\repoch 0 loss 8.5455:   5%|▍         | 60/1247 [01:18<27:20,  1.38s/it]\repoch 0 loss 8.5455:   5%|▍         | 61/1247 [01:19<27:28,  1.39s/it]\repoch 0 loss 8.5198:   5%|▍         | 61/1247 [01:19<27:28,  1.39s/it]\repoch 0 loss 8.5198:   5%|▍         | 62/1247 [01:20<27:27,  1.39s/it]\repoch 0 loss 8.4971:   5%|▍         | 62/1247 [01:21<27:27,  1.39s/it]\repoch 0 loss 8.4971:   5%|▌         | 63/1247 [01:22<27:35,  1.40s/it]\repoch 0 loss 8.4756:   5%|▌         | 63/1247 [01:22<27:35,  1.40s/it]\repoch 0 loss 8.4756:   5%|▌         | 64/1247 [01:23<27:40,  1.40s/it]\repoch 0 loss 8.4448:   5%|▌         | 64/1247 [01:24<27:40,  1.40s/it]\repoch 0 loss 8.4448:   5%|▌         | 65/1247 [01:24<27:44,  1.41s/it]\repoch 0 loss 8.4209:   5%|▌         | 65/1247 [01:25<27:44,  1.41s/it]\repoch 0 loss 8.4209:   5%|▌         | 66/1247 [01:26<27:51,  1.42s/it]\repoch 0 loss 8.395:   5%|▌         | 66/1247 [01:26<27:51,  1.42s/it] \repoch 0 loss 8.395:   5%|▌         | 67/1247 [01:27<27:50,  1.42s/it]\repoch 0 loss 8.3689:   5%|▌         | 67/1247 [01:28<27:50,  1.42s/it]\repoch 0 loss 8.3689:   5%|▌         | 68/1247 [01:29<27:46,  1.41s/it]\repoch 0 loss 8.3454:   5%|▌         | 68/1247 [01:29<27:46,  1.41s/it]\repoch 0 loss 8.3454:   6%|▌         | 69/1247 [01:30<27:59,  1.43s/it]\repoch 0 loss 8.322:   6%|▌         | 69/1247 [01:31<27:59,  1.43s/it] \repoch 0 loss 8.322:   6%|▌         | 70/1247 [01:32<28:01,  1.43s/it]\repoch 0 loss 8.2984:   6%|▌         | 70/1247 [01:32<28:01,  1.43s/it]\repoch 0 loss 8.2984:   6%|▌         | 71/1247 [01:33<28:02,  1.43s/it]\repoch 0 loss 8.276:   6%|▌         | 71/1247 [01:34<28:02,  1.43s/it] \repoch 0 loss 8.276:   6%|▌         | 72/1247 [01:34<28:07,  1.44s/it]\repoch 0 loss 8.2591:   6%|▌         | 72/1247 [01:35<28:07,  1.44s/it]\repoch 0 loss 8.2591:   6%|▌         | 73/1247 [01:36<28:12,  1.44s/it]\repoch 0 loss 8.2414:   6%|▌         | 73/1247 [01:36<28:12,  1.44s/it]\repoch 0 loss 8.2414:   6%|▌         | 74/1247 [01:37<28:16,  1.45s/it]\repoch 0 loss 8.2253:   6%|▌         | 74/1247 [01:38<28:16,  1.45s/it]\repoch 0 loss 8.2253:   6%|▌         | 75/1247 [01:39<28:22,  1.45s/it]\repoch 0 loss 8.2078:   6%|▌         | 75/1247 [01:39<28:22,  1.45s/it]\repoch 0 loss 8.2078:   6%|▌         | 76/1247 [01:40<28:17,  1.45s/it]\repoch 0 loss 8.1902:   6%|▌         | 76/1247 [01:41<28:17,  1.45s/it]\repoch 0 loss 8.1902:   6%|▌         | 77/1247 [01:42<28:16,  1.45s/it]\repoch 0 loss 8.1751:   6%|▌         | 77/1247 [01:42<28:16,  1.45s/it]\repoch 0 loss 8.1751:   6%|▋         | 78/1247 [01:43<28:15,  1.45s/it]\repoch 0 loss 8.163:   6%|▋         | 78/1247 [01:44<28:15,  1.45s/it] \repoch 0 loss 8.163:   6%|▋         | 79/1247 [01:45<28:15,  1.45s/it]\repoch 0 loss 8.1464:   6%|▋         | 79/1247 [01:45<28:15,  1.45s/it]\repoch 0 loss 8.1464:   6%|▋         | 80/1247 [01:46<28:10,  1.45s/it]\repoch 0 loss 8.1284:   6%|▋         | 80/1247 [01:47<28:10,  1.45s/it]\repoch 0 loss 8.1284:   6%|▋         | 81/1247 [01:48<28:05,  1.45s/it]\repoch 0 loss 8.1075:   6%|▋         | 81/1247 [01:48<28:05,  1.45s/it]\repoch 0 loss 8.1075:   7%|▋         | 82/1247 [01:49<27:59,  1.44s/it]\repoch 0 loss 8.0902:   7%|▋         | 82/1247 [01:50<27:59,  1.44s/it]\repoch 0 loss 8.0902:   7%|▋         | 83/1247 [01:50<27:48,  1.43s/it]\repoch 0 loss 8.0747:   7%|▋         | 83/1247 [01:51<27:48,  1.43s/it]\repoch 0 loss 8.0747:   7%|▋         | 84/1247 [01:52<27:46,  1.43s/it]\repoch 0 loss 8.0561:   7%|▋         | 84/1247 [01:52<27:46,  1.43s/it]\repoch 0 loss 8.0561:   7%|▋         | 85/1247 [01:53<27:41,  1.43s/it]\repoch 0 loss 8.0388:   7%|▋         | 85/1247 [01:54<27:41,  1.43s/it]\repoch 0 loss 8.0388:   7%|▋         | 86/1247 [01:55<27:33,  1.42s/it]\repoch 0 loss 8.0253:   7%|▋         | 86/1247 [01:55<27:33,  1.42s/it]\repoch 0 loss 8.0253:   7%|▋         | 87/1247 [01:56<27:36,  1.43s/it]\repoch 0 loss 8.0071:   7%|▋         | 87/1247 [01:57<27:36,  1.43s/it]\repoch 0 loss 8.0071:   7%|▋         | 88/1247 [01:58<27:31,  1.42s/it]\repoch 0 loss 7.9911:   7%|▋         | 88/1247 [01:58<27:31,  1.42s/it]\repoch 0 loss 7.9911:   7%|▋         | 89/1247 [01:59<27:23,  1.42s/it]\repoch 0 loss 7.9752:   7%|▋         | 89/1247 [01:59<27:23,  1.42s/it]\repoch 0 loss 7.9752:   7%|▋         | 90/1247 [02:00<27:20,  1.42s/it]\repoch 0 loss 7.9661:   7%|▋         | 90/1247 [02:01<27:20,  1.42s/it]\repoch 0 loss 7.9661:   7%|▋         | 91/1247 [02:02<27:18,  1.42s/it]\repoch 0 loss 7.9494:   7%|▋         | 91/1247 [02:02<27:18,  1.42s/it]\repoch 0 loss 7.9494:   7%|▋         | 92/1247 [02:03<27:06,  1.41s/it]\repoch 0 loss 7.9389:   7%|▋         | 92/1247 [02:04<27:06,  1.41s/it]\repoch 0 loss 7.9389:   7%|▋         | 93/1247 [02:05<27:05,  1.41s/it]\repoch 0 loss 7.9241:   7%|▋         | 93/1247 [02:05<27:05,  1.41s/it]\repoch 0 loss 7.9241:   8%|▊         | 94/1247 [02:06<26:59,  1.40s/it]\repoch 0 loss 7.909:   8%|▊         | 94/1247 [02:06<26:59,  1.40s/it] \repoch 0 loss 7.909:   8%|▊         | 95/1247 [02:07<26:53,  1.40s/it]\repoch 0 loss 7.8983:   8%|▊         | 95/1247 [02:08<26:53,  1.40s/it]\repoch 0 loss 7.8983:   8%|▊         | 96/1247 [02:09<26:51,  1.40s/it]\repoch 0 loss 7.8823:   8%|▊         | 96/1247 [02:09<26:51,  1.40s/it]\repoch 0 loss 7.8823:   8%|▊         | 97/1247 [02:10<26:44,  1.40s/it]\repoch 0 loss 7.8679:   8%|▊         | 97/1247 [02:11<26:44,  1.40s/it]\repoch 0 loss 7.8679:   8%|▊         | 98/1247 [02:12<26:41,  1.39s/it]\repoch 0 loss 7.854:   8%|▊         | 98/1247 [02:12<26:41,  1.39s/it] \repoch 0 loss 7.854:   8%|▊         | 99/1247 [02:13<26:41,  1.39s/it]\repoch 0 loss 7.8413:   8%|▊         | 99/1247 [02:13<26:41,  1.39s/it]\repoch 0 loss 7.8413:   8%|▊         | 100/1247 [02:14<26:37,  1.39s/it]\repoch 0 loss 7.8313:   8%|▊         | 100/1247 [02:15<26:37,  1.39s/it]\repoch 0 loss 7.8313:   8%|▊         | 101/1247 [02:16<26:38,  1.39s/it]\repoch 0 loss 7.8156:   8%|▊         | 101/1247 [02:16<26:38,  1.39s/it]\repoch 0 loss 7.8156:   8%|▊         | 102/1247 [02:17<26:33,  1.39s/it]\repoch 0 loss 7.8023:   8%|▊         | 102/1247 [02:18<26:33,  1.39s/it]\repoch 0 loss 7.8023:   8%|▊         | 103/1247 [02:18<26:30,  1.39s/it]\repoch 0 loss 7.7906:   8%|▊         | 103/1247 [02:19<26:30,  1.39s/it]\repoch 0 loss 7.7906:   8%|▊         | 104/1247 [02:20<26:28,  1.39s/it]\repoch 0 loss 7.781:   8%|▊         | 104/1247 [02:20<26:28,  1.39s/it] \repoch 0 loss 7.781:   8%|▊         | 105/1247 [02:21<26:28,  1.39s/it]\repoch 0 loss 7.7725:   8%|▊         | 105/1247 [02:22<26:28,  1.39s/it]\repoch 0 loss 7.7725:   9%|▊         | 106/1247 [02:23<26:26,  1.39s/it]\repoch 0 loss 7.7612:   9%|▊         | 106/1247 [02:23<26:26,  1.39s/it]\repoch 0 loss 7.7612:   9%|▊         | 107/1247 [02:24<26:23,  1.39s/it]\repoch 0 loss 7.7468:   9%|▊         | 107/1247 [02:25<26:23,  1.39s/it]\repoch 0 loss 7.7468:   9%|▊         | 108/1247 [02:25<26:24,  1.39s/it]\repoch 0 loss 7.7335:   9%|▊         | 108/1247 [02:26<26:24,  1.39s/it]\repoch 0 loss 7.7335:   9%|▊         | 109/1247 [02:27<26:19,  1.39s/it]\repoch 0 loss 7.723:   9%|▊         | 109/1247 [02:27<26:19,  1.39s/it] \repoch 0 loss 7.723:   9%|▉         | 110/1247 [02:28<26:20,  1.39s/it]\repoch 0 loss 7.7068:   9%|▉         | 110/1247 [02:29<26:20,  1.39s/it]\repoch 0 loss 7.7068:   9%|▉         | 111/1247 [02:30<26:18,  1.39s/it]\repoch 0 loss 7.6917:   9%|▉         | 111/1247 [02:30<26:18,  1.39s/it]\repoch 0 loss 7.6917:   9%|▉         | 112/1247 [02:31<26:15,  1.39s/it]\repoch 0 loss 7.6825:   9%|▉         | 112/1247 [02:31<26:15,  1.39s/it]\repoch 0 loss 7.6825:   9%|▉         | 113/1247 [02:32<26:22,  1.40s/it]\repoch 0 loss 7.6748:   9%|▉         | 113/1247 [02:33<26:22,  1.40s/it]\repoch 0 loss 7.6748:   9%|▉         | 114/1247 [02:34<26:25,  1.40s/it]\repoch 0 loss 7.663:   9%|▉         | 114/1247 [02:34<26:25,  1.40s/it] \repoch 0 loss 7.663:   9%|▉         | 115/1247 [02:35<26:23,  1.40s/it]\repoch 0 loss 7.6527:   9%|▉         | 115/1247 [02:36<26:23,  1.40s/it]\repoch 0 loss 7.6527:   9%|▉         | 116/1247 [02:37<26:23,  1.40s/it]\repoch 0 loss 7.6393:   9%|▉         | 116/1247 [02:37<26:23,  1.40s/it]\repoch 0 loss 7.6393:   9%|▉         | 117/1247 [02:38<26:24,  1.40s/it]\repoch 0 loss 7.6296:   9%|▉         | 117/1247 [02:39<26:24,  1.40s/it]\repoch 0 loss 7.6296:   9%|▉         | 118/1247 [02:39<26:17,  1.40s/it]\repoch 0 loss 7.6186:   9%|▉         | 118/1247 [02:40<26:17,  1.40s/it]\repoch 0 loss 7.6186:  10%|▉         | 119/1247 [02:41<26:13,  1.39s/it]\repoch 0 loss 7.6089:  10%|▉         | 119/1247 [02:41<26:13,  1.39s/it]\repoch 0 loss 7.6089:  10%|▉         | 120/1247 [02:42<26:12,  1.40s/it]\repoch 0 loss 7.6015:  10%|▉         | 120/1247 [02:43<26:12,  1.40s/it]\repoch 0 loss 7.6015:  10%|▉         | 121/1247 [02:44<26:08,  1.39s/it]\repoch 0 loss 7.5903:  10%|▉         | 121/1247 [02:44<26:08,  1.39s/it]\repoch 0 loss 7.5903:  10%|▉         | 122/1247 [02:45<26:09,  1.39s/it]\repoch 0 loss 7.5777:  10%|▉         | 122/1247 [02:45<26:09,  1.39s/it]\repoch 0 loss 7.5777:  10%|▉         | 123/1247 [02:46<26:05,  1.39s/it]\repoch 0 loss 7.5681:  10%|▉         | 123/1247 [02:47<26:05,  1.39s/it]\repoch 0 loss 7.5681:  10%|▉         | 124/1247 [02:48<26:07,  1.40s/it]\repoch 0 loss 7.5582:  10%|▉         | 124/1247 [02:48<26:07,  1.40s/it]\repoch 0 loss 7.5582:  10%|█         | 125/1247 [02:49<26:08,  1.40s/it]\repoch 0 loss 7.5494:  10%|█         | 125/1247 [02:50<26:08,  1.40s/it]\repoch 0 loss 7.5494:  10%|█         | 126/1247 [02:51<26:04,  1.40s/it]\repoch 0 loss 7.5384:  10%|█         | 126/1247 [02:51<26:04,  1.40s/it]\repoch 0 loss 7.5384:  10%|█         | 127/1247 [02:52<26:05,  1.40s/it]\repoch 0 loss 7.5289:  10%|█         | 127/1247 [02:52<26:05,  1.40s/it]\repoch 0 loss 7.5289:  10%|█         | 128/1247 [02:53<26:00,  1.39s/it]\repoch 0 loss 7.5252:  10%|█         | 128/1247 [02:54<26:00,  1.39s/it]\repoch 0 loss 7.5252:  10%|█         | 129/1247 [02:55<25:56,  1.39s/it]\repoch 0 loss 7.5138:  10%|█         | 129/1247 [02:55<25:56,  1.39s/it]\repoch 0 loss 7.5138:  10%|█         | 130/1247 [02:56<25:57,  1.39s/it]\repoch 0 loss 7.5097:  10%|█         | 130/1247 [02:57<25:57,  1.39s/it]\repoch 0 loss 7.5097:  11%|█         | 131/1247 [02:58<25:56,  1.39s/it]\repoch 0 loss 7.501:  11%|█         | 131/1247 [02:58<25:56,  1.39s/it] \repoch 0 loss 7.501:  11%|█         | 132/1247 [02:59<25:54,  1.39s/it]\repoch 0 loss 7.494:  11%|█         | 132/1247 [02:59<25:54,  1.39s/it]\repoch 0 loss 7.494:  11%|█         | 133/1247 [03:00<25:54,  1.40s/it]\repoch 0 loss 7.4831:  11%|█         | 133/1247 [03:01<25:54,  1.40s/it]\repoch 0 loss 7.4831:  11%|█         | 134/1247 [03:02<25:57,  1.40s/it]\repoch 0 loss 7.4719:  11%|█         | 134/1247 [03:02<25:57,  1.40s/it]\repoch 0 loss 7.4719:  11%|█         | 135/1247 [03:03<25:52,  1.40s/it]\repoch 0 loss 7.4623:  11%|█         | 135/1247 [03:04<25:52,  1.40s/it]\repoch 0 loss 7.4623:  11%|█         | 136/1247 [03:04<25:52,  1.40s/it]\repoch 0 loss 7.4548:  11%|█         | 136/1247 [03:05<25:52,  1.40s/it]\repoch 0 loss 7.4548:  11%|█         | 137/1247 [03:06<25:51,  1.40s/it]\repoch 0 loss 7.4452:  11%|█         | 137/1247 [03:06<25:51,  1.40s/it]\repoch 0 loss 7.4452:  11%|█         | 138/1247 [03:07<25:51,  1.40s/it]\repoch 0 loss 7.4338:  11%|█         | 138/1247 [03:08<25:51,  1.40s/it]\repoch 0 loss 7.4338:  11%|█         | 139/1247 [03:09<25:48,  1.40s/it]\repoch 0 loss 7.4279:  11%|█         | 139/1247 [03:09<25:48,  1.40s/it]\repoch 0 loss 7.4279:  11%|█         | 140/1247 [03:10<25:53,  1.40s/it]\repoch 0 loss 7.4218:  11%|█         | 140/1247 [03:11<25:53,  1.40s/it]\repoch 0 loss 7.4218:  11%|█▏        | 141/1247 [03:12<25:49,  1.40s/it]\repoch 0 loss 7.413:  11%|█▏        | 141/1247 [03:12<25:49,  1.40s/it] \repoch 0 loss 7.413:  11%|█▏        | 142/1247 [03:13<25:48,  1.40s/it]\repoch 0 loss 7.405:  11%|█▏        | 142/1247 [03:13<25:48,  1.40s/it]\repoch 0 loss 7.405:  11%|█▏        | 143/1247 [03:14<25:44,  1.40s/it]\repoch 0 loss 7.3983:  11%|█▏        | 143/1247 [03:15<25:44,  1.40s/it]\repoch 0 loss 7.3983:  12%|█▏        | 144/1247 [03:16<25:43,  1.40s/it]\repoch 0 loss 7.3904:  12%|█▏        | 144/1247 [03:16<25:43,  1.40s/it]\repoch 0 loss 7.3904:  12%|█▏        | 145/1247 [03:17<25:41,  1.40s/it]\repoch 0 loss 7.3812:  12%|█▏        | 145/1247 [03:18<25:41,  1.40s/it]\repoch 0 loss 7.3812:  12%|█▏        | 146/1247 [03:19<25:47,  1.41s/it]\repoch 0 loss 7.3701:  12%|█▏        | 146/1247 [03:19<25:47,  1.41s/it]\repoch 0 loss 7.3701:  12%|█▏        | 147/1247 [03:20<25:50,  1.41s/it]\repoch 0 loss 7.3638:  12%|█▏        | 147/1247 [03:20<25:50,  1.41s/it]\repoch 0 loss 7.3638:  12%|█▏        | 148/1247 [03:21<25:51,  1.41s/it]\repoch 0 loss 7.3597:  12%|█▏        | 148/1247 [03:22<25:51,  1.41s/it]\repoch 0 loss 7.3597:  12%|█▏        | 149/1247 [03:23<25:47,  1.41s/it]\repoch 0 loss 7.3524:  12%|█▏        | 149/1247 [03:23<25:47,  1.41s/it]\repoch 0 loss 7.3524:  12%|█▏        | 150/1247 [03:24<25:42,  1.41s/it]\repoch 0 loss 7.3423:  12%|█▏        | 150/1247 [03:25<25:42,  1.41s/it]\repoch 0 loss 7.3423:  12%|█▏        | 151/1247 [03:26<25:37,  1.40s/it]\repoch 0 loss 7.335:  12%|█▏        | 151/1247 [03:26<25:37,  1.40s/it] \repoch 0 loss 7.335:  12%|█▏        | 152/1247 [03:27<25:38,  1.40s/it]\repoch 0 loss 7.3273:  12%|█▏        | 152/1247 [03:27<25:38,  1.40s/it]\repoch 0 loss 7.3273:  12%|█▏        | 153/1247 [03:28<25:40,  1.41s/it]\repoch 0 loss 7.3191:  12%|█▏        | 153/1247 [03:29<25:40,  1.41s/it]\repoch 0 loss 7.3191:  12%|█▏        | 154/1247 [03:30<25:39,  1.41s/it]\repoch 0 loss 7.3118:  12%|█▏        | 154/1247 [03:30<25:39,  1.41s/it]\repoch 0 loss 7.3118:  12%|█▏        | 155/1247 [03:31<25:37,  1.41s/it]\repoch 0 loss 7.3039:  12%|█▏        | 155/1247 [03:32<25:37,  1.41s/it]\repoch 0 loss 7.3039:  13%|█▎        | 156/1247 [03:33<25:37,  1.41s/it]\repoch 0 loss 7.2991:  13%|█▎        | 156/1247 [03:33<25:37,  1.41s/it]\repoch 0 loss 7.2991:  13%|█▎        | 157/1247 [03:34<25:33,  1.41s/it]\repoch 0 loss 7.2919:  13%|█▎        | 157/1247 [03:35<25:33,  1.41s/it]\repoch 0 loss 7.2919:  13%|█▎        | 158/1247 [03:35<25:27,  1.40s/it]\repoch 0 loss 7.284:  13%|█▎        | 158/1247 [03:36<25:27,  1.40s/it] \repoch 0 loss 7.284:  13%|█▎        | 159/1247 [03:37<25:24,  1.40s/it]\repoch 0 loss 7.2752:  13%|█▎        | 159/1247 [03:37<25:24,  1.40s/it]\repoch 0 loss 7.2752:  13%|█▎        | 160/1247 [03:38<25:22,  1.40s/it]\repoch 0 loss 7.2672:  13%|█▎        | 160/1247 [03:39<25:22,  1.40s/it]\repoch 0 loss 7.2672:  13%|█▎        | 161/1247 [03:40<25:25,  1.40s/it]\repoch 0 loss 7.2594:  13%|█▎        | 161/1247 [03:40<25:25,  1.40s/it]\repoch 0 loss 7.2594:  13%|█▎        | 162/1247 [03:41<25:25,  1.41s/it]\repoch 0 loss 7.2528:  13%|█▎        | 162/1247 [03:42<25:25,  1.41s/it]\repoch 0 loss 7.2528:  13%|█▎        | 163/1247 [03:42<25:26,  1.41s/it]\repoch 0 loss 7.2457:  13%|█▎        | 163/1247 [03:43<25:26,  1.41s/it]\repoch 0 loss 7.2457:  13%|█▎        | 164/1247 [03:44<25:25,  1.41s/it]\repoch 0 loss 7.2413:  13%|█▎        | 164/1247 [03:44<25:25,  1.41s/it]\repoch 0 loss 7.2413:  13%|█▎        | 165/1247 [03:45<25:25,  1.41s/it]\repoch 0 loss 7.2367:  13%|█▎        | 165/1247 [03:46<25:25,  1.41s/it]\repoch 0 loss 7.2367:  13%|█▎        | 166/1247 [03:47<25:25,  1.41s/it]\repoch 0 loss 7.2275:  13%|█▎        | 166/1247 [03:47<25:25,  1.41s/it]\repoch 0 loss 7.2275:  13%|█▎        | 167/1247 [03:48<25:22,  1.41s/it]\repoch 0 loss 7.2198:  13%|█▎        | 167/1247 [03:49<25:22,  1.41s/it]\repoch 0 loss 7.2198:  13%|█▎        | 168/1247 [03:49<25:22,  1.41s/it]\repoch 0 loss 7.2142:  13%|█▎        | 168/1247 [03:50<25:22,  1.41s/it]\repoch 0 loss 7.2142:  14%|█▎        | 169/1247 [03:51<25:18,  1.41s/it]\repoch 0 loss 7.2051:  14%|█▎        | 169/1247 [03:51<25:18,  1.41s/it]\repoch 0 loss 7.2051:  14%|█▎        | 170/1247 [03:52<25:16,  1.41s/it]\repoch 0 loss 7.1992:  14%|█▎        | 170/1247 [03:53<25:16,  1.41s/it]\repoch 0 loss 7.1992:  14%|█▎        | 171/1247 [03:54<25:18,  1.41s/it]\repoch 0 loss 7.1934:  14%|█▎        | 171/1247 [03:54<25:18,  1.41s/it]\repoch 0 loss 7.1934:  14%|█▍        | 172/1247 [03:55<25:23,  1.42s/it]\repoch 0 loss 7.1861:  14%|█▍        | 172/1247 [03:56<25:23,  1.42s/it]\repoch 0 loss 7.1861:  14%|█▍        | 173/1247 [03:57<25:16,  1.41s/it]\repoch 0 loss 7.1803:  14%|█▍        | 173/1247 [03:57<25:16,  1.41s/it]\repoch 0 loss 7.1803:  14%|█▍        | 174/1247 [03:58<25:15,  1.41s/it]\repoch 0 loss 7.1727:  14%|█▍        | 174/1247 [03:58<25:15,  1.41s/it]\repoch 0 loss 7.1727:  14%|█▍        | 175/1247 [03:59<25:12,  1.41s/it]\repoch 0 loss 7.165:  14%|█▍        | 175/1247 [04:00<25:12,  1.41s/it] \repoch 0 loss 7.165:  14%|█▍        | 176/1247 [04:01<25:04,  1.41s/it]\repoch 0 loss 7.1589:  14%|█▍        | 176/1247 [04:01<25:04,  1.41s/it]\repoch 0 loss 7.1589:  14%|█▍        | 177/1247 [04:02<25:07,  1.41s/it]\repoch 0 loss 7.1516:  14%|█▍        | 177/1247 [04:03<25:07,  1.41s/it]\repoch 0 loss 7.1516:  14%|█▍        | 178/1247 [04:04<25:09,  1.41s/it]\repoch 0 loss 7.1432:  14%|█▍        | 178/1247 [04:04<25:09,  1.41s/it]\repoch 0 loss 7.1432:  14%|█▍        | 179/1247 [04:05<25:03,  1.41s/it]\repoch 0 loss 7.1356:  14%|█▍        | 179/1247 [04:06<25:03,  1.41s/it]\repoch 0 loss 7.1356:  14%|█▍        | 180/1247 [04:06<25:02,  1.41s/it]\repoch 0 loss 7.1315:  14%|█▍        | 180/1247 [04:07<25:02,  1.41s/it]\repoch 0 loss 7.1315:  15%|█▍        | 181/1247 [04:08<25:04,  1.41s/it]\repoch 0 loss 7.1257:  15%|█▍        | 181/1247 [04:08<25:04,  1.41s/it]\repoch 0 loss 7.1257:  15%|█▍        | 182/1247 [04:09<25:01,  1.41s/it]\repoch 0 loss 7.1197:  15%|█▍        | 182/1247 [04:10<25:01,  1.41s/it]\repoch 0 loss 7.1197:  15%|█▍        | 183/1247 [04:11<25:06,  1.42s/it]\repoch 0 loss 7.1124:  15%|█▍        | 183/1247 [04:11<25:06,  1.42s/it]\repoch 0 loss 7.1124:  15%|█▍        | 184/1247 [04:12<25:01,  1.41s/it]\repoch 0 loss 7.107:  15%|█▍        | 184/1247 [04:13<25:01,  1.41s/it] \repoch 0 loss 7.107:  15%|█▍        | 185/1247 [04:13<24:53,  1.41s/it]\repoch 0 loss 7.0989:  15%|█▍        | 185/1247 [04:14<24:53,  1.41s/it]\repoch 0 loss 7.0989:  15%|█▍        | 186/1247 [04:15<24:52,  1.41s/it]\repoch 0 loss 7.0916:  15%|█▍        | 186/1247 [04:15<24:52,  1.41s/it]\repoch 0 loss 7.0916:  15%|█▍        | 187/1247 [04:16<24:49,  1.41s/it]\repoch 0 loss 7.0887:  15%|█▍        | 187/1247 [04:17<24:49,  1.41s/it]\repoch 0 loss 7.0887:  15%|█▌        | 188/1247 [04:18<24:51,  1.41s/it]\repoch 0 loss 7.0826:  15%|█▌        | 188/1247 [04:18<24:51,  1.41s/it]\repoch 0 loss 7.0826:  15%|█▌        | 189/1247 [04:19<24:47,  1.41s/it]\repoch 0 loss 7.078:  15%|█▌        | 189/1247 [04:20<24:47,  1.41s/it] \repoch 0 loss 7.078:  15%|█▌        | 190/1247 [04:20<24:46,  1.41s/it]\repoch 0 loss 7.0739:  15%|█▌        | 190/1247 [04:21<24:46,  1.41s/it]\repoch 0 loss 7.0739:  15%|█▌        | 191/1247 [04:22<24:46,  1.41s/it]\repoch 0 loss 7.0665:  15%|█▌        | 191/1247 [04:22<24:46,  1.41s/it]\repoch 0 loss 7.0665:  15%|█▌        | 192/1247 [04:23<24:40,  1.40s/it]\repoch 0 loss 7.0607:  15%|█▌        | 192/1247 [04:24<24:40,  1.40s/it]\repoch 0 loss 7.0607:  15%|█▌        | 193/1247 [04:25<24:43,  1.41s/it]\repoch 0 loss 7.0546:  15%|█▌        | 193/1247 [04:25<24:43,  1.41s/it]\repoch 0 loss 7.0546:  16%|█▌        | 194/1247 [04:26<24:46,  1.41s/it]\repoch 0 loss 7.0484:  16%|█▌        | 194/1247 [04:27<24:46,  1.41s/it]\repoch 0 loss 7.0484:  16%|█▌        | 195/1247 [04:28<24:37,  1.40s/it]\repoch 0 loss 7.0431:  16%|█▌        | 195/1247 [04:28<24:37,  1.40s/it]\repoch 0 loss 7.0431:  16%|█▌        | 196/1247 [04:29<24:41,  1.41s/it]\repoch 0 loss 7.0364:  16%|█▌        | 196/1247 [04:29<24:41,  1.41s/it]\repoch 0 loss 7.0364:  16%|█▌        | 197/1247 [04:30<24:35,  1.41s/it]\repoch 0 loss 7.0309:  16%|█▌        | 197/1247 [04:31<24:35,  1.41s/it]\repoch 0 loss 7.0309:  16%|█▌        | 198/1247 [04:32<24:36,  1.41s/it]\repoch 0 loss 7.0254:  16%|█▌        | 198/1247 [04:32<24:36,  1.41s/it]\repoch 0 loss 7.0254:  16%|█▌        | 199/1247 [04:33<24:35,  1.41s/it]\repoch 0 loss 7.02:  16%|█▌        | 199/1247 [04:34<24:35,  1.41s/it]  \repoch 0 loss 7.02:  16%|█▌        | 200/1247 [04:35<24:34,  1.41s/it]\repoch 0 loss 7.0141:  16%|█▌        | 200/1247 [04:35<24:34,  1.41s/it]\repoch 0 loss 7.0141:  16%|█▌        | 201/1247 [04:36<24:32,  1.41s/it]\repoch 0 loss 7.0064:  16%|█▌        | 201/1247 [04:36<24:32,  1.41s/it]\repoch 0 loss 7.0064:  16%|█▌        | 202/1247 [04:37<24:31,  1.41s/it]\repoch 0 loss 7.0041:  16%|█▌        | 202/1247 [04:38<24:31,  1.41s/it]\repoch 0 loss 7.0041:  16%|█▋        | 203/1247 [04:39<24:25,  1.40s/it]\repoch 0 loss 6.9978:  16%|█▋        | 203/1247 [04:39<24:25,  1.40s/it]\repoch 0 loss 6.9978:  16%|█▋        | 204/1247 [04:40<24:24,  1.40s/it]\repoch 0 loss 6.9913:  16%|█▋        | 204/1247 [04:41<24:24,  1.40s/it]\repoch 0 loss 6.9913:  16%|█▋        | 205/1247 [04:42<24:21,  1.40s/it]\repoch 0 loss 6.9865:  16%|█▋        | 205/1247 [04:42<24:21,  1.40s/it]\repoch 0 loss 6.9865:  17%|█▋        | 206/1247 [04:43<24:25,  1.41s/it]\repoch 0 loss 6.9814:  17%|█▋        | 206/1247 [04:44<24:25,  1.41s/it]\repoch 0 loss 6.9814:  17%|█▋        | 207/1247 [04:44<24:21,  1.40s/it]\repoch 0 loss 6.9747:  17%|█▋        | 207/1247 [04:45<24:21,  1.40s/it]\repoch 0 loss 6.9747:  17%|█▋        | 208/1247 [04:46<24:17,  1.40s/it]\repoch 0 loss 6.9706:  17%|█▋        | 208/1247 [04:46<24:17,  1.40s/it]\repoch 0 loss 6.9706:  17%|█▋        | 209/1247 [04:47<24:17,  1.40s/it]\repoch 0 loss 6.9652:  17%|█▋        | 209/1247 [04:48<24:17,  1.40s/it]\repoch 0 loss 6.9652:  17%|█▋        | 210/1247 [04:49<24:13,  1.40s/it]\repoch 0 loss 6.9618:  17%|█▋        | 210/1247 [04:49<24:13,  1.40s/it]\repoch 0 loss 6.9618:  17%|█▋        | 211/1247 [04:50<24:16,  1.41s/it]\repoch 0 loss 6.9574:  17%|█▋        | 211/1247 [04:51<24:16,  1.41s/it]\repoch 0 loss 6.9574:  17%|█▋        | 212/1247 [04:51<24:13,  1.40s/it]\repoch 0 loss 6.9529:  17%|█▋        | 212/1247 [04:52<24:13,  1.40s/it]\repoch 0 loss 6.9529:  17%|█▋        | 213/1247 [04:53<24:08,  1.40s/it]\repoch 0 loss 6.949:  17%|█▋        | 213/1247 [04:53<24:08,  1.40s/it] \repoch 0 loss 6.949:  17%|█▋        | 214/1247 [04:54<24:06,  1.40s/it]\repoch 0 loss 6.9433:  17%|█▋        | 214/1247 [04:55<24:06,  1.40s/it]\repoch 0 loss 6.9433:  17%|█▋        | 215/1247 [04:56<24:07,  1.40s/it]\repoch 0 loss 6.9385:  17%|█▋        | 215/1247 [04:56<24:07,  1.40s/it]\repoch 0 loss 6.9385:  17%|█▋        | 216/1247 [04:57<24:05,  1.40s/it]\repoch 0 loss 6.9337:  17%|█▋        | 216/1247 [04:58<24:05,  1.40s/it]\repoch 0 loss 6.9337:  17%|█▋        | 217/1247 [04:58<24:00,  1.40s/it]\repoch 0 loss 6.9288:  17%|█▋        | 217/1247 [04:59<24:00,  1.40s/it]\repoch 0 loss 6.9288:  17%|█▋        | 218/1247 [05:00<24:07,  1.41s/it]\repoch 0 loss 6.9225:  17%|█▋        | 218/1247 [05:00<24:07,  1.41s/it]\repoch 0 loss 6.9225:  18%|█▊        | 219/1247 [05:01<24:02,  1.40s/it]\repoch 0 loss 6.9181:  18%|█▊        | 219/1247 [05:02<24:02,  1.40s/it]\repoch 0 loss 6.9181:  18%|█▊        | 220/1247 [05:03<24:05,  1.41s/it]\repoch 0 loss 6.9137:  18%|█▊        | 220/1247 [05:03<24:05,  1.41s/it]\repoch 0 loss 6.9137:  18%|█▊        | 221/1247 [05:04<23:58,  1.40s/it]\repoch 0 loss 6.9101:  18%|█▊        | 221/1247 [05:05<23:58,  1.40s/it]\repoch 0 loss 6.9101:  18%|█▊        | 222/1247 [05:05<23:53,  1.40s/it]\repoch 0 loss 6.9059:  18%|█▊        | 222/1247 [05:06<23:53,  1.40s/it]\repoch 0 loss 6.9059:  18%|█▊        | 223/1247 [05:07<23:50,  1.40s/it]\repoch 0 loss 6.8997:  18%|█▊        | 223/1247 [05:07<23:50,  1.40s/it]\repoch 0 loss 6.8997:  18%|█▊        | 224/1247 [05:08<23:51,  1.40s/it]\repoch 0 loss 6.8933:  18%|█▊        | 224/1247 [05:09<23:51,  1.40s/it]\repoch 0 loss 6.8933:  18%|█▊        | 225/1247 [05:10<23:50,  1.40s/it]\repoch 0 loss 6.889:  18%|█▊        | 225/1247 [05:10<23:50,  1.40s/it] \repoch 0 loss 6.889:  18%|█▊        | 226/1247 [05:11<23:51,  1.40s/it]\repoch 0 loss 6.8827:  18%|█▊        | 226/1247 [05:12<23:51,  1.40s/it]\repoch 0 loss 6.8827:  18%|█▊        | 227/1247 [05:12<23:48,  1.40s/it]\repoch 0 loss 6.8771:  18%|█▊        | 227/1247 [05:13<23:48,  1.40s/it]\repoch 0 loss 6.8771:  18%|█▊        | 228/1247 [05:14<23:45,  1.40s/it]\repoch 0 loss 6.8717:  18%|█▊        | 228/1247 [05:14<23:45,  1.40s/it]\repoch 0 loss 6.8717:  18%|█▊        | 229/1247 [05:15<23:45,  1.40s/it]\repoch 0 loss 6.868:  18%|█▊        | 229/1247 [05:16<23:45,  1.40s/it] \repoch 0 loss 6.868:  18%|█▊        | 230/1247 [05:17<23:42,  1.40s/it]\repoch 0 loss 6.8645:  18%|█▊        | 230/1247 [05:17<23:42,  1.40s/it]\repoch 0 loss 6.8645:  19%|█▊        | 231/1247 [05:18<23:44,  1.40s/it]\repoch 0 loss 6.8609:  19%|█▊        | 231/1247 [05:19<23:44,  1.40s/it]\repoch 0 loss 6.8609:  19%|█▊        | 232/1247 [05:19<23:40,  1.40s/it]\repoch 0 loss 6.8585:  19%|█▊        | 232/1247 [05:20<23:40,  1.40s/it]\repoch 0 loss 6.8585:  19%|█▊        | 233/1247 [05:21<23:43,  1.40s/it]\repoch 0 loss 6.8542:  19%|█▊        | 233/1247 [05:21<23:43,  1.40s/it]\repoch 0 loss 6.8542:  19%|█▉        | 234/1247 [05:22<23:42,  1.40s/it]\repoch 0 loss 6.8492:  19%|█▉        | 234/1247 [05:23<23:42,  1.40s/it]\repoch 0 loss 6.8492:  19%|█▉        | 235/1247 [05:24<23:40,  1.40s/it]\repoch 0 loss 6.8462:  19%|█▉        | 235/1247 [05:24<23:40,  1.40s/it]\repoch 0 loss 6.8462:  19%|█▉        | 236/1247 [05:25<23:44,  1.41s/it]\repoch 0 loss 6.842:  19%|█▉        | 236/1247 [05:26<23:44,  1.41s/it] \repoch 0 loss 6.842:  19%|█▉        | 237/1247 [05:26<23:38,  1.40s/it]\repoch 0 loss 6.8379:  19%|█▉        | 237/1247 [05:27<23:38,  1.40s/it]\repoch 0 loss 6.8379:  19%|█▉        | 238/1247 [05:28<23:40,  1.41s/it]\repoch 0 loss 6.8356:  19%|█▉        | 238/1247 [05:28<23:40,  1.41s/it]\repoch 0 loss 6.8356:  19%|█▉        | 239/1247 [05:29<23:37,  1.41s/it]\repoch 0 loss 6.8319:  19%|█▉        | 239/1247 [05:30<23:37,  1.41s/it]\repoch 0 loss 6.8319:  19%|█▉        | 240/1247 [05:31<23:32,  1.40s/it]\repoch 0 loss 6.8269:  19%|█▉        | 240/1247 [05:31<23:32,  1.40s/it]\repoch 0 loss 6.8269:  19%|█▉        | 241/1247 [05:32<23:29,  1.40s/it]\repoch 0 loss 6.8238:  19%|█▉        | 241/1247 [05:33<23:29,  1.40s/it]\repoch 0 loss 6.8238:  19%|█▉        | 242/1247 [05:33<23:26,  1.40s/it]\repoch 0 loss 6.8224:  19%|█▉        | 242/1247 [05:34<23:26,  1.40s/it]\repoch 0 loss 6.8224:  19%|█▉        | 243/1247 [05:35<23:29,  1.40s/it]\repoch 0 loss 6.8194:  19%|█▉        | 243/1247 [05:35<23:29,  1.40s/it]\repoch 0 loss 6.8194:  20%|█▉        | 244/1247 [05:36<23:29,  1.40s/it]\repoch 0 loss 6.8144:  20%|█▉        | 244/1247 [05:37<23:29,  1.40s/it]\repoch 0 loss 6.8144:  20%|█▉        | 245/1247 [05:38<23:24,  1.40s/it]\repoch 0 loss 6.81:  20%|█▉        | 245/1247 [05:38<23:24,  1.40s/it]  \repoch 0 loss 6.81:  20%|█▉        | 246/1247 [05:39<23:23,  1.40s/it]\repoch 0 loss 6.8053:  20%|█▉        | 246/1247 [05:40<23:23,  1.40s/it]\repoch 0 loss 6.8053:  20%|█▉        | 247/1247 [05:40<23:22,  1.40s/it]\repoch 0 loss 6.8022:  20%|█▉        | 247/1247 [05:41<23:22,  1.40s/it]\repoch 0 loss 6.8022:  20%|█▉        | 248/1247 [05:42<23:21,  1.40s/it]\repoch 0 loss 6.7979:  20%|█▉        | 248/1247 [05:42<23:21,  1.40s/it]\repoch 0 loss 6.7979:  20%|█▉        | 249/1247 [05:43<23:17,  1.40s/it]\repoch 0 loss 6.7932:  20%|█▉        | 249/1247 [05:44<23:17,  1.40s/it]\repoch 0 loss 6.7932:  20%|██        | 250/1247 [05:45<23:18,  1.40s/it]\repoch 0 loss 6.788:  20%|██        | 250/1247 [05:45<23:18,  1.40s/it] \repoch 0 loss 6.788:  20%|██        | 251/1247 [05:46<23:15,  1.40s/it]\repoch 0 loss 6.7835:  20%|██        | 251/1247 [05:47<23:15,  1.40s/it]\repoch 0 loss 6.7835:  20%|██        | 252/1247 [05:48<23:19,  1.41s/it]\repoch 0 loss 6.7796:  20%|██        | 252/1247 [05:48<23:19,  1.41s/it]\repoch 0 loss 6.7796:  20%|██        | 253/1247 [05:49<23:13,  1.40s/it]\repoch 0 loss 6.7751:  20%|██        | 253/1247 [05:49<23:13,  1.40s/it]\repoch 0 loss 6.7751:  20%|██        | 254/1247 [05:50<23:15,  1.41s/it]\repoch 0 loss 6.7713:  20%|██        | 254/1247 [05:51<23:15,  1.41s/it]\repoch 0 loss 6.7713:  20%|██        | 255/1247 [05:52<23:08,  1.40s/it]\repoch 0 loss 6.7675:  20%|██        | 255/1247 [05:52<23:08,  1.40s/it]\repoch 0 loss 6.7675:  21%|██        | 256/1247 [05:53<23:06,  1.40s/it]\repoch 0 loss 6.7624:  21%|██        | 256/1247 [05:54<23:06,  1.40s/it]\repoch 0 loss 6.7624:  21%|██        | 257/1247 [05:55<23:05,  1.40s/it]\repoch 0 loss 6.7602:  21%|██        | 257/1247 [05:55<23:05,  1.40s/it]\repoch 0 loss 6.7602:  21%|██        | 258/1247 [05:56<23:03,  1.40s/it]\repoch 0 loss 6.7576:  21%|██        | 258/1247 [05:56<23:03,  1.40s/it]\repoch 0 loss 6.7576:  21%|██        | 259/1247 [05:57<23:02,  1.40s/it]\repoch 0 loss 6.7535:  21%|██        | 259/1247 [05:58<23:02,  1.40s/it]\repoch 0 loss 6.7535:  21%|██        | 260/1247 [05:59<23:02,  1.40s/it]\repoch 0 loss 6.7502:  21%|██        | 260/1247 [05:59<23:02,  1.40s/it]\repoch 0 loss 6.7502:  21%|██        | 261/1247 [06:00<23:08,  1.41s/it]\repoch 0 loss 6.7472:  21%|██        | 261/1247 [06:01<23:08,  1.41s/it]\repoch 0 loss 6.7472:  21%|██        | 262/1247 [06:02<23:11,  1.41s/it]\repoch 0 loss 6.743:  21%|██        | 262/1247 [06:02<23:11,  1.41s/it] \repoch 0 loss 6.743:  21%|██        | 263/1247 [06:03<23:02,  1.41s/it]\repoch 0 loss 6.7391:  21%|██        | 263/1247 [06:03<23:02,  1.41s/it]\repoch 0 loss 6.7391:  21%|██        | 264/1247 [06:04<22:56,  1.40s/it]\repoch 0 loss 6.7355:  21%|██        | 264/1247 [06:05<22:56,  1.40s/it]\repoch 0 loss 6.7355:  21%|██▏       | 265/1247 [06:06<22:58,  1.40s/it]\repoch 0 loss 6.7318:  21%|██▏       | 265/1247 [06:06<22:58,  1.40s/it]\repoch 0 loss 6.7318:  21%|██▏       | 266/1247 [06:07<22:55,  1.40s/it]\repoch 0 loss 6.7276:  21%|██▏       | 266/1247 [06:08<22:55,  1.40s/it]\repoch 0 loss 6.7276:  21%|██▏       | 267/1247 [06:09<22:55,  1.40s/it]\repoch 0 loss 6.7236:  21%|██▏       | 267/1247 [06:09<22:55,  1.40s/it]\repoch 0 loss 6.7236:  21%|██▏       | 268/1247 [06:10<22:56,  1.41s/it]\repoch 0 loss 6.7195:  21%|██▏       | 268/1247 [06:10<22:56,  1.41s/it]\repoch 0 loss 6.7195:  22%|██▏       | 269/1247 [06:11<22:50,  1.40s/it]\repoch 0 loss 6.717:  22%|██▏       | 269/1247 [06:12<22:50,  1.40s/it] \repoch 0 loss 6.717:  22%|██▏       | 270/1247 [06:13<22:51,  1.40s/it]\repoch 0 loss 6.7136:  22%|██▏       | 270/1247 [06:13<22:51,  1.40s/it]\repoch 0 loss 6.7136:  22%|██▏       | 271/1247 [06:14<22:50,  1.40s/it]\repoch 0 loss 6.7099:  22%|██▏       | 271/1247 [06:15<22:50,  1.40s/it]\repoch 0 loss 6.7099:  22%|██▏       | 272/1247 [06:16<22:45,  1.40s/it]\repoch 0 loss 6.7072:  22%|██▏       | 272/1247 [06:16<22:45,  1.40s/it]\repoch 0 loss 6.7072:  22%|██▏       | 273/1247 [06:17<22:44,  1.40s/it]\repoch 0 loss 6.7035:  22%|██▏       | 273/1247 [06:17<22:44,  1.40s/it]\repoch 0 loss 6.7035:  22%|██▏       | 274/1247 [06:18<22:41,  1.40s/it]\repoch 0 loss 6.6993:  22%|██▏       | 274/1247 [06:19<22:41,  1.40s/it]\repoch 0 loss 6.6993:  22%|██▏       | 275/1247 [06:20<22:40,  1.40s/it]\repoch 0 loss 6.6948:  22%|██▏       | 275/1247 [06:20<22:40,  1.40s/it]\repoch 0 loss 6.6948:  22%|██▏       | 276/1247 [06:21<22:41,  1.40s/it]\repoch 0 loss 6.6914:  22%|██▏       | 276/1247 [06:22<22:41,  1.40s/it]\repoch 0 loss 6.6914:  22%|██▏       | 277/1247 [06:23<22:40,  1.40s/it]\repoch 0 loss 6.6868:  22%|██▏       | 277/1247 [06:23<22:40,  1.40s/it]\repoch 0 loss 6.6868:  22%|██▏       | 278/1247 [06:24<22:35,  1.40s/it]\repoch 0 loss 6.6841:  22%|██▏       | 278/1247 [06:24<22:35,  1.40s/it]\repoch 0 loss 6.6841:  22%|██▏       | 279/1247 [06:25<22:35,  1.40s/it]\repoch 0 loss 6.6808:  22%|██▏       | 279/1247 [06:26<22:35,  1.40s/it]\repoch 0 loss 6.6808:  22%|██▏       | 280/1247 [06:27<22:33,  1.40s/it]\repoch 0 loss 6.6772:  22%|██▏       | 280/1247 [06:27<22:33,  1.40s/it]\repoch 0 loss 6.6772:  23%|██▎       | 281/1247 [06:28<22:34,  1.40s/it]\repoch 0 loss 6.6744:  23%|██▎       | 281/1247 [06:29<22:34,  1.40s/it]\repoch 0 loss 6.6744:  23%|██▎       | 282/1247 [06:30<22:32,  1.40s/it]\repoch 0 loss 6.6708:  23%|██▎       | 282/1247 [06:30<22:32,  1.40s/it]\repoch 0 loss 6.6708:  23%|██▎       | 283/1247 [06:31<22:27,  1.40s/it]\repoch 0 loss 6.6663:  23%|██▎       | 283/1247 [06:31<22:27,  1.40s/it]\repoch 0 loss 6.6663:  23%|██▎       | 284/1247 [06:32<22:25,  1.40s/it]\repoch 0 loss 6.6656:  23%|██▎       | 284/1247 [06:33<22:25,  1.40s/it]\repoch 0 loss 6.6656:  23%|██▎       | 285/1247 [06:34<22:29,  1.40s/it]\repoch 0 loss 6.6616:  23%|██▎       | 285/1247 [06:34<22:29,  1.40s/it]\repoch 0 loss 6.6616:  23%|██▎       | 286/1247 [06:35<22:26,  1.40s/it]\repoch 0 loss 6.6593:  23%|██▎       | 286/1247 [06:36<22:26,  1.40s/it]\repoch 0 loss 6.6593:  23%|██▎       | 287/1247 [06:37<22:28,  1.40s/it]\repoch 0 loss 6.6565:  23%|██▎       | 287/1247 [06:37<22:28,  1.40s/it]\repoch 0 loss 6.6565:  23%|██▎       | 288/1247 [06:38<22:30,  1.41s/it]\repoch 0 loss 6.6522:  23%|██▎       | 288/1247 [06:39<22:30,  1.41s/it]\repoch 0 loss 6.6522:  23%|██▎       | 289/1247 [06:39<22:24,  1.40s/it]\repoch 0 loss 6.6492:  23%|██▎       | 289/1247 [06:40<22:24,  1.40s/it]\repoch 0 loss 6.6492:  23%|██▎       | 290/1247 [06:41<22:20,  1.40s/it]\repoch 0 loss 6.6459:  23%|██▎       | 290/1247 [06:41<22:20,  1.40s/it]\repoch 0 loss 6.6459:  23%|██▎       | 291/1247 [06:42<22:19,  1.40s/it]\repoch 0 loss 6.6423:  23%|██▎       | 291/1247 [06:43<22:19,  1.40s/it]\repoch 0 loss 6.6423:  23%|██▎       | 292/1247 [06:44<22:14,  1.40s/it]\repoch 0 loss 6.64:  23%|██▎       | 292/1247 [06:44<22:14,  1.40s/it]  \repoch 0 loss 6.64:  23%|██▎       | 293/1247 [06:45<22:15,  1.40s/it]\repoch 0 loss 6.6359:  23%|██▎       | 293/1247 [06:46<22:15,  1.40s/it]\repoch 0 loss 6.6359:  24%|██▎       | 294/1247 [06:46<22:17,  1.40s/it]\repoch 0 loss 6.6318:  24%|██▎       | 294/1247 [06:47<22:17,  1.40s/it]\repoch 0 loss 6.6318:  24%|██▎       | 295/1247 [06:48<22:12,  1.40s/it]\repoch 0 loss 6.6289:  24%|██▎       | 295/1247 [06:48<22:12,  1.40s/it]\repoch 0 loss 6.6289:  24%|██▎       | 296/1247 [06:49<22:16,  1.41s/it]\repoch 0 loss 6.6261:  24%|██▎       | 296/1247 [06:50<22:16,  1.41s/it]\repoch 0 loss 6.6261:  24%|██▍       | 297/1247 [06:51<22:15,  1.41s/it]\repoch 0 loss 6.6219:  24%|██▍       | 297/1247 [06:51<22:15,  1.41s/it]\repoch 0 loss 6.6219:  24%|██▍       | 298/1247 [06:52<22:09,  1.40s/it]\repoch 0 loss 6.6175:  24%|██▍       | 298/1247 [06:53<22:09,  1.40s/it]\repoch 0 loss 6.6175:  24%|██▍       | 299/1247 [06:53<22:10,  1.40s/it]\repoch 0 loss 6.6156:  24%|██▍       | 299/1247 [06:54<22:10,  1.40s/it]\repoch 0 loss 6.6156:  24%|██▍       | 300/1247 [06:55<22:09,  1.40s/it]\repoch 0 loss 6.6121:  24%|██▍       | 300/1247 [06:55<22:09,  1.40s/it]\repoch 0 loss 6.6121:  24%|██▍       | 301/1247 [06:56<22:05,  1.40s/it]\repoch 0 loss 6.6098:  24%|██▍       | 301/1247 [06:57<22:05,  1.40s/it]\repoch 0 loss 6.6098:  24%|██▍       | 302/1247 [06:58<22:05,  1.40s/it]\repoch 0 loss 6.6069:  24%|██▍       | 302/1247 [06:58<22:05,  1.40s/it]\repoch 0 loss 6.6069:  24%|██▍       | 303/1247 [06:59<22:02,  1.40s/it]\repoch 0 loss 6.604:  24%|██▍       | 303/1247 [07:00<22:02,  1.40s/it] \repoch 0 loss 6.604:  24%|██▍       | 304/1247 [07:00<22:04,  1.40s/it]\repoch 0 loss 6.6003:  24%|██▍       | 304/1247 [07:01<22:04,  1.40s/it]\repoch 0 loss 6.6003:  24%|██▍       | 305/1247 [07:02<22:00,  1.40s/it]\repoch 0 loss 6.5973:  24%|██▍       | 305/1247 [07:02<22:00,  1.40s/it]\repoch 0 loss 6.5973:  25%|██▍       | 306/1247 [07:03<22:00,  1.40s/it]\repoch 0 loss 6.5933:  25%|██▍       | 306/1247 [07:04<22:00,  1.40s/it]\repoch 0 loss 6.5933:  25%|██▍       | 307/1247 [07:05<21:57,  1.40s/it]\repoch 0 loss 6.5898:  25%|██▍       | 307/1247 [07:05<21:57,  1.40s/it]\repoch 0 loss 6.5898:  25%|██▍       | 308/1247 [07:06<21:55,  1.40s/it]\repoch 0 loss 6.588:  25%|██▍       | 308/1247 [07:07<21:55,  1.40s/it] \repoch 0 loss 6.588:  25%|██▍       | 309/1247 [07:07<21:54,  1.40s/it]\repoch 0 loss 6.5835:  25%|██▍       | 309/1247 [07:08<21:54,  1.40s/it]\repoch 0 loss 6.5835:  25%|██▍       | 310/1247 [07:09<21:56,  1.41s/it]\repoch 0 loss 6.5805:  25%|██▍       | 310/1247 [07:09<21:56,  1.41s/it]\repoch 0 loss 6.5805:  25%|██▍       | 311/1247 [07:10<21:51,  1.40s/it]\repoch 0 loss 6.5777:  25%|██▍       | 311/1247 [07:11<21:51,  1.40s/it]\repoch 0 loss 6.5777:  25%|██▌       | 312/1247 [07:12<21:48,  1.40s/it]\repoch 0 loss 6.5756:  25%|██▌       | 312/1247 [07:12<21:48,  1.40s/it]\repoch 0 loss 6.5756:  25%|██▌       | 313/1247 [07:13<21:49,  1.40s/it]\repoch 0 loss 6.5732:  25%|██▌       | 313/1247 [07:14<21:49,  1.40s/it]\repoch 0 loss 6.5732:  25%|██▌       | 314/1247 [07:14<21:49,  1.40s/it]\repoch 0 loss 6.571:  25%|██▌       | 314/1247 [07:15<21:49,  1.40s/it] \repoch 0 loss 6.571:  25%|██▌       | 315/1247 [07:16<21:50,  1.41s/it]\repoch 0 loss 6.5681:  25%|██▌       | 315/1247 [07:16<21:50,  1.41s/it]\repoch 0 loss 6.5681:  25%|██▌       | 316/1247 [07:17<21:47,  1.40s/it]\repoch 0 loss 6.5645:  25%|██▌       | 316/1247 [07:18<21:47,  1.40s/it]\repoch 0 loss 6.5645:  25%|██▌       | 317/1247 [07:19<21:47,  1.41s/it]\repoch 0 loss 6.5602:  25%|██▌       | 317/1247 [07:19<21:47,  1.41s/it]\repoch 0 loss 6.5602:  26%|██▌       | 318/1247 [07:20<21:44,  1.40s/it]\repoch 0 loss 6.5566:  26%|██▌       | 318/1247 [07:21<21:44,  1.40s/it]\repoch 0 loss 6.5566:  26%|██▌       | 319/1247 [07:21<21:39,  1.40s/it]\repoch 0 loss 6.5534:  26%|██▌       | 319/1247 [07:22<21:39,  1.40s/it]\repoch 0 loss 6.5534:  26%|██▌       | 320/1247 [07:23<21:39,  1.40s/it]\repoch 0 loss 6.5509:  26%|██▌       | 320/1247 [07:23<21:39,  1.40s/it]\repoch 0 loss 6.5509:  26%|██▌       | 321/1247 [07:24<21:38,  1.40s/it]\repoch 0 loss 6.549:  26%|██▌       | 321/1247 [07:25<21:38,  1.40s/it] \repoch 0 loss 6.549:  26%|██▌       | 322/1247 [07:26<21:39,  1.40s/it]\repoch 0 loss 6.5459:  26%|██▌       | 322/1247 [07:26<21:39,  1.40s/it]\repoch 0 loss 6.5459:  26%|██▌       | 323/1247 [07:27<21:35,  1.40s/it]\repoch 0 loss 6.544:  26%|██▌       | 323/1247 [07:28<21:35,  1.40s/it] \repoch 0 loss 6.544:  26%|██▌       | 324/1247 [07:28<21:35,  1.40s/it]\repoch 0 loss 6.5418:  26%|██▌       | 324/1247 [07:29<21:35,  1.40s/it]\repoch 0 loss 6.5418:  26%|██▌       | 325/1247 [07:30<21:42,  1.41s/it]\repoch 0 loss 6.5387:  26%|██▌       | 325/1247 [07:30<21:42,  1.41s/it]\repoch 0 loss 6.5387:  26%|██▌       | 326/1247 [07:31<21:35,  1.41s/it]\repoch 0 loss 6.5351:  26%|██▌       | 326/1247 [07:32<21:35,  1.41s/it]\repoch 0 loss 6.5351:  26%|██▌       | 327/1247 [07:33<21:32,  1.40s/it]\repoch 0 loss 6.5317:  26%|██▌       | 327/1247 [07:33<21:32,  1.40s/it]\repoch 0 loss 6.5317:  26%|██▋       | 328/1247 [07:34<21:32,  1.41s/it]\repoch 0 loss 6.5286:  26%|██▋       | 328/1247 [07:35<21:32,  1.41s/it]\repoch 0 loss 6.5286:  26%|██▋       | 329/1247 [07:36<21:33,  1.41s/it]\repoch 0 loss 6.5276:  26%|██▋       | 329/1247 [07:36<21:33,  1.41s/it]\repoch 0 loss 6.5276:  26%|██▋       | 330/1247 [07:37<21:32,  1.41s/it]\repoch 0 loss 6.5237:  26%|██▋       | 330/1247 [07:37<21:32,  1.41s/it]\repoch 0 loss 6.5237:  27%|██▋       | 331/1247 [07:38<21:32,  1.41s/it]\repoch 0 loss 6.5204:  27%|██▋       | 331/1247 [07:39<21:32,  1.41s/it]\repoch 0 loss 6.5204:  27%|██▋       | 332/1247 [07:40<21:30,  1.41s/it]\repoch 0 loss 6.5175:  27%|██▋       | 332/1247 [07:40<21:30,  1.41s/it]\repoch 0 loss 6.5175:  27%|██▋       | 333/1247 [07:41<21:29,  1.41s/it]\repoch 0 loss 6.5145:  27%|██▋       | 333/1247 [07:42<21:29,  1.41s/it]\repoch 0 loss 6.5145:  27%|██▋       | 334/1247 [07:43<21:26,  1.41s/it]\repoch 0 loss 6.5124:  27%|██▋       | 334/1247 [07:43<21:26,  1.41s/it]\repoch 0 loss 6.5124:  27%|██▋       | 335/1247 [07:44<21:26,  1.41s/it]\repoch 0 loss 6.5105:  27%|██▋       | 335/1247 [07:45<21:26,  1.41s/it]\repoch 0 loss 6.5105:  27%|██▋       | 336/1247 [07:45<21:23,  1.41s/it]\repoch 0 loss 6.5075:  27%|██▋       | 336/1247 [07:46<21:23,  1.41s/it]\repoch 0 loss 6.5075:  27%|██▋       | 337/1247 [07:47<21:18,  1.41s/it]\repoch 0 loss 6.506:  27%|██▋       | 337/1247 [07:47<21:18,  1.41s/it] \repoch 0 loss 6.506:  27%|██▋       | 338/1247 [07:48<21:17,  1.41s/it]\repoch 0 loss 6.5037:  27%|██▋       | 338/1247 [07:49<21:17,  1.41s/it]\repoch 0 loss 6.5037:  27%|██▋       | 339/1247 [07:50<21:17,  1.41s/it]\repoch 0 loss 6.5011:  27%|██▋       | 339/1247 [07:50<21:17,  1.41s/it]\repoch 0 loss 6.5011:  27%|██▋       | 340/1247 [07:51<21:15,  1.41s/it]\repoch 0 loss 6.4996:  27%|██▋       | 340/1247 [07:52<21:15,  1.41s/it]\repoch 0 loss 6.4996:  27%|██▋       | 341/1247 [07:52<21:10,  1.40s/it]\repoch 0 loss 6.4972:  27%|██▋       | 341/1247 [07:53<21:10,  1.40s/it]\repoch 0 loss 6.4972:  27%|██▋       | 342/1247 [07:54<21:09,  1.40s/it]\repoch 0 loss 6.4944:  27%|██▋       | 342/1247 [07:54<21:09,  1.40s/it]\repoch 0 loss 6.4944:  28%|██▊       | 343/1247 [07:55<21:07,  1.40s/it]\repoch 0 loss 6.492:  28%|██▊       | 343/1247 [07:56<21:07,  1.40s/it] \repoch 0 loss 6.492:  28%|██▊       | 344/1247 [07:57<21:08,  1.40s/it]\repoch 0 loss 6.49:  28%|██▊       | 344/1247 [07:57<21:08,  1.40s/it] \repoch 0 loss 6.49:  28%|██▊       | 345/1247 [07:58<21:07,  1.41s/it]\repoch 0 loss 6.4876:  28%|██▊       | 345/1247 [07:59<21:07,  1.41s/it]\repoch 0 loss 6.4876:  28%|██▊       | 346/1247 [07:59<21:07,  1.41s/it]\repoch 0 loss 6.4848:  28%|██▊       | 346/1247 [08:00<21:07,  1.41s/it]\repoch 0 loss 6.4848:  28%|██▊       | 347/1247 [08:01<21:08,  1.41s/it]\repoch 0 loss 6.4823:  28%|██▊       | 347/1247 [08:01<21:08,  1.41s/it]\repoch 0 loss 6.4823:  28%|██▊       | 348/1247 [08:02<21:06,  1.41s/it]\repoch 0 loss 6.4791:  28%|██▊       | 348/1247 [08:03<21:06,  1.41s/it]\repoch 0 loss 6.4791:  28%|██▊       | 349/1247 [08:04<21:03,  1.41s/it]\repoch 0 loss 6.4766:  28%|██▊       | 349/1247 [08:04<21:03,  1.41s/it]\repoch 0 loss 6.4766:  28%|██▊       | 350/1247 [08:05<20:57,  1.40s/it]\repoch 0 loss 6.4747:  28%|██▊       | 350/1247 [08:06<20:57,  1.40s/it]\repoch 0 loss 6.4747:  28%|██▊       | 351/1247 [08:06<20:58,  1.40s/it]\repoch 0 loss 6.4708:  28%|██▊       | 351/1247 [08:07<20:58,  1.40s/it]\repoch 0 loss 6.4708:  28%|██▊       | 352/1247 [08:08<20:57,  1.40s/it]\repoch 0 loss 6.4687:  28%|██▊       | 352/1247 [08:08<20:57,  1.40s/it]\repoch 0 loss 6.4687:  28%|██▊       | 353/1247 [08:09<20:56,  1.41s/it]\repoch 0 loss 6.4658:  28%|██▊       | 353/1247 [08:10<20:56,  1.41s/it]\repoch 0 loss 6.4658:  28%|██▊       | 354/1247 [08:11<20:57,  1.41s/it]\repoch 0 loss 6.4627:  28%|██▊       | 354/1247 [08:11<20:57,  1.41s/it]\repoch 0 loss 6.4627:  28%|██▊       | 355/1247 [08:12<20:57,  1.41s/it]\repoch 0 loss 6.4606:  28%|██▊       | 355/1247 [08:13<20:57,  1.41s/it]\repoch 0 loss 6.4606:  29%|██▊       | 356/1247 [08:14<20:53,  1.41s/it]\repoch 0 loss 6.4581:  29%|██▊       | 356/1247 [08:14<20:53,  1.41s/it]\repoch 0 loss 6.4581:  29%|██▊       | 357/1247 [08:15<20:52,  1.41s/it]\repoch 0 loss 6.4562:  29%|██▊       | 357/1247 [08:15<20:52,  1.41s/it]\repoch 0 loss 6.4562:  29%|██▊       | 358/1247 [08:16<20:51,  1.41s/it]\repoch 0 loss 6.4531:  29%|██▊       | 358/1247 [08:17<20:51,  1.41s/it]\repoch 0 loss 6.4531:  29%|██▉       | 359/1247 [08:18<20:48,  1.41s/it]\repoch 0 loss 6.4508:  29%|██▉       | 359/1247 [08:18<20:48,  1.41s/it]\repoch 0 loss 6.4508:  29%|██▉       | 360/1247 [08:19<20:50,  1.41s/it]\repoch 0 loss 6.4483:  29%|██▉       | 360/1247 [08:20<20:50,  1.41s/it]\repoch 0 loss 6.4483:  29%|██▉       | 361/1247 [08:21<20:48,  1.41s/it]\repoch 0 loss 6.4462:  29%|██▉       | 361/1247 [08:21<20:48,  1.41s/it]\repoch 0 loss 6.4462:  29%|██▉       | 362/1247 [08:22<20:49,  1.41s/it]\repoch 0 loss 6.4437:  29%|██▉       | 362/1247 [08:22<20:49,  1.41s/it]\repoch 0 loss 6.4437:  29%|██▉       | 363/1247 [08:23<20:48,  1.41s/it]\repoch 0 loss 6.4424:  29%|██▉       | 363/1247 [08:24<20:48,  1.41s/it]\repoch 0 loss 6.4424:  29%|██▉       | 364/1247 [08:25<20:44,  1.41s/it]\repoch 0 loss 6.4403:  29%|██▉       | 364/1247 [08:25<20:44,  1.41s/it]\repoch 0 loss 6.4403:  29%|██▉       | 365/1247 [08:26<20:45,  1.41s/it]\repoch 0 loss 6.4367:  29%|██▉       | 365/1247 [08:27<20:45,  1.41s/it]\repoch 0 loss 6.4367:  29%|██▉       | 366/1247 [08:28<20:40,  1.41s/it]\repoch 0 loss 6.4345:  29%|██▉       | 366/1247 [08:28<20:40,  1.41s/it]\repoch 0 loss 6.4345:  29%|██▉       | 367/1247 [08:29<20:40,  1.41s/it]\repoch 0 loss 6.4318:  29%|██▉       | 367/1247 [08:30<20:40,  1.41s/it]\repoch 0 loss 6.4318:  30%|██▉       | 368/1247 [08:30<20:37,  1.41s/it]\repoch 0 loss 6.43:  30%|██▉       | 368/1247 [08:31<20:37,  1.41s/it]  \repoch 0 loss 6.43:  30%|██▉       | 369/1247 [08:32<20:38,  1.41s/it]\repoch 0 loss 6.4272:  30%|██▉       | 369/1247 [08:32<20:38,  1.41s/it]\repoch 0 loss 6.4272:  30%|██▉       | 370/1247 [08:33<20:38,  1.41s/it]\repoch 0 loss 6.425:  30%|██▉       | 370/1247 [08:34<20:38,  1.41s/it] \repoch 0 loss 6.425:  30%|██▉       | 371/1247 [08:35<20:36,  1.41s/it]\repoch 0 loss 6.4233:  30%|██▉       | 371/1247 [08:35<20:36,  1.41s/it]\repoch 0 loss 6.4233:  30%|██▉       | 372/1247 [08:36<20:35,  1.41s/it]\repoch 0 loss 6.4203:  30%|██▉       | 372/1247 [08:37<20:35,  1.41s/it]\repoch 0 loss 6.4203:  30%|██▉       | 373/1247 [08:37<20:32,  1.41s/it]\repoch 0 loss 6.4189:  30%|██▉       | 373/1247 [08:38<20:32,  1.41s/it]\repoch 0 loss 6.4189:  30%|██▉       | 374/1247 [08:39<20:33,  1.41s/it]\repoch 0 loss 6.417:  30%|██▉       | 374/1247 [08:39<20:33,  1.41s/it] \repoch 0 loss 6.417:  30%|███       | 375/1247 [08:40<20:33,  1.41s/it]\repoch 0 loss 6.4151:  30%|███       | 375/1247 [08:41<20:33,  1.41s/it]\repoch 0 loss 6.4151:  30%|███       | 376/1247 [08:42<20:30,  1.41s/it]\repoch 0 loss 6.4121:  30%|███       | 376/1247 [08:42<20:30,  1.41s/it]\repoch 0 loss 6.4121:  30%|███       | 377/1247 [08:43<20:26,  1.41s/it]\repoch 0 loss 6.4102:  30%|███       | 377/1247 [08:44<20:26,  1.41s/it]\repoch 0 loss 6.4102:  30%|███       | 378/1247 [08:45<20:24,  1.41s/it]\repoch 0 loss 6.4077:  30%|███       | 378/1247 [08:45<20:24,  1.41s/it]\repoch 0 loss 6.4077:  30%|███       | 379/1247 [08:46<20:24,  1.41s/it]\repoch 0 loss 6.4053:  30%|███       | 379/1247 [08:46<20:24,  1.41s/it]\repoch 0 loss 6.4053:  30%|███       | 380/1247 [08:47<20:21,  1.41s/it]\repoch 0 loss 6.4033:  30%|███       | 380/1247 [08:48<20:21,  1.41s/it]\repoch 0 loss 6.4033:  31%|███       | 381/1247 [08:49<20:24,  1.41s/it]\repoch 0 loss 6.4:  31%|███       | 381/1247 [08:49<20:24,  1.41s/it]   \repoch 0 loss 6.4:  31%|███       | 382/1247 [08:50<20:19,  1.41s/it]\repoch 0 loss 6.3971:  31%|███       | 382/1247 [08:51<20:19,  1.41s/it]\repoch 0 loss 6.3971:  31%|███       | 383/1247 [08:52<20:16,  1.41s/it]\repoch 0 loss 6.3947:  31%|███       | 383/1247 [08:52<20:16,  1.41s/it]\repoch 0 loss 6.3947:  31%|███       | 384/1247 [08:53<20:15,  1.41s/it]\repoch 0 loss 6.3919:  31%|███       | 384/1247 [08:54<20:15,  1.41s/it]\repoch 0 loss 6.3919:  31%|███       | 385/1247 [08:54<20:13,  1.41s/it]\repoch 0 loss 6.3903:  31%|███       | 385/1247 [08:55<20:13,  1.41s/it]\repoch 0 loss 6.3903:  31%|███       | 386/1247 [08:56<20:12,  1.41s/it]\repoch 0 loss 6.3876:  31%|███       | 386/1247 [08:56<20:12,  1.41s/it]\repoch 0 loss 6.3876:  31%|███       | 387/1247 [08:57<20:10,  1.41s/it]\repoch 0 loss 6.3849:  31%|███       | 387/1247 [08:58<20:10,  1.41s/it]\repoch 0 loss 6.3849:  31%|███       | 388/1247 [08:59<20:06,  1.40s/it]\repoch 0 loss 6.382:  31%|███       | 388/1247 [08:59<20:06,  1.40s/it] \repoch 0 loss 6.382:  31%|███       | 389/1247 [09:00<20:06,  1.41s/it]\repoch 0 loss 6.3786:  31%|███       | 389/1247 [09:01<20:06,  1.41s/it]\repoch 0 loss 6.3786:  31%|███▏      | 390/1247 [09:01<20:04,  1.41s/it]\repoch 0 loss 6.376:  31%|███▏      | 390/1247 [09:02<20:04,  1.41s/it] \repoch 0 loss 6.376:  31%|███▏      | 391/1247 [09:03<20:07,  1.41s/it]\repoch 0 loss 6.3732:  31%|███▏      | 391/1247 [09:03<20:07,  1.41s/it]\repoch 0 loss 6.3732:  31%|███▏      | 392/1247 [09:04<20:05,  1.41s/it]\repoch 0 loss 6.3715:  31%|███▏      | 392/1247 [09:05<20:05,  1.41s/it]\repoch 0 loss 6.3715:  32%|███▏      | 393/1247 [09:06<20:06,  1.41s/it]\repoch 0 loss 6.3702:  32%|███▏      | 393/1247 [09:06<20:06,  1.41s/it]\repoch 0 loss 6.3702:  32%|███▏      | 394/1247 [09:07<20:05,  1.41s/it]\repoch 0 loss 6.3681:  32%|███▏      | 394/1247 [09:08<20:05,  1.41s/it]\repoch 0 loss 6.3681:  32%|███▏      | 395/1247 [09:08<20:00,  1.41s/it]\repoch 0 loss 6.3671:  32%|███▏      | 395/1247 [09:09<20:00,  1.41s/it]\repoch 0 loss 6.3671:  32%|███▏      | 396/1247 [09:10<19:58,  1.41s/it]\repoch 0 loss 6.365:  32%|███▏      | 396/1247 [09:10<19:58,  1.41s/it] \repoch 0 loss 6.365:  32%|███▏      | 397/1247 [09:11<19:56,  1.41s/it]\repoch 0 loss 6.3628:  32%|███▏      | 397/1247 [09:12<19:56,  1.41s/it]\repoch 0 loss 6.3628:  32%|███▏      | 398/1247 [09:13<19:51,  1.40s/it]\repoch 0 loss 6.3607:  32%|███▏      | 398/1247 [09:13<19:51,  1.40s/it]\repoch 0 loss 6.3607:  32%|███▏      | 399/1247 [09:14<19:53,  1.41s/it]\repoch 0 loss 6.3581:  32%|███▏      | 399/1247 [09:15<19:53,  1.41s/it]\repoch 0 loss 6.3581:  32%|███▏      | 400/1247 [09:16<19:55,  1.41s/it]\repoch 0 loss 6.3557:  32%|███▏      | 400/1247 [09:16<19:55,  1.41s/it]\repoch 0 loss 6.3557:  32%|███▏      | 401/1247 [09:17<19:49,  1.41s/it]\repoch 0 loss 6.3545:  32%|███▏      | 401/1247 [09:17<19:49,  1.41s/it]\repoch 0 loss 6.3545:  32%|███▏      | 402/1247 [09:18<19:48,  1.41s/it]\repoch 0 loss 6.353:  32%|███▏      | 402/1247 [09:19<19:48,  1.41s/it] \repoch 0 loss 6.353:  32%|███▏      | 403/1247 [09:20<19:48,  1.41s/it]\repoch 0 loss 6.3506:  32%|███▏      | 403/1247 [09:20<19:48,  1.41s/it]\repoch 0 loss 6.3506:  32%|███▏      | 404/1247 [09:21<19:44,  1.41s/it]\repoch 0 loss 6.3476:  32%|███▏      | 404/1247 [09:22<19:44,  1.41s/it]\repoch 0 loss 6.3476:  32%|███▏      | 405/1247 [09:23<19:45,  1.41s/it]\repoch 0 loss 6.3447:  32%|███▏      | 405/1247 [09:23<19:45,  1.41s/it]\repoch 0 loss 6.3447:  33%|███▎      | 406/1247 [09:24<19:49,  1.41s/it]\repoch 0 loss 6.3432:  33%|███▎      | 406/1247 [09:25<19:49,  1.41s/it]\repoch 0 loss 6.3432:  33%|███▎      | 407/1247 [09:25<19:42,  1.41s/it]\repoch 0 loss 6.3409:  33%|███▎      | 407/1247 [09:26<19:42,  1.41s/it]\repoch 0 loss 6.3409:  33%|███▎      | 408/1247 [09:27<19:40,  1.41s/it]\repoch 0 loss 6.3378:  33%|███▎      | 408/1247 [09:27<19:40,  1.41s/it]\repoch 0 loss 6.3378:  33%|███▎      | 409/1247 [09:28<19:39,  1.41s/it]\repoch 0 loss 6.3357:  33%|███▎      | 409/1247 [09:29<19:39,  1.41s/it]\repoch 0 loss 6.3357:  33%|███▎      | 410/1247 [09:30<19:37,  1.41s/it]\repoch 0 loss 6.334:  33%|███▎      | 410/1247 [09:30<19:37,  1.41s/it] \repoch 0 loss 6.334:  33%|███▎      | 411/1247 [09:31<19:34,  1.41s/it]\repoch 0 loss 6.3314:  33%|███▎      | 411/1247 [09:32<19:34,  1.41s/it]\repoch 0 loss 6.3314:  33%|███▎      | 412/1247 [09:32<19:30,  1.40s/it]\repoch 0 loss 6.33:  33%|███▎      | 412/1247 [09:33<19:30,  1.40s/it]  \repoch 0 loss 6.33:  33%|███▎      | 413/1247 [09:34<19:32,  1.41s/it]\repoch 0 loss 6.3277:  33%|███▎      | 413/1247 [09:34<19:32,  1.41s/it]\repoch 0 loss 6.3277:  33%|███▎      | 414/1247 [09:35<19:29,  1.40s/it]\repoch 0 loss 6.3255:  33%|███▎      | 414/1247 [09:36<19:29,  1.40s/it]\repoch 0 loss 6.3255:  33%|███▎      | 415/1247 [09:37<19:24,  1.40s/it]\repoch 0 loss 6.3235:  33%|███▎      | 415/1247 [09:37<19:24,  1.40s/it]\repoch 0 loss 6.3235:  33%|███▎      | 416/1247 [09:38<19:25,  1.40s/it]\repoch 0 loss 6.3218:  33%|███▎      | 416/1247 [09:39<19:25,  1.40s/it]\repoch 0 loss 6.3218:  33%|███▎      | 417/1247 [09:39<19:22,  1.40s/it]\repoch 0 loss 6.3189:  33%|███▎      | 417/1247 [09:40<19:22,  1.40s/it]\repoch 0 loss 6.3189:  34%|███▎      | 418/1247 [09:41<19:21,  1.40s/it]\repoch 0 loss 6.3168:  34%|███▎      | 418/1247 [09:41<19:21,  1.40s/it]\repoch 0 loss 6.3168:  34%|███▎      | 419/1247 [09:42<19:18,  1.40s/it]\repoch 0 loss 6.3143:  34%|███▎      | 419/1247 [09:43<19:18,  1.40s/it]\repoch 0 loss 6.3143:  34%|███▎      | 420/1247 [09:44<19:14,  1.40s/it]\repoch 0 loss 6.3131:  34%|███▎      | 420/1247 [09:44<19:14,  1.40s/it]\repoch 0 loss 6.3131:  34%|███▍      | 421/1247 [09:45<19:13,  1.40s/it]\repoch 0 loss 6.3125:  34%|███▍      | 421/1247 [09:46<19:13,  1.40s/it]\repoch 0 loss 6.3125:  34%|███▍      | 422/1247 [09:46<19:11,  1.40s/it]\repoch 0 loss 6.3108:  34%|███▍      | 422/1247 [09:47<19:11,  1.40s/it]\repoch 0 loss 6.3108:  34%|███▍      | 423/1247 [09:48<19:10,  1.40s/it]\repoch 0 loss 6.3086:  34%|███▍      | 423/1247 [09:48<19:10,  1.40s/it]\repoch 0 loss 6.3086:  34%|███▍      | 424/1247 [09:49<19:10,  1.40s/it]\repoch 0 loss 6.3066:  34%|███▍      | 424/1247 [09:50<19:10,  1.40s/it]\repoch 0 loss 6.3066:  34%|███▍      | 425/1247 [09:51<19:10,  1.40s/it]\repoch 0 loss 6.3041:  34%|███▍      | 425/1247 [09:51<19:10,  1.40s/it]\repoch 0 loss 6.3041:  34%|███▍      | 426/1247 [09:52<19:09,  1.40s/it]\repoch 0 loss 6.3033:  34%|███▍      | 426/1247 [09:53<19:09,  1.40s/it]\repoch 0 loss 6.3033:  34%|███▍      | 427/1247 [09:53<19:06,  1.40s/it]\repoch 0 loss 6.302:  34%|███▍      | 427/1247 [09:54<19:06,  1.40s/it] \repoch 0 loss 6.302:  34%|███▍      | 428/1247 [09:55<19:04,  1.40s/it]\repoch 0 loss 6.2998:  34%|███▍      | 428/1247 [09:55<19:04,  1.40s/it]\repoch 0 loss 6.2998:  34%|███▍      | 429/1247 [09:56<19:02,  1.40s/it]\repoch 0 loss 6.2973:  34%|███▍      | 429/1247 [09:57<19:02,  1.40s/it]\repoch 0 loss 6.2973:  34%|███▍      | 430/1247 [09:58<19:05,  1.40s/it]\repoch 0 loss 6.2954:  34%|███▍      | 430/1247 [09:58<19:05,  1.40s/it]\repoch 0 loss 6.2954:  35%|███▍      | 431/1247 [09:59<19:04,  1.40s/it]\repoch 0 loss 6.2933:  35%|███▍      | 431/1247 [10:00<19:04,  1.40s/it]\repoch 0 loss 6.2933:  35%|███▍      | 432/1247 [10:00<19:02,  1.40s/it]\repoch 0 loss 6.2908:  35%|███▍      | 432/1247 [10:01<19:02,  1.40s/it]\repoch 0 loss 6.2908:  35%|███▍      | 433/1247 [10:02<19:01,  1.40s/it]\repoch 0 loss 6.2894:  35%|███▍      | 433/1247 [10:02<19:01,  1.40s/it]\repoch 0 loss 6.2894:  35%|███▍      | 434/1247 [10:03<19:02,  1.41s/it]\repoch 0 loss 6.2881:  35%|███▍      | 434/1247 [10:04<19:02,  1.41s/it]\repoch 0 loss 6.2881:  35%|███▍      | 435/1247 [10:05<19:05,  1.41s/it]\repoch 0 loss 6.2869:  35%|███▍      | 435/1247 [10:05<19:05,  1.41s/it]\repoch 0 loss 6.2869:  35%|███▍      | 436/1247 [10:06<19:04,  1.41s/it]\repoch 0 loss 6.2856:  35%|███▍      | 436/1247 [10:07<19:04,  1.41s/it]\repoch 0 loss 6.2856:  35%|███▌      | 437/1247 [10:07<19:01,  1.41s/it]\repoch 0 loss 6.2839:  35%|███▌      | 437/1247 [10:08<19:01,  1.41s/it]\repoch 0 loss 6.2839:  35%|███▌      | 438/1247 [10:09<19:01,  1.41s/it]\repoch 0 loss 6.2827:  35%|███▌      | 438/1247 [10:09<19:01,  1.41s/it]\repoch 0 loss 6.2827:  35%|███▌      | 439/1247 [10:10<18:56,  1.41s/it]\repoch 0 loss 6.2803:  35%|███▌      | 439/1247 [10:11<18:56,  1.41s/it]\repoch 0 loss 6.2803:  35%|███▌      | 440/1247 [10:12<18:54,  1.41s/it]\repoch 0 loss 6.2786:  35%|███▌      | 440/1247 [10:12<18:54,  1.41s/it]\repoch 0 loss 6.2786:  35%|███▌      | 441/1247 [10:13<18:53,  1.41s/it]\repoch 0 loss 6.2774:  35%|███▌      | 441/1247 [10:14<18:53,  1.41s/it]\repoch 0 loss 6.2774:  35%|███▌      | 442/1247 [10:14<18:50,  1.40s/it]\repoch 0 loss 6.2752:  35%|███▌      | 442/1247 [10:15<18:50,  1.40s/it]\repoch 0 loss 6.2752:  36%|███▌      | 443/1247 [10:16<18:48,  1.40s/it]\repoch 0 loss 6.2736:  36%|███▌      | 443/1247 [10:16<18:48,  1.40s/it]\repoch 0 loss 6.2736:  36%|███▌      | 444/1247 [10:17<18:48,  1.41s/it]\repoch 0 loss 6.2717:  36%|███▌      | 444/1247 [10:18<18:48,  1.41s/it]\repoch 0 loss 6.2717:  36%|███▌      | 445/1247 [10:19<18:46,  1.41s/it]\repoch 0 loss 6.2694:  36%|███▌      | 445/1247 [10:19<18:46,  1.41s/it]\repoch 0 loss 6.2694:  36%|███▌      | 446/1247 [10:20<18:45,  1.40s/it]\repoch 0 loss 6.2667:  36%|███▌      | 446/1247 [10:21<18:45,  1.40s/it]\repoch 0 loss 6.2667:  36%|███▌      | 447/1247 [10:22<18:47,  1.41s/it]\repoch 0 loss 6.265:  36%|███▌      | 447/1247 [10:22<18:47,  1.41s/it] \repoch 0 loss 6.265:  36%|███▌      | 448/1247 [10:23<18:44,  1.41s/it]\repoch 0 loss 6.2636:  36%|███▌      | 448/1247 [10:23<18:44,  1.41s/it]\repoch 0 loss 6.2636:  36%|███▌      | 449/1247 [10:24<18:41,  1.41s/it]\repoch 0 loss 6.2617:  36%|███▌      | 449/1247 [10:25<18:41,  1.41s/it]\repoch 0 loss 6.2617:  36%|███▌      | 450/1247 [10:26<18:38,  1.40s/it]\repoch 0 loss 6.2594:  36%|███▌      | 450/1247 [10:26<18:38,  1.40s/it]\repoch 0 loss 6.2594:  36%|███▌      | 451/1247 [10:27<18:38,  1.40s/it]\repoch 0 loss 6.2573:  36%|███▌      | 451/1247 [10:28<18:38,  1.40s/it]\repoch 0 loss 6.2573:  36%|███▌      | 452/1247 [10:29<18:35,  1.40s/it]\repoch 0 loss 6.2562:  36%|███▌      | 452/1247 [10:29<18:35,  1.40s/it]\repoch 0 loss 6.2562:  36%|███▋      | 453/1247 [10:30<18:33,  1.40s/it]\repoch 0 loss 6.2544:  36%|███▋      | 453/1247 [10:30<18:33,  1.40s/it]\repoch 0 loss 6.2544:  36%|███▋      | 454/1247 [10:31<18:30,  1.40s/it]\repoch 0 loss 6.2531:  36%|███▋      | 454/1247 [10:32<18:30,  1.40s/it]\repoch 0 loss 6.2531:  36%|███▋      | 455/1247 [10:33<18:34,  1.41s/it]\repoch 0 loss 6.2514:  36%|███▋      | 455/1247 [10:33<18:34,  1.41s/it]\repoch 0 loss 6.2514:  37%|███▋      | 456/1247 [10:34<18:35,  1.41s/it]\repoch 0 loss 6.2496:  37%|███▋      | 456/1247 [10:35<18:35,  1.41s/it]\repoch 0 loss 6.2496:  37%|███▋      | 457/1247 [10:36<18:39,  1.42s/it]\repoch 0 loss 6.2477:  37%|███▋      | 457/1247 [10:36<18:39,  1.42s/it]\repoch 0 loss 6.2477:  37%|███▋      | 458/1247 [10:37<18:32,  1.41s/it]\repoch 0 loss 6.246:  37%|███▋      | 458/1247 [10:38<18:32,  1.41s/it] \repoch 0 loss 6.246:  37%|███▋      | 459/1247 [10:38<18:33,  1.41s/it]\repoch 0 loss 6.2441:  37%|███▋      | 459/1247 [10:39<18:33,  1.41s/it]\repoch 0 loss 6.2441:  37%|███▋      | 460/1247 [10:40<18:33,  1.42s/it]\repoch 0 loss 6.242:  37%|███▋      | 460/1247 [10:40<18:33,  1.42s/it] \repoch 0 loss 6.242:  37%|███▋      | 461/1247 [10:41<18:28,  1.41s/it]\repoch 0 loss 6.2401:  37%|███▋      | 461/1247 [10:42<18:28,  1.41s/it]\repoch 0 loss 6.2401:  37%|███▋      | 462/1247 [10:43<18:29,  1.41s/it]\repoch 0 loss 6.2379:  37%|███▋      | 462/1247 [10:43<18:29,  1.41s/it]\repoch 0 loss 6.2379:  37%|███▋      | 463/1247 [10:44<18:26,  1.41s/it]\repoch 0 loss 6.237:  37%|███▋      | 463/1247 [10:45<18:26,  1.41s/it] \repoch 0 loss 6.237:  37%|███▋      | 464/1247 [10:45<18:23,  1.41s/it]\repoch 0 loss 6.2351:  37%|███▋      | 464/1247 [10:46<18:23,  1.41s/it]\repoch 0 loss 6.2351:  37%|███▋      | 465/1247 [10:47<18:21,  1.41s/it]\repoch 0 loss 6.2327:  37%|███▋      | 465/1247 [10:47<18:21,  1.41s/it]\repoch 0 loss 6.2327:  37%|███▋      | 466/1247 [10:48<18:16,  1.40s/it]\repoch 0 loss 6.2314:  37%|███▋      | 466/1247 [10:49<18:16,  1.40s/it]\repoch 0 loss 6.2314:  37%|███▋      | 467/1247 [10:50<18:14,  1.40s/it]\repoch 0 loss 6.2296:  37%|███▋      | 467/1247 [10:50<18:14,  1.40s/it]\repoch 0 loss 6.2296:  38%|███▊      | 468/1247 [10:51<18:16,  1.41s/it]\repoch 0 loss 6.2277:  38%|███▊      | 468/1247 [10:52<18:16,  1.41s/it]\repoch 0 loss 6.2277:  38%|███▊      | 469/1247 [10:52<18:10,  1.40s/it]\repoch 0 loss 6.2259:  38%|███▊      | 469/1247 [10:53<18:10,  1.40s/it]\repoch 0 loss 6.2259:  38%|███▊      | 470/1247 [10:54<18:10,  1.40s/it]\repoch 0 loss 6.2241:  38%|███▊      | 470/1247 [10:54<18:10,  1.40s/it]\repoch 0 loss 6.2241:  38%|███▊      | 471/1247 [10:55<18:09,  1.40s/it]\repoch 0 loss 6.2224:  38%|███▊      | 471/1247 [10:56<18:09,  1.40s/it]\repoch 0 loss 6.2224:  38%|███▊      | 472/1247 [10:57<18:09,  1.41s/it]\repoch 0 loss 6.2212:  38%|███▊      | 472/1247 [10:57<18:09,  1.41s/it]\repoch 0 loss 6.2212:  38%|███▊      | 473/1247 [10:58<18:11,  1.41s/it]\repoch 0 loss 6.2188:  38%|███▊      | 473/1247 [10:59<18:11,  1.41s/it]\repoch 0 loss 6.2188:  38%|███▊      | 474/1247 [11:00<18:13,  1.41s/it]\repoch 0 loss 6.2174:  38%|███▊      | 474/1247 [11:00<18:13,  1.41s/it]\repoch 0 loss 6.2174:  38%|███▊      | 475/1247 [11:01<18:10,  1.41s/it]\repoch 0 loss 6.2157:  38%|███▊      | 475/1247 [11:01<18:10,  1.41s/it]\repoch 0 loss 6.2157:  38%|███▊      | 476/1247 [11:02<18:11,  1.42s/it]\repoch 0 loss 6.2131:  38%|███▊      | 476/1247 [11:03<18:11,  1.42s/it]\repoch 0 loss 6.2131:  38%|███▊      | 477/1247 [11:04<18:09,  1.41s/it]\repoch 0 loss 6.2116:  38%|███▊      | 477/1247 [11:04<18:09,  1.41s/it]\repoch 0 loss 6.2116:  38%|███▊      | 478/1247 [11:05<18:08,  1.42s/it]\repoch 0 loss 6.2096:  38%|███▊      | 478/1247 [11:06<18:08,  1.42s/it]\repoch 0 loss 6.2096:  38%|███▊      | 479/1247 [11:07<18:03,  1.41s/it]\repoch 0 loss 6.2077:  38%|███▊      | 479/1247 [11:07<18:03,  1.41s/it]\repoch 0 loss 6.2077:  38%|███▊      | 480/1247 [11:08<17:59,  1.41s/it]\repoch 0 loss 6.2062:  38%|███▊      | 480/1247 [11:09<17:59,  1.41s/it]\repoch 0 loss 6.2062:  39%|███▊      | 481/1247 [11:09<17:58,  1.41s/it]\repoch 0 loss 6.2038:  39%|███▊      | 481/1247 [11:10<17:58,  1.41s/it]\repoch 0 loss 6.2038:  39%|███▊      | 482/1247 [11:11<18:00,  1.41s/it]\repoch 0 loss 6.2031:  39%|███▊      | 482/1247 [11:11<18:00,  1.41s/it]\repoch 0 loss 6.2031:  39%|███▊      | 483/1247 [11:12<17:59,  1.41s/it]\repoch 0 loss 6.202:  39%|███▊      | 483/1247 [11:13<17:59,  1.41s/it] \repoch 0 loss 6.202:  39%|███▉      | 484/1247 [11:14<17:56,  1.41s/it]\repoch 0 loss 6.2002:  39%|███▉      | 484/1247 [11:14<17:56,  1.41s/it]\repoch 0 loss 6.2002:  39%|███▉      | 485/1247 [11:15<17:51,  1.41s/it]\repoch 0 loss 6.1991:  39%|███▉      | 485/1247 [11:16<17:51,  1.41s/it]\repoch 0 loss 6.1991:  39%|███▉      | 486/1247 [11:16<17:53,  1.41s/it]\repoch 0 loss 6.1973:  39%|███▉      | 486/1247 [11:17<17:53,  1.41s/it]\repoch 0 loss 6.1973:  39%|███▉      | 487/1247 [11:18<17:51,  1.41s/it]\repoch 0 loss 6.1959:  39%|███▉      | 487/1247 [11:18<17:51,  1.41s/it]\repoch 0 loss 6.1959:  39%|███▉      | 488/1247 [11:19<17:51,  1.41s/it]\repoch 0 loss 6.1944:  39%|███▉      | 488/1247 [11:20<17:51,  1.41s/it]\repoch 0 loss 6.1944:  39%|███▉      | 489/1247 [11:21<17:46,  1.41s/it]\repoch 0 loss 6.193:  39%|███▉      | 489/1247 [11:21<17:46,  1.41s/it] \repoch 0 loss 6.193:  39%|███▉      | 490/1247 [11:22<17:47,  1.41s/it]\repoch 0 loss 6.1909:  39%|███▉      | 490/1247 [11:23<17:47,  1.41s/it]\repoch 0 loss 6.1909:  39%|███▉      | 491/1247 [11:24<17:44,  1.41s/it]\repoch 0 loss 6.1888:  39%|███▉      | 491/1247 [11:24<17:44,  1.41s/it]\repoch 0 loss 6.1888:  39%|███▉      | 492/1247 [11:25<17:43,  1.41s/it]\repoch 0 loss 6.1868:  39%|███▉      | 492/1247 [11:25<17:43,  1.41s/it]\repoch 0 loss 6.1868:  40%|███▉      | 493/1247 [11:26<17:39,  1.40s/it]\repoch 0 loss 6.1851:  40%|███▉      | 493/1247 [11:27<17:39,  1.40s/it]\repoch 0 loss 6.1851:  40%|███▉      | 494/1247 [11:28<17:35,  1.40s/it]\repoch 0 loss 6.1836:  40%|███▉      | 494/1247 [11:28<17:35,  1.40s/it]\repoch 0 loss 6.1836:  40%|███▉      | 495/1247 [11:29<17:36,  1.40s/it]\repoch 0 loss 6.1823:  40%|███▉      | 495/1247 [11:30<17:36,  1.40s/it]\repoch 0 loss 6.1823:  40%|███▉      | 496/1247 [11:31<17:35,  1.40s/it]\repoch 0 loss 6.1806:  40%|███▉      | 496/1247 [11:31<17:35,  1.40s/it]\repoch 0 loss 6.1806:  40%|███▉      | 497/1247 [11:32<17:35,  1.41s/it]\repoch 0 loss 6.1799:  40%|███▉      | 497/1247 [11:32<17:35,  1.41s/it]\repoch 0 loss 6.1799:  40%|███▉      | 498/1247 [11:33<17:32,  1.41s/it]\repoch 0 loss 6.1779:  40%|███▉      | 498/1247 [11:34<17:32,  1.41s/it]\repoch 0 loss 6.1779:  40%|████      | 499/1247 [11:35<17:31,  1.41s/it]\repoch 0 loss 6.1767:  40%|████      | 499/1247 [11:35<17:31,  1.41s/it]\repoch 0 loss 6.1767:  40%|████      | 500/1247 [11:36<17:30,  1.41s/it]\repoch 0 loss 6.1749:  40%|████      | 500/1247 [11:37<17:30,  1.41s/it]\repoch 0 loss 6.1749:  40%|████      | 501/1247 [11:38<17:26,  1.40s/it]\repoch 0 loss 6.1734:  40%|████      | 501/1247 [11:38<17:26,  1.40s/it]\repoch 0 loss 6.1734:  40%|████      | 502/1247 [11:39<17:29,  1.41s/it]\repoch 0 loss 6.1707:  40%|████      | 502/1247 [11:39<17:29,  1.41s/it]\repoch 0 loss 6.1707:  40%|████      | 503/1247 [11:40<17:26,  1.41s/it]\repoch 0 loss 6.1691:  40%|████      | 503/1247 [11:41<17:26,  1.41s/it]\repoch 0 loss 6.1691:  40%|████      | 504/1247 [11:42<17:27,  1.41s/it]\repoch 0 loss 6.1671:  40%|████      | 504/1247 [11:42<17:27,  1.41s/it]\repoch 0 loss 6.1671:  40%|████      | 505/1247 [11:43<17:27,  1.41s/it]\repoch 0 loss 6.1654:  40%|████      | 505/1247 [11:44<17:27,  1.41s/it]\repoch 0 loss 6.1654:  41%|████      | 506/1247 [11:45<17:25,  1.41s/it]\repoch 0 loss 6.1629:  41%|████      | 506/1247 [11:45<17:25,  1.41s/it]\repoch 0 loss 6.1629:  41%|████      | 507/1247 [11:46<17:22,  1.41s/it]\repoch 0 loss 6.1602:  41%|████      | 507/1247 [11:47<17:22,  1.41s/it]\repoch 0 loss 6.1602:  41%|████      | 508/1247 [11:47<17:21,  1.41s/it]\repoch 0 loss 6.1582:  41%|████      | 508/1247 [11:48<17:21,  1.41s/it]\repoch 0 loss 6.1582:  41%|████      | 509/1247 [11:49<17:20,  1.41s/it]\repoch 0 loss 6.1556:  41%|████      | 509/1247 [11:49<17:20,  1.41s/it]\repoch 0 loss 6.1556:  41%|████      | 510/1247 [11:50<17:15,  1.41s/it]\repoch 0 loss 6.1544:  41%|████      | 510/1247 [11:51<17:15,  1.41s/it]\repoch 0 loss 6.1544:  41%|████      | 511/1247 [11:52<17:15,  1.41s/it]\repoch 0 loss 6.153:  41%|████      | 511/1247 [11:52<17:15,  1.41s/it] \repoch 0 loss 6.153:  41%|████      | 512/1247 [11:53<17:17,  1.41s/it]\repoch 0 loss 6.1528:  41%|████      | 512/1247 [11:54<17:17,  1.41s/it]\repoch 0 loss 6.1528:  41%|████      | 513/1247 [11:54<17:16,  1.41s/it]\repoch 0 loss 6.1509:  41%|████      | 513/1247 [11:55<17:16,  1.41s/it]\repoch 0 loss 6.1509:  41%|████      | 514/1247 [11:56<17:16,  1.41s/it]\repoch 0 loss 6.1486:  41%|████      | 514/1247 [11:56<17:16,  1.41s/it]\repoch 0 loss 6.1486:  41%|████▏     | 515/1247 [11:57<17:15,  1.41s/it]\repoch 0 loss 6.1469:  41%|████▏     | 515/1247 [11:58<17:15,  1.41s/it]\repoch 0 loss 6.1469:  41%|████▏     | 516/1247 [11:59<17:11,  1.41s/it]\repoch 0 loss 6.146:  41%|████▏     | 516/1247 [11:59<17:11,  1.41s/it] \repoch 0 loss 6.146:  41%|████▏     | 517/1247 [12:00<17:09,  1.41s/it]\repoch 0 loss 6.1441:  41%|████▏     | 517/1247 [12:01<17:09,  1.41s/it]\repoch 0 loss 6.1441:  42%|████▏     | 518/1247 [12:02<17:04,  1.41s/it]\repoch 0 loss 6.1418:  42%|████▏     | 518/1247 [12:02<17:04,  1.41s/it]\repoch 0 loss 6.1418:  42%|████▏     | 519/1247 [12:03<17:04,  1.41s/it]\repoch 0 loss 6.14:  42%|████▏     | 519/1247 [12:03<17:04,  1.41s/it]  \repoch 0 loss 6.14:  42%|████▏     | 520/1247 [12:04<17:02,  1.41s/it]\repoch 0 loss 6.1379:  42%|████▏     | 520/1247 [12:05<17:02,  1.41s/it]\repoch 0 loss 6.1379:  42%|████▏     | 521/1247 [12:06<17:01,  1.41s/it]\repoch 0 loss 6.1361:  42%|████▏     | 521/1247 [12:06<17:01,  1.41s/it]\repoch 0 loss 6.1361:  42%|████▏     | 522/1247 [12:07<16:59,  1.41s/it]\repoch 0 loss 6.1337:  42%|████▏     | 522/1247 [12:08<16:59,  1.41s/it]\repoch 0 loss 6.1337:  42%|████▏     | 523/1247 [12:09<17:00,  1.41s/it]\repoch 0 loss 6.1325:  42%|████▏     | 523/1247 [12:09<17:00,  1.41s/it]\repoch 0 loss 6.1325:  42%|████▏     | 524/1247 [12:10<17:02,  1.41s/it]\repoch 0 loss 6.1305:  42%|████▏     | 524/1247 [12:11<17:02,  1.41s/it]\repoch 0 loss 6.1305:  42%|████▏     | 525/1247 [12:11<17:00,  1.41s/it]\repoch 0 loss 6.1288:  42%|████▏     | 525/1247 [12:12<17:00,  1.41s/it]\repoch 0 loss 6.1288:  42%|████▏     | 526/1247 [12:13<16:58,  1.41s/it]\repoch 0 loss 6.1277:  42%|████▏     | 526/1247 [12:13<16:58,  1.41s/it]\repoch 0 loss 6.1277:  42%|████▏     | 527/1247 [12:14<16:55,  1.41s/it]\repoch 0 loss 6.1263:  42%|████▏     | 527/1247 [12:15<16:55,  1.41s/it]\repoch 0 loss 6.1263:  42%|████▏     | 528/1247 [12:16<16:56,  1.41s/it]\repoch 0 loss 6.125:  42%|████▏     | 528/1247 [12:16<16:56,  1.41s/it] \repoch 0 loss 6.125:  42%|████▏     | 529/1247 [12:17<16:51,  1.41s/it]\repoch 0 loss 6.1235:  42%|████▏     | 529/1247 [12:18<16:51,  1.41s/it]\repoch 0 loss 6.1235:  43%|████▎     | 530/1247 [12:18<16:48,  1.41s/it]\repoch 0 loss 6.1221:  43%|████▎     | 530/1247 [12:19<16:48,  1.41s/it]\repoch 0 loss 6.1221:  43%|████▎     | 531/1247 [12:20<16:47,  1.41s/it]\repoch 0 loss 6.1202:  43%|████▎     | 531/1247 [12:20<16:47,  1.41s/it]\repoch 0 loss 6.1202:  43%|████▎     | 532/1247 [12:21<16:47,  1.41s/it]\repoch 0 loss 6.1194:  43%|████▎     | 532/1247 [12:22<16:47,  1.41s/it]\repoch 0 loss 6.1194:  43%|████▎     | 533/1247 [12:23<16:45,  1.41s/it]\repoch 0 loss 6.1175:  43%|████▎     | 533/1247 [12:23<16:45,  1.41s/it]\repoch 0 loss 6.1175:  43%|████▎     | 534/1247 [12:24<16:44,  1.41s/it]\repoch 0 loss 6.1158:  43%|████▎     | 534/1247 [12:25<16:44,  1.41s/it]\repoch 0 loss 6.1158:  43%|████▎     | 535/1247 [12:25<16:43,  1.41s/it]\repoch 0 loss 6.1148:  43%|████▎     | 535/1247 [12:26<16:43,  1.41s/it]\repoch 0 loss 6.1148:  43%|████▎     | 536/1247 [12:27<16:43,  1.41s/it]\repoch 0 loss 6.1128:  43%|████▎     | 536/1247 [12:27<16:43,  1.41s/it]\repoch 0 loss 6.1128:  43%|████▎     | 537/1247 [12:28<16:43,  1.41s/it]\repoch 0 loss 6.1105:  43%|████▎     | 537/1247 [12:29<16:43,  1.41s/it]\repoch 0 loss 6.1105:  43%|████▎     | 538/1247 [12:30<16:39,  1.41s/it]\repoch 0 loss 6.1091:  43%|████▎     | 538/1247 [12:30<16:39,  1.41s/it]\repoch 0 loss 6.1091:  43%|████▎     | 539/1247 [12:31<16:38,  1.41s/it]\repoch 0 loss 6.1069:  43%|████▎     | 539/1247 [12:32<16:38,  1.41s/it]\repoch 0 loss 6.1069:  43%|████▎     | 540/1247 [12:33<16:35,  1.41s/it]\repoch 0 loss 6.1054:  43%|████▎     | 540/1247 [12:33<16:35,  1.41s/it]\repoch 0 loss 6.1054:  43%|████▎     | 541/1247 [12:34<16:33,  1.41s/it]\repoch 0 loss 6.1046:  43%|████▎     | 541/1247 [12:34<16:33,  1.41s/it]\repoch 0 loss 6.1046:  43%|████▎     | 542/1247 [12:35<16:30,  1.41s/it]\repoch 0 loss 6.1038:  43%|████▎     | 542/1247 [12:36<16:30,  1.41s/it]\repoch 0 loss 6.1038:  44%|████▎     | 543/1247 [12:37<16:31,  1.41s/it]\repoch 0 loss 6.1017:  44%|████▎     | 543/1247 [12:37<16:31,  1.41s/it]\repoch 0 loss 6.1017:  44%|████▎     | 544/1247 [12:38<16:32,  1.41s/it]\repoch 0 loss 6.0999:  44%|████▎     | 544/1247 [12:39<16:32,  1.41s/it]\repoch 0 loss 6.0999:  44%|████▎     | 545/1247 [12:40<16:28,  1.41s/it]\repoch 0 loss 6.0985:  44%|████▎     | 545/1247 [12:40<16:28,  1.41s/it]\repoch 0 loss 6.0985:  44%|████▍     | 546/1247 [12:41<16:25,  1.41s/it]\repoch 0 loss 6.0975:  44%|████▍     | 546/1247 [12:42<16:25,  1.41s/it]\repoch 0 loss 6.0975:  44%|████▍     | 547/1247 [12:42<16:27,  1.41s/it]\repoch 0 loss 6.0963:  44%|████▍     | 547/1247 [12:43<16:27,  1.41s/it]\repoch 0 loss 6.0963:  44%|████▍     | 548/1247 [12:44<16:28,  1.41s/it]\repoch 0 loss 6.0946:  44%|████▍     | 548/1247 [12:44<16:28,  1.41s/it]\repoch 0 loss 6.0946:  44%|████▍     | 549/1247 [12:45<16:23,  1.41s/it]\repoch 0 loss 6.0937:  44%|████▍     | 549/1247 [12:46<16:23,  1.41s/it]\repoch 0 loss 6.0937:  44%|████▍     | 550/1247 [12:47<16:24,  1.41s/it]\repoch 0 loss 6.0924:  44%|████▍     | 550/1247 [12:47<16:24,  1.41s/it]\repoch 0 loss 6.0924:  44%|████▍     | 551/1247 [12:48<16:22,  1.41s/it]\repoch 0 loss 6.0917:  44%|████▍     | 551/1247 [12:49<16:22,  1.41s/it]\repoch 0 loss 6.0917:  44%|████▍     | 552/1247 [12:49<16:21,  1.41s/it]\repoch 0 loss 6.0905:  44%|████▍     | 552/1247 [12:50<16:21,  1.41s/it]\repoch 0 loss 6.0905:  44%|████▍     | 553/1247 [12:51<16:22,  1.42s/it]\repoch 0 loss 6.089:  44%|████▍     | 553/1247 [12:51<16:22,  1.42s/it] \repoch 0 loss 6.089:  44%|████▍     | 554/1247 [12:52<16:20,  1.41s/it]\repoch 0 loss 6.088:  44%|████▍     | 554/1247 [12:53<16:20,  1.41s/it]\repoch 0 loss 6.088:  45%|████▍     | 555/1247 [12:54<16:17,  1.41s/it]\repoch 0 loss 6.0867:  45%|████▍     | 555/1247 [12:54<16:17,  1.41s/it]\repoch 0 loss 6.0867:  45%|████▍     | 556/1247 [12:55<16:16,  1.41s/it]\repoch 0 loss 6.0846:  45%|████▍     | 556/1247 [12:56<16:16,  1.41s/it]\repoch 0 loss 6.0846:  45%|████▍     | 557/1247 [12:57<16:15,  1.41s/it]\repoch 0 loss 6.0836:  45%|████▍     | 557/1247 [12:57<16:15,  1.41s/it]\repoch 0 loss 6.0836:  45%|████▍     | 558/1247 [12:58<16:14,  1.41s/it]\repoch 0 loss 6.083:  45%|████▍     | 558/1247 [12:58<16:14,  1.41s/it] \repoch 0 loss 6.083:  45%|████▍     | 559/1247 [12:59<16:17,  1.42s/it]\repoch 0 loss 6.0816:  45%|████▍     | 559/1247 [13:00<16:17,  1.42s/it]\repoch 0 loss 6.0816:  45%|████▍     | 560/1247 [13:01<16:15,  1.42s/it]\repoch 0 loss 6.0799:  45%|████▍     | 560/1247 [13:01<16:15,  1.42s/it]\repoch 0 loss 6.0799:  45%|████▍     | 561/1247 [13:02<16:14,  1.42s/it]\repoch 0 loss 6.0782:  45%|████▍     | 561/1247 [13:03<16:14,  1.42s/it]\repoch 0 loss 6.0782:  45%|████▌     | 562/1247 [13:04<16:12,  1.42s/it]\repoch 0 loss 6.0763:  45%|████▌     | 562/1247 [13:04<16:12,  1.42s/it]\repoch 0 loss 6.0763:  45%|████▌     | 563/1247 [13:05<16:07,  1.41s/it]\repoch 0 loss 6.0749:  45%|████▌     | 563/1247 [13:06<16:07,  1.41s/it]\repoch 0 loss 6.0749:  45%|████▌     | 564/1247 [13:06<16:03,  1.41s/it]\repoch 0 loss 6.0726:  45%|████▌     | 564/1247 [13:07<16:03,  1.41s/it]\repoch 0 loss 6.0726:  45%|████▌     | 565/1247 [13:08<16:00,  1.41s/it]\repoch 0 loss 6.0707:  45%|████▌     | 565/1247 [13:08<16:00,  1.41s/it]\repoch 0 loss 6.0707:  45%|████▌     | 566/1247 [13:09<16:00,  1.41s/it]\repoch 0 loss 6.0689:  45%|████▌     | 566/1247 [13:10<16:00,  1.41s/it]\repoch 0 loss 6.0689:  45%|████▌     | 567/1247 [13:11<16:00,  1.41s/it]\repoch 0 loss 6.067:  45%|████▌     | 567/1247 [13:11<16:00,  1.41s/it] \repoch 0 loss 6.067:  46%|████▌     | 568/1247 [13:12<15:57,  1.41s/it]\repoch 0 loss 6.0663:  46%|████▌     | 568/1247 [13:13<15:57,  1.41s/it]\repoch 0 loss 6.0663:  46%|████▌     | 569/1247 [13:14<15:59,  1.42s/it]\repoch 0 loss 6.065:  46%|████▌     | 569/1247 [13:14<15:59,  1.42s/it] \repoch 0 loss 6.065:  46%|████▌     | 570/1247 [13:15<15:57,  1.41s/it]\repoch 0 loss 6.0637:  46%|████▌     | 570/1247 [13:15<15:57,  1.41s/it]\repoch 0 loss 6.0637:  46%|████▌     | 571/1247 [13:16<15:59,  1.42s/it]\repoch 0 loss 6.0622:  46%|████▌     | 571/1247 [13:17<15:59,  1.42s/it]\repoch 0 loss 6.0622:  46%|████▌     | 572/1247 [13:18<15:57,  1.42s/it]\repoch 0 loss 6.0608:  46%|████▌     | 572/1247 [13:18<15:57,  1.42s/it]\repoch 0 loss 6.0608:  46%|████▌     | 573/1247 [13:19<15:53,  1.41s/it]\repoch 0 loss 6.059:  46%|████▌     | 573/1247 [13:20<15:53,  1.41s/it] \repoch 0 loss 6.059:  46%|████▌     | 574/1247 [13:21<15:49,  1.41s/it]\repoch 0 loss 6.0573:  46%|████▌     | 574/1247 [13:21<15:49,  1.41s/it]\repoch 0 loss 6.0573:  46%|████▌     | 575/1247 [13:22<15:46,  1.41s/it]\repoch 0 loss 6.0569:  46%|████▌     | 575/1247 [13:23<15:46,  1.41s/it]\repoch 0 loss 6.0569:  46%|████▌     | 576/1247 [13:23<15:50,  1.42s/it]\repoch 0 loss 6.0563:  46%|████▌     | 576/1247 [13:24<15:50,  1.42s/it]\repoch 0 loss 6.0563:  46%|████▋     | 577/1247 [13:25<15:47,  1.41s/it]\repoch 0 loss 6.0544:  46%|████▋     | 577/1247 [13:25<15:47,  1.41s/it]\repoch 0 loss 6.0544:  46%|████▋     | 578/1247 [13:26<15:43,  1.41s/it]\repoch 0 loss 6.0522:  46%|████▋     | 578/1247 [13:27<15:43,  1.41s/it]\repoch 0 loss 6.0522:  46%|████▋     | 579/1247 [13:28<15:41,  1.41s/it]\repoch 0 loss 6.0505:  46%|████▋     | 579/1247 [13:28<15:41,  1.41s/it]\repoch 0 loss 6.0505:  47%|████▋     | 580/1247 [13:29<15:40,  1.41s/it]\repoch 0 loss 6.0493:  47%|████▋     | 580/1247 [13:30<15:40,  1.41s/it]\repoch 0 loss 6.0493:  47%|████▋     | 581/1247 [13:30<15:38,  1.41s/it]\repoch 0 loss 6.0477:  47%|████▋     | 581/1247 [13:31<15:38,  1.41s/it]\repoch 0 loss 6.0477:  47%|████▋     | 582/1247 [13:32<15:34,  1.41s/it]\repoch 0 loss 6.0466:  47%|████▋     | 582/1247 [13:32<15:34,  1.41s/it]\repoch 0 loss 6.0466:  47%|████▋     | 583/1247 [13:33<15:33,  1.41s/it]\repoch 0 loss 6.0453:  47%|████▋     | 583/1247 [13:34<15:33,  1.41s/it]\repoch 0 loss 6.0453:  47%|████▋     | 584/1247 [13:35<15:31,  1.40s/it]\repoch 0 loss 6.0437:  47%|████▋     | 584/1247 [13:35<15:31,  1.40s/it]\repoch 0 loss 6.0437:  47%|████▋     | 585/1247 [13:36<15:27,  1.40s/it]\repoch 0 loss 6.042:  47%|████▋     | 585/1247 [13:37<15:27,  1.40s/it] \repoch 0 loss 6.042:  47%|████▋     | 586/1247 [13:37<15:31,  1.41s/it]\repoch 0 loss 6.04:  47%|████▋     | 586/1247 [13:38<15:31,  1.41s/it] \repoch 0 loss 6.04:  47%|████▋     | 587/1247 [13:39<15:29,  1.41s/it]\repoch 0 loss 6.0389:  47%|████▋     | 587/1247 [13:39<15:29,  1.41s/it]\repoch 0 loss 6.0389:  47%|████▋     | 588/1247 [13:40<15:30,  1.41s/it]\repoch 0 loss 6.0376:  47%|████▋     | 588/1247 [13:41<15:30,  1.41s/it]\repoch 0 loss 6.0376:  47%|████▋     | 589/1247 [13:42<15:30,  1.41s/it]\repoch 0 loss 6.0367:  47%|████▋     | 589/1247 [13:42<15:30,  1.41s/it]\repoch 0 loss 6.0367:  47%|████▋     | 590/1247 [13:43<15:28,  1.41s/it]\repoch 0 loss 6.0355:  47%|████▋     | 590/1247 [13:44<15:28,  1.41s/it]\repoch 0 loss 6.0355:  47%|████▋     | 591/1247 [13:45<15:29,  1.42s/it]\repoch 0 loss 6.0341:  47%|████▋     | 591/1247 [13:45<15:29,  1.42s/it]\repoch 0 loss 6.0341:  47%|████▋     | 592/1247 [13:46<15:24,  1.41s/it]\repoch 0 loss 6.0328:  47%|████▋     | 592/1247 [13:46<15:24,  1.41s/it]\repoch 0 loss 6.0328:  48%|████▊     | 593/1247 [13:47<15:22,  1.41s/it]\repoch 0 loss 6.0316:  48%|████▊     | 593/1247 [13:48<15:22,  1.41s/it]\repoch 0 loss 6.0316:  48%|████▊     | 594/1247 [13:49<15:22,  1.41s/it]\repoch 0 loss 6.0307:  48%|████▊     | 594/1247 [13:49<15:22,  1.41s/it]\repoch 0 loss 6.0307:  48%|████▊     | 595/1247 [13:50<15:27,  1.42s/it]\repoch 0 loss 6.0295:  48%|████▊     | 595/1247 [13:51<15:27,  1.42s/it]\repoch 0 loss 6.0295:  48%|████▊     | 596/1247 [13:52<15:20,  1.41s/it]\repoch 0 loss 6.0288:  48%|████▊     | 596/1247 [13:52<15:20,  1.41s/it]\repoch 0 loss 6.0288:  48%|████▊     | 597/1247 [13:53<15:20,  1.42s/it]\repoch 0 loss 6.0274:  48%|████▊     | 597/1247 [13:54<15:20,  1.42s/it]\repoch 0 loss 6.0274:  48%|████▊     | 598/1247 [13:54<15:16,  1.41s/it]\repoch 0 loss 6.0259:  48%|████▊     | 598/1247 [13:55<15:16,  1.41s/it]\repoch 0 loss 6.0259:  48%|████▊     | 599/1247 [13:56<15:17,  1.42s/it]\repoch 0 loss 6.0251:  48%|████▊     | 599/1247 [13:56<15:17,  1.42s/it]\repoch 0 loss 6.0251:  48%|████▊     | 600/1247 [13:57<15:16,  1.42s/it]\repoch 0 loss 6.0231:  48%|████▊     | 600/1247 [13:58<15:16,  1.42s/it]\repoch 0 loss 6.0231:  48%|████▊     | 601/1247 [13:59<15:14,  1.42s/it]\repoch 0 loss 6.0222:  48%|████▊     | 601/1247 [13:59<15:14,  1.42s/it]\repoch 0 loss 6.0222:  48%|████▊     | 602/1247 [14:00<15:11,  1.41s/it]\repoch 0 loss 6.021:  48%|████▊     | 602/1247 [14:01<15:11,  1.41s/it] \repoch 0 loss 6.021:  48%|████▊     | 603/1247 [14:02<15:09,  1.41s/it]\repoch 0 loss 6.0197:  48%|████▊     | 603/1247 [14:02<15:09,  1.41s/it]\repoch 0 loss 6.0197:  48%|████▊     | 604/1247 [14:03<15:07,  1.41s/it]\repoch 0 loss 6.018:  48%|████▊     | 604/1247 [14:03<15:07,  1.41s/it] \repoch 0 loss 6.018:  49%|████▊     | 605/1247 [14:04<15:09,  1.42s/it]\repoch 0 loss 6.016:  49%|████▊     | 605/1247 [14:05<15:09,  1.42s/it]\repoch 0 loss 6.016:  49%|████▊     | 606/1247 [14:06<15:09,  1.42s/it]\repoch 0 loss 6.0149:  49%|████▊     | 606/1247 [14:06<15:09,  1.42s/it]\repoch 0 loss 6.0149:  49%|████▊     | 607/1247 [14:07<15:07,  1.42s/it]\repoch 0 loss 6.0138:  49%|████▊     | 607/1247 [14:08<15:07,  1.42s/it]\repoch 0 loss 6.0138:  49%|████▉     | 608/1247 [14:09<15:04,  1.42s/it]\repoch 0 loss 6.0126:  49%|████▉     | 608/1247 [14:09<15:04,  1.42s/it]\repoch 0 loss 6.0126:  49%|████▉     | 609/1247 [14:10<15:04,  1.42s/it]\repoch 0 loss 6.0107:  49%|████▉     | 609/1247 [14:11<15:04,  1.42s/it]\repoch 0 loss 6.0107:  49%|████▉     | 610/1247 [14:11<15:03,  1.42s/it]\repoch 0 loss 6.0094:  49%|████▉     | 610/1247 [14:12<15:03,  1.42s/it]\repoch 0 loss 6.0094:  49%|████▉     | 611/1247 [14:13<14:59,  1.41s/it]\repoch 0 loss 6.0081:  49%|████▉     | 611/1247 [14:13<14:59,  1.41s/it]\repoch 0 loss 6.0081:  49%|████▉     | 612/1247 [14:14<14:58,  1.42s/it]\repoch 0 loss 6.007:  49%|████▉     | 612/1247 [14:15<14:58,  1.42s/it] \repoch 0 loss 6.007:  49%|████▉     | 613/1247 [14:16<14:54,  1.41s/it]\repoch 0 loss 6.0065:  49%|████▉     | 613/1247 [14:16<14:54,  1.41s/it]\repoch 0 loss 6.0065:  49%|████▉     | 614/1247 [14:17<14:51,  1.41s/it]\repoch 0 loss 6.006:  49%|████▉     | 614/1247 [14:18<14:51,  1.41s/it] \repoch 0 loss 6.006:  49%|████▉     | 615/1247 [14:18<14:49,  1.41s/it]\repoch 0 loss 6.0045:  49%|████▉     | 615/1247 [14:19<14:49,  1.41s/it]\repoch 0 loss 6.0045:  49%|████▉     | 616/1247 [14:20<14:51,  1.41s/it]\repoch 0 loss 6.0027:  49%|████▉     | 616/1247 [14:20<14:51,  1.41s/it]\repoch 0 loss 6.0027:  49%|████▉     | 617/1247 [14:21<14:51,  1.41s/it]\repoch 0 loss 6.0009:  49%|████▉     | 617/1247 [14:22<14:51,  1.41s/it]\repoch 0 loss 6.0009:  50%|████▉     | 618/1247 [14:23<14:46,  1.41s/it]\repoch 0 loss 5.9995:  50%|████▉     | 618/1247 [14:23<14:46,  1.41s/it]\repoch 0 loss 5.9995:  50%|████▉     | 619/1247 [14:24<14:43,  1.41s/it]\repoch 0 loss 5.9985:  50%|████▉     | 619/1247 [14:25<14:43,  1.41s/it]\repoch 0 loss 5.9985:  50%|████▉     | 620/1247 [14:26<14:42,  1.41s/it]\repoch 0 loss 5.997:  50%|████▉     | 620/1247 [14:26<14:42,  1.41s/it] \repoch 0 loss 5.997:  50%|████▉     | 621/1247 [14:27<14:42,  1.41s/it]\repoch 0 loss 5.9957:  50%|████▉     | 621/1247 [14:27<14:42,  1.41s/it]\repoch 0 loss 5.9957:  50%|████▉     | 622/1247 [14:28<14:40,  1.41s/it]\repoch 0 loss 5.9947:  50%|████▉     | 622/1247 [14:29<14:40,  1.41s/it]\repoch 0 loss 5.9947:  50%|████▉     | 623/1247 [14:30<14:39,  1.41s/it]\repoch 0 loss 5.9934:  50%|████▉     | 623/1247 [14:30<14:39,  1.41s/it]\repoch 0 loss 5.9934:  50%|█████     | 624/1247 [14:31<14:38,  1.41s/it]\repoch 0 loss 5.9914:  50%|█████     | 624/1247 [14:32<14:38,  1.41s/it]\repoch 0 loss 5.9914:  50%|█████     | 625/1247 [14:33<14:34,  1.41s/it]\repoch 0 loss 5.9901:  50%|█████     | 625/1247 [14:33<14:34,  1.41s/it]\repoch 0 loss 5.9901:  50%|█████     | 626/1247 [14:34<14:33,  1.41s/it]\repoch 0 loss 5.9885:  50%|█████     | 626/1247 [14:35<14:33,  1.41s/it]\repoch 0 loss 5.9885:  50%|█████     | 627/1247 [14:35<14:31,  1.41s/it]\repoch 0 loss 5.9869:  50%|█████     | 627/1247 [14:36<14:31,  1.41s/it]\repoch 0 loss 5.9869:  50%|█████     | 628/1247 [14:37<14:28,  1.40s/it]\repoch 0 loss 5.9862:  50%|█████     | 628/1247 [14:37<14:28,  1.40s/it]\repoch 0 loss 5.9862:  50%|█████     | 629/1247 [14:38<14:28,  1.41s/it]\repoch 0 loss 5.9856:  50%|█████     | 629/1247 [14:39<14:28,  1.41s/it]\repoch 0 loss 5.9856:  51%|█████     | 630/1247 [14:40<14:26,  1.40s/it]\repoch 0 loss 5.9849:  51%|█████     | 630/1247 [14:40<14:26,  1.40s/it]\repoch 0 loss 5.9849:  51%|█████     | 631/1247 [14:41<14:27,  1.41s/it]\repoch 0 loss 5.9832:  51%|█████     | 631/1247 [14:42<14:27,  1.41s/it]\repoch 0 loss 5.9832:  51%|█████     | 632/1247 [14:42<14:26,  1.41s/it]\repoch 0 loss 5.9819:  51%|█████     | 632/1247 [14:43<14:26,  1.41s/it]\repoch 0 loss 5.9819:  51%|█████     | 633/1247 [14:44<14:24,  1.41s/it]\repoch 0 loss 5.9807:  51%|█████     | 633/1247 [14:44<14:24,  1.41s/it]\repoch 0 loss 5.9807:  51%|█████     | 634/1247 [14:45<14:25,  1.41s/it]\repoch 0 loss 5.9799:  51%|█████     | 634/1247 [14:46<14:25,  1.41s/it]\repoch 0 loss 5.9799:  51%|█████     | 635/1247 [14:47<14:25,  1.41s/it]\repoch 0 loss 5.9796:  51%|█████     | 635/1247 [14:47<14:25,  1.41s/it]\repoch 0 loss 5.9796:  51%|█████     | 636/1247 [14:48<14:27,  1.42s/it]\repoch 0 loss 5.9777:  51%|█████     | 636/1247 [14:49<14:27,  1.42s/it]\repoch 0 loss 5.9777:  51%|█████     | 637/1247 [14:50<14:26,  1.42s/it]\repoch 0 loss 5.9763:  51%|█████     | 637/1247 [14:50<14:26,  1.42s/it]\repoch 0 loss 5.9763:  51%|█████     | 638/1247 [14:51<14:23,  1.42s/it]\repoch 0 loss 5.9746:  51%|█████     | 638/1247 [14:51<14:23,  1.42s/it]\repoch 0 loss 5.9746:  51%|█████     | 639/1247 [14:52<14:20,  1.42s/it]\repoch 0 loss 5.973:  51%|█████     | 639/1247 [14:53<14:20,  1.42s/it] \repoch 0 loss 5.973:  51%|█████▏    | 640/1247 [14:54<14:17,  1.41s/it]\repoch 0 loss 5.9718:  51%|█████▏    | 640/1247 [14:54<14:17,  1.41s/it]\repoch 0 loss 5.9718:  51%|█████▏    | 641/1247 [14:55<14:17,  1.41s/it]\repoch 0 loss 5.9708:  51%|█████▏    | 641/1247 [14:56<14:17,  1.41s/it]\repoch 0 loss 5.9708:  51%|█████▏    | 642/1247 [14:57<14:16,  1.42s/it]\repoch 0 loss 5.9702:  51%|█████▏    | 642/1247 [14:57<14:16,  1.42s/it]\repoch 0 loss 5.9702:  52%|█████▏    | 643/1247 [14:58<14:13,  1.41s/it]\repoch 0 loss 5.9686:  52%|█████▏    | 643/1247 [14:59<14:13,  1.41s/it]\repoch 0 loss 5.9686:  52%|█████▏    | 644/1247 [14:59<14:09,  1.41s/it]\repoch 0 loss 5.968:  52%|█████▏    | 644/1247 [15:00<14:09,  1.41s/it] \repoch 0 loss 5.968:  52%|█████▏    | 645/1247 [15:01<14:06,  1.41s/it]\repoch 0 loss 5.9668:  52%|█████▏    | 645/1247 [15:01<14:06,  1.41s/it]\repoch 0 loss 5.9668:  52%|█████▏    | 646/1247 [15:02<14:07,  1.41s/it]\repoch 0 loss 5.9659:  52%|█████▏    | 646/1247 [15:03<14:07,  1.41s/it]\repoch 0 loss 5.9659:  52%|█████▏    | 647/1247 [15:04<14:06,  1.41s/it]\repoch 0 loss 5.9648:  52%|█████▏    | 647/1247 [15:04<14:06,  1.41s/it]\repoch 0 loss 5.9648:  52%|█████▏    | 648/1247 [15:05<14:03,  1.41s/it]\repoch 0 loss 5.9639:  52%|█████▏    | 648/1247 [15:06<14:03,  1.41s/it]\repoch 0 loss 5.9639:  52%|█████▏    | 649/1247 [15:06<14:05,  1.41s/it]\repoch 0 loss 5.9624:  52%|█████▏    | 649/1247 [15:07<14:05,  1.41s/it]\repoch 0 loss 5.9624:  52%|█████▏    | 650/1247 [15:08<14:01,  1.41s/it]\repoch 0 loss 5.9608:  52%|█████▏    | 650/1247 [15:08<14:01,  1.41s/it]\repoch 0 loss 5.9608:  52%|█████▏    | 651/1247 [15:09<13:57,  1.41s/it]\repoch 0 loss 5.9588:  52%|█████▏    | 651/1247 [15:10<13:57,  1.41s/it]\repoch 0 loss 5.9588:  52%|█████▏    | 652/1247 [15:11<13:58,  1.41s/it]\repoch 0 loss 5.9581:  52%|█████▏    | 652/1247 [15:11<13:58,  1.41s/it]\repoch 0 loss 5.9581:  52%|█████▏    | 653/1247 [15:12<13:58,  1.41s/it]\repoch 0 loss 5.9568:  52%|█████▏    | 653/1247 [15:13<13:58,  1.41s/it]\repoch 0 loss 5.9568:  52%|█████▏    | 654/1247 [15:13<13:52,  1.40s/it]\repoch 0 loss 5.9551:  52%|█████▏    | 654/1247 [15:14<13:52,  1.40s/it]\repoch 0 loss 5.9551:  53%|█████▎    | 655/1247 [15:15<13:51,  1.40s/it]\repoch 0 loss 5.9542:  53%|█████▎    | 655/1247 [15:15<13:51,  1.40s/it]\repoch 0 loss 5.9542:  53%|█████▎    | 656/1247 [15:16<13:49,  1.40s/it]\repoch 0 loss 5.9535:  53%|█████▎    | 656/1247 [15:17<13:49,  1.40s/it]\repoch 0 loss 5.9535:  53%|█████▎    | 657/1247 [15:18<13:48,  1.40s/it]\repoch 0 loss 5.9533:  53%|█████▎    | 657/1247 [15:18<13:48,  1.40s/it]\repoch 0 loss 5.9533:  53%|█████▎    | 658/1247 [15:19<13:47,  1.40s/it]\repoch 0 loss 5.9523:  53%|█████▎    | 658/1247 [15:20<13:47,  1.40s/it]\repoch 0 loss 5.9523:  53%|█████▎    | 659/1247 [15:21<13:44,  1.40s/it]\repoch 0 loss 5.951:  53%|█████▎    | 659/1247 [15:21<13:44,  1.40s/it] \repoch 0 loss 5.951:  53%|█████▎    | 660/1247 [15:22<13:46,  1.41s/it]\repoch 0 loss 5.9505:  53%|█████▎    | 660/1247 [15:22<13:46,  1.41s/it]\repoch 0 loss 5.9505:  53%|█████▎    | 661/1247 [15:23<13:45,  1.41s/it]\repoch 0 loss 5.9494:  53%|█████▎    | 661/1247 [15:24<13:45,  1.41s/it]\repoch 0 loss 5.9494:  53%|█████▎    | 662/1247 [15:25<13:43,  1.41s/it]\repoch 0 loss 5.9482:  53%|█████▎    | 662/1247 [15:25<13:43,  1.41s/it]\repoch 0 loss 5.9482:  53%|█████▎    | 663/1247 [15:26<13:41,  1.41s/it]\repoch 0 loss 5.9467:  53%|█████▎    | 663/1247 [15:27<13:41,  1.41s/it]\repoch 0 loss 5.9467:  53%|█████▎    | 664/1247 [15:28<13:40,  1.41s/it]\repoch 0 loss 5.9452:  53%|█████▎    | 664/1247 [15:28<13:40,  1.41s/it]\repoch 0 loss 5.9452:  53%|█████▎    | 665/1247 [15:29<13:36,  1.40s/it]\repoch 0 loss 5.9439:  53%|█████▎    | 665/1247 [15:29<13:36,  1.40s/it]\repoch 0 loss 5.9439:  53%|█████▎    | 666/1247 [15:30<13:36,  1.41s/it]\repoch 0 loss 5.9432:  53%|█████▎    | 666/1247 [15:31<13:36,  1.41s/it]\repoch 0 loss 5.9432:  53%|█████▎    | 667/1247 [15:32<13:34,  1.40s/it]\repoch 0 loss 5.9422:  53%|█████▎    | 667/1247 [15:32<13:34,  1.40s/it]\repoch 0 loss 5.9422:  54%|█████▎    | 668/1247 [15:33<13:33,  1.40s/it]\repoch 0 loss 5.9412:  54%|█████▎    | 668/1247 [15:34<13:33,  1.40s/it]\repoch 0 loss 5.9412:  54%|█████▎    | 669/1247 [15:35<13:29,  1.40s/it]\repoch 0 loss 5.9406:  54%|█████▎    | 669/1247 [15:35<13:29,  1.40s/it]\repoch 0 loss 5.9406:  54%|█████▎    | 670/1247 [15:36<13:25,  1.40s/it]\repoch 0 loss 5.9398:  54%|█████▎    | 670/1247 [15:36<13:25,  1.40s/it]\repoch 0 loss 5.9398:  54%|█████▍    | 671/1247 [15:37<13:25,  1.40s/it]\repoch 0 loss 5.9388:  54%|█████▍    | 671/1247 [15:38<13:25,  1.40s/it]\repoch 0 loss 5.9388:  54%|█████▍    | 672/1247 [15:39<13:23,  1.40s/it]\repoch 0 loss 5.9377:  54%|█████▍    | 672/1247 [15:39<13:23,  1.40s/it]\repoch 0 loss 5.9377:  54%|█████▍    | 673/1247 [15:40<13:20,  1.40s/it]\repoch 0 loss 5.9362:  54%|█████▍    | 673/1247 [15:41<13:20,  1.40s/it]\repoch 0 loss 5.9362:  54%|█████▍    | 674/1247 [15:42<13:20,  1.40s/it]\repoch 0 loss 5.9348:  54%|█████▍    | 674/1247 [15:42<13:20,  1.40s/it]\repoch 0 loss 5.9348:  54%|█████▍    | 675/1247 [15:43<13:19,  1.40s/it]\repoch 0 loss 5.9336:  54%|█████▍    | 675/1247 [15:43<13:19,  1.40s/it]\repoch 0 loss 5.9336:  54%|█████▍    | 676/1247 [15:44<13:20,  1.40s/it]\repoch 0 loss 5.9327:  54%|█████▍    | 676/1247 [15:45<13:20,  1.40s/it]\repoch 0 loss 5.9327:  54%|█████▍    | 677/1247 [15:46<13:18,  1.40s/it]\repoch 0 loss 5.9314:  54%|█████▍    | 677/1247 [15:46<13:18,  1.40s/it]\repoch 0 loss 5.9314:  54%|█████▍    | 678/1247 [15:47<13:16,  1.40s/it]\repoch 0 loss 5.9305:  54%|█████▍    | 678/1247 [15:48<13:16,  1.40s/it]\repoch 0 loss 5.9305:  54%|█████▍    | 679/1247 [15:49<13:14,  1.40s/it]\repoch 0 loss 5.9292:  54%|█████▍    | 679/1247 [15:49<13:14,  1.40s/it]\repoch 0 loss 5.9292:  55%|█████▍    | 680/1247 [15:50<13:15,  1.40s/it]\repoch 0 loss 5.9284:  55%|█████▍    | 680/1247 [15:50<13:15,  1.40s/it]\repoch 0 loss 5.9284:  55%|█████▍    | 681/1247 [15:51<13:13,  1.40s/it]\repoch 0 loss 5.9265:  55%|█████▍    | 681/1247 [15:52<13:13,  1.40s/it]\repoch 0 loss 5.9265:  55%|█████▍    | 682/1247 [15:53<13:13,  1.40s/it]\repoch 0 loss 5.9257:  55%|█████▍    | 682/1247 [15:53<13:13,  1.40s/it]\repoch 0 loss 5.9257:  55%|█████▍    | 683/1247 [15:54<13:11,  1.40s/it]\repoch 0 loss 5.9254:  55%|█████▍    | 683/1247 [15:55<13:11,  1.40s/it]\repoch 0 loss 5.9254:  55%|█████▍    | 684/1247 [15:56<13:07,  1.40s/it]\repoch 0 loss 5.9242:  55%|█████▍    | 684/1247 [15:56<13:07,  1.40s/it]\repoch 0 loss 5.9242:  55%|█████▍    | 685/1247 [15:57<13:08,  1.40s/it]\repoch 0 loss 5.9228:  55%|█████▍    | 685/1247 [15:57<13:08,  1.40s/it]\repoch 0 loss 5.9228:  55%|█████▌    | 686/1247 [15:58<13:06,  1.40s/it]\repoch 0 loss 5.9224:  55%|█████▌    | 686/1247 [15:59<13:06,  1.40s/it]\repoch 0 loss 5.9224:  55%|█████▌    | 687/1247 [16:00<13:05,  1.40s/it]\repoch 0 loss 5.9203:  55%|█████▌    | 687/1247 [16:00<13:05,  1.40s/it]\repoch 0 loss 5.9203:  55%|█████▌    | 688/1247 [16:01<13:03,  1.40s/it]\repoch 0 loss 5.9193:  55%|█████▌    | 688/1247 [16:02<13:03,  1.40s/it]\repoch 0 loss 5.9193:  55%|█████▌    | 689/1247 [16:03<13:02,  1.40s/it]\repoch 0 loss 5.9179:  55%|█████▌    | 689/1247 [16:03<13:02,  1.40s/it]\repoch 0 loss 5.9179:  55%|█████▌    | 690/1247 [16:04<13:02,  1.41s/it]\repoch 0 loss 5.9174:  55%|█████▌    | 690/1247 [16:05<13:02,  1.41s/it]\repoch 0 loss 5.9174:  55%|█████▌    | 691/1247 [16:05<13:01,  1.41s/it]\repoch 0 loss 5.9162:  55%|█████▌    | 691/1247 [16:06<13:01,  1.41s/it]\repoch 0 loss 5.9162:  55%|█████▌    | 692/1247 [16:07<13:03,  1.41s/it]\repoch 0 loss 5.9155:  55%|█████▌    | 692/1247 [16:07<13:03,  1.41s/it]\repoch 0 loss 5.9155:  56%|█████▌    | 693/1247 [16:08<13:02,  1.41s/it]\repoch 0 loss 5.914:  56%|█████▌    | 693/1247 [16:09<13:02,  1.41s/it] \repoch 0 loss 5.914:  56%|█████▌    | 694/1247 [16:10<12:59,  1.41s/it]\repoch 0 loss 5.9131:  56%|█████▌    | 694/1247 [16:10<12:59,  1.41s/it]\repoch 0 loss 5.9131:  56%|█████▌    | 695/1247 [16:11<12:58,  1.41s/it]\repoch 0 loss 5.9119:  56%|█████▌    | 695/1247 [16:12<12:58,  1.41s/it]\repoch 0 loss 5.9119:  56%|█████▌    | 696/1247 [16:12<12:55,  1.41s/it]\repoch 0 loss 5.9103:  56%|█████▌    | 696/1247 [16:13<12:55,  1.41s/it]\repoch 0 loss 5.9103:  56%|█████▌    | 697/1247 [16:14<12:55,  1.41s/it]\repoch 0 loss 5.9089:  56%|█████▌    | 697/1247 [16:14<12:55,  1.41s/it]\repoch 0 loss 5.9089:  56%|█████▌    | 698/1247 [16:15<12:56,  1.41s/it]\repoch 0 loss 5.9084:  56%|█████▌    | 698/1247 [16:16<12:56,  1.41s/it]\repoch 0 loss 5.9084:  56%|█████▌    | 699/1247 [16:17<12:54,  1.41s/it]\repoch 0 loss 5.9075:  56%|█████▌    | 699/1247 [16:17<12:54,  1.41s/it]\repoch 0 loss 5.9075:  56%|█████▌    | 700/1247 [16:18<12:52,  1.41s/it]\repoch 0 loss 5.9065:  56%|█████▌    | 700/1247 [16:19<12:52,  1.41s/it]\repoch 0 loss 5.9065:  56%|█████▌    | 701/1247 [16:20<12:55,  1.42s/it]\repoch 0 loss 5.9052:  56%|█████▌    | 701/1247 [16:20<12:55,  1.42s/it]\repoch 0 loss 5.9052:  56%|█████▋    | 702/1247 [16:21<12:52,  1.42s/it]\repoch 0 loss 5.9041:  56%|█████▋    | 702/1247 [16:21<12:52,  1.42s/it]\repoch 0 loss 5.9041:  56%|█████▋    | 703/1247 [16:22<12:50,  1.42s/it]\repoch 0 loss 5.9027:  56%|█████▋    | 703/1247 [16:23<12:50,  1.42s/it]\repoch 0 loss 5.9027:  56%|█████▋    | 704/1247 [16:24<12:46,  1.41s/it]\repoch 0 loss 5.9017:  56%|█████▋    | 704/1247 [16:24<12:46,  1.41s/it]\repoch 0 loss 5.9017:  57%|█████▋    | 705/1247 [16:25<12:48,  1.42s/it]\repoch 0 loss 5.9006:  57%|█████▋    | 705/1247 [16:26<12:48,  1.42s/it]\repoch 0 loss 5.9006:  57%|█████▋    | 706/1247 [16:27<12:46,  1.42s/it]\repoch 0 loss 5.8991:  57%|█████▋    | 706/1247 [16:27<12:46,  1.42s/it]\repoch 0 loss 5.8991:  57%|█████▋    | 707/1247 [16:28<12:48,  1.42s/it]\repoch 0 loss 5.8984:  57%|█████▋    | 707/1247 [16:29<12:48,  1.42s/it]\repoch 0 loss 5.8984:  57%|█████▋    | 708/1247 [16:29<12:44,  1.42s/it]\repoch 0 loss 5.8969:  57%|█████▋    | 708/1247 [16:30<12:44,  1.42s/it]\repoch 0 loss 5.8969:  57%|█████▋    | 709/1247 [16:31<12:42,  1.42s/it]\repoch 0 loss 5.8956:  57%|█████▋    | 709/1247 [16:31<12:42,  1.42s/it]\repoch 0 loss 5.8956:  57%|█████▋    | 710/1247 [16:32<12:43,  1.42s/it]\repoch 0 loss 5.8949:  57%|█████▋    | 710/1247 [16:33<12:43,  1.42s/it]\repoch 0 loss 5.8949:  57%|█████▋    | 711/1247 [16:34<12:43,  1.42s/it]\repoch 0 loss 5.894:  57%|█████▋    | 711/1247 [16:34<12:43,  1.42s/it] \repoch 0 loss 5.894:  57%|█████▋    | 712/1247 [16:35<12:41,  1.42s/it]\repoch 0 loss 5.8932:  57%|█████▋    | 712/1247 [16:36<12:41,  1.42s/it]\repoch 0 loss 5.8932:  57%|█████▋    | 713/1247 [16:37<12:39,  1.42s/it]\repoch 0 loss 5.892:  57%|█████▋    | 713/1247 [16:37<12:39,  1.42s/it] \repoch 0 loss 5.892:  57%|█████▋    | 714/1247 [16:38<12:36,  1.42s/it]\repoch 0 loss 5.8911:  57%|█████▋    | 714/1247 [16:39<12:36,  1.42s/it]\repoch 0 loss 5.8911:  57%|█████▋    | 715/1247 [16:39<12:33,  1.42s/it]\repoch 0 loss 5.8901:  57%|█████▋    | 715/1247 [16:40<12:33,  1.42s/it]\repoch 0 loss 5.8901:  57%|█████▋    | 716/1247 [16:41<12:31,  1.42s/it]\repoch 0 loss 5.8896:  57%|█████▋    | 716/1247 [16:41<12:31,  1.42s/it]\repoch 0 loss 5.8896:  57%|█████▋    | 717/1247 [16:42<12:29,  1.41s/it]\repoch 0 loss 5.8881:  57%|█████▋    | 717/1247 [16:43<12:29,  1.41s/it]\repoch 0 loss 5.8881:  58%|█████▊    | 718/1247 [16:44<12:25,  1.41s/it]\repoch 0 loss 5.8867:  58%|█████▊    | 718/1247 [16:44<12:25,  1.41s/it]\repoch 0 loss 5.8867:  58%|█████▊    | 719/1247 [16:45<12:26,  1.41s/it]\repoch 0 loss 5.8864:  58%|█████▊    | 719/1247 [16:46<12:26,  1.41s/it]\repoch 0 loss 5.8864:  58%|█████▊    | 720/1247 [16:46<12:23,  1.41s/it]\repoch 0 loss 5.8851:  58%|█████▊    | 720/1247 [16:47<12:23,  1.41s/it]\repoch 0 loss 5.8851:  58%|█████▊    | 721/1247 [16:48<12:18,  1.40s/it]\repoch 0 loss 5.8845:  58%|█████▊    | 721/1247 [16:48<12:18,  1.40s/it]\repoch 0 loss 5.8845:  58%|█████▊    | 722/1247 [16:49<12:17,  1.41s/it]\repoch 0 loss 5.8834:  58%|█████▊    | 722/1247 [16:50<12:17,  1.41s/it]\repoch 0 loss 5.8834:  58%|█████▊    | 723/1247 [16:51<12:17,  1.41s/it]\repoch 0 loss 5.8829:  58%|█████▊    | 723/1247 [16:51<12:17,  1.41s/it]\repoch 0 loss 5.8829:  58%|█████▊    | 724/1247 [16:52<12:18,  1.41s/it]\repoch 0 loss 5.8817:  58%|█████▊    | 724/1247 [16:53<12:18,  1.41s/it]\repoch 0 loss 5.8817:  58%|█████▊    | 725/1247 [16:53<12:14,  1.41s/it]\repoch 0 loss 5.8805:  58%|█████▊    | 725/1247 [16:54<12:14,  1.41s/it]\repoch 0 loss 5.8805:  58%|█████▊    | 726/1247 [16:55<12:14,  1.41s/it]\repoch 0 loss 5.8793:  58%|█████▊    | 726/1247 [16:55<12:14,  1.41s/it]\repoch 0 loss 5.8793:  58%|█████▊    | 727/1247 [16:56<12:12,  1.41s/it]\repoch 0 loss 5.8779:  58%|█████▊    | 727/1247 [16:57<12:12,  1.41s/it]\repoch 0 loss 5.8779:  58%|█████▊    | 728/1247 [16:58<12:12,  1.41s/it]\repoch 0 loss 5.8781:  58%|█████▊    | 728/1247 [16:58<12:12,  1.41s/it]\repoch 0 loss 5.8781:  58%|█████▊    | 729/1247 [16:59<12:09,  1.41s/it]\repoch 0 loss 5.8771:  58%|█████▊    | 729/1247 [17:00<12:09,  1.41s/it]\repoch 0 loss 5.8771:  59%|█████▊    | 730/1247 [17:01<12:09,  1.41s/it]\repoch 0 loss 5.8761:  59%|█████▊    | 730/1247 [17:01<12:09,  1.41s/it]\repoch 0 loss 5.8761:  59%|█████▊    | 731/1247 [17:02<12:05,  1.41s/it]\repoch 0 loss 5.8758:  59%|█████▊    | 731/1247 [17:02<12:05,  1.41s/it]\repoch 0 loss 5.8758:  59%|█████▊    | 732/1247 [17:03<12:04,  1.41s/it]\repoch 0 loss 5.8749:  59%|█████▊    | 732/1247 [17:04<12:04,  1.41s/it]\repoch 0 loss 5.8749:  59%|█████▉    | 733/1247 [17:05<12:00,  1.40s/it]\repoch 0 loss 5.8741:  59%|█████▉    | 733/1247 [17:05<12:00,  1.40s/it]\repoch 0 loss 5.8741:  59%|█████▉    | 734/1247 [17:06<11:59,  1.40s/it]\repoch 0 loss 5.8726:  59%|█████▉    | 734/1247 [17:07<11:59,  1.40s/it]\repoch 0 loss 5.8726:  59%|█████▉    | 735/1247 [17:08<11:56,  1.40s/it]\repoch 0 loss 5.8716:  59%|█████▉    | 735/1247 [17:08<11:56,  1.40s/it]\repoch 0 loss 5.8716:  59%|█████▉    | 736/1247 [17:09<11:54,  1.40s/it]\repoch 0 loss 5.8708:  59%|█████▉    | 736/1247 [17:09<11:54,  1.40s/it]\repoch 0 loss 5.8708:  59%|█████▉    | 737/1247 [17:10<11:55,  1.40s/it]\repoch 0 loss 5.8697:  59%|█████▉    | 737/1247 [17:11<11:55,  1.40s/it]\repoch 0 loss 5.8697:  59%|█████▉    | 738/1247 [17:12<11:54,  1.40s/it]\repoch 0 loss 5.8686:  59%|█████▉    | 738/1247 [17:12<11:54,  1.40s/it]\repoch 0 loss 5.8686:  59%|█████▉    | 739/1247 [17:13<11:50,  1.40s/it]\repoch 0 loss 5.8672:  59%|█████▉    | 739/1247 [17:14<11:50,  1.40s/it]\repoch 0 loss 5.8672:  59%|█████▉    | 740/1247 [17:15<11:51,  1.40s/it]\repoch 0 loss 5.8664:  59%|█████▉    | 740/1247 [17:15<11:51,  1.40s/it]\repoch 0 loss 5.8664:  59%|█████▉    | 741/1247 [17:16<11:50,  1.40s/it]\repoch 0 loss 5.8646:  59%|█████▉    | 741/1247 [17:16<11:50,  1.40s/it]\repoch 0 loss 5.8646:  60%|█████▉    | 742/1247 [17:17<11:45,  1.40s/it]\repoch 0 loss 5.8633:  60%|█████▉    | 742/1247 [17:18<11:45,  1.40s/it]\repoch 0 loss 5.8633:  60%|█████▉    | 743/1247 [17:19<11:44,  1.40s/it]\repoch 0 loss 5.862:  60%|█████▉    | 743/1247 [17:19<11:44,  1.40s/it] \repoch 0 loss 5.862:  60%|█████▉    | 744/1247 [17:20<11:43,  1.40s/it]\repoch 0 loss 5.8606:  60%|█████▉    | 744/1247 [17:21<11:43,  1.40s/it]\repoch 0 loss 5.8606:  60%|█████▉    | 745/1247 [17:22<11:42,  1.40s/it]\repoch 0 loss 5.8589:  60%|█████▉    | 745/1247 [17:22<11:42,  1.40s/it]\repoch 0 loss 5.8589:  60%|█████▉    | 746/1247 [17:23<11:41,  1.40s/it]\repoch 0 loss 5.8578:  60%|█████▉    | 746/1247 [17:23<11:41,  1.40s/it]\repoch 0 loss 5.8578:  60%|█████▉    | 747/1247 [17:24<11:40,  1.40s/it]\repoch 0 loss 5.8565:  60%|█████▉    | 747/1247 [17:25<11:40,  1.40s/it]\repoch 0 loss 5.8565:  60%|█████▉    | 748/1247 [17:26<11:37,  1.40s/it]\repoch 0 loss 5.8558:  60%|█████▉    | 748/1247 [17:26<11:37,  1.40s/it]\repoch 0 loss 5.8558:  60%|██████    | 749/1247 [17:27<11:37,  1.40s/it]\repoch 0 loss 5.855:  60%|██████    | 749/1247 [17:28<11:37,  1.40s/it] \repoch 0 loss 5.855:  60%|██████    | 750/1247 [17:29<11:36,  1.40s/it]\repoch 0 loss 5.8545:  60%|██████    | 750/1247 [17:29<11:36,  1.40s/it]\repoch 0 loss 5.8545:  60%|██████    | 751/1247 [17:30<11:37,  1.41s/it]\repoch 0 loss 5.8542:  60%|██████    | 751/1247 [17:30<11:37,  1.41s/it]\repoch 0 loss 5.8542:  60%|██████    | 752/1247 [17:31<11:36,  1.41s/it]\repoch 0 loss 5.8536:  60%|██████    | 752/1247 [17:32<11:36,  1.41s/it]\repoch 0 loss 5.8536:  60%|██████    | 753/1247 [17:33<11:33,  1.40s/it]\repoch 0 loss 5.852:  60%|██████    | 753/1247 [17:33<11:33,  1.40s/it] \repoch 0 loss 5.852:  60%|██████    | 754/1247 [17:34<11:33,  1.41s/it]\repoch 0 loss 5.8513:  60%|██████    | 754/1247 [17:35<11:33,  1.41s/it]\repoch 0 loss 5.8513:  61%|██████    | 755/1247 [17:36<11:31,  1.41s/it]\repoch 0 loss 5.8512:  61%|██████    | 755/1247 [17:36<11:31,  1.41s/it]\repoch 0 loss 5.8512:  61%|██████    | 756/1247 [17:37<11:30,  1.41s/it]\repoch 0 loss 5.8502:  61%|██████    | 756/1247 [17:38<11:30,  1.41s/it]\repoch 0 loss 5.8502:  61%|██████    | 757/1247 [17:38<11:30,  1.41s/it]\repoch 0 loss 5.8494:  61%|██████    | 757/1247 [17:39<11:30,  1.41s/it]\repoch 0 loss 5.8494:  61%|██████    | 758/1247 [17:40<11:25,  1.40s/it]\repoch 0 loss 5.8484:  61%|██████    | 758/1247 [17:40<11:25,  1.40s/it]\repoch 0 loss 5.8484:  61%|██████    | 759/1247 [17:41<11:26,  1.41s/it]\repoch 0 loss 5.8473:  61%|██████    | 759/1247 [17:42<11:26,  1.41s/it]\repoch 0 loss 5.8473:  61%|██████    | 760/1247 [17:43<11:25,  1.41s/it]\repoch 0 loss 5.8468:  61%|██████    | 760/1247 [17:43<11:25,  1.41s/it]\repoch 0 loss 5.8468:  61%|██████    | 761/1247 [17:44<11:24,  1.41s/it]\repoch 0 loss 5.8456:  61%|██████    | 761/1247 [17:45<11:24,  1.41s/it]\repoch 0 loss 5.8456:  61%|██████    | 762/1247 [17:45<11:24,  1.41s/it]\repoch 0 loss 5.8443:  61%|██████    | 762/1247 [17:46<11:24,  1.41s/it]\repoch 0 loss 5.8443:  61%|██████    | 763/1247 [17:47<11:24,  1.41s/it]\repoch 0 loss 5.8437:  61%|██████    | 763/1247 [17:47<11:24,  1.41s/it]\repoch 0 loss 5.8437:  61%|██████▏   | 764/1247 [17:48<11:20,  1.41s/it]\repoch 0 loss 5.8432:  61%|██████▏   | 764/1247 [17:49<11:20,  1.41s/it]\repoch 0 loss 5.8432:  61%|██████▏   | 765/1247 [17:50<11:19,  1.41s/it]\repoch 0 loss 5.8418:  61%|██████▏   | 765/1247 [17:50<11:19,  1.41s/it]\repoch 0 loss 5.8418:  61%|██████▏   | 766/1247 [17:51<11:18,  1.41s/it]\repoch 0 loss 5.8414:  61%|██████▏   | 766/1247 [17:52<11:18,  1.41s/it]\repoch 0 loss 5.8414:  62%|██████▏   | 767/1247 [17:52<11:17,  1.41s/it]\repoch 0 loss 5.8405:  62%|██████▏   | 767/1247 [17:53<11:17,  1.41s/it]\repoch 0 loss 5.8405:  62%|██████▏   | 768/1247 [17:54<11:15,  1.41s/it]\repoch 0 loss 5.8395:  62%|██████▏   | 768/1247 [17:54<11:15,  1.41s/it]\repoch 0 loss 5.8395:  62%|██████▏   | 769/1247 [17:55<11:15,  1.41s/it]\repoch 0 loss 5.8384:  62%|██████▏   | 769/1247 [17:56<11:15,  1.41s/it]\repoch 0 loss 5.8384:  62%|██████▏   | 770/1247 [17:57<11:12,  1.41s/it]\repoch 0 loss 5.8382:  62%|██████▏   | 770/1247 [17:57<11:12,  1.41s/it]\repoch 0 loss 5.8382:  62%|██████▏   | 771/1247 [17:58<11:12,  1.41s/it]\repoch 0 loss 5.8371:  62%|██████▏   | 771/1247 [17:59<11:12,  1.41s/it]\repoch 0 loss 5.8371:  62%|██████▏   | 772/1247 [18:00<11:11,  1.41s/it]\repoch 0 loss 5.8357:  62%|██████▏   | 772/1247 [18:00<11:11,  1.41s/it]\repoch 0 loss 5.8357:  62%|██████▏   | 773/1247 [18:01<11:07,  1.41s/it]\repoch 0 loss 5.8339:  62%|██████▏   | 773/1247 [18:01<11:07,  1.41s/it]\repoch 0 loss 5.8339:  62%|██████▏   | 774/1247 [18:02<11:05,  1.41s/it]\repoch 0 loss 5.8331:  62%|██████▏   | 774/1247 [18:03<11:05,  1.41s/it]\repoch 0 loss 5.8331:  62%|██████▏   | 775/1247 [18:04<11:04,  1.41s/it]\repoch 0 loss 5.8324:  62%|██████▏   | 775/1247 [18:04<11:04,  1.41s/it]\repoch 0 loss 5.8324:  62%|██████▏   | 776/1247 [18:05<11:04,  1.41s/it]\repoch 0 loss 5.832:  62%|██████▏   | 776/1247 [18:06<11:04,  1.41s/it] \repoch 0 loss 5.832:  62%|██████▏   | 777/1247 [18:07<11:02,  1.41s/it]\repoch 0 loss 5.8309:  62%|██████▏   | 777/1247 [18:07<11:02,  1.41s/it]\repoch 0 loss 5.8309:  62%|██████▏   | 778/1247 [18:08<10:59,  1.41s/it]\repoch 0 loss 5.8302:  62%|██████▏   | 778/1247 [18:09<10:59,  1.41s/it]\repoch 0 loss 5.8302:  62%|██████▏   | 779/1247 [18:09<10:59,  1.41s/it]\repoch 0 loss 5.8288:  62%|██████▏   | 779/1247 [18:10<10:59,  1.41s/it]\repoch 0 loss 5.8288:  63%|██████▎   | 780/1247 [18:11<10:58,  1.41s/it]\repoch 0 loss 5.8281:  63%|██████▎   | 780/1247 [18:11<10:58,  1.41s/it]\repoch 0 loss 5.8281:  63%|██████▎   | 781/1247 [18:12<10:57,  1.41s/it]\repoch 0 loss 5.8275:  63%|██████▎   | 781/1247 [18:13<10:57,  1.41s/it]\repoch 0 loss 5.8275:  63%|██████▎   | 782/1247 [18:14<10:55,  1.41s/it]\repoch 0 loss 5.8268:  63%|██████▎   | 782/1247 [18:14<10:55,  1.41s/it]\repoch 0 loss 5.8268:  63%|██████▎   | 783/1247 [18:15<10:53,  1.41s/it]\repoch 0 loss 5.8255:  63%|██████▎   | 783/1247 [18:16<10:53,  1.41s/it]\repoch 0 loss 5.8255:  63%|██████▎   | 784/1247 [18:16<10:52,  1.41s/it]\repoch 0 loss 5.8245:  63%|██████▎   | 784/1247 [18:17<10:52,  1.41s/it]\repoch 0 loss 5.8245:  63%|██████▎   | 785/1247 [18:18<10:51,  1.41s/it]\repoch 0 loss 5.8236:  63%|██████▎   | 785/1247 [18:18<10:51,  1.41s/it]\repoch 0 loss 5.8236:  63%|██████▎   | 786/1247 [18:19<10:49,  1.41s/it]\repoch 0 loss 5.8223:  63%|██████▎   | 786/1247 [18:20<10:49,  1.41s/it]\repoch 0 loss 5.8223:  63%|██████▎   | 787/1247 [18:21<10:49,  1.41s/it]\repoch 0 loss 5.8218:  63%|██████▎   | 787/1247 [18:21<10:49,  1.41s/it]\repoch 0 loss 5.8218:  63%|██████▎   | 788/1247 [18:22<10:47,  1.41s/it]\repoch 0 loss 5.8212:  63%|██████▎   | 788/1247 [18:23<10:47,  1.41s/it]\repoch 0 loss 5.8212:  63%|██████▎   | 789/1247 [18:24<10:45,  1.41s/it]\repoch 0 loss 5.8206:  63%|██████▎   | 789/1247 [18:24<10:45,  1.41s/it]\repoch 0 loss 5.8206:  63%|██████▎   | 790/1247 [18:25<10:47,  1.42s/it]\repoch 0 loss 5.82:  63%|██████▎   | 790/1247 [18:25<10:47,  1.42s/it]  \repoch 0 loss 5.82:  63%|██████▎   | 791/1247 [18:26<10:44,  1.41s/it]\repoch 0 loss 5.8193:  63%|██████▎   | 791/1247 [18:27<10:44,  1.41s/it]\repoch 0 loss 5.8193:  64%|██████▎   | 792/1247 [18:28<10:42,  1.41s/it]\repoch 0 loss 5.819:  64%|██████▎   | 792/1247 [18:28<10:42,  1.41s/it] \repoch 0 loss 5.819:  64%|██████▎   | 793/1247 [18:29<10:42,  1.42s/it]\repoch 0 loss 5.8184:  64%|██████▎   | 793/1247 [18:30<10:42,  1.42s/it]\repoch 0 loss 5.8184:  64%|██████▎   | 794/1247 [18:31<10:41,  1.42s/it]\repoch 0 loss 5.8173:  64%|██████▎   | 794/1247 [18:31<10:41,  1.42s/it]\repoch 0 loss 5.8173:  64%|██████▍   | 795/1247 [18:32<10:39,  1.41s/it]\repoch 0 loss 5.8157:  64%|██████▍   | 795/1247 [18:33<10:39,  1.41s/it]\repoch 0 loss 5.8157:  64%|██████▍   | 796/1247 [18:33<10:36,  1.41s/it]\repoch 0 loss 5.8148:  64%|██████▍   | 796/1247 [18:34<10:36,  1.41s/it]\repoch 0 loss 5.8148:  64%|██████▍   | 797/1247 [18:35<10:36,  1.41s/it]\repoch 0 loss 5.8138:  64%|██████▍   | 797/1247 [18:35<10:36,  1.41s/it]\repoch 0 loss 5.8138:  64%|██████▍   | 798/1247 [18:36<10:32,  1.41s/it]\repoch 0 loss 5.8132:  64%|██████▍   | 798/1247 [18:37<10:32,  1.41s/it]\repoch 0 loss 5.8132:  64%|██████▍   | 799/1247 [18:38<10:31,  1.41s/it]\repoch 0 loss 5.812:  64%|██████▍   | 799/1247 [18:38<10:31,  1.41s/it] \repoch 0 loss 5.812:  64%|██████▍   | 800/1247 [18:39<10:29,  1.41s/it]\repoch 0 loss 5.8108:  64%|██████▍   | 800/1247 [18:40<10:29,  1.41s/it]\repoch 0 loss 5.8108:  64%|██████▍   | 801/1247 [18:40<10:28,  1.41s/it]\repoch 0 loss 5.8093:  64%|██████▍   | 801/1247 [18:41<10:28,  1.41s/it]\repoch 0 loss 5.8093:  64%|██████▍   | 802/1247 [18:42<10:26,  1.41s/it]\repoch 0 loss 5.8085:  64%|██████▍   | 802/1247 [18:42<10:26,  1.41s/it]\repoch 0 loss 5.8085:  64%|██████▍   | 803/1247 [18:43<10:25,  1.41s/it]\repoch 0 loss 5.808:  64%|██████▍   | 803/1247 [18:44<10:25,  1.41s/it] \repoch 0 loss 5.808:  64%|██████▍   | 804/1247 [18:45<10:23,  1.41s/it]\repoch 0 loss 5.8063:  64%|██████▍   | 804/1247 [18:45<10:23,  1.41s/it]\repoch 0 loss 5.8063:  65%|██████▍   | 805/1247 [18:46<10:21,  1.41s/it]\repoch 0 loss 5.8049:  65%|██████▍   | 805/1247 [18:47<10:21,  1.41s/it]\repoch 0 loss 5.8049:  65%|██████▍   | 806/1247 [18:47<10:19,  1.41s/it]\repoch 0 loss 5.804:  65%|██████▍   | 806/1247 [18:48<10:19,  1.41s/it] \repoch 0 loss 5.804:  65%|██████▍   | 807/1247 [18:49<10:18,  1.40s/it]\repoch 0 loss 5.8032:  65%|██████▍   | 807/1247 [18:49<10:18,  1.40s/it]\repoch 0 loss 5.8032:  65%|██████▍   | 808/1247 [18:50<10:18,  1.41s/it]\repoch 0 loss 5.8025:  65%|██████▍   | 808/1247 [18:51<10:18,  1.41s/it]\repoch 0 loss 5.8025:  65%|██████▍   | 809/1247 [18:52<10:16,  1.41s/it]\repoch 0 loss 5.8021:  65%|██████▍   | 809/1247 [18:52<10:16,  1.41s/it]\repoch 0 loss 5.8021:  65%|██████▍   | 810/1247 [18:53<10:18,  1.42s/it]\repoch 0 loss 5.8014:  65%|██████▍   | 810/1247 [18:54<10:18,  1.42s/it]\repoch 0 loss 5.8014:  65%|██████▌   | 811/1247 [18:55<10:17,  1.42s/it]\repoch 0 loss 5.8002:  65%|██████▌   | 811/1247 [18:55<10:17,  1.42s/it]\repoch 0 loss 5.8002:  65%|██████▌   | 812/1247 [18:56<10:14,  1.41s/it]\repoch 0 loss 5.7994:  65%|██████▌   | 812/1247 [18:56<10:14,  1.41s/it]\repoch 0 loss 5.7994:  65%|██████▌   | 813/1247 [18:57<10:13,  1.41s/it]\repoch 0 loss 5.798:  65%|██████▌   | 813/1247 [18:58<10:13,  1.41s/it] \repoch 0 loss 5.798:  65%|██████▌   | 814/1247 [18:59<10:11,  1.41s/it]\repoch 0 loss 5.7969:  65%|██████▌   | 814/1247 [18:59<10:11,  1.41s/it]\repoch 0 loss 5.7969:  65%|██████▌   | 815/1247 [19:00<10:11,  1.42s/it]\repoch 0 loss 5.7962:  65%|██████▌   | 815/1247 [19:01<10:11,  1.42s/it]\repoch 0 loss 5.7962:  65%|██████▌   | 816/1247 [19:02<10:09,  1.42s/it]\repoch 0 loss 5.7954:  65%|██████▌   | 816/1247 [19:02<10:09,  1.42s/it]\repoch 0 loss 5.7954:  66%|██████▌   | 817/1247 [19:03<10:07,  1.41s/it]\repoch 0 loss 5.7943:  66%|██████▌   | 817/1247 [19:04<10:07,  1.41s/it]\repoch 0 loss 5.7943:  66%|██████▌   | 818/1247 [19:04<10:06,  1.41s/it]\repoch 0 loss 5.7941:  66%|██████▌   | 818/1247 [19:05<10:06,  1.41s/it]\repoch 0 loss 5.7941:  66%|██████▌   | 819/1247 [19:06<10:03,  1.41s/it]\repoch 0 loss 5.7929:  66%|██████▌   | 819/1247 [19:06<10:03,  1.41s/it]\repoch 0 loss 5.7929:  66%|██████▌   | 820/1247 [19:07<10:03,  1.41s/it]\repoch 0 loss 5.792:  66%|██████▌   | 820/1247 [19:08<10:03,  1.41s/it] \repoch 0 loss 5.792:  66%|██████▌   | 821/1247 [19:09<09:59,  1.41s/it]\repoch 0 loss 5.7914:  66%|██████▌   | 821/1247 [19:09<09:59,  1.41s/it]\repoch 0 loss 5.7914:  66%|██████▌   | 822/1247 [19:10<09:57,  1.41s/it]\repoch 0 loss 5.7905:  66%|██████▌   | 822/1247 [19:11<09:57,  1.41s/it]\repoch 0 loss 5.7905:  66%|██████▌   | 823/1247 [19:11<09:55,  1.40s/it]\repoch 0 loss 5.7903:  66%|██████▌   | 823/1247 [19:12<09:55,  1.40s/it]\repoch 0 loss 5.7903:  66%|██████▌   | 824/1247 [19:13<09:53,  1.40s/it]\repoch 0 loss 5.7888:  66%|██████▌   | 824/1247 [19:13<09:53,  1.40s/it]\repoch 0 loss 5.7888:  66%|██████▌   | 825/1247 [19:14<09:49,  1.40s/it]\repoch 0 loss 5.7876:  66%|██████▌   | 825/1247 [19:15<09:49,  1.40s/it]\repoch 0 loss 5.7876:  66%|██████▌   | 826/1247 [19:16<09:47,  1.40s/it]\repoch 0 loss 5.7866:  66%|██████▌   | 826/1247 [19:16<09:47,  1.40s/it]\repoch 0 loss 5.7866:  66%|██████▋   | 827/1247 [19:17<09:44,  1.39s/it]\repoch 0 loss 5.7856:  66%|██████▋   | 827/1247 [19:18<09:44,  1.39s/it]\repoch 0 loss 5.7856:  66%|██████▋   | 828/1247 [19:18<09:43,  1.39s/it]\repoch 0 loss 5.7851:  66%|██████▋   | 828/1247 [19:19<09:43,  1.39s/it]\repoch 0 loss 5.7851:  66%|██████▋   | 829/1247 [19:20<09:42,  1.39s/it]\repoch 0 loss 5.7842:  66%|██████▋   | 829/1247 [19:20<09:42,  1.39s/it]\repoch 0 loss 5.7842:  67%|██████▋   | 830/1247 [19:21<09:41,  1.39s/it]\repoch 0 loss 5.7833:  67%|██████▋   | 830/1247 [19:22<09:41,  1.39s/it]\repoch 0 loss 5.7833:  67%|██████▋   | 831/1247 [19:23<09:38,  1.39s/it]\repoch 0 loss 5.7822:  67%|██████▋   | 831/1247 [19:23<09:38,  1.39s/it]\repoch 0 loss 5.7822:  67%|██████▋   | 832/1247 [19:24<09:37,  1.39s/it]\repoch 0 loss 5.7814:  67%|██████▋   | 832/1247 [19:25<09:37,  1.39s/it]\repoch 0 loss 5.7814:  67%|██████▋   | 833/1247 [19:25<09:39,  1.40s/it]\repoch 0 loss 5.7799:  67%|██████▋   | 833/1247 [19:26<09:39,  1.40s/it]\repoch 0 loss 5.7799:  67%|██████▋   | 834/1247 [19:27<09:38,  1.40s/it]\repoch 0 loss 5.779:  67%|██████▋   | 834/1247 [19:27<09:38,  1.40s/it] \repoch 0 loss 5.779:  67%|██████▋   | 835/1247 [19:28<09:36,  1.40s/it]\repoch 0 loss 5.7779:  67%|██████▋   | 835/1247 [19:29<09:36,  1.40s/it]\repoch 0 loss 5.7779:  67%|██████▋   | 836/1247 [19:30<09:34,  1.40s/it]\repoch 0 loss 5.7776:  67%|██████▋   | 836/1247 [19:30<09:34,  1.40s/it]\repoch 0 loss 5.7776:  67%|██████▋   | 837/1247 [19:31<09:34,  1.40s/it]\repoch 0 loss 5.7772:  67%|██████▋   | 837/1247 [19:32<09:34,  1.40s/it]\repoch 0 loss 5.7772:  67%|██████▋   | 838/1247 [19:32<09:33,  1.40s/it]\repoch 0 loss 5.7768:  67%|██████▋   | 838/1247 [19:33<09:33,  1.40s/it]\repoch 0 loss 5.7768:  67%|██████▋   | 839/1247 [19:34<09:32,  1.40s/it]\repoch 0 loss 5.776:  67%|██████▋   | 839/1247 [19:34<09:32,  1.40s/it] \repoch 0 loss 5.776:  67%|██████▋   | 840/1247 [19:35<09:29,  1.40s/it]\repoch 0 loss 5.7748:  67%|██████▋   | 840/1247 [19:36<09:29,  1.40s/it]\repoch 0 loss 5.7748:  67%|██████▋   | 841/1247 [19:37<09:29,  1.40s/it]\repoch 0 loss 5.7735:  67%|██████▋   | 841/1247 [19:37<09:29,  1.40s/it]\repoch 0 loss 5.7735:  68%|██████▊   | 842/1247 [19:38<09:28,  1.40s/it]\repoch 0 loss 5.7726:  68%|██████▊   | 842/1247 [19:39<09:28,  1.40s/it]\repoch 0 loss 5.7726:  68%|██████▊   | 843/1247 [19:39<09:27,  1.41s/it]\repoch 0 loss 5.7714:  68%|██████▊   | 843/1247 [19:40<09:27,  1.41s/it]\repoch 0 loss 5.7714:  68%|██████▊   | 844/1247 [19:41<09:24,  1.40s/it]\repoch 0 loss 5.7703:  68%|██████▊   | 844/1247 [19:41<09:24,  1.40s/it]\repoch 0 loss 5.7703:  68%|██████▊   | 845/1247 [19:42<09:24,  1.40s/it]\repoch 0 loss 5.7692:  68%|██████▊   | 845/1247 [19:43<09:24,  1.40s/it]\repoch 0 loss 5.7692:  68%|██████▊   | 846/1247 [19:44<09:21,  1.40s/it]\repoch 0 loss 5.7686:  68%|██████▊   | 846/1247 [19:44<09:21,  1.40s/it]\repoch 0 loss 5.7686:  68%|██████▊   | 847/1247 [19:45<09:21,  1.40s/it]\repoch 0 loss 5.7676:  68%|██████▊   | 847/1247 [19:46<09:21,  1.40s/it]\repoch 0 loss 5.7676:  68%|██████▊   | 848/1247 [19:46<09:20,  1.41s/it]\repoch 0 loss 5.7671:  68%|██████▊   | 848/1247 [19:47<09:20,  1.41s/it]\repoch 0 loss 5.7671:  68%|██████▊   | 849/1247 [19:48<09:20,  1.41s/it]\repoch 0 loss 5.7664:  68%|██████▊   | 849/1247 [19:48<09:20,  1.41s/it]\repoch 0 loss 5.7664:  68%|██████▊   | 850/1247 [19:49<09:18,  1.41s/it]\repoch 0 loss 5.7655:  68%|██████▊   | 850/1247 [19:50<09:18,  1.41s/it]\repoch 0 loss 5.7655:  68%|██████▊   | 851/1247 [19:51<09:19,  1.41s/it]\repoch 0 loss 5.7647:  68%|██████▊   | 851/1247 [19:51<09:19,  1.41s/it]\repoch 0 loss 5.7647:  68%|██████▊   | 852/1247 [19:52<09:17,  1.41s/it]\repoch 0 loss 5.7638:  68%|██████▊   | 852/1247 [19:53<09:17,  1.41s/it]\repoch 0 loss 5.7638:  68%|██████▊   | 853/1247 [19:54<09:18,  1.42s/it]\repoch 0 loss 5.7627:  68%|██████▊   | 853/1247 [19:54<09:18,  1.42s/it]\repoch 0 loss 5.7627:  68%|██████▊   | 854/1247 [19:55<09:16,  1.42s/it]\repoch 0 loss 5.7616:  68%|██████▊   | 854/1247 [19:55<09:16,  1.42s/it]\repoch 0 loss 5.7616:  69%|██████▊   | 855/1247 [19:56<09:12,  1.41s/it]\repoch 0 loss 5.7614:  69%|██████▊   | 855/1247 [19:57<09:12,  1.41s/it]\repoch 0 loss 5.7614:  69%|██████▊   | 856/1247 [19:58<09:12,  1.41s/it]\repoch 0 loss 5.7608:  69%|██████▊   | 856/1247 [19:58<09:12,  1.41s/it]\repoch 0 loss 5.7608:  69%|██████▊   | 857/1247 [19:59<09:10,  1.41s/it]\repoch 0 loss 5.76:  69%|██████▊   | 857/1247 [20:00<09:10,  1.41s/it]  \repoch 0 loss 5.76:  69%|██████▉   | 858/1247 [20:01<09:09,  1.41s/it]\repoch 0 loss 5.7588:  69%|██████▉   | 858/1247 [20:01<09:09,  1.41s/it]\repoch 0 loss 5.7588:  69%|██████▉   | 859/1247 [20:02<09:07,  1.41s/it]\repoch 0 loss 5.7577:  69%|██████▉   | 859/1247 [20:03<09:07,  1.41s/it]\repoch 0 loss 5.7577:  69%|██████▉   | 860/1247 [20:03<09:07,  1.41s/it]\repoch 0 loss 5.7567:  69%|██████▉   | 860/1247 [20:04<09:07,  1.41s/it]\repoch 0 loss 5.7567:  69%|██████▉   | 861/1247 [20:05<09:05,  1.41s/it]\repoch 0 loss 5.7561:  69%|██████▉   | 861/1247 [20:05<09:05,  1.41s/it]\repoch 0 loss 5.7561:  69%|██████▉   | 862/1247 [20:06<09:04,  1.41s/it]\repoch 0 loss 5.7552:  69%|██████▉   | 862/1247 [20:07<09:04,  1.41s/it]\repoch 0 loss 5.7552:  69%|██████▉   | 863/1247 [20:08<09:02,  1.41s/it]\repoch 0 loss 5.755:  69%|██████▉   | 863/1247 [20:08<09:02,  1.41s/it] \repoch 0 loss 5.755:  69%|██████▉   | 864/1247 [20:09<09:01,  1.41s/it]\repoch 0 loss 5.7545:  69%|██████▉   | 864/1247 [20:10<09:01,  1.41s/it]\repoch 0 loss 5.7545:  69%|██████▉   | 865/1247 [20:10<08:58,  1.41s/it]\repoch 0 loss 5.7533:  69%|██████▉   | 865/1247 [20:11<08:58,  1.41s/it]\repoch 0 loss 5.7533:  69%|██████▉   | 866/1247 [20:12<09:00,  1.42s/it]\repoch 0 loss 5.7524:  69%|██████▉   | 866/1247 [20:12<09:00,  1.42s/it]\repoch 0 loss 5.7524:  70%|██████▉   | 867/1247 [20:13<08:57,  1.42s/it]\repoch 0 loss 5.7515:  70%|██████▉   | 867/1247 [20:14<08:57,  1.42s/it]\repoch 0 loss 5.7515:  70%|██████▉   | 868/1247 [20:15<08:55,  1.41s/it]\repoch 0 loss 5.7507:  70%|██████▉   | 868/1247 [20:15<08:55,  1.41s/it]\repoch 0 loss 5.7507:  70%|██████▉   | 869/1247 [20:16<08:54,  1.41s/it]\repoch 0 loss 5.7497:  70%|██████▉   | 869/1247 [20:17<08:54,  1.41s/it]\repoch 0 loss 5.7497:  70%|██████▉   | 870/1247 [20:18<08:53,  1.41s/it]\repoch 0 loss 5.7489:  70%|██████▉   | 870/1247 [20:18<08:53,  1.41s/it]\repoch 0 loss 5.7489:  70%|██████▉   | 871/1247 [20:19<08:53,  1.42s/it]\repoch 0 loss 5.7487:  70%|██████▉   | 871/1247 [20:20<08:53,  1.42s/it]\repoch 0 loss 5.7487:  70%|██████▉   | 872/1247 [20:20<08:53,  1.42s/it]\repoch 0 loss 5.7479:  70%|██████▉   | 872/1247 [20:21<08:53,  1.42s/it]\repoch 0 loss 5.7479:  70%|███████   | 873/1247 [20:22<08:49,  1.42s/it]\repoch 0 loss 5.7465:  70%|███████   | 873/1247 [20:22<08:49,  1.42s/it]\repoch 0 loss 5.7465:  70%|███████   | 874/1247 [20:23<08:47,  1.42s/it]\repoch 0 loss 5.7458:  70%|███████   | 874/1247 [20:24<08:47,  1.42s/it]\repoch 0 loss 5.7458:  70%|███████   | 875/1247 [20:25<08:45,  1.41s/it]\repoch 0 loss 5.7455:  70%|███████   | 875/1247 [20:25<08:45,  1.41s/it]\repoch 0 loss 5.7455:  70%|███████   | 876/1247 [20:26<08:44,  1.41s/it]\repoch 0 loss 5.7448:  70%|███████   | 876/1247 [20:27<08:44,  1.41s/it]\repoch 0 loss 5.7448:  70%|███████   | 877/1247 [20:27<08:42,  1.41s/it]\repoch 0 loss 5.7445:  70%|███████   | 877/1247 [20:28<08:42,  1.41s/it]\repoch 0 loss 5.7445:  70%|███████   | 878/1247 [20:29<08:42,  1.41s/it]\repoch 0 loss 5.7441:  70%|███████   | 878/1247 [20:29<08:42,  1.41s/it]\repoch 0 loss 5.7441:  70%|███████   | 879/1247 [20:30<08:39,  1.41s/it]\repoch 0 loss 5.7438:  70%|███████   | 879/1247 [20:31<08:39,  1.41s/it]\repoch 0 loss 5.7438:  71%|███████   | 880/1247 [20:32<08:37,  1.41s/it]\repoch 0 loss 5.743:  71%|███████   | 880/1247 [20:32<08:37,  1.41s/it] \repoch 0 loss 5.743:  71%|███████   | 881/1247 [20:33<08:34,  1.41s/it]\repoch 0 loss 5.7424:  71%|███████   | 881/1247 [20:34<08:34,  1.41s/it]\repoch 0 loss 5.7424:  71%|███████   | 882/1247 [20:34<08:33,  1.41s/it]\repoch 0 loss 5.7415:  71%|███████   | 882/1247 [20:35<08:33,  1.41s/it]\repoch 0 loss 5.7415:  71%|███████   | 883/1247 [20:36<08:31,  1.40s/it]\repoch 0 loss 5.7406:  71%|███████   | 883/1247 [20:36<08:31,  1.40s/it]\repoch 0 loss 5.7406:  71%|███████   | 884/1247 [20:37<08:29,  1.40s/it]\repoch 0 loss 5.7397:  71%|███████   | 884/1247 [20:38<08:29,  1.40s/it]\repoch 0 loss 5.7397:  71%|███████   | 885/1247 [20:39<08:28,  1.40s/it]\repoch 0 loss 5.7389:  71%|███████   | 885/1247 [20:39<08:28,  1.40s/it]\repoch 0 loss 5.7389:  71%|███████   | 886/1247 [20:40<08:27,  1.41s/it]\repoch 0 loss 5.7382:  71%|███████   | 886/1247 [20:41<08:27,  1.41s/it]\repoch 0 loss 5.7382:  71%|███████   | 887/1247 [20:42<08:26,  1.41s/it]\repoch 0 loss 5.7377:  71%|███████   | 887/1247 [20:42<08:26,  1.41s/it]\repoch 0 loss 5.7377:  71%|███████   | 888/1247 [20:43<08:24,  1.41s/it]\repoch 0 loss 5.737:  71%|███████   | 888/1247 [20:43<08:24,  1.41s/it] \repoch 0 loss 5.737:  71%|███████▏  | 889/1247 [20:44<08:23,  1.41s/it]\repoch 0 loss 5.7364:  71%|███████▏  | 889/1247 [20:45<08:23,  1.41s/it]\repoch 0 loss 5.7364:  71%|███████▏  | 890/1247 [20:46<08:20,  1.40s/it]\repoch 0 loss 5.7355:  71%|███████▏  | 890/1247 [20:46<08:20,  1.40s/it]\repoch 0 loss 5.7355:  71%|███████▏  | 891/1247 [20:47<08:18,  1.40s/it]\repoch 0 loss 5.7355:  71%|███████▏  | 891/1247 [20:48<08:18,  1.40s/it]\repoch 0 loss 5.7355:  72%|███████▏  | 892/1247 [20:49<08:17,  1.40s/it]\repoch 0 loss 5.7349:  72%|███████▏  | 892/1247 [20:49<08:17,  1.40s/it]\repoch 0 loss 5.7349:  72%|███████▏  | 893/1247 [20:50<08:16,  1.40s/it]\repoch 0 loss 5.7345:  72%|███████▏  | 893/1247 [20:50<08:16,  1.40s/it]\repoch 0 loss 5.7345:  72%|███████▏  | 894/1247 [20:51<08:15,  1.40s/it]\repoch 0 loss 5.7337:  72%|███████▏  | 894/1247 [20:52<08:15,  1.40s/it]\repoch 0 loss 5.7337:  72%|███████▏  | 895/1247 [20:53<08:12,  1.40s/it]\repoch 0 loss 5.7327:  72%|███████▏  | 895/1247 [20:53<08:12,  1.40s/it]\repoch 0 loss 5.7327:  72%|███████▏  | 896/1247 [20:54<08:12,  1.40s/it]\repoch 0 loss 5.7321:  72%|███████▏  | 896/1247 [20:55<08:12,  1.40s/it]\repoch 0 loss 5.7321:  72%|███████▏  | 897/1247 [20:56<08:08,  1.40s/it]\repoch 0 loss 5.7316:  72%|███████▏  | 897/1247 [20:56<08:08,  1.40s/it]\repoch 0 loss 5.7316:  72%|███████▏  | 898/1247 [20:57<08:07,  1.40s/it]\repoch 0 loss 5.7308:  72%|███████▏  | 898/1247 [20:57<08:07,  1.40s/it]\repoch 0 loss 5.7308:  72%|███████▏  | 899/1247 [20:58<08:06,  1.40s/it]\repoch 0 loss 5.7303:  72%|███████▏  | 899/1247 [20:59<08:06,  1.40s/it]\repoch 0 loss 5.7303:  72%|███████▏  | 900/1247 [21:00<08:04,  1.40s/it]\repoch 0 loss 5.7295:  72%|███████▏  | 900/1247 [21:00<08:04,  1.40s/it]\repoch 0 loss 5.7295:  72%|███████▏  | 901/1247 [21:01<08:02,  1.39s/it]\repoch 0 loss 5.7282:  72%|███████▏  | 901/1247 [21:02<08:02,  1.39s/it]\repoch 0 loss 5.7282:  72%|███████▏  | 902/1247 [21:02<08:02,  1.40s/it]\repoch 0 loss 5.7276:  72%|███████▏  | 902/1247 [21:03<08:02,  1.40s/it]\repoch 0 loss 5.7276:  72%|███████▏  | 903/1247 [21:04<08:01,  1.40s/it]\repoch 0 loss 5.7274:  72%|███████▏  | 903/1247 [21:04<08:01,  1.40s/it]\repoch 0 loss 5.7274:  72%|███████▏  | 904/1247 [21:05<08:01,  1.40s/it]\repoch 0 loss 5.7263:  72%|███████▏  | 904/1247 [21:06<08:01,  1.40s/it]\repoch 0 loss 5.7263:  73%|███████▎  | 905/1247 [21:07<07:59,  1.40s/it]\repoch 0 loss 5.7257:  73%|███████▎  | 905/1247 [21:07<07:59,  1.40s/it]\repoch 0 loss 5.7257:  73%|███████▎  | 906/1247 [21:08<07:57,  1.40s/it]\repoch 0 loss 5.7251:  73%|███████▎  | 906/1247 [21:09<07:57,  1.40s/it]\repoch 0 loss 5.7251:  73%|███████▎  | 907/1247 [21:10<07:57,  1.40s/it]\repoch 0 loss 5.7246:  73%|███████▎  | 907/1247 [21:10<07:57,  1.40s/it]\repoch 0 loss 5.7246:  73%|███████▎  | 908/1247 [21:11<07:55,  1.40s/it]\repoch 0 loss 5.7235:  73%|███████▎  | 908/1247 [21:11<07:55,  1.40s/it]\repoch 0 loss 5.7235:  73%|███████▎  | 909/1247 [21:12<07:52,  1.40s/it]\repoch 0 loss 5.7223:  73%|███████▎  | 909/1247 [21:13<07:52,  1.40s/it]\repoch 0 loss 5.7223:  73%|███████▎  | 910/1247 [21:14<07:52,  1.40s/it]\repoch 0 loss 5.7211:  73%|███████▎  | 910/1247 [21:14<07:52,  1.40s/it]\repoch 0 loss 5.7211:  73%|███████▎  | 911/1247 [21:15<07:50,  1.40s/it]\repoch 0 loss 5.7202:  73%|███████▎  | 911/1247 [21:16<07:50,  1.40s/it]\repoch 0 loss 5.7202:  73%|███████▎  | 912/1247 [21:17<07:49,  1.40s/it]\repoch 0 loss 5.7195:  73%|███████▎  | 912/1247 [21:17<07:49,  1.40s/it]\repoch 0 loss 5.7195:  73%|███████▎  | 913/1247 [21:18<07:47,  1.40s/it]\repoch 0 loss 5.7188:  73%|███████▎  | 913/1247 [21:18<07:47,  1.40s/it]\repoch 0 loss 5.7188:  73%|███████▎  | 914/1247 [21:19<07:47,  1.41s/it]\repoch 0 loss 5.7176:  73%|███████▎  | 914/1247 [21:20<07:47,  1.41s/it]\repoch 0 loss 5.7176:  73%|███████▎  | 915/1247 [21:21<07:45,  1.40s/it]\repoch 0 loss 5.7163:  73%|███████▎  | 915/1247 [21:21<07:45,  1.40s/it]\repoch 0 loss 5.7163:  73%|███████▎  | 916/1247 [21:22<07:45,  1.40s/it]\repoch 0 loss 5.7155:  73%|███████▎  | 916/1247 [21:23<07:45,  1.40s/it]\repoch 0 loss 5.7155:  74%|███████▎  | 917/1247 [21:24<07:46,  1.41s/it]\repoch 0 loss 5.7151:  74%|███████▎  | 917/1247 [21:24<07:46,  1.41s/it]\repoch 0 loss 5.7151:  74%|███████▎  | 918/1247 [21:25<07:45,  1.41s/it]\repoch 0 loss 5.7139:  74%|███████▎  | 918/1247 [21:26<07:45,  1.41s/it]\repoch 0 loss 5.7139:  74%|███████▎  | 919/1247 [21:26<07:43,  1.41s/it]\repoch 0 loss 5.7132:  74%|███████▎  | 919/1247 [21:27<07:43,  1.41s/it]\repoch 0 loss 5.7132:  74%|███████▍  | 920/1247 [21:28<07:41,  1.41s/it]\repoch 0 loss 5.7125:  74%|███████▍  | 920/1247 [21:28<07:41,  1.41s/it]\repoch 0 loss 5.7125:  74%|███████▍  | 921/1247 [21:29<07:40,  1.41s/it]\repoch 0 loss 5.712:  74%|███████▍  | 921/1247 [21:30<07:40,  1.41s/it] \repoch 0 loss 5.712:  74%|███████▍  | 922/1247 [21:31<07:38,  1.41s/it]\repoch 0 loss 5.7117:  74%|███████▍  | 922/1247 [21:31<07:38,  1.41s/it]\repoch 0 loss 5.7117:  74%|███████▍  | 923/1247 [21:32<07:38,  1.41s/it]\repoch 0 loss 5.7108:  74%|███████▍  | 923/1247 [21:33<07:38,  1.41s/it]\repoch 0 loss 5.7108:  74%|███████▍  | 924/1247 [21:33<07:35,  1.41s/it]\repoch 0 loss 5.7096:  74%|███████▍  | 924/1247 [21:34<07:35,  1.41s/it]\repoch 0 loss 5.7096:  74%|███████▍  | 925/1247 [21:35<07:33,  1.41s/it]\repoch 0 loss 5.7091:  74%|███████▍  | 925/1247 [21:35<07:33,  1.41s/it]\repoch 0 loss 5.7091:  74%|███████▍  | 926/1247 [21:36<07:33,  1.41s/it]\repoch 0 loss 5.7079:  74%|███████▍  | 926/1247 [21:37<07:33,  1.41s/it]\repoch 0 loss 5.7079:  74%|███████▍  | 927/1247 [21:38<07:31,  1.41s/it]\repoch 0 loss 5.7069:  74%|███████▍  | 927/1247 [21:38<07:31,  1.41s/it]\repoch 0 loss 5.7069:  74%|███████▍  | 928/1247 [21:39<07:31,  1.41s/it]\repoch 0 loss 5.7056:  74%|███████▍  | 928/1247 [21:40<07:31,  1.41s/it]\repoch 0 loss 5.7056:  74%|███████▍  | 929/1247 [21:41<07:29,  1.41s/it]\repoch 0 loss 5.705:  74%|███████▍  | 929/1247 [21:41<07:29,  1.41s/it] \repoch 0 loss 5.705:  75%|███████▍  | 930/1247 [21:42<07:27,  1.41s/it]\repoch 0 loss 5.7045:  75%|███████▍  | 930/1247 [21:42<07:27,  1.41s/it]\repoch 0 loss 5.7045:  75%|███████▍  | 931/1247 [21:43<07:27,  1.41s/it]\repoch 0 loss 5.7036:  75%|███████▍  | 931/1247 [21:44<07:27,  1.41s/it]\repoch 0 loss 5.7036:  75%|███████▍  | 932/1247 [21:45<07:24,  1.41s/it]\repoch 0 loss 5.7026:  75%|███████▍  | 932/1247 [21:45<07:24,  1.41s/it]\repoch 0 loss 5.7026:  75%|███████▍  | 933/1247 [21:46<07:23,  1.41s/it]\repoch 0 loss 5.7018:  75%|███████▍  | 933/1247 [21:47<07:23,  1.41s/it]\repoch 0 loss 5.7018:  75%|███████▍  | 934/1247 [21:48<07:23,  1.42s/it]\repoch 0 loss 5.7011:  75%|███████▍  | 934/1247 [21:48<07:23,  1.42s/it]\repoch 0 loss 5.7011:  75%|███████▍  | 935/1247 [21:49<07:21,  1.41s/it]\repoch 0 loss 5.7003:  75%|███████▍  | 935/1247 [21:50<07:21,  1.41s/it]\repoch 0 loss 5.7003:  75%|███████▌  | 936/1247 [21:50<07:19,  1.41s/it]\repoch 0 loss 5.6999:  75%|███████▌  | 936/1247 [21:51<07:19,  1.41s/it]\repoch 0 loss 5.6999:  75%|███████▌  | 937/1247 [21:52<07:16,  1.41s/it]\repoch 0 loss 5.699:  75%|███████▌  | 937/1247 [21:52<07:16,  1.41s/it] \repoch 0 loss 5.699:  75%|███████▌  | 938/1247 [21:53<07:15,  1.41s/it]\repoch 0 loss 5.6981:  75%|███████▌  | 938/1247 [21:54<07:15,  1.41s/it]\repoch 0 loss 5.6981:  75%|███████▌  | 939/1247 [21:55<07:13,  1.41s/it]\repoch 0 loss 5.697:  75%|███████▌  | 939/1247 [21:55<07:13,  1.41s/it] \repoch 0 loss 5.697:  75%|███████▌  | 940/1247 [21:56<07:13,  1.41s/it]\repoch 0 loss 5.6962:  75%|███████▌  | 940/1247 [21:57<07:13,  1.41s/it]\repoch 0 loss 5.6962:  75%|███████▌  | 941/1247 [21:57<07:12,  1.41s/it]\repoch 0 loss 5.696:  75%|███████▌  | 941/1247 [21:58<07:12,  1.41s/it] \repoch 0 loss 5.696:  76%|███████▌  | 942/1247 [21:59<07:11,  1.41s/it]\repoch 0 loss 5.6951:  76%|███████▌  | 942/1247 [21:59<07:11,  1.41s/it]\repoch 0 loss 5.6951:  76%|███████▌  | 943/1247 [22:00<07:09,  1.41s/it]\repoch 0 loss 5.6946:  76%|███████▌  | 943/1247 [22:01<07:09,  1.41s/it]\repoch 0 loss 5.6946:  76%|███████▌  | 944/1247 [22:02<07:08,  1.41s/it]\repoch 0 loss 5.6937:  76%|███████▌  | 944/1247 [22:02<07:08,  1.41s/it]\repoch 0 loss 5.6937:  76%|███████▌  | 945/1247 [22:03<07:07,  1.42s/it]\repoch 0 loss 5.6932:  76%|███████▌  | 945/1247 [22:04<07:07,  1.42s/it]\repoch 0 loss 5.6932:  76%|███████▌  | 946/1247 [22:05<07:05,  1.41s/it]\repoch 0 loss 5.6923:  76%|███████▌  | 946/1247 [22:05<07:05,  1.41s/it]\repoch 0 loss 5.6923:  76%|███████▌  | 947/1247 [22:06<07:03,  1.41s/it]\repoch 0 loss 5.6919:  76%|███████▌  | 947/1247 [22:06<07:03,  1.41s/it]\repoch 0 loss 5.6919:  76%|███████▌  | 948/1247 [22:07<07:01,  1.41s/it]\repoch 0 loss 5.6911:  76%|███████▌  | 948/1247 [22:08<07:01,  1.41s/it]\repoch 0 loss 5.6911:  76%|███████▌  | 949/1247 [22:09<06:58,  1.41s/it]\repoch 0 loss 5.6903:  76%|███████▌  | 949/1247 [22:09<06:58,  1.41s/it]\repoch 0 loss 5.6903:  76%|███████▌  | 950/1247 [22:10<06:57,  1.40s/it]\repoch 0 loss 5.6898:  76%|███████▌  | 950/1247 [22:11<06:57,  1.40s/it]\repoch 0 loss 5.6898:  76%|███████▋  | 951/1247 [22:12<06:54,  1.40s/it]\repoch 0 loss 5.6891:  76%|███████▋  | 951/1247 [22:12<06:54,  1.40s/it]\repoch 0 loss 5.6891:  76%|███████▋  | 952/1247 [22:13<06:53,  1.40s/it]\repoch 0 loss 5.6888:  76%|███████▋  | 952/1247 [22:13<06:53,  1.40s/it]\repoch 0 loss 5.6888:  76%|███████▋  | 953/1247 [22:14<06:52,  1.40s/it]\repoch 0 loss 5.6878:  76%|███████▋  | 953/1247 [22:15<06:52,  1.40s/it]\repoch 0 loss 5.6878:  77%|███████▋  | 954/1247 [22:16<06:50,  1.40s/it]\repoch 0 loss 5.6866:  77%|███████▋  | 954/1247 [22:16<06:50,  1.40s/it]\repoch 0 loss 5.6866:  77%|███████▋  | 955/1247 [22:17<06:48,  1.40s/it]\repoch 0 loss 5.6858:  77%|███████▋  | 955/1247 [22:18<06:48,  1.40s/it]\repoch 0 loss 5.6858:  77%|███████▋  | 956/1247 [22:19<06:47,  1.40s/it]\repoch 0 loss 5.6852:  77%|███████▋  | 956/1247 [22:19<06:47,  1.40s/it]\repoch 0 loss 5.6852:  77%|███████▋  | 957/1247 [22:20<06:47,  1.40s/it]\repoch 0 loss 5.6842:  77%|███████▋  | 957/1247 [22:20<06:47,  1.40s/it]\repoch 0 loss 5.6842:  77%|███████▋  | 958/1247 [22:21<06:45,  1.40s/it]\repoch 0 loss 5.6836:  77%|███████▋  | 958/1247 [22:22<06:45,  1.40s/it]\repoch 0 loss 5.6836:  77%|███████▋  | 959/1247 [22:23<06:43,  1.40s/it]\repoch 0 loss 5.6824:  77%|███████▋  | 959/1247 [22:23<06:43,  1.40s/it]\repoch 0 loss 5.6824:  77%|███████▋  | 960/1247 [22:24<06:41,  1.40s/it]\repoch 0 loss 5.6816:  77%|███████▋  | 960/1247 [22:25<06:41,  1.40s/it]\repoch 0 loss 5.6816:  77%|███████▋  | 961/1247 [22:26<06:38,  1.39s/it]\repoch 0 loss 5.6817:  77%|███████▋  | 961/1247 [22:26<06:38,  1.39s/it]\repoch 0 loss 5.6817:  77%|███████▋  | 962/1247 [22:27<06:38,  1.40s/it]\repoch 0 loss 5.6811:  77%|███████▋  | 962/1247 [22:27<06:38,  1.40s/it]\repoch 0 loss 5.6811:  77%|███████▋  | 963/1247 [22:28<06:36,  1.40s/it]\repoch 0 loss 5.6804:  77%|███████▋  | 963/1247 [22:29<06:36,  1.40s/it]\repoch 0 loss 5.6804:  77%|███████▋  | 964/1247 [22:30<06:34,  1.39s/it]\repoch 0 loss 5.6797:  77%|███████▋  | 964/1247 [22:30<06:34,  1.39s/it]\repoch 0 loss 5.6797:  77%|███████▋  | 965/1247 [22:31<06:34,  1.40s/it]\repoch 0 loss 5.679:  77%|███████▋  | 965/1247 [22:32<06:34,  1.40s/it] \repoch 0 loss 5.679:  77%|███████▋  | 966/1247 [22:33<06:34,  1.41s/it]\repoch 0 loss 5.6784:  77%|███████▋  | 966/1247 [22:33<06:34,  1.41s/it]\repoch 0 loss 5.6784:  78%|███████▊  | 967/1247 [22:34<06:32,  1.40s/it]\repoch 0 loss 5.6775:  78%|███████▊  | 967/1247 [22:34<06:32,  1.40s/it]\repoch 0 loss 5.6775:  78%|███████▊  | 968/1247 [22:35<06:31,  1.40s/it]\repoch 0 loss 5.6767:  78%|███████▊  | 968/1247 [22:36<06:31,  1.40s/it]\repoch 0 loss 5.6767:  78%|███████▊  | 969/1247 [22:37<06:29,  1.40s/it]\repoch 0 loss 5.6765:  78%|███████▊  | 969/1247 [22:37<06:29,  1.40s/it]\repoch 0 loss 5.6765:  78%|███████▊  | 970/1247 [22:38<06:28,  1.40s/it]\repoch 0 loss 5.6755:  78%|███████▊  | 970/1247 [22:39<06:28,  1.40s/it]\repoch 0 loss 5.6755:  78%|███████▊  | 971/1247 [22:40<06:28,  1.41s/it]\repoch 0 loss 5.6746:  78%|███████▊  | 971/1247 [22:40<06:28,  1.41s/it]\repoch 0 loss 5.6746:  78%|███████▊  | 972/1247 [22:41<06:27,  1.41s/it]\repoch 0 loss 5.6736:  78%|███████▊  | 972/1247 [22:42<06:27,  1.41s/it]\repoch 0 loss 5.6736:  78%|███████▊  | 973/1247 [22:42<06:26,  1.41s/it]\repoch 0 loss 5.6732:  78%|███████▊  | 973/1247 [22:43<06:26,  1.41s/it]\repoch 0 loss 5.6732:  78%|███████▊  | 974/1247 [22:44<06:24,  1.41s/it]\repoch 0 loss 5.6721:  78%|███████▊  | 974/1247 [22:44<06:24,  1.41s/it]\repoch 0 loss 5.6721:  78%|███████▊  | 975/1247 [22:45<06:22,  1.41s/it]\repoch 0 loss 5.6713:  78%|███████▊  | 975/1247 [22:46<06:22,  1.41s/it]\repoch 0 loss 5.6713:  78%|███████▊  | 976/1247 [22:47<06:20,  1.40s/it]\repoch 0 loss 5.6705:  78%|███████▊  | 976/1247 [22:47<06:20,  1.40s/it]\repoch 0 loss 5.6705:  78%|███████▊  | 977/1247 [22:48<06:18,  1.40s/it]\repoch 0 loss 5.6698:  78%|███████▊  | 977/1247 [22:49<06:18,  1.40s/it]\repoch 0 loss 5.6698:  78%|███████▊  | 978/1247 [22:49<06:16,  1.40s/it]\repoch 0 loss 5.6697:  78%|███████▊  | 978/1247 [22:50<06:16,  1.40s/it]\repoch 0 loss 5.6697:  79%|███████▊  | 979/1247 [22:51<06:15,  1.40s/it]\repoch 0 loss 5.6692:  79%|███████▊  | 979/1247 [22:51<06:15,  1.40s/it]\repoch 0 loss 5.6692:  79%|███████▊  | 980/1247 [22:52<06:14,  1.40s/it]\repoch 0 loss 5.6688:  79%|███████▊  | 980/1247 [22:53<06:14,  1.40s/it]\repoch 0 loss 5.6688:  79%|███████▊  | 981/1247 [22:54<06:14,  1.41s/it]\repoch 0 loss 5.6682:  79%|███████▊  | 981/1247 [22:54<06:14,  1.41s/it]\repoch 0 loss 5.6682:  79%|███████▊  | 982/1247 [22:55<06:12,  1.40s/it]\repoch 0 loss 5.6676:  79%|███████▊  | 982/1247 [22:56<06:12,  1.40s/it]\repoch 0 loss 5.6676:  79%|███████▉  | 983/1247 [22:56<06:10,  1.40s/it]\repoch 0 loss 5.6671:  79%|███████▉  | 983/1247 [22:57<06:10,  1.40s/it]\repoch 0 loss 5.6671:  79%|███████▉  | 984/1247 [22:58<06:09,  1.41s/it]\repoch 0 loss 5.6663:  79%|███████▉  | 984/1247 [22:58<06:09,  1.41s/it]\repoch 0 loss 5.6663:  79%|███████▉  | 985/1247 [22:59<06:08,  1.41s/it]\repoch 0 loss 5.6652:  79%|███████▉  | 985/1247 [23:00<06:08,  1.41s/it]\repoch 0 loss 5.6652:  79%|███████▉  | 986/1247 [23:01<06:09,  1.41s/it]\repoch 0 loss 5.6646:  79%|███████▉  | 986/1247 [23:01<06:09,  1.41s/it]\repoch 0 loss 5.6646:  79%|███████▉  | 987/1247 [23:02<06:06,  1.41s/it]\repoch 0 loss 5.6639:  79%|███████▉  | 987/1247 [23:03<06:06,  1.41s/it]\repoch 0 loss 5.6639:  79%|███████▉  | 988/1247 [23:03<06:04,  1.41s/it]\repoch 0 loss 5.6631:  79%|███████▉  | 988/1247 [23:04<06:04,  1.41s/it]\repoch 0 loss 5.6631:  79%|███████▉  | 989/1247 [23:05<06:03,  1.41s/it]\repoch 0 loss 5.6619:  79%|███████▉  | 989/1247 [23:05<06:03,  1.41s/it]\repoch 0 loss 5.6619:  79%|███████▉  | 990/1247 [23:06<06:02,  1.41s/it]\repoch 0 loss 5.6616:  79%|███████▉  | 990/1247 [23:07<06:02,  1.41s/it]\repoch 0 loss 5.6616:  79%|███████▉  | 991/1247 [23:08<06:01,  1.41s/it]\repoch 0 loss 5.6607:  79%|███████▉  | 991/1247 [23:08<06:01,  1.41s/it]\repoch 0 loss 5.6607:  80%|███████▉  | 992/1247 [23:09<06:00,  1.41s/it]\repoch 0 loss 5.6599:  80%|███████▉  | 992/1247 [23:10<06:00,  1.41s/it]\repoch 0 loss 5.6599:  80%|███████▉  | 993/1247 [23:11<05:58,  1.41s/it]\repoch 0 loss 5.6592:  80%|███████▉  | 993/1247 [23:11<05:58,  1.41s/it]\repoch 0 loss 5.6592:  80%|███████▉  | 994/1247 [23:12<05:58,  1.42s/it]\repoch 0 loss 5.6585:  80%|███████▉  | 994/1247 [23:12<05:58,  1.42s/it]\repoch 0 loss 5.6585:  80%|███████▉  | 995/1247 [23:13<05:56,  1.42s/it]\repoch 0 loss 5.6582:  80%|███████▉  | 995/1247 [23:14<05:56,  1.42s/it]\repoch 0 loss 5.6582:  80%|███████▉  | 996/1247 [23:15<05:56,  1.42s/it]\repoch 0 loss 5.658:  80%|███████▉  | 996/1247 [23:15<05:56,  1.42s/it] \repoch 0 loss 5.658:  80%|███████▉  | 997/1247 [23:16<05:54,  1.42s/it]\repoch 0 loss 5.6577:  80%|███████▉  | 997/1247 [23:17<05:54,  1.42s/it]\repoch 0 loss 5.6577:  80%|████████  | 998/1247 [23:18<05:53,  1.42s/it]\repoch 0 loss 5.6568:  80%|████████  | 998/1247 [23:18<05:53,  1.42s/it]\repoch 0 loss 5.6568:  80%|████████  | 999/1247 [23:19<05:52,  1.42s/it]\repoch 0 loss 5.6558:  80%|████████  | 999/1247 [23:20<05:52,  1.42s/it]\repoch 0 loss 5.6558:  80%|████████  | 1000/1247 [23:20<05:49,  1.42s/it]\repoch 0 loss 5.6547:  80%|████████  | 1000/1247 [23:21<05:49,  1.42s/it]\repoch 0 loss 5.6547:  80%|████████  | 1001/1247 [23:22<05:48,  1.42s/it]\repoch 0 loss 5.6537:  80%|████████  | 1001/1247 [23:22<05:48,  1.42s/it]\repoch 0 loss 5.6537:  80%|████████  | 1002/1247 [23:23<05:45,  1.41s/it]\repoch 0 loss 5.6528:  80%|████████  | 1002/1247 [23:24<05:45,  1.41s/it]\repoch 0 loss 5.6528:  80%|████████  | 1003/1247 [23:25<05:42,  1.41s/it]\repoch 0 loss 5.6519:  80%|████████  | 1003/1247 [23:25<05:42,  1.41s/it]\repoch 0 loss 5.6519:  81%|████████  | 1004/1247 [23:26<05:43,  1.41s/it]\repoch 0 loss 5.6513:  81%|████████  | 1004/1247 [23:27<05:43,  1.41s/it]\repoch 0 loss 5.6513:  81%|████████  | 1005/1247 [23:28<05:41,  1.41s/it]\repoch 0 loss 5.6506:  81%|████████  | 1005/1247 [23:28<05:41,  1.41s/it]\repoch 0 loss 5.6506:  81%|████████  | 1006/1247 [23:29<05:40,  1.41s/it]\repoch 0 loss 5.6501:  81%|████████  | 1006/1247 [23:29<05:40,  1.41s/it]\repoch 0 loss 5.6501:  81%|████████  | 1007/1247 [23:30<05:39,  1.42s/it]\repoch 0 loss 5.6496:  81%|████████  | 1007/1247 [23:31<05:39,  1.42s/it]\repoch 0 loss 5.6496:  81%|████████  | 1008/1247 [23:32<05:38,  1.42s/it]\repoch 0 loss 5.6492:  81%|████████  | 1008/1247 [23:32<05:38,  1.42s/it]\repoch 0 loss 5.6492:  81%|████████  | 1009/1247 [23:33<05:37,  1.42s/it]\repoch 0 loss 5.6482:  81%|████████  | 1009/1247 [23:34<05:37,  1.42s/it]\repoch 0 loss 5.6482:  81%|████████  | 1010/1247 [23:35<05:35,  1.41s/it]\repoch 0 loss 5.6474:  81%|████████  | 1010/1247 [23:35<05:35,  1.41s/it]\repoch 0 loss 5.6474:  81%|████████  | 1011/1247 [23:36<05:33,  1.41s/it]\repoch 0 loss 5.6469:  81%|████████  | 1011/1247 [23:37<05:33,  1.41s/it]\repoch 0 loss 5.6469:  81%|████████  | 1012/1247 [23:37<05:32,  1.41s/it]\repoch 0 loss 5.6464:  81%|████████  | 1012/1247 [23:38<05:32,  1.41s/it]\repoch 0 loss 5.6464:  81%|████████  | 1013/1247 [23:39<05:30,  1.41s/it]\repoch 0 loss 5.6458:  81%|████████  | 1013/1247 [23:39<05:30,  1.41s/it]\repoch 0 loss 5.6458:  81%|████████▏ | 1014/1247 [23:40<05:29,  1.41s/it]\repoch 0 loss 5.645:  81%|████████▏ | 1014/1247 [23:41<05:29,  1.41s/it] \repoch 0 loss 5.645:  81%|████████▏ | 1015/1247 [23:42<05:26,  1.41s/it]\repoch 0 loss 5.6445:  81%|████████▏ | 1015/1247 [23:42<05:26,  1.41s/it]\repoch 0 loss 5.6445:  81%|████████▏ | 1016/1247 [23:43<05:25,  1.41s/it]\repoch 0 loss 5.6438:  81%|████████▏ | 1016/1247 [23:44<05:25,  1.41s/it]\repoch 0 loss 5.6438:  82%|████████▏ | 1017/1247 [23:44<05:24,  1.41s/it]\repoch 0 loss 5.6431:  82%|████████▏ | 1017/1247 [23:45<05:24,  1.41s/it]\repoch 0 loss 5.6431:  82%|████████▏ | 1018/1247 [23:46<05:22,  1.41s/it]\repoch 0 loss 5.6428:  82%|████████▏ | 1018/1247 [23:46<05:22,  1.41s/it]\repoch 0 loss 5.6428:  82%|████████▏ | 1019/1247 [23:47<05:21,  1.41s/it]\repoch 0 loss 5.6426:  82%|████████▏ | 1019/1247 [23:48<05:21,  1.41s/it]\repoch 0 loss 5.6426:  82%|████████▏ | 1020/1247 [23:49<05:19,  1.41s/it]\repoch 0 loss 5.6419:  82%|████████▏ | 1020/1247 [23:49<05:19,  1.41s/it]\repoch 0 loss 5.6419:  82%|████████▏ | 1021/1247 [23:50<05:18,  1.41s/it]\repoch 0 loss 5.6412:  82%|████████▏ | 1021/1247 [23:51<05:18,  1.41s/it]\repoch 0 loss 5.6412:  82%|████████▏ | 1022/1247 [23:52<05:16,  1.41s/it]\repoch 0 loss 5.6402:  82%|████████▏ | 1022/1247 [23:52<05:16,  1.41s/it]\repoch 0 loss 5.6402:  82%|████████▏ | 1023/1247 [23:53<05:14,  1.41s/it]\repoch 0 loss 5.6393:  82%|████████▏ | 1023/1247 [23:53<05:14,  1.41s/it]\repoch 0 loss 5.6393:  82%|████████▏ | 1024/1247 [23:54<05:13,  1.41s/it]\repoch 0 loss 5.6387:  82%|████████▏ | 1024/1247 [23:55<05:13,  1.41s/it]\repoch 0 loss 5.6387:  82%|████████▏ | 1025/1247 [23:56<05:12,  1.41s/it]\repoch 0 loss 5.6381:  82%|████████▏ | 1025/1247 [23:56<05:12,  1.41s/it]\repoch 0 loss 5.6381:  82%|████████▏ | 1026/1247 [23:57<05:11,  1.41s/it]\repoch 0 loss 5.6374:  82%|████████▏ | 1026/1247 [23:58<05:11,  1.41s/it]\repoch 0 loss 5.6374:  82%|████████▏ | 1027/1247 [23:59<05:09,  1.41s/it]\repoch 0 loss 5.6366:  82%|████████▏ | 1027/1247 [23:59<05:09,  1.41s/it]\repoch 0 loss 5.6366:  82%|████████▏ | 1028/1247 [24:00<05:08,  1.41s/it]\repoch 0 loss 5.6362:  82%|████████▏ | 1028/1247 [24:00<05:08,  1.41s/it]\repoch 0 loss 5.6362:  83%|████████▎ | 1029/1247 [24:01<05:06,  1.41s/it]\repoch 0 loss 5.6356:  83%|████████▎ | 1029/1247 [24:02<05:06,  1.41s/it]\repoch 0 loss 5.6356:  83%|████████▎ | 1030/1247 [24:03<05:05,  1.41s/it]\repoch 0 loss 5.6347:  83%|████████▎ | 1030/1247 [24:03<05:05,  1.41s/it]\repoch 0 loss 5.6347:  83%|████████▎ | 1031/1247 [24:04<05:04,  1.41s/it]\repoch 0 loss 5.6343:  83%|████████▎ | 1031/1247 [24:05<05:04,  1.41s/it]\repoch 0 loss 5.6343:  83%|████████▎ | 1032/1247 [24:06<05:02,  1.41s/it]\repoch 0 loss 5.6339:  83%|████████▎ | 1032/1247 [24:06<05:02,  1.41s/it]\repoch 0 loss 5.6339:  83%|████████▎ | 1033/1247 [24:07<05:01,  1.41s/it]\repoch 0 loss 5.6333:  83%|████████▎ | 1033/1247 [24:08<05:01,  1.41s/it]\repoch 0 loss 5.6333:  83%|████████▎ | 1034/1247 [24:08<05:00,  1.41s/it]\repoch 0 loss 5.6326:  83%|████████▎ | 1034/1247 [24:09<05:00,  1.41s/it]\repoch 0 loss 5.6326:  83%|████████▎ | 1035/1247 [24:10<04:58,  1.41s/it]\repoch 0 loss 5.6317:  83%|████████▎ | 1035/1247 [24:10<04:58,  1.41s/it]\repoch 0 loss 5.6317:  83%|████████▎ | 1036/1247 [24:11<04:56,  1.41s/it]\repoch 0 loss 5.6311:  83%|████████▎ | 1036/1247 [24:12<04:56,  1.41s/it]\repoch 0 loss 5.6311:  83%|████████▎ | 1037/1247 [24:13<04:56,  1.41s/it]\repoch 0 loss 5.6305:  83%|████████▎ | 1037/1247 [24:13<04:56,  1.41s/it]\repoch 0 loss 5.6305:  83%|████████▎ | 1038/1247 [24:14<04:54,  1.41s/it]\repoch 0 loss 5.6296:  83%|████████▎ | 1038/1247 [24:15<04:54,  1.41s/it]\repoch 0 loss 5.6296:  83%|████████▎ | 1039/1247 [24:15<04:53,  1.41s/it]\repoch 0 loss 5.6287:  83%|████████▎ | 1039/1247 [24:16<04:53,  1.41s/it]\repoch 0 loss 5.6287:  83%|████████▎ | 1040/1247 [24:17<04:52,  1.41s/it]\repoch 0 loss 5.6277:  83%|████████▎ | 1040/1247 [24:17<04:52,  1.41s/it]\repoch 0 loss 5.6277:  83%|████████▎ | 1041/1247 [24:18<04:50,  1.41s/it]\repoch 0 loss 5.627:  83%|████████▎ | 1041/1247 [24:19<04:50,  1.41s/it] \repoch 0 loss 5.627:  84%|████████▎ | 1042/1247 [24:20<04:48,  1.41s/it]\repoch 0 loss 5.6264:  84%|████████▎ | 1042/1247 [24:20<04:48,  1.41s/it]\repoch 0 loss 5.6264:  84%|████████▎ | 1043/1247 [24:21<04:46,  1.40s/it]\repoch 0 loss 5.6253:  84%|████████▎ | 1043/1247 [24:22<04:46,  1.40s/it]\repoch 0 loss 5.6253:  84%|████████▎ | 1044/1247 [24:22<04:44,  1.40s/it]\repoch 0 loss 5.6242:  84%|████████▎ | 1044/1247 [24:23<04:44,  1.40s/it]\repoch 0 loss 5.6242:  84%|████████▍ | 1045/1247 [24:24<04:42,  1.40s/it]\repoch 0 loss 5.6237:  84%|████████▍ | 1045/1247 [24:24<04:42,  1.40s/it]\repoch 0 loss 5.6237:  84%|████████▍ | 1046/1247 [24:25<04:40,  1.40s/it]\repoch 0 loss 5.6227:  84%|████████▍ | 1046/1247 [24:26<04:40,  1.40s/it]\repoch 0 loss 5.6227:  84%|████████▍ | 1047/1247 [24:27<04:40,  1.40s/it]\repoch 0 loss 5.6227:  84%|████████▍ | 1047/1247 [24:27<04:40,  1.40s/it]\repoch 0 loss 5.6227:  84%|████████▍ | 1048/1247 [24:28<04:38,  1.40s/it]\repoch 0 loss 5.622:  84%|████████▍ | 1048/1247 [24:29<04:38,  1.40s/it] \repoch 0 loss 5.622:  84%|████████▍ | 1049/1247 [24:29<04:36,  1.40s/it]\repoch 0 loss 5.621:  84%|████████▍ | 1049/1247 [24:30<04:36,  1.40s/it]\repoch 0 loss 5.621:  84%|████████▍ | 1050/1247 [24:31<04:35,  1.40s/it]\repoch 0 loss 5.6203:  84%|████████▍ | 1050/1247 [24:31<04:35,  1.40s/it]\repoch 0 loss 5.6203:  84%|████████▍ | 1051/1247 [24:32<04:34,  1.40s/it]\repoch 0 loss 5.6194:  84%|████████▍ | 1051/1247 [24:33<04:34,  1.40s/it]\repoch 0 loss 5.6194:  84%|████████▍ | 1052/1247 [24:34<04:33,  1.40s/it]\repoch 0 loss 5.6182:  84%|████████▍ | 1052/1247 [24:34<04:33,  1.40s/it]\repoch 0 loss 5.6182:  84%|████████▍ | 1053/1247 [24:35<04:31,  1.40s/it]\repoch 0 loss 5.6172:  84%|████████▍ | 1053/1247 [24:36<04:31,  1.40s/it]\repoch 0 loss 5.6172:  85%|████████▍ | 1054/1247 [24:36<04:30,  1.40s/it]\repoch 0 loss 5.6168:  85%|████████▍ | 1054/1247 [24:37<04:30,  1.40s/it]\repoch 0 loss 5.6168:  85%|████████▍ | 1055/1247 [24:38<04:29,  1.40s/it]\repoch 0 loss 5.6165:  85%|████████▍ | 1055/1247 [24:38<04:29,  1.40s/it]\repoch 0 loss 5.6165:  85%|████████▍ | 1056/1247 [24:39<04:27,  1.40s/it]\repoch 0 loss 5.6157:  85%|████████▍ | 1056/1247 [24:40<04:27,  1.40s/it]\repoch 0 loss 5.6157:  85%|████████▍ | 1057/1247 [24:41<04:25,  1.40s/it]\repoch 0 loss 5.6155:  85%|████████▍ | 1057/1247 [24:41<04:25,  1.40s/it]\repoch 0 loss 5.6155:  85%|████████▍ | 1058/1247 [24:42<04:24,  1.40s/it]\repoch 0 loss 5.6147:  85%|████████▍ | 1058/1247 [24:43<04:24,  1.40s/it]\repoch 0 loss 5.6147:  85%|████████▍ | 1059/1247 [24:43<04:23,  1.40s/it]\repoch 0 loss 5.6144:  85%|████████▍ | 1059/1247 [24:44<04:23,  1.40s/it]\repoch 0 loss 5.6144:  85%|████████▌ | 1060/1247 [24:45<04:22,  1.40s/it]\repoch 0 loss 5.614:  85%|████████▌ | 1060/1247 [24:45<04:22,  1.40s/it] \repoch 0 loss 5.614:  85%|████████▌ | 1061/1247 [24:46<04:21,  1.41s/it]\repoch 0 loss 5.6134:  85%|████████▌ | 1061/1247 [24:47<04:21,  1.41s/it]\repoch 0 loss 5.6134:  85%|████████▌ | 1062/1247 [24:48<04:19,  1.40s/it]\repoch 0 loss 5.6125:  85%|████████▌ | 1062/1247 [24:48<04:19,  1.40s/it]\repoch 0 loss 5.6125:  85%|████████▌ | 1063/1247 [24:49<04:17,  1.40s/it]\repoch 0 loss 5.6116:  85%|████████▌ | 1063/1247 [24:50<04:17,  1.40s/it]\repoch 0 loss 5.6116:  85%|████████▌ | 1064/1247 [24:50<04:15,  1.40s/it]\repoch 0 loss 5.6114:  85%|████████▌ | 1064/1247 [24:51<04:15,  1.40s/it]\repoch 0 loss 5.6114:  85%|████████▌ | 1065/1247 [24:52<04:15,  1.40s/it]\repoch 0 loss 5.6113:  85%|████████▌ | 1065/1247 [24:52<04:15,  1.40s/it]\repoch 0 loss 5.6113:  85%|████████▌ | 1066/1247 [24:53<04:13,  1.40s/it]\repoch 0 loss 5.6106:  85%|████████▌ | 1066/1247 [24:54<04:13,  1.40s/it]\repoch 0 loss 5.6106:  86%|████████▌ | 1067/1247 [24:55<04:12,  1.40s/it]\repoch 0 loss 5.6099:  86%|████████▌ | 1067/1247 [24:55<04:12,  1.40s/it]\repoch 0 loss 5.6099:  86%|████████▌ | 1068/1247 [24:56<04:11,  1.41s/it]\repoch 0 loss 5.6093:  86%|████████▌ | 1068/1247 [24:57<04:11,  1.41s/it]\repoch 0 loss 5.6093:  86%|████████▌ | 1069/1247 [24:58<04:11,  1.41s/it]\repoch 0 loss 5.6088:  86%|████████▌ | 1069/1247 [24:58<04:11,  1.41s/it]\repoch 0 loss 5.6088:  86%|████████▌ | 1070/1247 [24:59<04:09,  1.41s/it]\repoch 0 loss 5.6081:  86%|████████▌ | 1070/1247 [24:59<04:09,  1.41s/it]\repoch 0 loss 5.6081:  86%|████████▌ | 1071/1247 [25:00<04:07,  1.41s/it]\repoch 0 loss 5.6072:  86%|████████▌ | 1071/1247 [25:01<04:07,  1.41s/it]\repoch 0 loss 5.6072:  86%|████████▌ | 1072/1247 [25:02<04:06,  1.41s/it]\repoch 0 loss 5.6067:  86%|████████▌ | 1072/1247 [25:02<04:06,  1.41s/it]\repoch 0 loss 5.6067:  86%|████████▌ | 1073/1247 [25:03<04:04,  1.41s/it]\repoch 0 loss 5.6059:  86%|████████▌ | 1073/1247 [25:04<04:04,  1.41s/it]\repoch 0 loss 5.6059:  86%|████████▌ | 1074/1247 [25:05<04:03,  1.41s/it]\repoch 0 loss 5.6049:  86%|████████▌ | 1074/1247 [25:05<04:03,  1.41s/it]\repoch 0 loss 5.6049:  86%|████████▌ | 1075/1247 [25:06<04:01,  1.41s/it]\repoch 0 loss 5.6042:  86%|████████▌ | 1075/1247 [25:06<04:01,  1.41s/it]\repoch 0 loss 5.6042:  86%|████████▋ | 1076/1247 [25:07<03:59,  1.40s/it]\repoch 0 loss 5.6033:  86%|████████▋ | 1076/1247 [25:08<03:59,  1.40s/it]\repoch 0 loss 5.6033:  86%|████████▋ | 1077/1247 [25:09<03:59,  1.41s/it]\repoch 0 loss 5.6023:  86%|████████▋ | 1077/1247 [25:09<03:59,  1.41s/it]\repoch 0 loss 5.6023:  86%|████████▋ | 1078/1247 [25:10<03:58,  1.41s/it]\repoch 0 loss 5.6016:  86%|████████▋ | 1078/1247 [25:11<03:58,  1.41s/it]\repoch 0 loss 5.6016:  87%|████████▋ | 1079/1247 [25:12<03:56,  1.41s/it]\repoch 0 loss 5.6012:  87%|████████▋ | 1079/1247 [25:12<03:56,  1.41s/it]\repoch 0 loss 5.6012:  87%|████████▋ | 1080/1247 [25:13<03:54,  1.41s/it]\repoch 0 loss 5.6009:  87%|████████▋ | 1080/1247 [25:14<03:54,  1.41s/it]\repoch 0 loss 5.6009:  87%|████████▋ | 1081/1247 [25:14<03:54,  1.41s/it]\repoch 0 loss 5.6004:  87%|████████▋ | 1081/1247 [25:15<03:54,  1.41s/it]\repoch 0 loss 5.6004:  87%|████████▋ | 1082/1247 [25:16<03:52,  1.41s/it]\repoch 0 loss 5.5997:  87%|████████▋ | 1082/1247 [25:16<03:52,  1.41s/it]\repoch 0 loss 5.5997:  87%|████████▋ | 1083/1247 [25:17<03:50,  1.41s/it]\repoch 0 loss 5.5991:  87%|████████▋ | 1083/1247 [25:18<03:50,  1.41s/it]\repoch 0 loss 5.5991:  87%|████████▋ | 1084/1247 [25:19<03:49,  1.41s/it]\repoch 0 loss 5.5982:  87%|████████▋ | 1084/1247 [25:19<03:49,  1.41s/it]\repoch 0 loss 5.5982:  87%|████████▋ | 1085/1247 [25:20<03:48,  1.41s/it]\repoch 0 loss 5.5977:  87%|████████▋ | 1085/1247 [25:21<03:48,  1.41s/it]\repoch 0 loss 5.5977:  87%|████████▋ | 1086/1247 [25:21<03:46,  1.40s/it]\repoch 0 loss 5.5977:  87%|████████▋ | 1086/1247 [25:22<03:46,  1.40s/it]\repoch 0 loss 5.5977:  87%|████████▋ | 1087/1247 [25:23<03:45,  1.41s/it]\repoch 0 loss 5.597:  87%|████████▋ | 1087/1247 [25:23<03:45,  1.41s/it] \repoch 0 loss 5.597:  87%|████████▋ | 1088/1247 [25:24<03:44,  1.41s/it]\repoch 0 loss 5.5964:  87%|████████▋ | 1088/1247 [25:25<03:44,  1.41s/it]\repoch 0 loss 5.5964:  87%|████████▋ | 1089/1247 [25:26<03:42,  1.41s/it]\repoch 0 loss 5.5954:  87%|████████▋ | 1089/1247 [25:26<03:42,  1.41s/it]\repoch 0 loss 5.5954:  87%|████████▋ | 1090/1247 [25:27<03:40,  1.40s/it]\repoch 0 loss 5.5949:  87%|████████▋ | 1090/1247 [25:28<03:40,  1.40s/it]\repoch 0 loss 5.5949:  87%|████████▋ | 1091/1247 [25:28<03:38,  1.40s/it]\repoch 0 loss 5.5943:  87%|████████▋ | 1091/1247 [25:29<03:38,  1.40s/it]\repoch 0 loss 5.5943:  88%|████████▊ | 1092/1247 [25:30<03:37,  1.40s/it]\repoch 0 loss 5.5941:  88%|████████▊ | 1092/1247 [25:30<03:37,  1.40s/it]\repoch 0 loss 5.5941:  88%|████████▊ | 1093/1247 [25:31<03:36,  1.40s/it]\repoch 0 loss 5.5939:  88%|████████▊ | 1093/1247 [25:32<03:36,  1.40s/it]\repoch 0 loss 5.5939:  88%|████████▊ | 1094/1247 [25:33<03:34,  1.40s/it]\repoch 0 loss 5.5935:  88%|████████▊ | 1094/1247 [25:33<03:34,  1.40s/it]\repoch 0 loss 5.5935:  88%|████████▊ | 1095/1247 [25:34<03:32,  1.40s/it]\repoch 0 loss 5.5924:  88%|████████▊ | 1095/1247 [25:35<03:32,  1.40s/it]\repoch 0 loss 5.5924:  88%|████████▊ | 1096/1247 [25:35<03:31,  1.40s/it]\repoch 0 loss 5.5916:  88%|████████▊ | 1096/1247 [25:36<03:31,  1.40s/it]\repoch 0 loss 5.5916:  88%|████████▊ | 1097/1247 [25:37<03:30,  1.40s/it]\repoch 0 loss 5.591:  88%|████████▊ | 1097/1247 [25:37<03:30,  1.40s/it] \repoch 0 loss 5.591:  88%|████████▊ | 1098/1247 [25:38<03:28,  1.40s/it]\repoch 0 loss 5.5901:  88%|████████▊ | 1098/1247 [25:39<03:28,  1.40s/it]\repoch 0 loss 5.5901:  88%|████████▊ | 1099/1247 [25:40<03:27,  1.40s/it]\repoch 0 loss 5.5894:  88%|████████▊ | 1099/1247 [25:40<03:27,  1.40s/it]\repoch 0 loss 5.5894:  88%|████████▊ | 1100/1247 [25:41<03:25,  1.40s/it]\repoch 0 loss 5.5884:  88%|████████▊ | 1100/1247 [25:42<03:25,  1.40s/it]\repoch 0 loss 5.5884:  88%|████████▊ | 1101/1247 [25:42<03:24,  1.40s/it]\repoch 0 loss 5.5877:  88%|████████▊ | 1101/1247 [25:43<03:24,  1.40s/it]\repoch 0 loss 5.5877:  88%|████████▊ | 1102/1247 [25:44<03:23,  1.40s/it]\repoch 0 loss 5.5868:  88%|████████▊ | 1102/1247 [25:44<03:23,  1.40s/it]\repoch 0 loss 5.5868:  88%|████████▊ | 1103/1247 [25:45<03:22,  1.40s/it]\repoch 0 loss 5.5859:  88%|████████▊ | 1103/1247 [25:46<03:22,  1.40s/it]\repoch 0 loss 5.5859:  89%|████████▊ | 1104/1247 [25:47<03:21,  1.41s/it]\repoch 0 loss 5.5852:  89%|████████▊ | 1104/1247 [25:47<03:21,  1.41s/it]\repoch 0 loss 5.5852:  89%|████████▊ | 1105/1247 [25:48<03:19,  1.40s/it]\repoch 0 loss 5.5846:  89%|████████▊ | 1105/1247 [25:49<03:19,  1.40s/it]\repoch 0 loss 5.5846:  89%|████████▊ | 1106/1247 [25:50<03:18,  1.41s/it]\repoch 0 loss 5.5844:  89%|████████▊ | 1106/1247 [25:50<03:18,  1.41s/it]\repoch 0 loss 5.5844:  89%|████████▉ | 1107/1247 [25:51<03:16,  1.41s/it]\repoch 0 loss 5.5838:  89%|████████▉ | 1107/1247 [25:51<03:16,  1.41s/it]\repoch 0 loss 5.5838:  89%|████████▉ | 1108/1247 [25:52<03:15,  1.40s/it]\repoch 0 loss 5.5828:  89%|████████▉ | 1108/1247 [25:53<03:15,  1.40s/it]\repoch 0 loss 5.5828:  89%|████████▉ | 1109/1247 [25:54<03:13,  1.40s/it]\repoch 0 loss 5.582:  89%|████████▉ | 1109/1247 [25:54<03:13,  1.40s/it] \repoch 0 loss 5.582:  89%|████████▉ | 1110/1247 [25:55<03:11,  1.40s/it]\repoch 0 loss 5.5818:  89%|████████▉ | 1110/1247 [25:56<03:11,  1.40s/it]\repoch 0 loss 5.5818:  89%|████████▉ | 1111/1247 [25:57<03:10,  1.40s/it]\repoch 0 loss 5.5815:  89%|████████▉ | 1111/1247 [25:57<03:10,  1.40s/it]\repoch 0 loss 5.5815:  89%|████████▉ | 1112/1247 [25:58<03:09,  1.40s/it]\repoch 0 loss 5.5807:  89%|████████▉ | 1112/1247 [25:58<03:09,  1.40s/it]\repoch 0 loss 5.5807:  89%|████████▉ | 1113/1247 [25:59<03:08,  1.41s/it]\repoch 0 loss 5.5799:  89%|████████▉ | 1113/1247 [26:00<03:08,  1.41s/it]\repoch 0 loss 5.5799:  89%|████████▉ | 1114/1247 [26:01<03:07,  1.41s/it]\repoch 0 loss 5.5796:  89%|████████▉ | 1114/1247 [26:01<03:07,  1.41s/it]\repoch 0 loss 5.5796:  89%|████████▉ | 1115/1247 [26:02<03:06,  1.41s/it]\repoch 0 loss 5.5787:  89%|████████▉ | 1115/1247 [26:03<03:06,  1.41s/it]\repoch 0 loss 5.5787:  89%|████████▉ | 1116/1247 [26:04<03:04,  1.41s/it]\repoch 0 loss 5.5781:  89%|████████▉ | 1116/1247 [26:04<03:04,  1.41s/it]\repoch 0 loss 5.5781:  90%|████████▉ | 1117/1247 [26:05<03:03,  1.42s/it]\repoch 0 loss 5.5781:  90%|████████▉ | 1117/1247 [26:06<03:03,  1.42s/it]\repoch 0 loss 5.5781:  90%|████████▉ | 1118/1247 [26:06<03:02,  1.41s/it]\repoch 0 loss 5.5775:  90%|████████▉ | 1118/1247 [26:07<03:02,  1.41s/it]\repoch 0 loss 5.5775:  90%|████████▉ | 1119/1247 [26:08<03:00,  1.41s/it]\repoch 0 loss 5.5768:  90%|████████▉ | 1119/1247 [26:08<03:00,  1.41s/it]\repoch 0 loss 5.5768:  90%|████████▉ | 1120/1247 [26:09<02:59,  1.41s/it]\repoch 0 loss 5.5763:  90%|████████▉ | 1120/1247 [26:10<02:59,  1.41s/it]\repoch 0 loss 5.5763:  90%|████████▉ | 1121/1247 [26:11<02:57,  1.41s/it]\repoch 0 loss 5.5757:  90%|████████▉ | 1121/1247 [26:11<02:57,  1.41s/it]\repoch 0 loss 5.5757:  90%|████████▉ | 1122/1247 [26:12<02:56,  1.41s/it]\repoch 0 loss 5.575:  90%|████████▉ | 1122/1247 [26:13<02:56,  1.41s/it] \repoch 0 loss 5.575:  90%|█████████ | 1123/1247 [26:13<02:54,  1.41s/it]\repoch 0 loss 5.5746:  90%|█████████ | 1123/1247 [26:14<02:54,  1.41s/it]\repoch 0 loss 5.5746:  90%|█████████ | 1124/1247 [26:15<02:52,  1.40s/it]\repoch 0 loss 5.5738:  90%|█████████ | 1124/1247 [26:15<02:52,  1.40s/it]\repoch 0 loss 5.5738:  90%|█████████ | 1125/1247 [26:16<02:51,  1.40s/it]\repoch 0 loss 5.5733:  90%|█████████ | 1125/1247 [26:17<02:51,  1.40s/it]\repoch 0 loss 5.5733:  90%|█████████ | 1126/1247 [26:18<02:50,  1.41s/it]\repoch 0 loss 5.5727:  90%|█████████ | 1126/1247 [26:18<02:50,  1.41s/it]\repoch 0 loss 5.5727:  90%|█████████ | 1127/1247 [26:19<02:48,  1.41s/it]\repoch 0 loss 5.5719:  90%|█████████ | 1127/1247 [26:20<02:48,  1.41s/it]\repoch 0 loss 5.5719:  90%|█████████ | 1128/1247 [26:20<02:47,  1.40s/it]\repoch 0 loss 5.5708:  90%|█████████ | 1128/1247 [26:21<02:47,  1.40s/it]\repoch 0 loss 5.5708:  91%|█████████ | 1129/1247 [26:22<02:45,  1.41s/it]\repoch 0 loss 5.5702:  91%|█████████ | 1129/1247 [26:22<02:45,  1.41s/it]\repoch 0 loss 5.5702:  91%|█████████ | 1130/1247 [26:23<02:44,  1.41s/it]\repoch 0 loss 5.5696:  91%|█████████ | 1130/1247 [26:24<02:44,  1.41s/it]\repoch 0 loss 5.5696:  91%|█████████ | 1131/1247 [26:25<02:43,  1.41s/it]\repoch 0 loss 5.5693:  91%|█████████ | 1131/1247 [26:25<02:43,  1.41s/it]\repoch 0 loss 5.5693:  91%|█████████ | 1132/1247 [26:26<02:41,  1.41s/it]\repoch 0 loss 5.5687:  91%|█████████ | 1132/1247 [26:27<02:41,  1.41s/it]\repoch 0 loss 5.5687:  91%|█████████ | 1133/1247 [26:28<02:40,  1.41s/it]\repoch 0 loss 5.5681:  91%|█████████ | 1133/1247 [26:28<02:40,  1.41s/it]\repoch 0 loss 5.5681:  91%|█████████ | 1134/1247 [26:29<02:39,  1.41s/it]\repoch 0 loss 5.5676:  91%|█████████ | 1134/1247 [26:29<02:39,  1.41s/it]\repoch 0 loss 5.5676:  91%|█████████ | 1135/1247 [26:30<02:37,  1.41s/it]\repoch 0 loss 5.5668:  91%|█████████ | 1135/1247 [26:31<02:37,  1.41s/it]\repoch 0 loss 5.5668:  91%|█████████ | 1136/1247 [26:32<02:36,  1.41s/it]\repoch 0 loss 5.566:  91%|█████████ | 1136/1247 [26:32<02:36,  1.41s/it] \repoch 0 loss 5.566:  91%|█████████ | 1137/1247 [26:33<02:34,  1.41s/it]\repoch 0 loss 5.5649:  91%|█████████ | 1137/1247 [26:34<02:34,  1.41s/it]\repoch 0 loss 5.5649:  91%|█████████▏| 1138/1247 [26:35<02:33,  1.41s/it]\repoch 0 loss 5.5639:  91%|█████████▏| 1138/1247 [26:35<02:33,  1.41s/it]\repoch 0 loss 5.5639:  91%|█████████▏| 1139/1247 [26:36<02:31,  1.40s/it]\repoch 0 loss 5.5633:  91%|█████████▏| 1139/1247 [26:36<02:31,  1.40s/it]\repoch 0 loss 5.5633:  91%|█████████▏| 1140/1247 [26:37<02:30,  1.40s/it]\repoch 0 loss 5.5627:  91%|█████████▏| 1140/1247 [26:38<02:30,  1.40s/it]\repoch 0 loss 5.5627:  91%|█████████▏| 1141/1247 [26:39<02:28,  1.40s/it]\repoch 0 loss 5.562:  91%|█████████▏| 1141/1247 [26:39<02:28,  1.40s/it] \repoch 0 loss 5.562:  92%|█████████▏| 1142/1247 [26:40<02:27,  1.41s/it]\repoch 0 loss 5.5614:  92%|█████████▏| 1142/1247 [26:41<02:27,  1.41s/it]\repoch 0 loss 5.5614:  92%|█████████▏| 1143/1247 [26:42<02:26,  1.41s/it]\repoch 0 loss 5.5608:  92%|█████████▏| 1143/1247 [26:42<02:26,  1.41s/it]\repoch 0 loss 5.5608:  92%|█████████▏| 1144/1247 [26:43<02:24,  1.41s/it]\repoch 0 loss 5.5602:  92%|█████████▏| 1144/1247 [26:44<02:24,  1.41s/it]\repoch 0 loss 5.5602:  92%|█████████▏| 1145/1247 [26:44<02:23,  1.41s/it]\repoch 0 loss 5.5602:  92%|█████████▏| 1145/1247 [26:45<02:23,  1.41s/it]\repoch 0 loss 5.5602:  92%|█████████▏| 1146/1247 [26:46<02:22,  1.41s/it]\repoch 0 loss 5.5597:  92%|█████████▏| 1146/1247 [26:46<02:22,  1.41s/it]\repoch 0 loss 5.5597:  92%|█████████▏| 1147/1247 [26:47<02:21,  1.42s/it]\repoch 0 loss 5.5593:  92%|█████████▏| 1147/1247 [26:48<02:21,  1.42s/it]\repoch 0 loss 5.5593:  92%|█████████▏| 1148/1247 [26:49<02:20,  1.42s/it]\repoch 0 loss 5.5592:  92%|█████████▏| 1148/1247 [26:49<02:20,  1.42s/it]\repoch 0 loss 5.5592:  92%|█████████▏| 1149/1247 [26:50<02:18,  1.42s/it]\repoch 0 loss 5.5585:  92%|█████████▏| 1149/1247 [26:51<02:18,  1.42s/it]\repoch 0 loss 5.5585:  92%|█████████▏| 1150/1247 [26:51<02:17,  1.41s/it]\repoch 0 loss 5.5578:  92%|█████████▏| 1150/1247 [26:52<02:17,  1.41s/it]\repoch 0 loss 5.5578:  92%|█████████▏| 1151/1247 [26:53<02:15,  1.41s/it]\repoch 0 loss 5.557:  92%|█████████▏| 1151/1247 [26:53<02:15,  1.41s/it] \repoch 0 loss 5.557:  92%|█████████▏| 1152/1247 [26:54<02:14,  1.42s/it]\repoch 0 loss 5.5564:  92%|█████████▏| 1152/1247 [26:55<02:14,  1.42s/it]\repoch 0 loss 5.5564:  92%|█████████▏| 1153/1247 [26:56<02:13,  1.42s/it]\repoch 0 loss 5.556:  92%|█████████▏| 1153/1247 [26:56<02:13,  1.42s/it] \repoch 0 loss 5.556:  93%|█████████▎| 1154/1247 [26:57<02:11,  1.42s/it]\repoch 0 loss 5.5556:  93%|█████████▎| 1154/1247 [26:58<02:11,  1.42s/it]\repoch 0 loss 5.5556:  93%|█████████▎| 1155/1247 [26:59<02:09,  1.41s/it]\repoch 0 loss 5.5549:  93%|█████████▎| 1155/1247 [26:59<02:09,  1.41s/it]\repoch 0 loss 5.5549:  93%|█████████▎| 1156/1247 [27:00<02:08,  1.41s/it]\repoch 0 loss 5.5545:  93%|█████████▎| 1156/1247 [27:00<02:08,  1.41s/it]\repoch 0 loss 5.5545:  93%|█████████▎| 1157/1247 [27:01<02:07,  1.42s/it]\repoch 0 loss 5.554:  93%|█████████▎| 1157/1247 [27:02<02:07,  1.42s/it] \repoch 0 loss 5.554:  93%|█████████▎| 1158/1247 [27:03<02:06,  1.42s/it]\repoch 0 loss 5.5535:  93%|█████████▎| 1158/1247 [27:03<02:06,  1.42s/it]\repoch 0 loss 5.5535:  93%|█████████▎| 1159/1247 [27:04<02:04,  1.41s/it]\repoch 0 loss 5.553:  93%|█████████▎| 1159/1247 [27:05<02:04,  1.41s/it] \repoch 0 loss 5.553:  93%|█████████▎| 1160/1247 [27:06<02:02,  1.41s/it]\repoch 0 loss 5.5528:  93%|█████████▎| 1160/1247 [27:06<02:02,  1.41s/it]\repoch 0 loss 5.5528:  93%|█████████▎| 1161/1247 [27:07<02:02,  1.42s/it]\repoch 0 loss 5.5521:  93%|█████████▎| 1161/1247 [27:08<02:02,  1.42s/it]\repoch 0 loss 5.5521:  93%|█████████▎| 1162/1247 [27:08<02:00,  1.42s/it]\repoch 0 loss 5.5517:  93%|█████████▎| 1162/1247 [27:09<02:00,  1.42s/it]\repoch 0 loss 5.5517:  93%|█████████▎| 1163/1247 [27:10<01:59,  1.42s/it]\repoch 0 loss 5.5512:  93%|█████████▎| 1163/1247 [27:10<01:59,  1.42s/it]\repoch 0 loss 5.5512:  93%|█████████▎| 1164/1247 [27:11<01:57,  1.42s/it]\repoch 0 loss 5.5505:  93%|█████████▎| 1164/1247 [27:12<01:57,  1.42s/it]\repoch 0 loss 5.5505:  93%|█████████▎| 1165/1247 [27:13<01:56,  1.42s/it]\repoch 0 loss 5.5497:  93%|█████████▎| 1165/1247 [27:13<01:56,  1.42s/it]\repoch 0 loss 5.5497:  94%|█████████▎| 1166/1247 [27:14<01:54,  1.41s/it]\repoch 0 loss 5.5492:  94%|█████████▎| 1166/1247 [27:15<01:54,  1.41s/it]\repoch 0 loss 5.5492:  94%|█████████▎| 1167/1247 [27:16<01:52,  1.41s/it]\repoch 0 loss 5.5486:  94%|█████████▎| 1167/1247 [27:16<01:52,  1.41s/it]\repoch 0 loss 5.5486:  94%|█████████▎| 1168/1247 [27:17<01:51,  1.41s/it]\repoch 0 loss 5.5484:  94%|█████████▎| 1168/1247 [27:17<01:51,  1.41s/it]\repoch 0 loss 5.5484:  94%|█████████▎| 1169/1247 [27:18<01:49,  1.41s/it]\repoch 0 loss 5.5479:  94%|█████████▎| 1169/1247 [27:19<01:49,  1.41s/it]\repoch 0 loss 5.5479:  94%|█████████▍| 1170/1247 [27:20<01:48,  1.41s/it]\repoch 0 loss 5.5477:  94%|█████████▍| 1170/1247 [27:20<01:48,  1.41s/it]\repoch 0 loss 5.5477:  94%|█████████▍| 1171/1247 [27:21<01:47,  1.41s/it]\repoch 0 loss 5.5473:  94%|█████████▍| 1171/1247 [27:22<01:47,  1.41s/it]\repoch 0 loss 5.5473:  94%|█████████▍| 1172/1247 [27:23<01:45,  1.41s/it]\repoch 0 loss 5.5467:  94%|█████████▍| 1172/1247 [27:23<01:45,  1.41s/it]\repoch 0 loss 5.5467:  94%|█████████▍| 1173/1247 [27:24<01:44,  1.41s/it]\repoch 0 loss 5.5463:  94%|█████████▍| 1173/1247 [27:25<01:44,  1.41s/it]\repoch 0 loss 5.5463:  94%|█████████▍| 1174/1247 [27:25<01:42,  1.41s/it]\repoch 0 loss 5.546:  94%|█████████▍| 1174/1247 [27:26<01:42,  1.41s/it] \repoch 0 loss 5.546:  94%|█████████▍| 1175/1247 [27:27<01:41,  1.41s/it]\repoch 0 loss 5.5454:  94%|█████████▍| 1175/1247 [27:27<01:41,  1.41s/it]\repoch 0 loss 5.5454:  94%|█████████▍| 1176/1247 [27:28<01:40,  1.41s/it]\repoch 0 loss 5.5447:  94%|█████████▍| 1176/1247 [27:29<01:40,  1.41s/it]\repoch 0 loss 5.5447:  94%|█████████▍| 1177/1247 [27:30<01:38,  1.40s/it]\repoch 0 loss 5.5441:  94%|█████████▍| 1177/1247 [27:30<01:38,  1.40s/it]\repoch 0 loss 5.5441:  94%|█████████▍| 1178/1247 [27:31<01:37,  1.41s/it]\repoch 0 loss 5.5434:  94%|█████████▍| 1178/1247 [27:32<01:37,  1.41s/it]\repoch 0 loss 5.5434:  95%|█████████▍| 1179/1247 [27:32<01:35,  1.41s/it]\repoch 0 loss 5.5427:  95%|█████████▍| 1179/1247 [27:33<01:35,  1.41s/it]\repoch 0 loss 5.5427:  95%|█████████▍| 1180/1247 [27:34<01:34,  1.41s/it]\repoch 0 loss 5.542:  95%|█████████▍| 1180/1247 [27:34<01:34,  1.41s/it] \repoch 0 loss 5.542:  95%|█████████▍| 1181/1247 [27:35<01:32,  1.41s/it]\repoch 0 loss 5.5416:  95%|█████████▍| 1181/1247 [27:36<01:32,  1.41s/it]\repoch 0 loss 5.5416:  95%|█████████▍| 1182/1247 [27:37<01:31,  1.41s/it]\repoch 0 loss 5.541:  95%|█████████▍| 1182/1247 [27:37<01:31,  1.41s/it] \repoch 0 loss 5.541:  95%|█████████▍| 1183/1247 [27:38<01:30,  1.41s/it]\repoch 0 loss 5.5405:  95%|█████████▍| 1183/1247 [27:39<01:30,  1.41s/it]\repoch 0 loss 5.5405:  95%|█████████▍| 1184/1247 [27:39<01:28,  1.41s/it]\repoch 0 loss 5.5399:  95%|█████████▍| 1184/1247 [27:40<01:28,  1.41s/it]\repoch 0 loss 5.5399:  95%|█████████▌| 1185/1247 [27:41<01:27,  1.41s/it]\repoch 0 loss 5.5393:  95%|█████████▌| 1185/1247 [27:41<01:27,  1.41s/it]\repoch 0 loss 5.5393:  95%|█████████▌| 1186/1247 [27:42<01:26,  1.42s/it]\repoch 0 loss 5.5386:  95%|█████████▌| 1186/1247 [27:43<01:26,  1.42s/it]\repoch 0 loss 5.5386:  95%|█████████▌| 1187/1247 [27:44<01:24,  1.41s/it]\repoch 0 loss 5.5383:  95%|█████████▌| 1187/1247 [27:44<01:24,  1.41s/it]\repoch 0 loss 5.5383:  95%|█████████▌| 1188/1247 [27:45<01:23,  1.41s/it]\repoch 0 loss 5.5381:  95%|█████████▌| 1188/1247 [27:46<01:23,  1.41s/it]\repoch 0 loss 5.5381:  95%|█████████▌| 1189/1247 [27:47<01:21,  1.41s/it]\repoch 0 loss 5.5378:  95%|█████████▌| 1189/1247 [27:47<01:21,  1.41s/it]\repoch 0 loss 5.5378:  95%|█████████▌| 1190/1247 [27:48<01:20,  1.41s/it]\repoch 0 loss 5.5371:  95%|█████████▌| 1190/1247 [27:48<01:20,  1.41s/it]\repoch 0 loss 5.5371:  96%|█████████▌| 1191/1247 [27:49<01:18,  1.41s/it]\repoch 0 loss 5.5363:  96%|█████████▌| 1191/1247 [27:50<01:18,  1.41s/it]\repoch 0 loss 5.5363:  96%|█████████▌| 1192/1247 [27:51<01:17,  1.41s/it]\repoch 0 loss 5.5357:  96%|█████████▌| 1192/1247 [27:51<01:17,  1.41s/it]\repoch 0 loss 5.5357:  96%|█████████▌| 1193/1247 [27:52<01:15,  1.40s/it]\repoch 0 loss 5.5349:  96%|█████████▌| 1193/1247 [27:53<01:15,  1.40s/it]\repoch 0 loss 5.5349:  96%|█████████▌| 1194/1247 [27:54<01:14,  1.41s/it]\repoch 0 loss 5.5346:  96%|█████████▌| 1194/1247 [27:54<01:14,  1.41s/it]\repoch 0 loss 5.5346:  96%|█████████▌| 1195/1247 [27:55<01:13,  1.41s/it]\repoch 0 loss 5.5342:  96%|█████████▌| 1195/1247 [27:56<01:13,  1.41s/it]\repoch 0 loss 5.5342:  96%|█████████▌| 1196/1247 [27:56<01:12,  1.42s/it]\repoch 0 loss 5.5334:  96%|█████████▌| 1196/1247 [27:57<01:12,  1.42s/it]\repoch 0 loss 5.5334:  96%|█████████▌| 1197/1247 [27:58<01:10,  1.41s/it]\repoch 0 loss 5.5328:  96%|█████████▌| 1197/1247 [27:58<01:10,  1.41s/it]\repoch 0 loss 5.5328:  96%|█████████▌| 1198/1247 [27:59<01:09,  1.41s/it]\repoch 0 loss 5.5323:  96%|█████████▌| 1198/1247 [28:00<01:09,  1.41s/it]\repoch 0 loss 5.5323:  96%|█████████▌| 1199/1247 [28:01<01:07,  1.41s/it]\repoch 0 loss 5.5318:  96%|█████████▌| 1199/1247 [28:01<01:07,  1.41s/it]\repoch 0 loss 5.5318:  96%|█████████▌| 1200/1247 [28:02<01:06,  1.42s/it]\repoch 0 loss 5.5315:  96%|█████████▌| 1200/1247 [28:03<01:06,  1.42s/it]\repoch 0 loss 5.5315:  96%|█████████▋| 1201/1247 [28:03<01:05,  1.41s/it]\repoch 0 loss 5.5307:  96%|█████████▋| 1201/1247 [28:04<01:05,  1.41s/it]\repoch 0 loss 5.5307:  96%|█████████▋| 1202/1247 [28:05<01:03,  1.41s/it]\repoch 0 loss 5.53:  96%|█████████▋| 1202/1247 [28:05<01:03,  1.41s/it]  \repoch 0 loss 5.53:  96%|█████████▋| 1203/1247 [28:06<01:02,  1.41s/it]\repoch 0 loss 5.5293:  96%|█████████▋| 1203/1247 [28:07<01:02,  1.41s/it]\repoch 0 loss 5.5293:  97%|█████████▋| 1204/1247 [28:08<01:00,  1.41s/it]\repoch 0 loss 5.529:  97%|█████████▋| 1204/1247 [28:08<01:00,  1.41s/it] \repoch 0 loss 5.529:  97%|█████████▋| 1205/1247 [28:09<00:59,  1.41s/it]\repoch 0 loss 5.5284:  97%|█████████▋| 1205/1247 [28:10<00:59,  1.41s/it]\repoch 0 loss 5.5284:  97%|█████████▋| 1206/1247 [28:11<00:57,  1.41s/it]\repoch 0 loss 5.528:  97%|█████████▋| 1206/1247 [28:11<00:57,  1.41s/it] \repoch 0 loss 5.528:  97%|█████████▋| 1207/1247 [28:12<00:56,  1.41s/it]\repoch 0 loss 5.5275:  97%|█████████▋| 1207/1247 [28:12<00:56,  1.41s/it]\repoch 0 loss 5.5275:  97%|█████████▋| 1208/1247 [28:13<00:55,  1.41s/it]\repoch 0 loss 5.5267:  97%|█████████▋| 1208/1247 [28:14<00:55,  1.41s/it]\repoch 0 loss 5.5267:  97%|█████████▋| 1209/1247 [28:15<00:53,  1.41s/it]\repoch 0 loss 5.5266:  97%|█████████▋| 1209/1247 [28:15<00:53,  1.41s/it]\repoch 0 loss 5.5266:  97%|█████████▋| 1210/1247 [28:16<00:52,  1.41s/it]\repoch 0 loss 5.5263:  97%|█████████▋| 1210/1247 [28:17<00:52,  1.41s/it]\repoch 0 loss 5.5263:  97%|█████████▋| 1211/1247 [28:18<00:50,  1.41s/it]\repoch 0 loss 5.5254:  97%|█████████▋| 1211/1247 [28:18<00:50,  1.41s/it]\repoch 0 loss 5.5254:  97%|█████████▋| 1212/1247 [28:19<00:49,  1.41s/it]\repoch 0 loss 5.525:  97%|█████████▋| 1212/1247 [28:20<00:49,  1.41s/it] \repoch 0 loss 5.525:  97%|█████████▋| 1213/1247 [28:20<00:47,  1.41s/it]\repoch 0 loss 5.5244:  97%|█████████▋| 1213/1247 [28:21<00:47,  1.41s/it]\repoch 0 loss 5.5244:  97%|█████████▋| 1214/1247 [28:22<00:46,  1.41s/it]\repoch 0 loss 5.5245:  97%|█████████▋| 1214/1247 [28:22<00:46,  1.41s/it]\repoch 0 loss 5.5245:  97%|█████████▋| 1215/1247 [28:23<00:45,  1.41s/it]\repoch 0 loss 5.5241:  97%|█████████▋| 1215/1247 [28:24<00:45,  1.41s/it]\repoch 0 loss 5.5241:  98%|█████████▊| 1216/1247 [28:25<00:43,  1.42s/it]\repoch 0 loss 5.5237:  98%|█████████▊| 1216/1247 [28:25<00:43,  1.42s/it]\repoch 0 loss 5.5237:  98%|█████████▊| 1217/1247 [28:26<00:42,  1.41s/it]\repoch 0 loss 5.5236:  98%|█████████▊| 1217/1247 [28:27<00:42,  1.41s/it]\repoch 0 loss 5.5236:  98%|█████████▊| 1218/1247 [28:27<00:40,  1.41s/it]\repoch 0 loss 5.5234:  98%|█████████▊| 1218/1247 [28:28<00:40,  1.41s/it]\repoch 0 loss 5.5234:  98%|█████████▊| 1219/1247 [28:29<00:39,  1.41s/it]\repoch 0 loss 5.5226:  98%|█████████▊| 1219/1247 [28:29<00:39,  1.41s/it]\repoch 0 loss 5.5226:  98%|█████████▊| 1220/1247 [28:30<00:38,  1.41s/it]\repoch 0 loss 5.5219:  98%|█████████▊| 1220/1247 [28:31<00:38,  1.41s/it]\repoch 0 loss 5.5219:  98%|█████████▊| 1221/1247 [28:32<00:36,  1.41s/it]\repoch 0 loss 5.5214:  98%|█████████▊| 1221/1247 [28:32<00:36,  1.41s/it]\repoch 0 loss 5.5214:  98%|█████████▊| 1222/1247 [28:33<00:35,  1.41s/it]\repoch 0 loss 5.5214:  98%|█████████▊| 1222/1247 [28:34<00:35,  1.41s/it]\repoch 0 loss 5.5214:  98%|█████████▊| 1223/1247 [28:35<00:33,  1.41s/it]\repoch 0 loss 5.5207:  98%|█████████▊| 1223/1247 [28:35<00:33,  1.41s/it]\repoch 0 loss 5.5207:  98%|█████████▊| 1224/1247 [28:36<00:32,  1.41s/it]\repoch 0 loss 5.5203:  98%|█████████▊| 1224/1247 [28:36<00:32,  1.41s/it]\repoch 0 loss 5.5203:  98%|█████████▊| 1225/1247 [28:37<00:31,  1.42s/it]\repoch 0 loss 5.5195:  98%|█████████▊| 1225/1247 [28:38<00:31,  1.42s/it]\repoch 0 loss 5.5195:  98%|█████████▊| 1226/1247 [28:39<00:29,  1.41s/it]\repoch 0 loss 5.5191:  98%|█████████▊| 1226/1247 [28:39<00:29,  1.41s/it]\repoch 0 loss 5.5191:  98%|█████████▊| 1227/1247 [28:40<00:28,  1.41s/it]\repoch 0 loss 5.5188:  98%|█████████▊| 1227/1247 [28:41<00:28,  1.41s/it]\repoch 0 loss 5.5188:  98%|█████████▊| 1228/1247 [28:42<00:26,  1.41s/it]\repoch 0 loss 5.5184:  98%|█████████▊| 1228/1247 [28:42<00:26,  1.41s/it]\repoch 0 loss 5.5184:  99%|█████████▊| 1229/1247 [28:43<00:25,  1.40s/it]\repoch 0 loss 5.5182:  99%|█████████▊| 1229/1247 [28:43<00:25,  1.40s/it]\repoch 0 loss 5.5182:  99%|█████████▊| 1230/1247 [28:44<00:23,  1.40s/it]\repoch 0 loss 5.5174:  99%|█████████▊| 1230/1247 [28:45<00:23,  1.40s/it]\repoch 0 loss 5.5174:  99%|█████████▊| 1231/1247 [28:46<00:22,  1.41s/it]\repoch 0 loss 5.517:  99%|█████████▊| 1231/1247 [28:46<00:22,  1.41s/it] \repoch 0 loss 5.517:  99%|█████████▉| 1232/1247 [28:47<00:21,  1.41s/it]\repoch 0 loss 5.5164:  99%|█████████▉| 1232/1247 [28:48<00:21,  1.41s/it]\repoch 0 loss 5.5164:  99%|█████████▉| 1233/1247 [28:49<00:19,  1.40s/it]\repoch 0 loss 5.5167:  99%|█████████▉| 1233/1247 [28:49<00:19,  1.40s/it]\repoch 0 loss 5.5167:  99%|█████████▉| 1234/1247 [28:50<00:18,  1.41s/it]\repoch 0 loss 5.5166:  99%|█████████▉| 1234/1247 [28:51<00:18,  1.41s/it]\repoch 0 loss 5.5166:  99%|█████████▉| 1235/1247 [28:51<00:16,  1.41s/it]\repoch 0 loss 5.5164:  99%|█████████▉| 1235/1247 [28:52<00:16,  1.41s/it]\repoch 0 loss 5.5164:  99%|█████████▉| 1236/1247 [28:53<00:15,  1.41s/it]\repoch 0 loss 5.516:  99%|█████████▉| 1236/1247 [28:53<00:15,  1.41s/it] \repoch 0 loss 5.516:  99%|█████████▉| 1237/1247 [28:54<00:14,  1.40s/it]\repoch 0 loss 5.5156:  99%|█████████▉| 1237/1247 [28:55<00:14,  1.40s/it]\repoch 0 loss 5.5156:  99%|█████████▉| 1238/1247 [28:56<00:12,  1.41s/it]\repoch 0 loss 5.5149:  99%|█████████▉| 1238/1247 [28:56<00:12,  1.41s/it]\repoch 0 loss 5.5149:  99%|█████████▉| 1239/1247 [28:57<00:11,  1.41s/it]\repoch 0 loss 5.5145:  99%|█████████▉| 1239/1247 [28:58<00:11,  1.41s/it]\repoch 0 loss 5.5145:  99%|█████████▉| 1240/1247 [28:58<00:09,  1.41s/it]\repoch 0 loss 5.5138:  99%|█████████▉| 1240/1247 [28:59<00:09,  1.41s/it]\repoch 0 loss 5.5138: 100%|█████████▉| 1241/1247 [29:00<00:08,  1.40s/it]\repoch 0 loss 5.5136: 100%|█████████▉| 1241/1247 [29:00<00:08,  1.40s/it]\repoch 0 loss 5.5136: 100%|█████████▉| 1242/1247 [29:01<00:07,  1.40s/it]\repoch 0 loss 5.5133: 100%|█████████▉| 1242/1247 [29:02<00:07,  1.40s/it]\repoch 0 loss 5.5133: 100%|█████████▉| 1243/1247 [29:03<00:05,  1.40s/it]\repoch 0 loss 5.5126: 100%|█████████▉| 1243/1247 [29:03<00:05,  1.40s/it]\repoch 0 loss 5.5126: 100%|█████████▉| 1244/1247 [29:04<00:04,  1.40s/it]\repoch 0 loss 5.512: 100%|█████████▉| 1244/1247 [29:05<00:04,  1.40s/it] \repoch 0 loss 5.512: 100%|█████████▉| 1245/1247 [29:05<00:02,  1.40s/it]\repoch 0 loss 5.5116: 100%|█████████▉| 1245/1247 [29:06<00:02,  1.40s/it]\repoch 0 loss 5.5116: 100%|█████████▉| 1246/1247 [29:07<00:01,  1.40s/it]\repoch 0 loss 5.512: 100%|█████████▉| 1246/1247 [29:07<00:01,  1.40s/it] \repoch 0 loss 5.512: 100%|██████████| 1247/1247 [29:07<00:00,  1.15s/it]\repoch 0 loss 5.512: 100%|██████████| 1247/1247 [29:07<00:00,  1.40s/it]\n",
            "04/04/2021 12:53:42 - INFO - __main__ -   \n",
            "***** Running evaluation *****\n",
            "04/04/2021 12:53:42 - INFO - __main__ -     Num examples = 1400\n",
            "04/04/2021 12:53:42 - INFO - __main__ -     Batch size = 20\n",
            "04/04/2021 12:54:16 - INFO - __main__ -     eval_ppl = 139.61256\n",
            "04/04/2021 12:54:16 - INFO - __main__ -     global_step = 1248\n",
            "04/04/2021 12:54:16 - INFO - __main__ -     train_loss = 5.512\n",
            "04/04/2021 12:54:16 - INFO - __main__ -     ********************\n",
            "04/04/2021 12:54:19 - INFO - __main__ -     Best ppl:139.61256\n",
            "04/04/2021 12:54:19 - INFO - __main__ -     ********************\n",
            "Total: 1000\n",
            "04/04/2021 12:58:54 - INFO - __main__ -     bleu-4 = 8.42 \n",
            "04/04/2021 12:58:54 - INFO - __main__ -     ********************\n",
            "04/04/2021 12:58:54 - INFO - __main__ -     Best bleu:8.42\n",
            "04/04/2021 12:58:54 - INFO - __main__ -     ********************\n"
          ],
          "name": "stderr"
        }
      ]
    },
    {
      "cell_type": "code",
      "metadata": {
        "id": "4wdFomP4SR1P",
        "colab": {
          "base_uri": "https://localhost:8080/"
        },
        "outputId": "2f91cdeb-f0df-42f6-bef6-9f7f000c46cb"
      },
      "source": [
        "%%bash\n",
        "lang=ruby #programming language\n",
        "batch_size=64\n",
        "beam_size=10\n",
        "source_length=256\n",
        "target_length=128\n",
        "data_dir=dataset\n",
        "output_dir=model/$lang\n",
        "train_file=$data_dir/$lang/train.jsonl\n",
        "dev_file=$data_dir/$lang/valid.jsonl\n",
        "test_file=$data_dir/$lang/test.jsonl\n",
        "epochs=1\n",
        "pretrained_model=roberta-base\n",
        "test_model=$output_dir/checkpoint-best-bleu/pytorch_model.bin #checkpoint for test\n",
        "\n",
        "python code/run.py --do_test --model_type roberta --model_name_or_path microsoft/codebert-base \\\n",
        "--load_model_path $test_model --test_filename $test_file --dev_filename $dev_file \\\n",
        "--output_dir $output_dir --max_source_length $source_length --max_target_length $target_length \\\n",
        "--beam_size $beam_size --eval_batch_size $batch_size"
      ],
      "execution_count": null,
      "outputs": [
        {
          "output_type": "stream",
          "text": [
            "2021-04-04 13:04:39.621568: I tensorflow/stream_executor/platform/default/dso_loader.cc:49] Successfully opened dynamic library libcudart.so.11.0\n",
            "04/04/2021 13:04:41 - INFO - __main__ -   Namespace(adam_epsilon=1e-08, beam_size=10, config_name='', dev_filename='dataset/ruby/valid.jsonl', do_eval=False, do_lower_case=False, do_test=True, do_train=False, eval_batch_size=20, eval_steps=-1, gradient_accumulation_steps=1, learning_rate=5e-05, load_model_path='model/ruby/checkpoint-best-bleu/pytorch_model.bin', local_rank=-1, max_grad_norm=1.0, max_source_length=256, max_steps=-1, max_target_length=128, model_name_or_path='microsoft/codebert-base', model_type='roberta', no_cuda=False, num_train_epochs=3, output_dir='model/ruby', seed=42, test_filename='dataset/ruby/test.jsonl', tokenizer_name='', train_batch_size=8, train_filename=None, train_steps=-1, warmup_steps=0, weight_decay=0.0)\n",
            "04/04/2021 13:04:41 - WARNING - __main__ -   Process rank: -1, device: cuda, n_gpu: 1, distributed training: False\n",
            "04/04/2021 13:04:44 - INFO - __main__ -   reload model from model/ruby/checkpoint-best-bleu/pytorch_model.bin\n",
            "04/04/2021 13:04:48 - INFO - __main__ -   Test file: dataset/ruby/valid.jsonl\n",
            "\r  0%|          | 0/70 [00:00<?, ?it/s]\r  1%|▏         | 1/70 [00:04<05:44,  5.00s/it]\r  3%|▎         | 2/70 [00:09<05:35,  4.93s/it]\r  4%|▍         | 3/70 [00:14<05:24,  4.84s/it]\r  6%|▌         | 4/70 [00:19<05:20,  4.85s/it]\r  7%|▋         | 5/70 [00:24<05:15,  4.86s/it]\r  9%|▊         | 6/70 [00:28<05:05,  4.77s/it]\r 10%|█         | 7/70 [00:33<05:04,  4.84s/it]\r 11%|█▏        | 8/70 [00:38<04:58,  4.82s/it]\r 13%|█▎        | 9/70 [00:43<04:58,  4.90s/it]\r 14%|█▍        | 10/70 [00:49<05:07,  5.12s/it]\r 16%|█▌        | 11/70 [00:54<05:10,  5.27s/it]\r 17%|█▋        | 12/70 [01:00<05:07,  5.30s/it]\r 19%|█▊        | 13/70 [01:05<05:00,  5.27s/it]\r 20%|██        | 14/70 [01:10<04:55,  5.28s/it]\r 21%|██▏       | 15/70 [01:16<04:51,  5.30s/it]\r 23%|██▎       | 16/70 [01:21<04:48,  5.34s/it]\r 24%|██▍       | 17/70 [01:26<04:37,  5.24s/it]\r 26%|██▌       | 18/70 [01:32<04:49,  5.57s/it]\r 27%|██▋       | 19/70 [01:38<04:39,  5.47s/it]\r 29%|██▊       | 20/70 [01:43<04:26,  5.33s/it]\r 30%|███       | 21/70 [01:48<04:29,  5.50s/it]\r 31%|███▏      | 22/70 [01:54<04:21,  5.45s/it]\r 33%|███▎      | 23/70 [01:59<04:12,  5.38s/it]\r 34%|███▍      | 24/70 [02:04<04:03,  5.29s/it]\r 36%|███▌      | 25/70 [02:09<03:56,  5.25s/it]\r 37%|███▋      | 26/70 [02:17<04:29,  6.12s/it]\r 39%|███▊      | 27/70 [02:24<04:22,  6.12s/it]\r 40%|████      | 28/70 [02:29<04:05,  5.84s/it]\r 41%|████▏     | 29/70 [02:35<03:59,  5.85s/it]\r 43%|████▎     | 30/70 [02:40<03:45,  5.65s/it]\r 44%|████▍     | 31/70 [02:45<03:30,  5.41s/it]\r 46%|████▌     | 32/70 [02:50<03:22,  5.32s/it]\r 47%|████▋     | 33/70 [02:55<03:13,  5.22s/it]\r 49%|████▊     | 34/70 [03:00<03:04,  5.13s/it]\r 50%|█████     | 35/70 [03:04<02:56,  5.04s/it]\r 51%|█████▏    | 36/70 [03:10<02:52,  5.06s/it]\r 53%|█████▎    | 37/70 [03:15<02:49,  5.14s/it]\r 54%|█████▍    | 38/70 [03:20<02:45,  5.18s/it]\r 56%|█████▌    | 39/70 [03:28<03:05,  6.00s/it]\r 57%|█████▋    | 40/70 [03:33<02:51,  5.71s/it]\r 59%|█████▊    | 41/70 [03:38<02:41,  5.57s/it]\r 60%|██████    | 42/70 [03:44<02:35,  5.54s/it]\r 61%|██████▏   | 43/70 [03:49<02:29,  5.55s/it]\r 63%|██████▎   | 44/70 [03:54<02:20,  5.41s/it]\r 64%|██████▍   | 45/70 [04:00<02:14,  5.37s/it]\r 66%|██████▌   | 46/70 [04:05<02:07,  5.32s/it]\r 67%|██████▋   | 47/70 [04:12<02:12,  5.77s/it]\r 69%|██████▊   | 48/70 [04:17<02:03,  5.59s/it]\r 70%|███████   | 49/70 [04:22<01:54,  5.45s/it]\r 71%|███████▏  | 50/70 [04:27<01:48,  5.43s/it]\r 73%|███████▎  | 51/70 [04:33<01:43,  5.42s/it]\r 74%|███████▍  | 52/70 [04:38<01:37,  5.41s/it]\r 76%|███████▌  | 53/70 [04:43<01:29,  5.24s/it]\r 77%|███████▋  | 54/70 [04:49<01:27,  5.50s/it]\r 79%|███████▊  | 55/70 [04:54<01:19,  5.30s/it]\r 80%|████████  | 56/70 [04:59<01:12,  5.20s/it]\r 81%|████████▏ | 57/70 [05:04<01:08,  5.25s/it]\r 83%|████████▎ | 58/70 [05:09<01:02,  5.21s/it]\r 84%|████████▍ | 59/70 [05:15<00:57,  5.23s/it]\r 86%|████████▌ | 60/70 [05:21<00:54,  5.45s/it]\r 87%|████████▋ | 61/70 [05:26<00:48,  5.44s/it]\r 89%|████████▊ | 62/70 [05:34<00:48,  6.10s/it]\r 90%|█████████ | 63/70 [05:41<00:44,  6.39s/it]\r 91%|█████████▏| 64/70 [05:46<00:35,  5.98s/it]\r 93%|█████████▎| 65/70 [05:51<00:28,  5.75s/it]\r 94%|█████████▍| 66/70 [05:56<00:22,  5.63s/it]\r 96%|█████████▌| 67/70 [06:02<00:16,  5.65s/it]\r 97%|█████████▋| 68/70 [06:08<00:11,  5.81s/it]\r 99%|█████████▊| 69/70 [06:13<00:05,  5.59s/it]\r100%|██████████| 70/70 [06:19<00:00,  5.48s/it]\r100%|██████████| 70/70 [06:19<00:00,  5.42s/it]\n",
            "Total: 1400\n",
            "04/04/2021 13:11:08 - INFO - __main__ -     bleu-4 = 8.17 \n",
            "04/04/2021 13:11:08 - INFO - __main__ -     ********************\n",
            "04/04/2021 13:11:08 - INFO - __main__ -   Test file: dataset/ruby/test.jsonl\n",
            "\r  0%|          | 0/64 [00:00<?, ?it/s]\r  2%|▏         | 1/64 [00:05<05:39,  5.39s/it]\r  3%|▎         | 2/64 [00:10<05:27,  5.27s/it]\r  5%|▍         | 3/64 [00:15<05:14,  5.16s/it]\r  6%|▋         | 4/64 [00:20<05:07,  5.13s/it]\r  8%|▊         | 5/64 [00:25<05:01,  5.11s/it]\r  9%|▉         | 6/64 [00:30<04:53,  5.07s/it]\r 11%|█         | 7/64 [00:35<04:54,  5.17s/it]\r 12%|█▎        | 8/64 [00:40<04:49,  5.17s/it]\r 14%|█▍        | 9/64 [00:46<04:48,  5.25s/it]\r 16%|█▌        | 10/64 [00:51<04:41,  5.21s/it]\r 17%|█▋        | 11/64 [00:56<04:32,  5.15s/it]\r 19%|█▉        | 12/64 [01:01<04:25,  5.10s/it]\r 20%|██        | 13/64 [01:06<04:17,  5.05s/it]\r 22%|██▏       | 14/64 [01:11<04:13,  5.08s/it]\r 23%|██▎       | 15/64 [01:16<04:07,  5.04s/it]\r 25%|██▌       | 16/64 [01:21<04:00,  5.02s/it]\r 27%|██▋       | 17/64 [01:26<03:59,  5.09s/it]\r 28%|██▊       | 18/64 [01:31<03:56,  5.13s/it]\r 30%|██▉       | 19/64 [01:37<03:54,  5.20s/it]\r 31%|███▏      | 20/64 [01:42<03:52,  5.29s/it]\r 33%|███▎      | 21/64 [01:48<03:54,  5.45s/it]\r 34%|███▍      | 22/64 [01:53<03:44,  5.35s/it]\r 36%|███▌      | 23/64 [01:58<03:35,  5.25s/it]\r 38%|███▊      | 24/64 [02:03<03:26,  5.16s/it]\r 39%|███▉      | 25/64 [02:09<03:22,  5.20s/it]\r 41%|████      | 26/64 [02:14<03:17,  5.20s/it]\r 42%|████▏     | 27/64 [02:19<03:13,  5.23s/it]\r 44%|████▍     | 28/64 [02:24<03:05,  5.16s/it]\r 45%|████▌     | 29/64 [02:29<03:03,  5.25s/it]\r 47%|████▋     | 30/64 [02:35<02:59,  5.27s/it]\r 48%|████▊     | 31/64 [02:40<02:53,  5.24s/it]\r 50%|█████     | 32/64 [02:45<02:50,  5.31s/it]\r 52%|█████▏    | 33/64 [02:51<02:45,  5.32s/it]\r 53%|█████▎    | 34/64 [02:56<02:37,  5.26s/it]\r 55%|█████▍    | 35/64 [03:01<02:30,  5.19s/it]\r 56%|█████▋    | 36/64 [03:06<02:24,  5.16s/it]\r 58%|█████▊    | 37/64 [03:11<02:17,  5.08s/it]\r 59%|█████▉    | 38/64 [03:16<02:11,  5.05s/it]\r 61%|██████    | 39/64 [03:21<02:07,  5.09s/it]\r 62%|██████▎   | 40/64 [03:26<02:02,  5.10s/it]\r 64%|██████▍   | 41/64 [03:31<01:57,  5.09s/it]\r 66%|██████▌   | 42/64 [03:37<01:53,  5.18s/it]\r 67%|██████▋   | 43/64 [03:41<01:46,  5.07s/it]\r 69%|██████▉   | 44/64 [03:46<01:40,  5.04s/it]\r 70%|███████   | 45/64 [03:51<01:34,  4.99s/it]\r 72%|███████▏  | 46/64 [03:56<01:29,  4.97s/it]\r 73%|███████▎  | 47/64 [04:11<02:16,  8.04s/it]\r 75%|███████▌  | 48/64 [04:17<01:54,  7.17s/it]\r 77%|███████▋  | 49/64 [04:22<01:37,  6.53s/it]\r 78%|███████▊  | 50/64 [04:27<01:26,  6.20s/it]\r 80%|███████▉  | 51/64 [04:32<01:17,  5.94s/it]\r 81%|████████▏ | 52/64 [04:38<01:08,  5.73s/it]\r 83%|████████▎ | 53/64 [04:43<01:01,  5.64s/it]\r 84%|████████▍ | 54/64 [04:48<00:55,  5.51s/it]\r 86%|████████▌ | 55/64 [04:53<00:48,  5.36s/it]\r 88%|████████▊ | 56/64 [04:59<00:43,  5.43s/it]\r 89%|████████▉ | 57/64 [05:05<00:39,  5.64s/it]\r 91%|█████████ | 58/64 [05:10<00:33,  5.56s/it]\r 92%|█████████▏| 59/64 [05:15<00:27,  5.43s/it]\r 94%|█████████▍| 60/64 [05:21<00:22,  5.51s/it]\r 95%|█████████▌| 61/64 [05:27<00:16,  5.65s/it]\r 97%|█████████▋| 62/64 [05:32<00:11,  5.51s/it]\r 98%|█████████▊| 63/64 [05:37<00:05,  5.35s/it]\r100%|██████████| 64/64 [05:38<00:00,  3.83s/it]\r100%|██████████| 64/64 [05:38<00:00,  5.28s/it]\n",
            "Total: 1261\n",
            "04/04/2021 13:16:47 - INFO - __main__ -     bleu-4 = 7.38 \n",
            "04/04/2021 13:16:47 - INFO - __main__ -     ********************\n"
          ],
          "name": "stderr"
        }
      ]
    },
    {
      "cell_type": "code",
      "metadata": {
        "colab": {
          "base_uri": "https://localhost:8080/"
        },
        "id": "EIudVFPcS7_z",
        "outputId": "7ed5544d-c5c3-4cf7-c1e6-8cce4cd87641"
      },
      "source": [
        "!python evaluator/evaluator.py model/$lang/test_1.gold < model/$lang/test_1.output"
      ],
      "execution_count": null,
      "outputs": [
        {
          "output_type": "stream",
          "text": [
            "Total: 1261\n",
            "7.382128361110853\n"
          ],
          "name": "stdout"
        }
      ]
    },
    {
      "cell_type": "markdown",
      "metadata": {
        "id": "lRLNH4uJG7rI"
      },
      "source": [
        "# Text2App"
      ]
    },
    {
      "cell_type": "markdown",
      "metadata": {
        "id": "DLOsuOtfPByQ"
      },
      "source": [
        "Model"
      ]
    },
    {
      "cell_type": "code",
      "metadata": {
        "id": "1VbExmvP0-Aw"
      },
      "source": [
        "# Copyright (c) Microsoft Corporation. \n",
        "# Licensed under the MIT license.\n",
        "\n",
        "import torch\n",
        "import torch.nn as nn\n",
        "import torch\n",
        "from torch.autograd import Variable\n",
        "import copy\n",
        "\n",
        "class Seq2Seq(nn.Module):\n",
        "    \"\"\"\n",
        "        Build Seqence-to-Sequence.\n",
        "        \n",
        "        Parameters:\n",
        "        * `encoder`- encoder of seq2seq model. e.g. roberta\n",
        "        * `decoder`- decoder of seq2seq model. e.g. transformer\n",
        "        * `config`- configuration of encoder model. \n",
        "        * `beam_size`- beam size for beam search. \n",
        "        * `max_length`- max length of target for beam search. \n",
        "        * `sos_id`- start of symbol ids in target for beam search.\n",
        "        * `eos_id`- end of symbol ids in target for beam search. \n",
        "    \"\"\"\n",
        "    def __init__(self, encoder,decoder,config,beam_size=None,max_length=None,sos_id=None,eos_id=None):\n",
        "        super(Seq2Seq, self).__init__()\n",
        "        self.encoder = encoder\n",
        "        self.decoder=decoder\n",
        "        self.config=config\n",
        "        self.register_buffer(\"bias\", torch.tril(torch.ones(2048, 2048)))\n",
        "        self.dense = nn.Linear(config.hidden_size, config.hidden_size)\n",
        "        self.lm_head = nn.Linear(config.hidden_size, config.vocab_size, bias=False)\n",
        "        self.lsm = nn.LogSoftmax(dim=-1)\n",
        "        self.tie_weights()\n",
        "        \n",
        "        self.beam_size=beam_size\n",
        "        self.max_length=max_length\n",
        "        self.sos_id=sos_id\n",
        "        self.eos_id=eos_id\n",
        "        \n",
        "    def _tie_or_clone_weights(self, first_module, second_module):\n",
        "        \"\"\" Tie or clone module weights depending of weither we are using TorchScript or not\n",
        "        \"\"\"\n",
        "        if self.config.torchscript:\n",
        "            first_module.weight = nn.Parameter(second_module.weight.clone())\n",
        "        else:\n",
        "            first_module.weight = second_module.weight\n",
        "                  \n",
        "    def tie_weights(self):\n",
        "        \"\"\" Make sure we are sharing the input and output embeddings.\n",
        "            Export to TorchScript can't handle parameter sharing so we are cloning them instead.\n",
        "        \"\"\"\n",
        "        self._tie_or_clone_weights(self.lm_head,\n",
        "                                   self.encoder.embeddings.word_embeddings)        \n",
        "        \n",
        "    def forward(self, source_ids=None,source_mask=None,target_ids=None,target_mask=None,args=None):   \n",
        "        outputs = self.encoder(source_ids, attention_mask=source_mask)\n",
        "        encoder_output = outputs[0].permute([1,0,2]).contiguous()\n",
        "        if target_ids is not None:  \n",
        "            attn_mask=-1e4 *(1-self.bias[:target_ids.shape[1],:target_ids.shape[1]])\n",
        "            tgt_embeddings = self.encoder.embeddings(target_ids).permute([1,0,2]).contiguous()\n",
        "            out = self.decoder(tgt_embeddings,encoder_output,tgt_mask=attn_mask,memory_key_padding_mask=(1-source_mask).bool())\n",
        "            hidden_states = torch.tanh(self.dense(out)).permute([1,0,2]).contiguous()\n",
        "            lm_logits = self.lm_head(hidden_states)\n",
        "            # Shift so that tokens < n predict n\n",
        "            active_loss = target_mask[..., 1:].ne(0).view(-1) == 1\n",
        "            shift_logits = lm_logits[..., :-1, :].contiguous()\n",
        "            shift_labels = target_ids[..., 1:].contiguous()\n",
        "            # Flatten the tokens\n",
        "            loss_fct = nn.CrossEntropyLoss(ignore_index=-1)\n",
        "            loss = loss_fct(shift_logits.view(-1, shift_logits.size(-1))[active_loss],\n",
        "                            shift_labels.view(-1)[active_loss])\n",
        "\n",
        "            outputs = loss,loss*active_loss.sum(),active_loss.sum()\n",
        "            return outputs\n",
        "        else:\n",
        "            #Predict \n",
        "            preds=[]       \n",
        "            zero=torch.cuda.LongTensor(1).fill_(0)     \n",
        "            for i in range(source_ids.shape[0]):\n",
        "                context=encoder_output[:,i:i+1]\n",
        "                context_mask=source_mask[i:i+1,:]\n",
        "                beam = Beam(self.beam_size,self.sos_id,self.eos_id)\n",
        "                input_ids=beam.getCurrentState()\n",
        "                context=context.repeat(1, self.beam_size,1)\n",
        "                context_mask=context_mask.repeat(self.beam_size,1)\n",
        "                for _ in range(self.max_length): \n",
        "                    if beam.done():\n",
        "                        break\n",
        "                    attn_mask=-1e4 *(1-self.bias[:input_ids.shape[1],:input_ids.shape[1]])\n",
        "                    tgt_embeddings = self.encoder.embeddings(input_ids).permute([1,0,2]).contiguous()\n",
        "                    out = self.decoder(tgt_embeddings,context,tgt_mask=attn_mask,memory_key_padding_mask=(1-context_mask).bool())\n",
        "                    out = torch.tanh(self.dense(out))\n",
        "                    hidden_states=out.permute([1,0,2]).contiguous()[:,-1,:]\n",
        "                    out = self.lsm(self.lm_head(hidden_states)).data\n",
        "                    beam.advance(out)\n",
        "                    input_ids.data.copy_(input_ids.data.index_select(0, beam.getCurrentOrigin()))\n",
        "                    input_ids=torch.cat((input_ids,beam.getCurrentState()),-1)\n",
        "                hyp= beam.getHyp(beam.getFinal())\n",
        "                pred=beam.buildTargetTokens(hyp)[:self.beam_size]\n",
        "                pred=[torch.cat([x.view(-1) for x in p]+[zero]*(self.max_length-len(p))).view(1,-1) for p in pred]\n",
        "                preds.append(torch.cat(pred,0).unsqueeze(0))\n",
        "                \n",
        "            preds=torch.cat(preds,0)                \n",
        "            return preds   \n",
        "        \n",
        "        \n",
        "\n",
        "class Beam(object):\n",
        "    def __init__(self, size,sos,eos):\n",
        "        self.size = size\n",
        "        self.tt = torch.cuda\n",
        "        # The score for each translation on the beam.\n",
        "        self.scores = self.tt.FloatTensor(size).zero_()\n",
        "        # The backpointers at each time-step.\n",
        "        self.prevKs = []\n",
        "        # The outputs at each time-step.\n",
        "        self.nextYs = [self.tt.LongTensor(size)\n",
        "                       .fill_(0)]\n",
        "        self.nextYs[0][0] = sos\n",
        "        # Has EOS topped the beam yet.\n",
        "        self._eos = eos\n",
        "        self.eosTop = False\n",
        "        # Time and k pair for finished.\n",
        "        self.finished = []\n",
        "\n",
        "    def getCurrentState(self):\n",
        "        \"Get the outputs for the current timestep.\"\n",
        "        batch = self.tt.LongTensor(self.nextYs[-1]).view(-1, 1)\n",
        "        return batch\n",
        "\n",
        "    def getCurrentOrigin(self):\n",
        "        \"Get the backpointers for the current timestep.\"\n",
        "        return self.prevKs[-1]\n",
        "\n",
        "    def advance(self, wordLk):\n",
        "        \"\"\"\n",
        "        Given prob over words for every last beam `wordLk` and attention\n",
        "        `attnOut`: Compute and update the beam search.\n",
        "        Parameters:\n",
        "        * `wordLk`- probs of advancing from the last step (K x words)\n",
        "        * `attnOut`- attention at the last step\n",
        "        Returns: True if beam search is complete.\n",
        "        \"\"\"\n",
        "        numWords = wordLk.size(1)\n",
        "\n",
        "        # Sum the previous scores.\n",
        "        if len(self.prevKs) > 0:\n",
        "            beamLk = wordLk + self.scores.unsqueeze(1).expand_as(wordLk)\n",
        "\n",
        "            # Don't let EOS have children.\n",
        "            for i in range(self.nextYs[-1].size(0)):\n",
        "                if self.nextYs[-1][i] == self._eos:\n",
        "                    beamLk[i] = -1e20\n",
        "        else:\n",
        "            beamLk = wordLk[0]\n",
        "        flatBeamLk = beamLk.view(-1)\n",
        "        bestScores, bestScoresId = flatBeamLk.topk(self.size, 0, True, True)\n",
        "\n",
        "        self.scores = bestScores\n",
        "\n",
        "        # bestScoresId is flattened beam x word array, so calculate which\n",
        "        # word and beam each score came from\n",
        "        prevK = bestScoresId // numWords\n",
        "        self.prevKs.append(prevK)\n",
        "        self.nextYs.append((bestScoresId - prevK * numWords))\n",
        "\n",
        "\n",
        "        for i in range(self.nextYs[-1].size(0)):\n",
        "            if self.nextYs[-1][i] == self._eos:\n",
        "                s = self.scores[i]\n",
        "                self.finished.append((s, len(self.nextYs) - 1, i))\n",
        "\n",
        "        # End condition is when top-of-beam is EOS and no global score.\n",
        "        if self.nextYs[-1][0] == self._eos:\n",
        "            self.eosTop = True\n",
        "\n",
        "    def done(self):\n",
        "        return self.eosTop and len(self.finished) >=self.size\n",
        "\n",
        "    def getFinal(self):\n",
        "        if len(self.finished) == 0:\n",
        "            self.finished.append((self.scores[0], len(self.nextYs) - 1, 0))\n",
        "        self.finished.sort(key=lambda a: -a[0])\n",
        "        if len(self.finished) != self.size:\n",
        "            unfinished=[]\n",
        "            for i in range(self.nextYs[-1].size(0)):\n",
        "                if self.nextYs[-1][i] != self._eos:\n",
        "                    s = self.scores[i]\n",
        "                    unfinished.append((s, len(self.nextYs) - 1, i)) \n",
        "            unfinished.sort(key=lambda a: -a[0])\n",
        "            self.finished+=unfinished[:self.size-len(self.finished)]\n",
        "        return self.finished[:self.size]\n",
        "\n",
        "    def getHyp(self, beam_res):\n",
        "        \"\"\"\n",
        "        Walk back to construct the full hypothesis.\n",
        "        \"\"\"\n",
        "        hyps=[]\n",
        "        for _,timestep, k in beam_res:\n",
        "            hyp = []\n",
        "            for j in range(len(self.prevKs[:timestep]) - 1, -1, -1):\n",
        "                hyp.append(self.nextYs[j+1][k])\n",
        "                k = self.prevKs[j][k]\n",
        "            hyps.append(hyp[::-1])\n",
        "        return hyps\n",
        "    \n",
        "    def buildTargetTokens(self, preds):\n",
        "        sentence=[]\n",
        "        for pred in preds:\n",
        "            tokens = []\n",
        "            for tok in pred:\n",
        "                if tok==self._eos:\n",
        "                    break\n",
        "                tokens.append(tok)\n",
        "            sentence.append(tokens)\n",
        "        return sentence\n",
        "        \n"
      ],
      "execution_count": 25,
      "outputs": []
    },
    {
      "cell_type": "code",
      "metadata": {
        "id": "YrH5YUx6IvWz"
      },
      "source": [
        "# coding=utf-8\n",
        "# Copyright 2018 The Google AI Language Team Authors and The HuggingFace Inc. team.\n",
        "# Copyright (c) 2018, NVIDIA CORPORATION.  All rights reserved.\n",
        "#\n",
        "# Licensed under the Apache License, Version 2.0 (the \"License\");\n",
        "# you may not use this file except in compliance with the License.\n",
        "# You may obtain a copy of the License at\n",
        "#\n",
        "#     http://www.apache.org/licenses/LICENSE-2.0\n",
        "#\n",
        "# Unless required by applicable law or agreed to in writing, software\n",
        "# distributed under the License is distributed on an \"AS IS\" BASIS,\n",
        "# WITHOUT WARRANTIES OR CONDITIONS OF ANY KIND, either express or implied.\n",
        "# See the License for the specific language governing permissions and\n",
        "# limitations under the License.\n",
        "\"\"\"\n",
        "Fine-tuning the library models for language modeling on a text file (GPT, GPT-2, BERT, RoBERTa).\n",
        "GPT and GPT-2 are fine-tuned using a causal language modeling (CLM) loss while BERT and RoBERTa are fine-tuned\n",
        "using a masked language modeling (MLM) loss.\n",
        "\"\"\"\n",
        "\n",
        "from __future__ import absolute_import\n",
        "import os\n",
        "import sys\n",
        "import bleu\n",
        "import pickle\n",
        "import torch\n",
        "import json\n",
        "import random\n",
        "import logging\n",
        "# import argparse\n",
        "import numpy as np\n",
        "import pandas as pd\n",
        "from io import open\n",
        "from itertools import cycle\n",
        "import torch.nn as nn\n",
        "# from model import Seq2Seq\n",
        "from tqdm import tqdm, trange\n",
        "from torch.utils.data import DataLoader, Dataset, SequentialSampler, RandomSampler,TensorDataset\n",
        "from torch.utils.data.distributed import DistributedSampler\n",
        "from transformers import (WEIGHTS_NAME, AdamW, get_linear_schedule_with_warmup,\n",
        "                          RobertaConfig, RobertaModel, RobertaTokenizer)\n",
        "MODEL_CLASSES = {'roberta': (RobertaConfig, RobertaModel, RobertaTokenizer)}\n",
        "\n",
        "logging.basicConfig(format = '%(asctime)s - %(levelname)s - %(name)s -   %(message)s',\n",
        "                    datefmt = '%m/%d/%Y %H:%M:%S',\n",
        "                    level = logging.INFO)\n",
        "logger = logging.getLogger(__name__)\n",
        "\n",
        "class Example(object):\n",
        "    \"\"\"A single training/test example.\"\"\"\n",
        "    def __init__(self,\n",
        "                 idx,\n",
        "                 source,\n",
        "                 target,\n",
        "                 ):\n",
        "        self.idx = idx\n",
        "        self.source = source\n",
        "        self.target = target\n",
        "\n",
        "def read_examples(filename):\n",
        "    \"\"\"Read examples from filename.\"\"\"\n",
        "    examples=[]\n",
        "\n",
        "    ## open DF, convert to json, iterate one by one\n",
        "    # with open(filename,encoding=\"utf-8\") as f:\n",
        "    #     for idx, line in enumerate(f):\n",
        "    #         line=line.strip()\n",
        "    #         js=json.loads(line)\n",
        "    #         if 'idx' not in js:\n",
        "    #             js['idx']=idx\n",
        "    #         sar=' '.join(js['SAR']).replace('\\n',' ')\n",
        "    #         sar=' '.join(code.strip().split())\n",
        "    #         nl=' '.join(js['NL']).replace('\\n','')\n",
        "    #         nl=' '.join(nl.strip().split())  \n",
        "\n",
        "    df = pd.read_csv(filename)\n",
        "    data_list = list(df.T.to_dict().values())\n",
        "    for idx, data in enumerate(data_list):\n",
        "      nl = data['NL']\n",
        "      sar = data['SAR']\n",
        "      examples.append(\n",
        "          Example(\n",
        "                  idx = idx,\n",
        "                  source=nl,\n",
        "                  target=sar,\n",
        "                  ) \n",
        "      )\n",
        "    return examples\n",
        "\n",
        "\n",
        "class InputFeatures(object):\n",
        "    \"\"\"A single training/test features for a example.\"\"\"\n",
        "    def __init__(self,\n",
        "                 example_id,\n",
        "                 source_ids,\n",
        "                 target_ids,\n",
        "                 source_mask,\n",
        "                 target_mask,\n",
        "\n",
        "    ):\n",
        "        self.example_id = example_id\n",
        "        self.source_ids = source_ids\n",
        "        self.target_ids = target_ids\n",
        "        self.source_mask = source_mask\n",
        "        self.target_mask = target_mask       \n",
        "        \n",
        "\n",
        "\n",
        "def convert_examples_to_features(examples, tokenizer, args,stage=None): # MH: make it encoder_tokenizer, decoder_tokenizer\n",
        "    features = []\n",
        "    for example_index, example in enumerate(examples):\n",
        "        #source\n",
        "        source_tokens = tokenizer.tokenize(example.source)[:args.max_source_length-2]\n",
        "        source_tokens =[tokenizer.cls_token]+source_tokens+[tokenizer.sep_token]\n",
        "        source_ids =  tokenizer.convert_tokens_to_ids(source_tokens) \n",
        "        source_mask = [1] * (len(source_tokens))\n",
        "        padding_length = args.max_source_length - len(source_ids)\n",
        "        source_ids+=[tokenizer.pad_token_id]*padding_length\n",
        "        source_mask+=[0]*padding_length\n",
        " \n",
        "        #target\n",
        "        if stage==\"test\":\n",
        "            target_tokens = tokenizer.tokenize(\"None\")\n",
        "        else:\n",
        "            target_tokens = tokenizer.tokenize(example.target)[:args.max_target_length-2]\n",
        "        target_tokens = [tokenizer.cls_token]+target_tokens+[tokenizer.sep_token]            \n",
        "        target_ids = tokenizer.convert_tokens_to_ids(target_tokens)\n",
        "        target_mask = [1] *len(target_ids)\n",
        "        padding_length = args.max_target_length - len(target_ids)\n",
        "        target_ids+=[tokenizer.pad_token_id]*padding_length\n",
        "        target_mask+=[0]*padding_length   \n",
        "   \n",
        "        if example_index < 5:\n",
        "            if stage=='train':\n",
        "                print(\"*** Example ***\")\n",
        "                print(\"idx: {}\".format(example.idx))\n",
        "\n",
        "                print(\"source_tokens: {}\".format([x.replace('\\u0120','_') for x in source_tokens]))\n",
        "                print(\"source_ids: {}\".format(' '.join(map(str, source_ids))))\n",
        "                print(\"source_mask: {}\".format(' '.join(map(str, source_mask))))\n",
        "                \n",
        "                print(\"target_tokens: {}\".format([x.replace('\\u0120','_') for x in target_tokens]))\n",
        "                print(\"target_ids: {}\".format(' '.join(map(str, target_ids))))\n",
        "                print(\"target_mask: {}\".format(' '.join(map(str, target_mask))))\n",
        "       \n",
        "        features.append(\n",
        "            InputFeatures(\n",
        "                 example_index,\n",
        "                 source_ids,\n",
        "                 target_ids,\n",
        "                 source_mask,\n",
        "                 target_mask,\n",
        "            )\n",
        "        )\n",
        "    return features\n",
        "\n",
        "\n",
        "\n",
        "def set_seed(seed=42):\n",
        "    random.seed(seed)\n",
        "    os.environ['PYHTONHASHSEED'] = str(seed)\n",
        "    np.random.seed(seed)\n",
        "    torch.manual_seed(seed)\n",
        "    torch.cuda.manual_seed(seed)\n",
        "    torch.backends.cudnn.deterministic = True\n",
        "    \n",
        "\n",
        "def main():\n",
        "\n",
        "    print(args)\n",
        "\n",
        "    # Set seed\n",
        "    set_seed(args.seed)\n",
        "    # make dir if output_dir not exist\n",
        "    if os.path.exists(args.output_dir) is False:\n",
        "        os.makedirs(args.output_dir)\n",
        "        \n",
        "## model was here\n",
        "\n",
        "    if args.do_train:\n",
        "        # Prepare training data loader\n",
        "        train_examples = read_examples(args.train_filename)\n",
        "        train_features = convert_examples_to_features(train_examples, tokenizer,args,stage='train') # MH: 2 tokenizers\n",
        "        all_source_ids = torch.tensor([f.source_ids for f in train_features], dtype=torch.long)\n",
        "        all_source_mask = torch.tensor([f.source_mask for f in train_features], dtype=torch.long)\n",
        "        all_target_ids = torch.tensor([f.target_ids for f in train_features], dtype=torch.long)\n",
        "        all_target_mask = torch.tensor([f.target_mask for f in train_features], dtype=torch.long)    \n",
        "        train_data = TensorDataset(all_source_ids,all_source_mask,all_target_ids,all_target_mask)\n",
        "        \n",
        "        if args.local_rank == -1:\n",
        "            train_sampler = RandomSampler(train_data)\n",
        "        else:\n",
        "            train_sampler = DistributedSampler(train_data)\n",
        "        train_dataloader = DataLoader(train_data, sampler=train_sampler, batch_size=args.train_batch_size//args.gradient_accumulation_steps)\n",
        "\n",
        "        num_train_optimization_steps =  args.train_steps\n",
        "\n",
        "        # Prepare optimizer and schedule (linear warmup and decay)\n",
        "        no_decay = ['bias', 'LayerNorm.weight']\n",
        "        optimizer_grouped_parameters = [\n",
        "            {'params': [p for n, p in model.named_parameters() if not any(nd in n for nd in no_decay)],\n",
        "             'weight_decay': args.weight_decay},\n",
        "            {'params': [p for n, p in model.named_parameters() if any(nd in n for nd in no_decay)], 'weight_decay': 0.0}\n",
        "        ]\n",
        "        t_total = len(train_dataloader) // args.gradient_accumulation_steps * args.num_train_epochs\n",
        "        optimizer = AdamW(optimizer_grouped_parameters, lr=args.learning_rate, eps=args.adam_epsilon)\n",
        "        scheduler = get_linear_schedule_with_warmup(optimizer,\n",
        "                                                    num_warmup_steps=int(t_total*0.1),\n",
        "                                                    num_training_steps=t_total)\n",
        "    \n",
        "        #Start training\n",
        "        print(\"***** Running training *****\")\n",
        "        print(\"  Num examples = %d\", len(train_examples))\n",
        "        print(\"  Batch size = %d\", args.train_batch_size)\n",
        "        print(\"  Num epoch = %d\", args.num_train_epochs)\n",
        "        \n",
        "\n",
        "        model.train()\n",
        "        dev_dataset={}\n",
        "        nb_tr_examples, nb_tr_steps,tr_loss,global_step,best_bleu,best_loss = 0, 0,0,0,0,1e6 \n",
        "        for epoch in range(args.num_train_epochs):\n",
        "            bar = tqdm(train_dataloader,total=len(train_dataloader))\n",
        "            for batch in bar:\n",
        "                batch = tuple(t.to(device) for t in batch)\n",
        "                source_ids,source_mask,target_ids,target_mask = batch\n",
        "                loss,_,_ = model(source_ids=source_ids,source_mask=source_mask,target_ids=target_ids,target_mask=target_mask)\n",
        "\n",
        "                if args.n_gpu > 1:\n",
        "                    loss = loss.mean() # mean() to average on multi-gpu.\n",
        "                if args.gradient_accumulation_steps > 1:\n",
        "                    loss = loss / args.gradient_accumulation_steps\n",
        "                tr_loss += loss.item()\n",
        "                train_loss=round(tr_loss*args.gradient_accumulation_steps/(nb_tr_steps+1),4)\n",
        "                bar.set_description(\"epoch {} loss {}\".format(epoch,train_loss))\n",
        "                nb_tr_examples += source_ids.size(0)\n",
        "                nb_tr_steps += 1\n",
        "                loss.backward()\n",
        "\n",
        "                if (nb_tr_steps + 1) % args.gradient_accumulation_steps == 0:\n",
        "                    #Update parameters\n",
        "                    optimizer.step()\n",
        "                    optimizer.zero_grad()\n",
        "                    scheduler.step()\n",
        "                    global_step += 1\n",
        "\n",
        "            if args.do_eval:\n",
        "                #Eval model with dev dataset\n",
        "                tr_loss = 0\n",
        "                nb_tr_examples, nb_tr_steps = 0, 0                     \n",
        "                eval_flag=False    \n",
        "                if 'dev_loss' in dev_dataset:\n",
        "                    eval_examples,eval_data=dev_dataset['dev_loss']\n",
        "                else:\n",
        "                    eval_examples = read_examples(args.dev_filename)\n",
        "                    eval_features = convert_examples_to_features(eval_examples, tokenizer, args,stage='dev')\n",
        "                    all_source_ids = torch.tensor([f.source_ids for f in eval_features], dtype=torch.long)\n",
        "                    all_source_mask = torch.tensor([f.source_mask for f in eval_features], dtype=torch.long)\n",
        "                    all_target_ids = torch.tensor([f.target_ids for f in eval_features], dtype=torch.long)\n",
        "                    all_target_mask = torch.tensor([f.target_mask for f in eval_features], dtype=torch.long)      \n",
        "                    eval_data = TensorDataset(all_source_ids,all_source_mask,all_target_ids,all_target_mask)   \n",
        "                    dev_dataset['dev_loss']=eval_examples,eval_data\n",
        "                eval_sampler = SequentialSampler(eval_data)\n",
        "                eval_dataloader = DataLoader(eval_data, sampler=eval_sampler, batch_size=args.eval_batch_size)\n",
        "\n",
        "                print(\"\\n***** Running evaluation *****\")\n",
        "                print(\"  Num examples = %d\", len(eval_examples))\n",
        "                print(\"  Batch size = %d\", args.eval_batch_size)\n",
        "\n",
        "                #Start Evaling model\n",
        "                model.eval()\n",
        "                eval_loss,tokens_num = 0,0\n",
        "                for batch in eval_dataloader:\n",
        "                    batch = tuple(t.to(device) for t in batch)\n",
        "                    source_ids,source_mask,target_ids,target_mask = batch                  \n",
        "\n",
        "                    with torch.no_grad():\n",
        "                        _,loss,num = model(source_ids=source_ids,source_mask=source_mask,\n",
        "                                           target_ids=target_ids,target_mask=target_mask)     \n",
        "                    eval_loss += loss.sum().item()\n",
        "                    tokens_num += num.sum().item()\n",
        "                #Pring loss of dev dataset    \n",
        "                model.train()\n",
        "                eval_loss = eval_loss / tokens_num\n",
        "                result = {'eval_ppl': round(np.exp(eval_loss),5),\n",
        "                          'global_step': global_step+1,\n",
        "                          'train_loss': round(train_loss,5)}\n",
        "                for key in sorted(result.keys()):\n",
        "                    print(\"  %s = %s\", key, str(result[key]))\n",
        "                print(\"  \"+\"*\"*20)   \n",
        "\n",
        "                #save last checkpoint\n",
        "                last_output_dir = os.path.join(args.output_dir, 'checkpoint-last')\n",
        "                if not os.path.exists(last_output_dir):\n",
        "                    os.makedirs(last_output_dir)\n",
        "                model_to_save = model.module if hasattr(model, 'module') else model  # Only save the model it-self\n",
        "                output_model_file = os.path.join(last_output_dir, \"pytorch_model.bin\")\n",
        "                torch.save(model_to_save.state_dict(), output_model_file)                    \n",
        "                if eval_loss<best_loss:\n",
        "                    print(\"  Best ppl:%s\",round(np.exp(eval_loss),5))\n",
        "                    print(\"  \"+\"*\"*20)\n",
        "                    best_loss=eval_loss\n",
        "                    # Save best checkpoint for best ppl\n",
        "                    output_dir = os.path.join(args.output_dir, 'checkpoint-best-ppl')\n",
        "                    if not os.path.exists(output_dir):\n",
        "                        os.makedirs(output_dir)\n",
        "                    model_to_save = model.module if hasattr(model, 'module') else model  # Only save the model it-self\n",
        "                    output_model_file = os.path.join(output_dir, \"pytorch_model.bin\")\n",
        "                    torch.save(model_to_save.state_dict(), output_model_file)  \n",
        "\n",
        "\n",
        "                #Calculate bleu  \n",
        "                if 'dev_bleu' in dev_dataset:\n",
        "                    eval_examples,eval_data=dev_dataset['dev_bleu']\n",
        "                else:\n",
        "                    eval_examples = read_examples(args.dev_filename)\n",
        "                    eval_examples = random.sample(eval_examples,min(1000,len(eval_examples)))\n",
        "                    eval_features = convert_examples_to_features(eval_examples, tokenizer, args,stage='test')\n",
        "                    all_source_ids = torch.tensor([f.source_ids for f in eval_features], dtype=torch.long)\n",
        "                    all_source_mask = torch.tensor([f.source_mask for f in eval_features], dtype=torch.long)    \n",
        "                    eval_data = TensorDataset(all_source_ids,all_source_mask)   \n",
        "                    dev_dataset['dev_bleu']=eval_examples,eval_data\n",
        "\n",
        "\n",
        "\n",
        "                eval_sampler = SequentialSampler(eval_data)\n",
        "                eval_dataloader = DataLoader(eval_data, sampler=eval_sampler, batch_size=args.eval_batch_size)\n",
        "\n",
        "                model.eval() \n",
        "                p=[]\n",
        "                for batch in eval_dataloader:\n",
        "                    batch = tuple(t.to(device) for t in batch)\n",
        "                    source_ids,source_mask= batch                  \n",
        "                    with torch.no_grad():\n",
        "                        preds = model(source_ids=source_ids,source_mask=source_mask)  \n",
        "                        for pred in preds:\n",
        "                            t=pred[0].cpu().numpy()\n",
        "                            t=list(t)\n",
        "                            if 0 in t:\n",
        "                                t=t[:t.index(0)]\n",
        "                            text = tokenizer.decode(t,clean_up_tokenization_spaces=False)\n",
        "                            p.append(text)\n",
        "                model.train()\n",
        "                predictions=[]\n",
        "                with open(os.path.join(args.output_dir,\"dev.output\"),'w') as f, open(os.path.join(args.output_dir,\"dev.gold\"),'w') as f1:\n",
        "                    for ref,gold in zip(p,eval_examples):\n",
        "                        predictions.append(str(gold.idx)+'\\t'+ref)\n",
        "                        f.write(str(gold.idx)+'\\t'+ref+'\\n')\n",
        "                        f1.write(str(gold.idx)+'\\t'+gold.target+'\\n')     \n",
        "\n",
        "                (goldMap, predictionMap) = bleu.computeMaps(predictions, os.path.join(args.output_dir, \"dev.gold\")) \n",
        "                dev_bleu=round(bleu.bleuFromMaps(goldMap, predictionMap)[0],2)\n",
        "                print(\"  %s = %s \"%(\"bleu-4\",str(dev_bleu)))\n",
        "                print(\"  \"+\"*\"*20)    \n",
        "                if dev_bleu>best_bleu:\n",
        "                    print(\"  Best bleu:%s\",dev_bleu)\n",
        "                    print(\"  \"+\"*\"*20)\n",
        "                    best_bleu=dev_bleu\n",
        "                    # Save best checkpoint for best bleu\n",
        "                    output_dir = os.path.join(args.output_dir, 'checkpoint-best-bleu')\n",
        "                    if not os.path.exists(output_dir):\n",
        "                        os.makedirs(output_dir)\n",
        "                    model_to_save = model.module if hasattr(model, 'module') else model  # Only save the model it-self\n",
        "                    output_model_file = os.path.join(output_dir, \"pytorch_model.bin\")\n",
        "                    torch.save(model_to_save.state_dict(), output_model_file)\n",
        "               \n",
        "    if args.do_test:\n",
        "        files=[]\n",
        "        if args.dev_filename is not None:\n",
        "            files.append(args.dev_filename)\n",
        "        if args.test_filename is not None:\n",
        "            files.append(args.test_filename)\n",
        "        for idx,file in enumerate(files):   \n",
        "            print(\"Test file: {}\".format(file))\n",
        "            eval_examples = read_examples(file)\n",
        "            eval_features = convert_examples_to_features(eval_examples, tokenizer, args,stage='test')\n",
        "            all_source_ids = torch.tensor([f.source_ids for f in eval_features], dtype=torch.long)\n",
        "            all_source_mask = torch.tensor([f.source_mask for f in eval_features], dtype=torch.long)    \n",
        "            eval_data = TensorDataset(all_source_ids,all_source_mask)   \n",
        "\n",
        "            # Calculate bleu\n",
        "            eval_sampler = SequentialSampler(eval_data)\n",
        "            eval_dataloader = DataLoader(eval_data, sampler=eval_sampler, batch_size=args.eval_batch_size)\n",
        "\n",
        "            model.eval() \n",
        "            p=[]\n",
        "            for batch in tqdm(eval_dataloader,total=len(eval_dataloader)):\n",
        "                batch = tuple(t.to(device) for t in batch)\n",
        "                source_ids,source_mask= batch                  \n",
        "                with torch.no_grad():\n",
        "                    preds = model(source_ids=source_ids,source_mask=source_mask)  \n",
        "                    for pred in preds:\n",
        "                        t=pred[0].cpu().numpy()\n",
        "                        t=list(t)\n",
        "                        if 0 in t:\n",
        "                            t=t[:t.index(0)]\n",
        "                        text = tokenizer.decode(t,clean_up_tokenization_spaces=False)\n",
        "                        p.append(text)\n",
        "            model.train()\n",
        "            predictions=[]\n",
        "            with open(os.path.join(args.output_dir,\"test_{}.output\".format(str(idx))),'w') as f, open(os.path.join(args.output_dir,\"test_{}.gold\".format(str(idx))),'w') as f1:\n",
        "                for ref,gold in zip(p,eval_examples):\n",
        "                    predictions.append(str(gold.idx)+'\\t'+ref)\n",
        "                    f.write(str(gold.idx)+'\\t'+ref+'\\n')\n",
        "                    f1.write(str(gold.idx)+'\\t'+gold.target+'\\n')     \n",
        "\n",
        "            (goldMap, predictionMap) = bleu.computeMaps(predictions, os.path.join(args.output_dir, \"test_{}.gold\".format(idx))) \n",
        "            dev_bleu=round(bleu.bleuFromMaps(goldMap, predictionMap)[0],2)\n",
        "            print(\"  %s = %s \"%(\"bleu-4\",str(dev_bleu)))\n",
        "            print(\"  \"+\"*\"*20)    \n"
      ],
      "execution_count": 26,
      "outputs": []
    },
    {
      "cell_type": "code",
      "metadata": {
        "colab": {
          "base_uri": "https://localhost:8080/"
        },
        "id": "HSceeljfzY0I",
        "outputId": "24169ee6-72d5-433f-b3ba-c7ba543d553e"
      },
      "source": [
        "# Setup CUDA, GPU & distributed training\n",
        "if args.local_rank == -1 or args.no_cuda:\n",
        "    device = torch.device(\"cuda\" if torch.cuda.is_available() and not args.no_cuda else \"cpu\")\n",
        "    args.n_gpu = torch.cuda.device_count()\n",
        "else:  # Initializes the distributed backend which will take care of sychronizing nodes/GPUs\n",
        "    torch.cuda.set_device(args.local_rank)\n",
        "    device = torch.device(\"cuda\", args.local_rank)\n",
        "    torch.distributed.init_process_group(backend='nccl')\n",
        "    args.n_gpu = 1\n",
        "logger.warning(\"Process rank: %s, device: %s, n_gpu: %s, distributed training: %s\",\n",
        "                args.local_rank, device, args.n_gpu, bool(args.local_rank != -1))\n",
        "args.device = device"
      ],
      "execution_count": 78,
      "outputs": [
        {
          "output_type": "stream",
          "text": [
            "04/05/2021 06:52:18 - WARNING - __main__ -   Process rank: -1, device: cuda, n_gpu: 1, distributed training: False\n"
          ],
          "name": "stderr"
        }
      ]
    },
    {
      "cell_type": "code",
      "metadata": {
        "colab": {
          "base_uri": "https://localhost:8080/"
        },
        "id": "5YVnN-E_zEcj",
        "outputId": "f7dd327c-5b3a-4476-d49b-9644ec603210"
      },
      "source": [
        "config_class, model_class, tokenizer_class = MODEL_CLASSES[args.model_type]\n",
        "config = config_class.from_pretrained(args.config_name if args.config_name else args.model_name_or_path)\n",
        "tokenizer = tokenizer_class.from_pretrained(args.tokenizer_name if args.tokenizer_name else args.model_name_or_path,do_lower_case=args.do_lower_case)\n",
        "\n",
        "#budild model\n",
        "encoder = model_class.from_pretrained(args.model_name_or_path,config=config)    \n",
        "decoder_layer = nn.TransformerDecoderLayer(d_model=config.hidden_size, nhead=config.num_attention_heads)\n",
        "decoder = nn.TransformerDecoder(decoder_layer, num_layers=6)\n",
        "model=Seq2Seq(encoder=encoder,decoder=decoder,config=config,\n",
        "              beam_size=args.beam_size,max_length=args.max_target_length,\n",
        "              sos_id=tokenizer.cls_token_id,eos_id=tokenizer.sep_token_id)\n",
        "if args.load_model_path is not None:\n",
        "    print(\"reload model from {}\".format(args.load_model_path))\n",
        "    model.load_state_dict(torch.load(args.load_model_path))\n",
        "    \n",
        "model.to(device)\n",
        "if args.local_rank != -1:\n",
        "    # Distributed training\n",
        "    try:\n",
        "        from apex.parallel import DistributedDataParallel as DDP\n",
        "    except ImportError:\n",
        "        raise ImportError(\"Please install apex from https://www.github.com/nvidia/apex to use distributed and fp16 training.\")\n",
        "\n",
        "    model = DDP(model)\n",
        "elif args.n_gpu > 1:\n",
        "    # multi-gpu training\n",
        "    model = torch.nn.DataParallel(model)"
      ],
      "execution_count": 79,
      "outputs": [
        {
          "output_type": "stream",
          "text": [
            "reload model from model/ruby/checkpoint-best-ppl/pytorch_model.bin\n"
          ],
          "name": "stdout"
        }
      ]
    },
    {
      "cell_type": "markdown",
      "metadata": {
        "id": "ffH7YvV6Oaxz"
      },
      "source": [
        "**Training**"
      ]
    },
    {
      "cell_type": "code",
      "metadata": {
        "id": "34alizypPOH9"
      },
      "source": [
        "class Arguments:\n",
        "    pass"
      ],
      "execution_count": 32,
      "outputs": []
    },
    {
      "cell_type": "code",
      "metadata": {
        "id": "pAaxEIuUM2uG"
      },
      "source": [
        "lr=5e-5\n",
        "batch_size=32\n",
        "beam_size=10\n",
        "source_length=80\n",
        "target_length=128\n",
        "# data_dir='dataset'\n",
        "output_dir=\"model/Text2App/\"\n",
        "# train_file=data_dir+\"/\"+lang+\"/train.jsonl\"\n",
        "# dev_file=data_dir+\"/\"+lang+\"/valid.jsonl\"\n",
        "# test_file=data_dir+\"/\"+lang+\"/test.jsonl\"\n",
        "data_dir = '../../../../'\n",
        "train_file=data_dir+'nl_sar_train.csv'\n",
        "dev_file=data_dir+'nl_sar_valid.csv'\n",
        "test_file=data_dir+'nl_sar_test.csv'\n",
        "epochs=10 \n",
        "pretrained_model='roberta-base' # microsoft/codebert-base  "
      ],
      "execution_count": 45,
      "outputs": []
    },
    {
      "cell_type": "code",
      "metadata": {
        "id": "VpOUBhufLt-w"
      },
      "source": [
        "args = Arguments()\n",
        "\n",
        "## Required parameters\n",
        "args.model_type='roberta'\n",
        "args.model_name_or_path=pretrained_model\n",
        "args.output_dir=output_dir\n",
        "args.load_model_path=None #output_dir+\"/checkpoint-best-bleu/pytorch_model.bin\"\n",
        "## Other parameters\n",
        "args.train_filename=train_file\n",
        "args.dev_filename=dev_file\n",
        "args.test_filename=test_file\n",
        "args.config_name=\"\"\n",
        "args.tokenizer_name=\"\"\n",
        "args.gradient_accumulation_steps=1\n",
        "args.beam_size=10\n",
        "args.weight_decay=0.0\n",
        "args.adam_epsilon=1e-8\n",
        "args.max_grad_norm=1.0\n",
        "args.max_steps=-1\n",
        "args.eval_steps=-1\n",
        "args.train_steps=-1\n",
        "args.warmup_steps=0\n",
        "args.local_rank=-1\n",
        "args.seed=42\n",
        "\n",
        "args.no_cuda=False\n",
        "args.do_lower_case=True\n",
        "args.do_train=True\n",
        "args.do_eval=True\n",
        "args.do_test=False\n",
        "\n",
        "args.num_train_epochs=1\n",
        "args.train_batch_size=24\n",
        "args.eval_batch_size=100\n",
        "args.learning_rate=lr\n",
        "args.max_source_length=source_length\n",
        "args.max_target_length=target_length"
      ],
      "execution_count": 48,
      "outputs": []
    },
    {
      "cell_type": "code",
      "metadata": {
        "colab": {
          "base_uri": "https://localhost:8080/",
          "height": 1000
        },
        "id": "g8fS_vh0I0P5",
        "outputId": "1e452f00-db08-4208-c2fc-b1fd581133c0"
      },
      "source": [
        "if __name__ == \"__main__\":\n",
        "    main()"
      ],
      "execution_count": 49,
      "outputs": [
        {
          "output_type": "stream",
          "text": [
            "04/05/2021 04:50:48 - WARNING - __main__ -   Process rank: -1, device: cuda, n_gpu: 1, distributed training: False\n"
          ],
          "name": "stderr"
        },
        {
          "output_type": "stream",
          "text": [
            "<__main__.Arguments object at 0x7f25722ae250>\n",
            "*** Example ***\n",
            "idx: 0\n",
            "source_tokens: ['<s>', 'make', '_mobile', '_application', '_containing', '_a', '_video', '_player', '_with', '_source', '_string', '0', '_,', '_a', '_password', '_field', '_,', '_a', '_switch', '_,', '_a', '_password', '_box', '_,', '_and', '_a', '_button', '_.', '_if', '_the', '_switch', '_is', '_touched', ',', '_stop', '_video', '_player', '_.', '</s>']\n",
            "source_ids: 0 19746 1830 2502 8200 10 569 869 19 1300 6755 288 2156 10 14844 882 2156 10 5405 2156 10 14844 2233 2156 8 10 6148 479 114 5 5405 16 6699 6 912 569 869 479 2 1 1 1 1 1 1 1 1 1 1 1 1 1 1 1 1 1 1 1 1 1 1 1 1 1 1 1 1 1 1 1 1 1 1 1 1 1 1 1 1 1 1 1 1 1 1 1 1 1 1 1 1 1 1 1 1 1 1 1 1 1\n",
            "source_mask: 1 1 1 1 1 1 1 1 1 1 1 1 1 1 1 1 1 1 1 1 1 1 1 1 1 1 1 1 1 1 1 1 1 1 1 1 1 1 1 0 0 0 0 0 0 0 0 0 0 0 0 0 0 0 0 0 0 0 0 0 0 0 0 0 0 0 0 0 0 0 0 0 0 0 0 0 0 0 0 0 0 0 0 0 0 0 0 0 0 0 0 0 0 0 0 0 0 0 0 0\n",
            "target_tokens: ['<s>', '<', 'start', '_', 'comp', '>', '_<', 'video', '_', 'player', '>', '_string', '0', '_</', 'video', '_', 'player', '>', '_<', 'password', 'text', 'box', '>', '_<', 'switch', '>', '_switch', '1', '_</', 'switch', '>', '_<', 'password', 'text', 'box', '>', '_<', 'button', '>', '_button', '1', '_</', 'button', '>', '_<', 'end', '_', 'comp', '>', '_<', 'code', '>', '_<', 'switch', '1', 'fl', 'ipped', '>', '_<', 'video', '_', 'player', '1', '>', '_<', 'stop', '>', '_</', 'video', '_', 'player', '1', '>', '_</', 'switch', '1', 'fl', 'ipped', '>', '_</', 'code', '>', '</s>']\n",
            "target_ids: 0 41552 13124 1215 11828 15698 28696 14406 1215 23233 15698 6755 288 49703 14406 1215 23233 15698 28696 46880 29015 8304 15698 28696 43067 15698 5405 134 49703 43067 15698 28696 46880 29015 8304 15698 28696 32135 15698 6148 134 49703 32135 15698 28696 1397 1215 11828 15698 28696 20414 15698 28696 43067 134 4825 8246 15698 28696 14406 1215 23233 134 15698 28696 8287 15698 49703 14406 1215 23233 134 15698 49703 43067 134 4825 8246 15698 49703 20414 15698 2 1 1 1 1 1 1 1 1 1 1 1 1 1 1 1 1 1 1 1 1 1 1 1 1 1 1 1 1 1 1 1 1 1 1 1 1 1 1 1 1 1 1 1 1 1\n",
            "target_mask: 1 1 1 1 1 1 1 1 1 1 1 1 1 1 1 1 1 1 1 1 1 1 1 1 1 1 1 1 1 1 1 1 1 1 1 1 1 1 1 1 1 1 1 1 1 1 1 1 1 1 1 1 1 1 1 1 1 1 1 1 1 1 1 1 1 1 1 1 1 1 1 1 1 1 1 1 1 1 1 1 1 1 1 0 0 0 0 0 0 0 0 0 0 0 0 0 0 0 0 0 0 0 0 0 0 0 0 0 0 0 0 0 0 0 0 0 0 0 0 0 0 0 0 0 0 0 0 0\n",
            "*** Example ***\n",
            "idx: 1\n",
            "source_tokens: ['<s>', 'give', '_me', '_mobile', '_application', '_consisting', '_of', '_a', '_password', '_field', '_.', '</s>']\n",
            "source_ids: 0 26650 162 1830 2502 17402 9 10 14844 882 479 2 1 1 1 1 1 1 1 1 1 1 1 1 1 1 1 1 1 1 1 1 1 1 1 1 1 1 1 1 1 1 1 1 1 1 1 1 1 1 1 1 1 1 1 1 1 1 1 1 1 1 1 1 1 1 1 1 1 1 1 1 1 1 1 1 1 1 1 1 1 1 1 1 1 1 1 1 1 1 1 1 1 1 1 1 1 1 1 1\n",
            "source_mask: 1 1 1 1 1 1 1 1 1 1 1 1 0 0 0 0 0 0 0 0 0 0 0 0 0 0 0 0 0 0 0 0 0 0 0 0 0 0 0 0 0 0 0 0 0 0 0 0 0 0 0 0 0 0 0 0 0 0 0 0 0 0 0 0 0 0 0 0 0 0 0 0 0 0 0 0 0 0 0 0 0 0 0 0 0 0 0 0 0 0 0 0 0 0 0 0 0 0 0 0\n",
            "target_tokens: ['<s>', '<', 'start', '_', 'comp', '>', '_<', 'password', 'text', 'box', '>', '_<', 'end', '_', 'comp', '>', '</s>']\n",
            "target_ids: 0 41552 13124 1215 11828 15698 28696 46880 29015 8304 15698 28696 1397 1215 11828 15698 2 1 1 1 1 1 1 1 1 1 1 1 1 1 1 1 1 1 1 1 1 1 1 1 1 1 1 1 1 1 1 1 1 1 1 1 1 1 1 1 1 1 1 1 1 1 1 1 1 1 1 1 1 1 1 1 1 1 1 1 1 1 1 1 1 1 1 1 1 1 1 1 1 1 1 1 1 1 1 1 1 1 1 1 1 1 1 1 1 1 1 1 1 1 1 1 1 1 1 1 1 1 1 1 1 1 1 1 1 1 1 1\n",
            "target_mask: 1 1 1 1 1 1 1 1 1 1 1 1 1 1 1 1 1 0 0 0 0 0 0 0 0 0 0 0 0 0 0 0 0 0 0 0 0 0 0 0 0 0 0 0 0 0 0 0 0 0 0 0 0 0 0 0 0 0 0 0 0 0 0 0 0 0 0 0 0 0 0 0 0 0 0 0 0 0 0 0 0 0 0 0 0 0 0 0 0 0 0 0 0 0 0 0 0 0 0 0 0 0 0 0 0 0 0 0 0 0 0 0 0 0 0 0 0 0 0 0 0 0 0 0 0 0 0 0\n",
            "*** Example ***\n",
            "idx: 2\n",
            "source_tokens: ['<s>', 'create', '_application', '_consisting', '_of', '_an', '_audio', '_with', '_source', '_string', '0', '_,', '_a', '_password', '_field', '_,', '_and', '_an', '_acceler', 'ometer', '_.', '_if', '_the', '_acceler', 'ometer', '_is', '_shaken', ',', '_stop', '_the', '_player', '_.', '</s>']\n",
            "source_ids: 0 32845 2502 17402 9 41 6086 19 1300 6755 288 2156 10 14844 882 2156 8 41 27416 12687 479 114 5 27416 12687 16 17548 6 912 5 869 479 2 1 1 1 1 1 1 1 1 1 1 1 1 1 1 1 1 1 1 1 1 1 1 1 1 1 1 1 1 1 1 1 1 1 1 1 1 1 1 1 1 1 1 1 1 1 1 1 1 1 1 1 1 1 1 1 1 1 1 1 1 1 1 1 1 1 1 1\n",
            "source_mask: 1 1 1 1 1 1 1 1 1 1 1 1 1 1 1 1 1 1 1 1 1 1 1 1 1 1 1 1 1 1 1 1 1 0 0 0 0 0 0 0 0 0 0 0 0 0 0 0 0 0 0 0 0 0 0 0 0 0 0 0 0 0 0 0 0 0 0 0 0 0 0 0 0 0 0 0 0 0 0 0 0 0 0 0 0 0 0 0 0 0 0 0 0 0 0 0 0 0 0 0\n",
            "target_tokens: ['<s>', '<', 'start', '_', 'comp', '>', '_<', 'player', '>', '_string', '0', '_</', 'player', '>', '_<', 'password', 'text', 'box', '>', '_<', 'ac', 'celer', 'ometer', '>', '_<', 'end', '_', 'comp', '>', '_<', 'code', '>', '_<', 'ac', 'celer', 'ometer', '1', 'sh', 'aken', '>', '_<', 'player', '1', '>', '_<', 'stop', '>', '_</', 'player', '1', '>', '_</', 'ac', 'celer', 'ometer', '1', 'sh', 'aken', '>', '_</', 'code', '>', '</s>']\n",
            "target_ids: 0 41552 13124 1215 11828 15698 28696 23233 15698 6755 288 49703 23233 15698 28696 46880 29015 8304 15698 28696 1043 24608 12687 15698 28696 1397 1215 11828 15698 28696 20414 15698 28696 1043 24608 12687 134 1193 12578 15698 28696 23233 134 15698 28696 8287 15698 49703 23233 134 15698 49703 1043 24608 12687 134 1193 12578 15698 49703 20414 15698 2 1 1 1 1 1 1 1 1 1 1 1 1 1 1 1 1 1 1 1 1 1 1 1 1 1 1 1 1 1 1 1 1 1 1 1 1 1 1 1 1 1 1 1 1 1 1 1 1 1 1 1 1 1 1 1 1 1 1 1 1 1 1 1 1 1\n",
            "target_mask: 1 1 1 1 1 1 1 1 1 1 1 1 1 1 1 1 1 1 1 1 1 1 1 1 1 1 1 1 1 1 1 1 1 1 1 1 1 1 1 1 1 1 1 1 1 1 1 1 1 1 1 1 1 1 1 1 1 1 1 1 1 1 1 0 0 0 0 0 0 0 0 0 0 0 0 0 0 0 0 0 0 0 0 0 0 0 0 0 0 0 0 0 0 0 0 0 0 0 0 0 0 0 0 0 0 0 0 0 0 0 0 0 0 0 0 0 0 0 0 0 0 0 0 0 0 0 0 0\n",
            "*** Example ***\n",
            "idx: 3\n",
            "source_tokens: ['<s>', 'an', '_application', '_with', '_a', '_video', '_with', '_source', '_string', '0', '_,', '_and', '_a', '_button', '_.', '_when', '_the', '_button', '_is', '_touched', ',', '_stop', '_the', '_video', '_.', '</s>']\n",
            "source_ids: 0 260 2502 19 10 569 19 1300 6755 288 2156 8 10 6148 479 77 5 6148 16 6699 6 912 5 569 479 2 1 1 1 1 1 1 1 1 1 1 1 1 1 1 1 1 1 1 1 1 1 1 1 1 1 1 1 1 1 1 1 1 1 1 1 1 1 1 1 1 1 1 1 1 1 1 1 1 1 1 1 1 1 1 1 1 1 1 1 1 1 1 1 1 1 1 1 1 1 1 1 1 1 1\n",
            "source_mask: 1 1 1 1 1 1 1 1 1 1 1 1 1 1 1 1 1 1 1 1 1 1 1 1 1 1 0 0 0 0 0 0 0 0 0 0 0 0 0 0 0 0 0 0 0 0 0 0 0 0 0 0 0 0 0 0 0 0 0 0 0 0 0 0 0 0 0 0 0 0 0 0 0 0 0 0 0 0 0 0 0 0 0 0 0 0 0 0 0 0 0 0 0 0 0 0 0 0 0 0\n",
            "target_tokens: ['<s>', '<', 'start', '_', 'comp', '>', '_<', 'video', '_', 'player', '>', '_string', '0', '_</', 'video', '_', 'player', '>', '_<', 'button', '>', '_button', '1', '_</', 'button', '>', '_<', 'end', '_', 'comp', '>', '_<', 'code', '>', '_<', 'button', '1', 'cl', 'icked', '>', '_<', 'video', '_', 'player', '1', '>', '_<', 'stop', '>', '_</', 'video', '_', 'player', '1', '>', '_</', 'button', '1', 'cl', 'icked', '>', '_</', 'code', '>', '</s>']\n",
            "target_ids: 0 41552 13124 1215 11828 15698 28696 14406 1215 23233 15698 6755 288 49703 14406 1215 23233 15698 28696 32135 15698 6148 134 49703 32135 15698 28696 1397 1215 11828 15698 28696 20414 15698 28696 32135 134 3998 14851 15698 28696 14406 1215 23233 134 15698 28696 8287 15698 49703 14406 1215 23233 134 15698 49703 32135 134 3998 14851 15698 49703 20414 15698 2 1 1 1 1 1 1 1 1 1 1 1 1 1 1 1 1 1 1 1 1 1 1 1 1 1 1 1 1 1 1 1 1 1 1 1 1 1 1 1 1 1 1 1 1 1 1 1 1 1 1 1 1 1 1 1 1 1 1 1 1 1 1 1\n",
            "target_mask: 1 1 1 1 1 1 1 1 1 1 1 1 1 1 1 1 1 1 1 1 1 1 1 1 1 1 1 1 1 1 1 1 1 1 1 1 1 1 1 1 1 1 1 1 1 1 1 1 1 1 1 1 1 1 1 1 1 1 1 1 1 1 1 1 1 0 0 0 0 0 0 0 0 0 0 0 0 0 0 0 0 0 0 0 0 0 0 0 0 0 0 0 0 0 0 0 0 0 0 0 0 0 0 0 0 0 0 0 0 0 0 0 0 0 0 0 0 0 0 0 0 0 0 0 0 0 0 0\n",
            "*** Example ***\n",
            "idx: 4\n",
            "source_tokens: ['<s>', 'a', '_software', '_consisting', '_a', '_button', '_,', '_a', '_circle', '_,', '_a', '_video', '_player', '_with', '_a', '_random', '_video', '_,', '_a', '_label', '_,', '_and', '_a', '_label', '_.', '_if', '_the', '_button', '_is', '_touched', ',', '_set', '_label', '_string', '0', '_.', '_if', '_the', '_circle', '_is', '_hit', ',', '_set', '_label', '_text', '_to', '_string', '1', '_.', '</s>']\n",
            "source_ids: 0 102 2257 17402 10 6148 2156 10 7922 2156 10 569 869 19 10 9624 569 2156 10 6929 2156 8 10 6929 479 114 5 6148 16 6699 6 278 6929 6755 288 479 114 5 7922 16 478 6 278 6929 2788 7 6755 134 479 2 1 1 1 1 1 1 1 1 1 1 1 1 1 1 1 1 1 1 1 1 1 1 1 1 1 1 1 1 1 1 1 1 1 1 1 1 1 1 1 1 1 1 1 1 1 1 1 1 1 1\n",
            "source_mask: 1 1 1 1 1 1 1 1 1 1 1 1 1 1 1 1 1 1 1 1 1 1 1 1 1 1 1 1 1 1 1 1 1 1 1 1 1 1 1 1 1 1 1 1 1 1 1 1 1 1 0 0 0 0 0 0 0 0 0 0 0 0 0 0 0 0 0 0 0 0 0 0 0 0 0 0 0 0 0 0 0 0 0 0 0 0 0 0 0 0 0 0 0 0 0 0 0 0 0 0\n",
            "target_tokens: ['<s>', '<', 'start', '_', 'comp', '>', '_<', 'button', '>', '_button', '1', '_</', 'button', '>', '_<', 'ball', '>', '_<', 'video', '_', 'player', '>', '_random', '_', 'video', '_', 'player', '_', 'source', '_</', 'video', '_', 'player', '>', '_<', 'label', '>', '_label', '1', '_</', 'label', '>', '_<', 'label', '>', '_label', '2', '_</', 'label', '>', '_<', 'end', '_', 'comp', '>', '_<', 'code', '>', '_<', 'button', '1', 'cl', 'icked', '>', '_<', 'label', '1', '>', '_string', '0', '_</', 'label', '1', '>', '_</', 'button', '1', 'cl', 'icked', '>', '_<', 'ball', '1', 'reach', '_', 'edge', '>', '_<', 'label', '2', '>', '_string', '1', '_</', 'label', '2', '>', '_</', 'ball', '1', 'reach', '_', 'edge', '>', '_</', 'code', '>', '</s>']\n",
            "target_ids: 0 41552 13124 1215 11828 15698 28696 32135 15698 6148 134 49703 32135 15698 28696 3512 15698 28696 14406 1215 23233 15698 9624 1215 14406 1215 23233 1215 17747 49703 14406 1215 23233 15698 28696 33480 15698 6929 134 49703 33480 15698 28696 33480 15698 6929 176 49703 33480 15698 28696 1397 1215 11828 15698 28696 20414 15698 28696 32135 134 3998 14851 15698 28696 33480 134 15698 6755 288 49703 33480 134 15698 49703 32135 134 3998 14851 15698 28696 3512 134 18645 1215 14724 15698 28696 33480 176 15698 6755 134 49703 33480 176 15698 49703 3512 134 18645 1215 14724 15698 49703 20414 15698 2 1 1 1 1 1 1 1 1 1 1 1 1 1 1 1 1 1 1 1 1\n",
            "target_mask: 1 1 1 1 1 1 1 1 1 1 1 1 1 1 1 1 1 1 1 1 1 1 1 1 1 1 1 1 1 1 1 1 1 1 1 1 1 1 1 1 1 1 1 1 1 1 1 1 1 1 1 1 1 1 1 1 1 1 1 1 1 1 1 1 1 1 1 1 1 1 1 1 1 1 1 1 1 1 1 1 1 1 1 1 1 1 1 1 1 1 1 1 1 1 1 1 1 1 1 1 1 1 1 1 1 1 1 1 0 0 0 0 0 0 0 0 0 0 0 0 0 0 0 0 0 0 0 0\n"
          ],
          "name": "stdout"
        },
        {
          "output_type": "stream",
          "text": [
            "\r  0%|          | 0/328 [00:00<?, ?it/s]"
          ],
          "name": "stderr"
        },
        {
          "output_type": "stream",
          "text": [
            "***** Running training *****\n",
            "  Num examples = %d 7851\n",
            "  Batch size = %d 24\n",
            "  Num epoch = %d 1\n"
          ],
          "name": "stdout"
        },
        {
          "output_type": "stream",
          "text": [
            "epoch 0 loss 1.313: 100%|██████████| 328/328 [03:06<00:00,  1.76it/s]\n"
          ],
          "name": "stderr"
        },
        {
          "output_type": "stream",
          "text": [
            "\n",
            "***** Running evaluation *****\n",
            "  Num examples = %d 981\n",
            "  Batch size = %d 64\n",
            "  %s = %s eval_ppl 1.55012\n",
            "  %s = %s global_step 329\n",
            "  %s = %s train_loss 1.313\n",
            "  ********************\n",
            "  Best ppl:%s 1.55012\n",
            "  ********************\n"
          ],
          "name": "stdout"
        },
        {
          "output_type": "error",
          "ename": "KeyboardInterrupt",
          "evalue": "ignored",
          "traceback": [
            "\u001b[0;31m---------------------------------------------------------------------------\u001b[0m",
            "\u001b[0;31mKeyboardInterrupt\u001b[0m                         Traceback (most recent call last)",
            "\u001b[0;32m<ipython-input-49-972361fa1b80>\u001b[0m in \u001b[0;36m<module>\u001b[0;34m()\u001b[0m\n\u001b[1;32m      1\u001b[0m \u001b[0;32mif\u001b[0m \u001b[0m__name__\u001b[0m \u001b[0;34m==\u001b[0m \u001b[0;34m\"__main__\"\u001b[0m\u001b[0;34m:\u001b[0m\u001b[0;34m\u001b[0m\u001b[0;34m\u001b[0m\u001b[0m\n\u001b[0;32m----> 2\u001b[0;31m     \u001b[0mmain\u001b[0m\u001b[0;34m(\u001b[0m\u001b[0;34m)\u001b[0m\u001b[0;34m\u001b[0m\u001b[0;34m\u001b[0m\u001b[0m\n\u001b[0m",
            "\u001b[0;32m<ipython-input-26-e7940c0d6059>\u001b[0m in \u001b[0;36mmain\u001b[0;34m()\u001b[0m\n\u001b[1;32m    371\u001b[0m                     \u001b[0msource_ids\u001b[0m\u001b[0;34m,\u001b[0m\u001b[0msource_mask\u001b[0m\u001b[0;34m=\u001b[0m \u001b[0mbatch\u001b[0m\u001b[0;34m\u001b[0m\u001b[0;34m\u001b[0m\u001b[0m\n\u001b[1;32m    372\u001b[0m                     \u001b[0;32mwith\u001b[0m \u001b[0mtorch\u001b[0m\u001b[0;34m.\u001b[0m\u001b[0mno_grad\u001b[0m\u001b[0;34m(\u001b[0m\u001b[0;34m)\u001b[0m\u001b[0;34m:\u001b[0m\u001b[0;34m\u001b[0m\u001b[0;34m\u001b[0m\u001b[0m\n\u001b[0;32m--> 373\u001b[0;31m                         \u001b[0mpreds\u001b[0m \u001b[0;34m=\u001b[0m \u001b[0mmodel\u001b[0m\u001b[0;34m(\u001b[0m\u001b[0msource_ids\u001b[0m\u001b[0;34m=\u001b[0m\u001b[0msource_ids\u001b[0m\u001b[0;34m,\u001b[0m\u001b[0msource_mask\u001b[0m\u001b[0;34m=\u001b[0m\u001b[0msource_mask\u001b[0m\u001b[0;34m)\u001b[0m\u001b[0;34m\u001b[0m\u001b[0;34m\u001b[0m\u001b[0m\n\u001b[0m\u001b[1;32m    374\u001b[0m                         \u001b[0;32mfor\u001b[0m \u001b[0mpred\u001b[0m \u001b[0;32min\u001b[0m \u001b[0mpreds\u001b[0m\u001b[0;34m:\u001b[0m\u001b[0;34m\u001b[0m\u001b[0;34m\u001b[0m\u001b[0m\n\u001b[1;32m    375\u001b[0m                             \u001b[0mt\u001b[0m\u001b[0;34m=\u001b[0m\u001b[0mpred\u001b[0m\u001b[0;34m[\u001b[0m\u001b[0;36m0\u001b[0m\u001b[0;34m]\u001b[0m\u001b[0;34m.\u001b[0m\u001b[0mcpu\u001b[0m\u001b[0;34m(\u001b[0m\u001b[0;34m)\u001b[0m\u001b[0;34m.\u001b[0m\u001b[0mnumpy\u001b[0m\u001b[0;34m(\u001b[0m\u001b[0;34m)\u001b[0m\u001b[0;34m\u001b[0m\u001b[0;34m\u001b[0m\u001b[0m\n",
            "\u001b[0;32m/usr/local/lib/python3.7/dist-packages/torch/nn/modules/module.py\u001b[0m in \u001b[0;36m_call_impl\u001b[0;34m(self, *input, **kwargs)\u001b[0m\n\u001b[1;32m    887\u001b[0m             \u001b[0mresult\u001b[0m \u001b[0;34m=\u001b[0m \u001b[0mself\u001b[0m\u001b[0;34m.\u001b[0m\u001b[0m_slow_forward\u001b[0m\u001b[0;34m(\u001b[0m\u001b[0;34m*\u001b[0m\u001b[0minput\u001b[0m\u001b[0;34m,\u001b[0m \u001b[0;34m**\u001b[0m\u001b[0mkwargs\u001b[0m\u001b[0;34m)\u001b[0m\u001b[0;34m\u001b[0m\u001b[0;34m\u001b[0m\u001b[0m\n\u001b[1;32m    888\u001b[0m         \u001b[0;32melse\u001b[0m\u001b[0;34m:\u001b[0m\u001b[0;34m\u001b[0m\u001b[0;34m\u001b[0m\u001b[0m\n\u001b[0;32m--> 889\u001b[0;31m             \u001b[0mresult\u001b[0m \u001b[0;34m=\u001b[0m \u001b[0mself\u001b[0m\u001b[0;34m.\u001b[0m\u001b[0mforward\u001b[0m\u001b[0;34m(\u001b[0m\u001b[0;34m*\u001b[0m\u001b[0minput\u001b[0m\u001b[0;34m,\u001b[0m \u001b[0;34m**\u001b[0m\u001b[0mkwargs\u001b[0m\u001b[0;34m)\u001b[0m\u001b[0;34m\u001b[0m\u001b[0;34m\u001b[0m\u001b[0m\n\u001b[0m\u001b[1;32m    890\u001b[0m         for hook in itertools.chain(\n\u001b[1;32m    891\u001b[0m                 \u001b[0m_global_forward_hooks\u001b[0m\u001b[0;34m.\u001b[0m\u001b[0mvalues\u001b[0m\u001b[0;34m(\u001b[0m\u001b[0;34m)\u001b[0m\u001b[0;34m,\u001b[0m\u001b[0;34m\u001b[0m\u001b[0;34m\u001b[0m\u001b[0m\n",
            "\u001b[0;32m<ipython-input-25-01e2721e4e03>\u001b[0m in \u001b[0;36mforward\u001b[0;34m(self, source_ids, source_mask, target_ids, target_mask, args)\u001b[0m\n\u001b[1;32m     88\u001b[0m                     \u001b[0mattn_mask\u001b[0m\u001b[0;34m=\u001b[0m\u001b[0;34m-\u001b[0m\u001b[0;36m1e4\u001b[0m \u001b[0;34m*\u001b[0m\u001b[0;34m(\u001b[0m\u001b[0;36m1\u001b[0m\u001b[0;34m-\u001b[0m\u001b[0mself\u001b[0m\u001b[0;34m.\u001b[0m\u001b[0mbias\u001b[0m\u001b[0;34m[\u001b[0m\u001b[0;34m:\u001b[0m\u001b[0minput_ids\u001b[0m\u001b[0;34m.\u001b[0m\u001b[0mshape\u001b[0m\u001b[0;34m[\u001b[0m\u001b[0;36m1\u001b[0m\u001b[0;34m]\u001b[0m\u001b[0;34m,\u001b[0m\u001b[0;34m:\u001b[0m\u001b[0minput_ids\u001b[0m\u001b[0;34m.\u001b[0m\u001b[0mshape\u001b[0m\u001b[0;34m[\u001b[0m\u001b[0;36m1\u001b[0m\u001b[0;34m]\u001b[0m\u001b[0;34m]\u001b[0m\u001b[0;34m)\u001b[0m\u001b[0;34m\u001b[0m\u001b[0;34m\u001b[0m\u001b[0m\n\u001b[1;32m     89\u001b[0m                     \u001b[0mtgt_embeddings\u001b[0m \u001b[0;34m=\u001b[0m \u001b[0mself\u001b[0m\u001b[0;34m.\u001b[0m\u001b[0mencoder\u001b[0m\u001b[0;34m.\u001b[0m\u001b[0membeddings\u001b[0m\u001b[0;34m(\u001b[0m\u001b[0minput_ids\u001b[0m\u001b[0;34m)\u001b[0m\u001b[0;34m.\u001b[0m\u001b[0mpermute\u001b[0m\u001b[0;34m(\u001b[0m\u001b[0;34m[\u001b[0m\u001b[0;36m1\u001b[0m\u001b[0;34m,\u001b[0m\u001b[0;36m0\u001b[0m\u001b[0;34m,\u001b[0m\u001b[0;36m2\u001b[0m\u001b[0;34m]\u001b[0m\u001b[0;34m)\u001b[0m\u001b[0;34m.\u001b[0m\u001b[0mcontiguous\u001b[0m\u001b[0;34m(\u001b[0m\u001b[0;34m)\u001b[0m\u001b[0;34m\u001b[0m\u001b[0;34m\u001b[0m\u001b[0m\n\u001b[0;32m---> 90\u001b[0;31m                     \u001b[0mout\u001b[0m \u001b[0;34m=\u001b[0m \u001b[0mself\u001b[0m\u001b[0;34m.\u001b[0m\u001b[0mdecoder\u001b[0m\u001b[0;34m(\u001b[0m\u001b[0mtgt_embeddings\u001b[0m\u001b[0;34m,\u001b[0m\u001b[0mcontext\u001b[0m\u001b[0;34m,\u001b[0m\u001b[0mtgt_mask\u001b[0m\u001b[0;34m=\u001b[0m\u001b[0mattn_mask\u001b[0m\u001b[0;34m,\u001b[0m\u001b[0mmemory_key_padding_mask\u001b[0m\u001b[0;34m=\u001b[0m\u001b[0;34m(\u001b[0m\u001b[0;36m1\u001b[0m\u001b[0;34m-\u001b[0m\u001b[0mcontext_mask\u001b[0m\u001b[0;34m)\u001b[0m\u001b[0;34m.\u001b[0m\u001b[0mbool\u001b[0m\u001b[0;34m(\u001b[0m\u001b[0;34m)\u001b[0m\u001b[0;34m)\u001b[0m\u001b[0;34m\u001b[0m\u001b[0;34m\u001b[0m\u001b[0m\n\u001b[0m\u001b[1;32m     91\u001b[0m                     \u001b[0mout\u001b[0m \u001b[0;34m=\u001b[0m \u001b[0mtorch\u001b[0m\u001b[0;34m.\u001b[0m\u001b[0mtanh\u001b[0m\u001b[0;34m(\u001b[0m\u001b[0mself\u001b[0m\u001b[0;34m.\u001b[0m\u001b[0mdense\u001b[0m\u001b[0;34m(\u001b[0m\u001b[0mout\u001b[0m\u001b[0;34m)\u001b[0m\u001b[0;34m)\u001b[0m\u001b[0;34m\u001b[0m\u001b[0;34m\u001b[0m\u001b[0m\n\u001b[1;32m     92\u001b[0m                     \u001b[0mhidden_states\u001b[0m\u001b[0;34m=\u001b[0m\u001b[0mout\u001b[0m\u001b[0;34m.\u001b[0m\u001b[0mpermute\u001b[0m\u001b[0;34m(\u001b[0m\u001b[0;34m[\u001b[0m\u001b[0;36m1\u001b[0m\u001b[0;34m,\u001b[0m\u001b[0;36m0\u001b[0m\u001b[0;34m,\u001b[0m\u001b[0;36m2\u001b[0m\u001b[0;34m]\u001b[0m\u001b[0;34m)\u001b[0m\u001b[0;34m.\u001b[0m\u001b[0mcontiguous\u001b[0m\u001b[0;34m(\u001b[0m\u001b[0;34m)\u001b[0m\u001b[0;34m[\u001b[0m\u001b[0;34m:\u001b[0m\u001b[0;34m,\u001b[0m\u001b[0;34m-\u001b[0m\u001b[0;36m1\u001b[0m\u001b[0;34m,\u001b[0m\u001b[0;34m:\u001b[0m\u001b[0;34m]\u001b[0m\u001b[0;34m\u001b[0m\u001b[0;34m\u001b[0m\u001b[0m\n",
            "\u001b[0;32m/usr/local/lib/python3.7/dist-packages/torch/nn/modules/module.py\u001b[0m in \u001b[0;36m_call_impl\u001b[0;34m(self, *input, **kwargs)\u001b[0m\n\u001b[1;32m    887\u001b[0m             \u001b[0mresult\u001b[0m \u001b[0;34m=\u001b[0m \u001b[0mself\u001b[0m\u001b[0;34m.\u001b[0m\u001b[0m_slow_forward\u001b[0m\u001b[0;34m(\u001b[0m\u001b[0;34m*\u001b[0m\u001b[0minput\u001b[0m\u001b[0;34m,\u001b[0m \u001b[0;34m**\u001b[0m\u001b[0mkwargs\u001b[0m\u001b[0;34m)\u001b[0m\u001b[0;34m\u001b[0m\u001b[0;34m\u001b[0m\u001b[0m\n\u001b[1;32m    888\u001b[0m         \u001b[0;32melse\u001b[0m\u001b[0;34m:\u001b[0m\u001b[0;34m\u001b[0m\u001b[0;34m\u001b[0m\u001b[0m\n\u001b[0;32m--> 889\u001b[0;31m             \u001b[0mresult\u001b[0m \u001b[0;34m=\u001b[0m \u001b[0mself\u001b[0m\u001b[0;34m.\u001b[0m\u001b[0mforward\u001b[0m\u001b[0;34m(\u001b[0m\u001b[0;34m*\u001b[0m\u001b[0minput\u001b[0m\u001b[0;34m,\u001b[0m \u001b[0;34m**\u001b[0m\u001b[0mkwargs\u001b[0m\u001b[0;34m)\u001b[0m\u001b[0;34m\u001b[0m\u001b[0;34m\u001b[0m\u001b[0m\n\u001b[0m\u001b[1;32m    890\u001b[0m         for hook in itertools.chain(\n\u001b[1;32m    891\u001b[0m                 \u001b[0m_global_forward_hooks\u001b[0m\u001b[0;34m.\u001b[0m\u001b[0mvalues\u001b[0m\u001b[0;34m(\u001b[0m\u001b[0;34m)\u001b[0m\u001b[0;34m,\u001b[0m\u001b[0;34m\u001b[0m\u001b[0;34m\u001b[0m\u001b[0m\n",
            "\u001b[0;32m/usr/local/lib/python3.7/dist-packages/torch/nn/modules/transformer.py\u001b[0m in \u001b[0;36mforward\u001b[0;34m(self, tgt, memory, tgt_mask, memory_mask, tgt_key_padding_mask, memory_key_padding_mask)\u001b[0m\n\u001b[1;32m    232\u001b[0m                          \u001b[0mmemory_mask\u001b[0m\u001b[0;34m=\u001b[0m\u001b[0mmemory_mask\u001b[0m\u001b[0;34m,\u001b[0m\u001b[0;34m\u001b[0m\u001b[0;34m\u001b[0m\u001b[0m\n\u001b[1;32m    233\u001b[0m                          \u001b[0mtgt_key_padding_mask\u001b[0m\u001b[0;34m=\u001b[0m\u001b[0mtgt_key_padding_mask\u001b[0m\u001b[0;34m,\u001b[0m\u001b[0;34m\u001b[0m\u001b[0;34m\u001b[0m\u001b[0m\n\u001b[0;32m--> 234\u001b[0;31m                          memory_key_padding_mask=memory_key_padding_mask)\n\u001b[0m\u001b[1;32m    235\u001b[0m \u001b[0;34m\u001b[0m\u001b[0m\n\u001b[1;32m    236\u001b[0m         \u001b[0;32mif\u001b[0m \u001b[0mself\u001b[0m\u001b[0;34m.\u001b[0m\u001b[0mnorm\u001b[0m \u001b[0;32mis\u001b[0m \u001b[0;32mnot\u001b[0m \u001b[0;32mNone\u001b[0m\u001b[0;34m:\u001b[0m\u001b[0;34m\u001b[0m\u001b[0;34m\u001b[0m\u001b[0m\n",
            "\u001b[0;32m/usr/local/lib/python3.7/dist-packages/torch/nn/modules/module.py\u001b[0m in \u001b[0;36m_call_impl\u001b[0;34m(self, *input, **kwargs)\u001b[0m\n\u001b[1;32m    887\u001b[0m             \u001b[0mresult\u001b[0m \u001b[0;34m=\u001b[0m \u001b[0mself\u001b[0m\u001b[0;34m.\u001b[0m\u001b[0m_slow_forward\u001b[0m\u001b[0;34m(\u001b[0m\u001b[0;34m*\u001b[0m\u001b[0minput\u001b[0m\u001b[0;34m,\u001b[0m \u001b[0;34m**\u001b[0m\u001b[0mkwargs\u001b[0m\u001b[0;34m)\u001b[0m\u001b[0;34m\u001b[0m\u001b[0;34m\u001b[0m\u001b[0m\n\u001b[1;32m    888\u001b[0m         \u001b[0;32melse\u001b[0m\u001b[0;34m:\u001b[0m\u001b[0;34m\u001b[0m\u001b[0;34m\u001b[0m\u001b[0m\n\u001b[0;32m--> 889\u001b[0;31m             \u001b[0mresult\u001b[0m \u001b[0;34m=\u001b[0m \u001b[0mself\u001b[0m\u001b[0;34m.\u001b[0m\u001b[0mforward\u001b[0m\u001b[0;34m(\u001b[0m\u001b[0;34m*\u001b[0m\u001b[0minput\u001b[0m\u001b[0;34m,\u001b[0m \u001b[0;34m**\u001b[0m\u001b[0mkwargs\u001b[0m\u001b[0;34m)\u001b[0m\u001b[0;34m\u001b[0m\u001b[0;34m\u001b[0m\u001b[0m\n\u001b[0m\u001b[1;32m    890\u001b[0m         for hook in itertools.chain(\n\u001b[1;32m    891\u001b[0m                 \u001b[0m_global_forward_hooks\u001b[0m\u001b[0;34m.\u001b[0m\u001b[0mvalues\u001b[0m\u001b[0;34m(\u001b[0m\u001b[0;34m)\u001b[0m\u001b[0;34m,\u001b[0m\u001b[0;34m\u001b[0m\u001b[0;34m\u001b[0m\u001b[0m\n",
            "\u001b[0;32m/usr/local/lib/python3.7/dist-packages/torch/nn/modules/transformer.py\u001b[0m in \u001b[0;36mforward\u001b[0;34m(self, tgt, memory, tgt_mask, memory_mask, tgt_key_padding_mask, memory_key_padding_mask)\u001b[0m\n\u001b[1;32m    362\u001b[0m         \"\"\"\n\u001b[1;32m    363\u001b[0m         tgt2 = self.self_attn(tgt, tgt, tgt, attn_mask=tgt_mask,\n\u001b[0;32m--> 364\u001b[0;31m                               key_padding_mask=tgt_key_padding_mask)[0]\n\u001b[0m\u001b[1;32m    365\u001b[0m         \u001b[0mtgt\u001b[0m \u001b[0;34m=\u001b[0m \u001b[0mtgt\u001b[0m \u001b[0;34m+\u001b[0m \u001b[0mself\u001b[0m\u001b[0;34m.\u001b[0m\u001b[0mdropout1\u001b[0m\u001b[0;34m(\u001b[0m\u001b[0mtgt2\u001b[0m\u001b[0;34m)\u001b[0m\u001b[0;34m\u001b[0m\u001b[0;34m\u001b[0m\u001b[0m\n\u001b[1;32m    366\u001b[0m         \u001b[0mtgt\u001b[0m \u001b[0;34m=\u001b[0m \u001b[0mself\u001b[0m\u001b[0;34m.\u001b[0m\u001b[0mnorm1\u001b[0m\u001b[0;34m(\u001b[0m\u001b[0mtgt\u001b[0m\u001b[0;34m)\u001b[0m\u001b[0;34m\u001b[0m\u001b[0;34m\u001b[0m\u001b[0m\n",
            "\u001b[0;32m/usr/local/lib/python3.7/dist-packages/torch/nn/modules/module.py\u001b[0m in \u001b[0;36m_call_impl\u001b[0;34m(self, *input, **kwargs)\u001b[0m\n\u001b[1;32m    887\u001b[0m             \u001b[0mresult\u001b[0m \u001b[0;34m=\u001b[0m \u001b[0mself\u001b[0m\u001b[0;34m.\u001b[0m\u001b[0m_slow_forward\u001b[0m\u001b[0;34m(\u001b[0m\u001b[0;34m*\u001b[0m\u001b[0minput\u001b[0m\u001b[0;34m,\u001b[0m \u001b[0;34m**\u001b[0m\u001b[0mkwargs\u001b[0m\u001b[0;34m)\u001b[0m\u001b[0;34m\u001b[0m\u001b[0;34m\u001b[0m\u001b[0m\n\u001b[1;32m    888\u001b[0m         \u001b[0;32melse\u001b[0m\u001b[0;34m:\u001b[0m\u001b[0;34m\u001b[0m\u001b[0;34m\u001b[0m\u001b[0m\n\u001b[0;32m--> 889\u001b[0;31m             \u001b[0mresult\u001b[0m \u001b[0;34m=\u001b[0m \u001b[0mself\u001b[0m\u001b[0;34m.\u001b[0m\u001b[0mforward\u001b[0m\u001b[0;34m(\u001b[0m\u001b[0;34m*\u001b[0m\u001b[0minput\u001b[0m\u001b[0;34m,\u001b[0m \u001b[0;34m**\u001b[0m\u001b[0mkwargs\u001b[0m\u001b[0;34m)\u001b[0m\u001b[0;34m\u001b[0m\u001b[0;34m\u001b[0m\u001b[0m\n\u001b[0m\u001b[1;32m    890\u001b[0m         for hook in itertools.chain(\n\u001b[1;32m    891\u001b[0m                 \u001b[0m_global_forward_hooks\u001b[0m\u001b[0;34m.\u001b[0m\u001b[0mvalues\u001b[0m\u001b[0;34m(\u001b[0m\u001b[0;34m)\u001b[0m\u001b[0;34m,\u001b[0m\u001b[0;34m\u001b[0m\u001b[0;34m\u001b[0m\u001b[0m\n",
            "\u001b[0;32m/usr/local/lib/python3.7/dist-packages/torch/nn/modules/activation.py\u001b[0m in \u001b[0;36mforward\u001b[0;34m(self, query, key, value, key_padding_mask, need_weights, attn_mask)\u001b[0m\n\u001b[1;32m    985\u001b[0m                 \u001b[0mtraining\u001b[0m\u001b[0;34m=\u001b[0m\u001b[0mself\u001b[0m\u001b[0;34m.\u001b[0m\u001b[0mtraining\u001b[0m\u001b[0;34m,\u001b[0m\u001b[0;34m\u001b[0m\u001b[0;34m\u001b[0m\u001b[0m\n\u001b[1;32m    986\u001b[0m                 \u001b[0mkey_padding_mask\u001b[0m\u001b[0;34m=\u001b[0m\u001b[0mkey_padding_mask\u001b[0m\u001b[0;34m,\u001b[0m \u001b[0mneed_weights\u001b[0m\u001b[0;34m=\u001b[0m\u001b[0mneed_weights\u001b[0m\u001b[0;34m,\u001b[0m\u001b[0;34m\u001b[0m\u001b[0;34m\u001b[0m\u001b[0m\n\u001b[0;32m--> 987\u001b[0;31m                 attn_mask=attn_mask)\n\u001b[0m\u001b[1;32m    988\u001b[0m \u001b[0;34m\u001b[0m\u001b[0m\n\u001b[1;32m    989\u001b[0m \u001b[0;34m\u001b[0m\u001b[0m\n",
            "\u001b[0;32m/usr/local/lib/python3.7/dist-packages/torch/nn/functional.py\u001b[0m in \u001b[0;36mmulti_head_attention_forward\u001b[0;34m(query, key, value, embed_dim_to_check, num_heads, in_proj_weight, in_proj_bias, bias_k, bias_v, add_zero_attn, dropout_p, out_proj_weight, out_proj_bias, training, key_padding_mask, need_weights, attn_mask, use_separate_proj_weight, q_proj_weight, k_proj_weight, v_proj_weight, static_k, static_v)\u001b[0m\n\u001b[1;32m   4789\u001b[0m \u001b[0;34m\u001b[0m\u001b[0m\n\u001b[1;32m   4790\u001b[0m     \u001b[0mattn_output_weights\u001b[0m \u001b[0;34m=\u001b[0m \u001b[0mtorch\u001b[0m\u001b[0;34m.\u001b[0m\u001b[0mbmm\u001b[0m\u001b[0;34m(\u001b[0m\u001b[0mq\u001b[0m\u001b[0;34m,\u001b[0m \u001b[0mk\u001b[0m\u001b[0;34m.\u001b[0m\u001b[0mtranspose\u001b[0m\u001b[0;34m(\u001b[0m\u001b[0;36m1\u001b[0m\u001b[0;34m,\u001b[0m \u001b[0;36m2\u001b[0m\u001b[0;34m)\u001b[0m\u001b[0;34m)\u001b[0m\u001b[0;34m\u001b[0m\u001b[0;34m\u001b[0m\u001b[0m\n\u001b[0;32m-> 4791\u001b[0;31m     \u001b[0;32massert\u001b[0m \u001b[0mlist\u001b[0m\u001b[0;34m(\u001b[0m\u001b[0mattn_output_weights\u001b[0m\u001b[0;34m.\u001b[0m\u001b[0msize\u001b[0m\u001b[0;34m(\u001b[0m\u001b[0;34m)\u001b[0m\u001b[0;34m)\u001b[0m \u001b[0;34m==\u001b[0m \u001b[0;34m[\u001b[0m\u001b[0mbsz\u001b[0m \u001b[0;34m*\u001b[0m \u001b[0mnum_heads\u001b[0m\u001b[0;34m,\u001b[0m \u001b[0mtgt_len\u001b[0m\u001b[0;34m,\u001b[0m \u001b[0msrc_len\u001b[0m\u001b[0;34m]\u001b[0m\u001b[0;34m\u001b[0m\u001b[0;34m\u001b[0m\u001b[0m\n\u001b[0m\u001b[1;32m   4792\u001b[0m \u001b[0;34m\u001b[0m\u001b[0m\n\u001b[1;32m   4793\u001b[0m     \u001b[0;32mif\u001b[0m \u001b[0mattn_mask\u001b[0m \u001b[0;32mis\u001b[0m \u001b[0;32mnot\u001b[0m \u001b[0;32mNone\u001b[0m\u001b[0;34m:\u001b[0m\u001b[0;34m\u001b[0m\u001b[0;34m\u001b[0m\u001b[0m\n",
            "\u001b[0;31mKeyboardInterrupt\u001b[0m: "
          ]
        }
      ]
    },
    {
      "cell_type": "markdown",
      "metadata": {
        "id": "mIV6rQ0oOUPd"
      },
      "source": [
        "**Testing**"
      ]
    },
    {
      "cell_type": "code",
      "metadata": {
        "id": "-V6r9YtBOPWG",
        "colab": {
          "base_uri": "https://localhost:8080/"
        },
        "outputId": "dfc7c9c9-c200-4155-af61-884657cf1c01"
      },
      "source": [
        "args.do_test=True\n",
        "args.do_train=False\n",
        "args.load_model_path=output_dir+\"/checkpoint-last/pytorch_model.bin\"\n",
        "\n",
        "if __name__ == \"__main__\":\n",
        "    main()"
      ],
      "execution_count": 52,
      "outputs": [
        {
          "output_type": "stream",
          "text": [
            "04/05/2021 05:09:19 - WARNING - __main__ -   Process rank: -1, device: cuda, n_gpu: 1, distributed training: False\n"
          ],
          "name": "stderr"
        },
        {
          "output_type": "stream",
          "text": [
            "<__main__.Arguments object at 0x7f25722ae250>\n",
            "reload model from model/ruby/checkpoint-best-ppl/pytorch_model.bin\n",
            "Test file: ../../../../nl_sar_valid.csv\n"
          ],
          "name": "stdout"
        },
        {
          "output_type": "stream",
          "text": [
            "100%|██████████| 16/16 [20:03<00:00, 75.24s/it]\n",
            "Total: 981\n"
          ],
          "name": "stderr"
        },
        {
          "output_type": "stream",
          "text": [
            "  bleu-4 = 68.16 \n",
            "  ********************\n",
            "Test file: ../../../../nl_sar_test.csv\n"
          ],
          "name": "stdout"
        },
        {
          "output_type": "stream",
          "text": [
            "100%|██████████| 16/16 [20:09<00:00, 75.57s/it]\n",
            "Total: 982\n"
          ],
          "name": "stderr"
        },
        {
          "output_type": "stream",
          "text": [
            "  bleu-4 = 67.78 \n",
            "  ********************\n"
          ],
          "name": "stdout"
        }
      ]
    },
    {
      "cell_type": "markdown",
      "metadata": {
        "id": "DeHTIMPkQ3Y4"
      },
      "source": [
        "## Experiments"
      ]
    },
    {
      "cell_type": "code",
      "metadata": {
        "id": "mfpi_W0EdNvZ"
      },
      "source": [
        "def single_example_to_feature(example, tokenizer): # MH: make it encoder_tokenizer, decoder_tokenizer\n",
        "    features = []\n",
        "    source_tokens = tokenizer.tokenize(example)[:args.max_source_length-2]\n",
        "    source_tokens =[tokenizer.cls_token]+source_tokens+[tokenizer.sep_token]\n",
        "    source_ids =  tokenizer.convert_tokens_to_ids(source_tokens) \n",
        "    source_mask = [1] * (len(source_tokens))\n",
        "    padding_length = args.max_source_length - len(source_ids)\n",
        "    source_ids+=[tokenizer.pad_token_id]*padding_length\n",
        "    source_mask+=[0]*padding_length\n",
        " \n",
        "    #target\n",
        "    target_tokens = tokenizer.tokenize(\"None\")\n",
        "    target_tokens = [tokenizer.cls_token]+target_tokens+[tokenizer.sep_token]            \n",
        "    target_ids = tokenizer.convert_tokens_to_ids(target_tokens)\n",
        "    target_mask = [1] *len(target_ids)\n",
        "    padding_length = args.max_target_length - len(target_ids)\n",
        "    target_ids+=[tokenizer.pad_token_id]*padding_length\n",
        "    target_mask+=[0]*padding_length   \n",
        "\n",
        "\n",
        "    features.append(\n",
        "        InputFeatures(\n",
        "              0,\n",
        "              source_ids,\n",
        "              target_ids,\n",
        "              source_mask,\n",
        "              target_mask,\n",
        "        )\n",
        "    )\n",
        "    return features"
      ],
      "execution_count": 54,
      "outputs": []
    },
    {
      "cell_type": "code",
      "metadata": {
        "id": "U305wxBvxQNS"
      },
      "source": [
        "config_class, model_class, tokenizer_class = MODEL_CLASSES[args.model_type]\n",
        "tokenizer = tokenizer_class.from_pretrained(args.tokenizer_name if args.tokenizer_name else args.model_name_or_path,do_lower_case=args.do_lower_case)\n"
      ],
      "execution_count": 67,
      "outputs": []
    },
    {
      "cell_type": "code",
      "metadata": {
        "colab": {
          "base_uri": "https://localhost:8080/"
        },
        "id": "ldJhnZ92w3aP",
        "outputId": "18fafcd2-1a53-44ef-cda4-b56a7e367342"
      },
      "source": [
        "eval_example = 'make software with a timepicker , a ball , a switch , and a video player with source string0 . if the ball is cornered, set the speed to number0 .'\n",
        "\n",
        "eval_features = single_example_to_feature(eval_example, tokenizer)\n",
        "all_source_ids = torch.tensor([f.source_ids for f in eval_features], dtype=torch.long).to(device)\n",
        "all_source_mask = torch.tensor([f.source_mask for f in eval_features], dtype=torch.long).to(device)\n",
        "eval_data = TensorDataset(all_source_ids,all_source_mask)\n",
        "# eval_sampler = SequentialSampler(eval_data)\n",
        "# eval_dataloader = DataLoader(eval_data, sampler=eval_sampler, batch_size=args.eval_batch_size)\n",
        "# eval_dataloader\n",
        "\n",
        "model.eval() \n",
        "preds = model(source_ids=all_source_ids,source_mask=all_source_mask)  \n",
        "preds"
      ],
      "execution_count": 85,
      "outputs": [
        {
          "output_type": "execute_result",
          "data": {
            "text/plain": [
              "tensor([[[41552, 13124,  1215,  ...,     0,     0,     0],\n",
              "         [41552, 13124,  1215,  ...,     0,     0,     0],\n",
              "         [41552, 13124,  1215,  ...,     0,     0,     0],\n",
              "         ...,\n",
              "         [41552, 13124,  1215,  ...,     0,     0,     0],\n",
              "         [41552, 13124,  1215,  ...,     0,     0,     0],\n",
              "         [41552, 13124,  1215,  ...,     0,     0,     0]]], device='cuda:0')"
            ]
          },
          "metadata": {
            "tags": []
          },
          "execution_count": 85
        }
      ]
    },
    {
      "cell_type": "code",
      "metadata": {
        "colab": {
          "base_uri": "https://localhost:8080/",
          "height": 85
        },
        "id": "l40SKW1237Wr",
        "outputId": "081965e9-530a-48ed-933f-aee25936a44c"
      },
      "source": [
        "tokenizer.decode(preds[0][0])"
      ],
      "execution_count": 88,
      "outputs": [
        {
          "output_type": "execute_result",
          "data": {
            "application/vnd.google.colaboratory.intrinsic+json": {
              "type": "string"
            },
            "text/plain": [
              "'<start_comp> <switch> switch1 </switch> <ball> <ball> <end_comp> <code> <ball1flung> <ball1> <ball1> </ball1reach_edge> </ball1flung> </code><s><s><s><s><s><s><s><s><s><s><s><s><s><s><s><s><s><s><s><s><s><s><s><s><s><s><s><s><s><s><s><s><s><s><s><s><s><s><s><s><s><s><s><s><s><s><s><s><s><s><s><s><s><s><s><s><s><s><s><s><s><s><s><s><s><s><s><s><s><s><s>'"
            ]
          },
          "metadata": {
            "tags": []
          },
          "execution_count": 88
        }
      ]
    },
    {
      "cell_type": "code",
      "metadata": {
        "id": "2M3EffMIa7Hu"
      },
      "source": [
        "\n",
        "model.eval() \n",
        "preds = model(source_ids=source_ids,source_mask=source_mask)  \n",
        "\n",
        "with torch.no_grad():\n",
        "  preds = model(source_ids=source_ids,source_mask=source_mask)  \n",
        "  for pred in preds:\n",
        "      t=pred[0].cpu().numpy()\n",
        "      t=list(t)\n",
        "      if 0 in t:\n",
        "          t=t[:t.index(0)]\n",
        "      text = tokenizer.decode(t,clean_up_tokenization_spaces=False)\n",
        "      p.append(text)\n",
        "\n",
        "model.train()"
      ],
      "execution_count": null,
      "outputs": []
    },
    {
      "cell_type": "code",
      "metadata": {
        "id": "W8dqNLV3Q4xx"
      },
      "source": [
        "import pandas as pd\n",
        "\n",
        "df = pd.read_csv('nl_sar (10).csv')"
      ],
      "execution_count": 3,
      "outputs": []
    },
    {
      "cell_type": "code",
      "metadata": {
        "colab": {
          "base_uri": "https://localhost:8080/"
        },
        "id": "vmO356kSRsN1",
        "outputId": "4b1f51bd-63ed-4b0a-a998-3c354baf17a7"
      },
      "source": [
        "train_frac = 0.8\n",
        "valid_frac = 0.1\n",
        "\n",
        "train = df[:int(len(df)*train_frac)].reset_index(drop=True)\n",
        "valid = df[int(len(df)*train_frac): int(len(df)*(train_frac+valid_frac))].reset_index(drop=True)\n",
        "test = df[int(len(df)*(train_frac+valid_frac)): ].reset_index(drop=True)\n",
        "\n",
        "train.to_csv(\"nl_sar_train.csv\", index=False)\n",
        "test.to_csv(\"nl_sar_test.csv\", index=False)\n",
        "valid.to_csv(\"nl_sar_valid.csv\", index=False)\n",
        "\n",
        "len(train), len(valid), len(test)"
      ],
      "execution_count": 61,
      "outputs": [
        {
          "output_type": "execute_result",
          "data": {
            "text/plain": [
              "(7851, 981, 982)"
            ]
          },
          "metadata": {
            "tags": []
          },
          "execution_count": 61
        }
      ]
    },
    {
      "cell_type": "code",
      "metadata": {
        "colab": {
          "base_uri": "https://localhost:8080/",
          "height": 52
        },
        "id": "UNtjt46nSAqC",
        "outputId": "882dea14-bfbc-43e1-ef27-55a0e63c0309"
      },
      "source": [
        "test['NL'][1]"
      ],
      "execution_count": 64,
      "outputs": [
        {
          "output_type": "execute_result",
          "data": {
            "application/vnd.google.colaboratory.intrinsic+json": {
              "type": "string"
            },
            "text/plain": [
              "'make software with a timepicker , a ball , a switch , and a video player with source string0 . if the ball is cornered, set the speed to number0 .'"
            ]
          },
          "metadata": {
            "tags": []
          },
          "execution_count": 64
        }
      ]
    },
    {
      "cell_type": "markdown",
      "metadata": {
        "id": "a_gYoUjtZqLT"
      },
      "source": [
        "Single predict"
      ]
    },
    {
      "cell_type": "code",
      "metadata": {
        "id": "ggJ0CZmPTb2G"
      },
      "source": [
        ""
      ],
      "execution_count": null,
      "outputs": []
    }
  ]
}