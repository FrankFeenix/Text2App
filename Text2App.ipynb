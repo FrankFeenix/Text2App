{
  "nbformat": 4,
  "nbformat_minor": 0,
  "metadata": {
    "colab": {
      "name": "Text2App",
      "provenance": [],
      "collapsed_sections": [],
      "toc_visible": true,
      "include_colab_link": true
    },
    "kernelspec": {
      "name": "python3",
      "display_name": "Python 3"
    }
  },
  "cells": [
    {
      "cell_type": "markdown",
      "metadata": {
        "id": "view-in-github",
        "colab_type": "text"
      },
      "source": [
        "<a href=\"https://colab.research.google.com/github/Masum06/Text2App/blob/master/Text2App.ipynb\" target=\"_parent\"><img src=\"https://colab.research.google.com/assets/colab-badge.svg\" alt=\"Open In Colab\"/></a>"
      ]
    },
    {
      "cell_type": "markdown",
      "metadata": {
        "id": "sWWE2JF09ygs",
        "colab_type": "text"
      },
      "source": [
        "## Installation"
      ]
    },
    {
      "cell_type": "code",
      "metadata": {
        "id": "4Hr5bqSR9xvn",
        "colab_type": "code",
        "colab": {}
      },
      "source": [
        "!apt-get install tree"
      ],
      "execution_count": 0,
      "outputs": []
    },
    {
      "cell_type": "markdown",
      "metadata": {
        "id": "5bk1k3ioDApb",
        "colab_type": "text"
      },
      "source": [
        "# **SAR to App**\n",
        "SAR = Simplified App Representation"
      ]
    },
    {
      "cell_type": "code",
      "metadata": {
        "id": "31vERoNFLvmx",
        "colab_type": "code",
        "colab": {}
      },
      "source": [
        "project_name = \"MyProject\""
      ],
      "execution_count": 0,
      "outputs": []
    },
    {
      "cell_type": "code",
      "metadata": {
        "id": "ZClnFJn0Ml-j",
        "colab_type": "code",
        "colab": {}
      },
      "source": [
        "user_name = \"youngladesh\""
      ],
      "execution_count": 0,
      "outputs": []
    },
    {
      "cell_type": "markdown",
      "metadata": {
        "id": "bQzCVt6uDf-N",
        "colab_type": "text"
      },
      "source": [
        "## Logic Components"
      ]
    },
    {
      "cell_type": "code",
      "metadata": {
        "id": "TYEF-USHfV7e",
        "colab_type": "code",
        "colab": {}
      },
      "source": [
        "dic = {\n",
        "\t\"<start_code>\" : \"\"\"<xml xmlns=\"http://www.w3.org/1999/xhtml\">\"\"\",\n",
        "\n",
        "\t\"<end_code>\" :   \"\"\"<yacodeblocks ya-version=\"196\" language-version=\"27\"></yacodeblocks>\n",
        "\t</xml>\"\"\",\n",
        "\n",
        "\t\"<button1>\" : \"\"\"  <block type=\"component_event\" id=\"5Fnc2eKTqXnvQEkuEb,`\" x=\"-717\" y=\"-541\">\n",
        "\t    <mutation component_type=\"Button\" is_generic=\"false\" instance_name=\"Button1\" event_name=\"Click\"></mutation>\n",
        "\t    <field name=\"COMPONENT_SELECTOR\">Button1</field>\n",
        "\t    <statement name=\"DO\">\"\"\",\n",
        "\n",
        "\t\"<button2>\" : \"\"\"  <block type=\"component_event\" id=\"L.k%OOfugWWKbB|X=PTB\" x=\"-208\" y=\"-503\">\n",
        "    <mutation component_type=\"Button\" is_generic=\"false\" instance_name=\"Button2\" event_name=\"Click\"></mutation>\n",
        "    <field name=\"COMPONENT_SELECTOR\">Button2</field>\n",
        "    <statement name=\"DO\">\"\"\",\n",
        "\n",
        "    \"<button3>\" : \"\"\"  <block type=\"component_event\" id=\"*H.?`=wW)@O-=dzx80i%\" x=\"-227\" y=\"-369\">\n",
        "    <mutation component_type=\"Button\" is_generic=\"false\" instance_name=\"Button3\" event_name=\"Click\"></mutation>\n",
        "    <field name=\"COMPONENT_SELECTOR\">Button3</field>\n",
        "    <statement name=\"DO\">\"\"\",\n",
        "\n",
        "    \"<button4>\" : \"\"\"  <block type=\"component_event\" id=\"V`+dX.LLP6k;~`}Y_Sy+\" x=\"-214\" y=\"-225\">\n",
        "    <mutation component_type=\"Button\" is_generic=\"false\" instance_name=\"Button4\" event_name=\"Click\"></mutation>\n",
        "    <field name=\"COMPONENT_SELECTOR\">Button4</field>\n",
        "    <statement name=\"DO\">\n",
        "\"\"\",\n",
        "\n",
        "\t\"</button>\" : \"\"\"    </statement>\n",
        "  </block>\"\"\",\n",
        "\n",
        "\t\"<play>\" : \"\"\"      <block type=\"component_set_get\" id=\"M`ORo822oPPT_NZ5UQl8\">\n",
        "        <mutation component_type=\"Player\" set_or_get=\"set\" property_name=\"Source\" is_generic=\"false\" instance_name=\"Player1\"></mutation>\n",
        "        <field name=\"COMPONENT_SELECTOR\">Player1</field>\n",
        "\n",
        "        <field name=\"PROP\">Source</field>\n",
        "\n",
        "        <value name=\"VALUE\">\n",
        "          <block type=\"text\" id=\"Hv*@f(.v|qmJFJ5cpEY@\">\n",
        "            <field name=\"TEXT\">\"\"\",\n",
        "\n",
        "    \"</play>\" : \"\"\"\t            </field>\t\n",
        "          </block>\t\n",
        "        </value>\t\n",
        "        <next>\t\n",
        "          <block type=\"component_method\" id=\"*|w:Ln#[K;pY=W:C0Tm2\">\t\n",
        "            <mutation component_type=\"Player\" method_name=\"Start\" is_generic=\"false\" instance_name=\"Player1\"></mutation>\t\n",
        "            <field name=\"COMPONENT_SELECTOR\">Player1</field>\t\n",
        "          </block>\t\n",
        "        </next>\t\n",
        "      </block>\t\"\"\",\n",
        "\n",
        "    \"<new_line>\" : \"\\n\",\n",
        "\n",
        "    \"<shaken>\" : \"\"\"  <block type=\"component_event\" id=\"(mbR6!,f3BycMC6fV#vp\" x=\"-740\" y=\"-367\">\n",
        "    <mutation component_type=\"AccelerometerSensor\" is_generic=\"false\" instance_name=\"AccelerometerSensor1\" event_name=\"Shaking\"></mutation>\n",
        "    <field name=\"COMPONENT_SELECTOR\">AccelerometerSensor1</field>\n",
        "    <statement name=\"DO\">\"\"\",\n",
        "\n",
        "   \t\"</shaken>\" : \"\"\"    </statement>\n",
        "  </block>\"\"\",\n",
        "\n",
        "  \t\"<speak>\" : \"\"\"      <block type=\"component_method\" id=\"uk1$YtD.~FFzEI{,^jo?\">\n",
        "        <mutation component_type=\"TextToSpeech\" method_name=\"Speak\" is_generic=\"false\" instance_name=\"TextToSpeech1\"></mutation>\n",
        "        <field name=\"COMPONENT_SELECTOR\">TextToSpeech1</field>\n",
        "        <value name=\"ARG0\">\n",
        "          <block type=\"text\" id=\"Pd3e?.zfPi`8U[y:Lq[I\">\n",
        "            <field name=\"TEXT\">\"\"\",\n",
        "\n",
        "    \"</speak>\" : \"\"\"            </field>\n",
        "          </block>\n",
        "        </value>\n",
        "      </block>\"\"\",\n",
        "\n",
        "    \"<open_camera>\" : \"\"\"      <block type=\"component_method\" id=\"w~=BBIJa$W%0rs}t%Gr0\">\n",
        "        <mutation component_type=\"Camera\" method_name=\"TakePicture\" is_generic=\"false\" instance_name=\"Camera1\"></mutation>\n",
        "        <field name=\"COMPONENT_SELECTOR\">Camera1</field>\n",
        "        </block>\"\"\",\n",
        "\n",
        "    '<play_video>' : \"\"\"      <block type=\"component_set_get\" id=\"~@geDXo-K5C9N[!Q}9/}\">\n",
        "        <mutation component_type=\"VideoPlayer\" set_or_get=\"set\" property_name=\"Source\" is_generic=\"false\" instance_name=\"VideoPlayer1\"></mutation>\n",
        "        <field name=\"COMPONENT_SELECTOR\">VideoPlayer1</field>\n",
        "        <field name=\"PROP\">Source</field>\n",
        "        <value name=\"VALUE\">\n",
        "          <block type=\"text\" id=\"c~qz-Tkkz9E}()oRV,`i\">\n",
        "            <field name=\"TEXT\">\"\"\",\n",
        "\n",
        "    \"</play_video>\" : \"\"\"           </field>\n",
        "          </block>\n",
        "        </value>\n",
        "        <next>\n",
        "          <block type=\"component_method\" id=\"OR/@4AKMZY7KRq?ACKxg\">\n",
        "            <mutation component_type=\"VideoPlayer\" method_name=\"Start\" is_generic=\"false\" instance_name=\"VideoPlayer1\"></mutation>\n",
        "            <field name=\"COMPONENT_SELECTOR\">VideoPlayer1</field>\n",
        "          </block>\n",
        "        </next>\n",
        "      </block>\"\"\",\n",
        "\n",
        "\n",
        "      \"<stop_play>\" : \"\"\"      <block type=\"component_method\" id=\"|!X?VEIdC{:M92}$8Sev\">\n",
        "        <mutation component_type=\"Player\" method_name=\"Stop\" is_generic=\"false\" instance_name=\"Player1\"></mutation>\n",
        "        <field name=\"COMPONENT_SELECTOR\">Player1</field>\n",
        "      </block>\"\"\"\n",
        "\n",
        "}"
      ],
      "execution_count": 0,
      "outputs": []
    },
    {
      "cell_type": "code",
      "metadata": {
        "id": "QZMhVqZ0VPAx",
        "colab_type": "code",
        "outputId": "40962659-a5f8-40f8-cca0-050e0d9159cb",
        "colab": {
          "base_uri": "https://localhost:8080/",
          "height": 339
        }
      },
      "source": [
        "dic"
      ],
      "execution_count": 360,
      "outputs": [
        {
          "output_type": "execute_result",
          "data": {
            "text/plain": [
              "{'</button>': '    </statement>\\n  </block>',\n",
              " '</play>': '\\t            </field>\\t\\n          </block>\\t\\n        </value>\\t\\n        <next>\\t\\n          <block type=\"component_method\" id=\"*|w:Ln#[K;pY=W:C0Tm2\">\\t\\n            <mutation component_type=\"Player\" method_name=\"Start\" is_generic=\"false\" instance_name=\"Player1\"></mutation>\\t\\n            <field name=\"COMPONENT_SELECTOR\">Player1</field>\\t\\n          </block>\\t\\n        </next>\\t\\n      </block>\\t',\n",
              " '</play_video>': '           </field>\\n          </block>\\n        </value>\\n        <next>\\n          <block type=\"component_method\" id=\"OR/@4AKMZY7KRq?ACKxg\">\\n            <mutation component_type=\"VideoPlayer\" method_name=\"Start\" is_generic=\"false\" instance_name=\"VideoPlayer1\"></mutation>\\n            <field name=\"COMPONENT_SELECTOR\">VideoPlayer1</field>\\n          </block>\\n        </next>\\n      </block>',\n",
              " '</shaken>': '    </statement>\\n  </block>',\n",
              " '</speak>': '            </field>\\n          </block>\\n        </value>\\n      </block>',\n",
              " '<button1>': '  <block type=\"component_event\" id=\"5Fnc2eKTqXnvQEkuEb,`\" x=\"-717\" y=\"-541\">\\n\\t    <mutation component_type=\"Button\" is_generic=\"false\" instance_name=\"Button1\" event_name=\"Click\"></mutation>\\n\\t    <field name=\"COMPONENT_SELECTOR\">Button1</field>\\n\\t    <statement name=\"DO\">',\n",
              " '<button2>': '  <block type=\"component_event\" id=\"L.k%OOfugWWKbB|X=PTB\" x=\"-208\" y=\"-503\">\\n    <mutation component_type=\"Button\" is_generic=\"false\" instance_name=\"Button2\" event_name=\"Click\"></mutation>\\n    <field name=\"COMPONENT_SELECTOR\">Button2</field>\\n    <statement name=\"DO\">',\n",
              " '<button3>': '  <block type=\"component_event\" id=\"*H.?`=wW)@O-=dzx80i%\" x=\"-227\" y=\"-369\">\\n    <mutation component_type=\"Button\" is_generic=\"false\" instance_name=\"Button3\" event_name=\"Click\"></mutation>\\n    <field name=\"COMPONENT_SELECTOR\">Button3</field>\\n    <statement name=\"DO\">',\n",
              " '<button4>': '  <block type=\"component_event\" id=\"V`+dX.LLP6k;~`}Y_Sy+\" x=\"-214\" y=\"-225\">\\n    <mutation component_type=\"Button\" is_generic=\"false\" instance_name=\"Button4\" event_name=\"Click\"></mutation>\\n    <field name=\"COMPONENT_SELECTOR\">Button4</field>\\n    <statement name=\"DO\">\\n',\n",
              " '<end_code>': '<yacodeblocks ya-version=\"196\" language-version=\"27\"></yacodeblocks>\\n\\t</xml>',\n",
              " '<new_line>': '\\n',\n",
              " '<open_camera>': '      <block type=\"component_method\" id=\"w~=BBIJa$W%0rs}t%Gr0\">\\n        <mutation component_type=\"Camera\" method_name=\"TakePicture\" is_generic=\"false\" instance_name=\"Camera1\"></mutation>\\n        <field name=\"COMPONENT_SELECTOR\">Camera1</field>\\n        </block>',\n",
              " '<play>': '      <block type=\"component_set_get\" id=\"M`ORo822oPPT_NZ5UQl8\">\\n        <mutation component_type=\"Player\" set_or_get=\"set\" property_name=\"Source\" is_generic=\"false\" instance_name=\"Player1\"></mutation>\\n        <field name=\"COMPONENT_SELECTOR\">Player1</field>\\n\\n        <field name=\"PROP\">Source</field>\\n\\n        <value name=\"VALUE\">\\n          <block type=\"text\" id=\"Hv*@f(.v|qmJFJ5cpEY@\">\\n            <field name=\"TEXT\">',\n",
              " '<play_video>': '      <block type=\"component_set_get\" id=\"~@geDXo-K5C9N[!Q}9/}\">\\n        <mutation component_type=\"VideoPlayer\" set_or_get=\"set\" property_name=\"Source\" is_generic=\"false\" instance_name=\"VideoPlayer1\"></mutation>\\n        <field name=\"COMPONENT_SELECTOR\">VideoPlayer1</field>\\n        <field name=\"PROP\">Source</field>\\n        <value name=\"VALUE\">\\n          <block type=\"text\" id=\"c~qz-Tkkz9E}()oRV,`i\">\\n            <field name=\"TEXT\">',\n",
              " '<shaken>': '  <block type=\"component_event\" id=\"(mbR6!,f3BycMC6fV#vp\" x=\"-740\" y=\"-367\">\\n    <mutation component_type=\"AccelerometerSensor\" is_generic=\"false\" instance_name=\"AccelerometerSensor1\" event_name=\"Shaking\"></mutation>\\n    <field name=\"COMPONENT_SELECTOR\">AccelerometerSensor1</field>\\n    <statement name=\"DO\">',\n",
              " '<speak>': '      <block type=\"component_method\" id=\"uk1$YtD.~FFzEI{,^jo?\">\\n        <mutation component_type=\"TextToSpeech\" method_name=\"Speak\" is_generic=\"false\" instance_name=\"TextToSpeech1\"></mutation>\\n        <field name=\"COMPONENT_SELECTOR\">TextToSpeech1</field>\\n        <value name=\"ARG0\">\\n          <block type=\"text\" id=\"Pd3e?.zfPi`8U[y:Lq[I\">\\n            <field name=\"TEXT\">',\n",
              " '<start_code>': '<xml xmlns=\"http://www.w3.org/1999/xhtml\">',\n",
              " '<stop_play>': '      <block type=\"component_method\" id=\"|!X?VEIdC{:M92}$8Sev\">\\n        <mutation component_type=\"Player\" method_name=\"Stop\" is_generic=\"false\" instance_name=\"Player1\"></mutation>\\n        <field name=\"COMPONENT_SELECTOR\">Player1</field>\\n      </block>'}"
            ]
          },
          "metadata": {
            "tags": []
          },
          "execution_count": 360
        }
      ]
    },
    {
      "cell_type": "code",
      "metadata": {
        "id": "lvz29g-MVUJu",
        "colab_type": "code",
        "colab": {}
      },
      "source": [
        "tokens = \"<start_vis> <button> <button> <button> <button> <accelerometer> <video> <camera> <text2speech> <player> <end_vis> \\\n",
        "<start_code> <button1> <play> panini.mp3 </play> </button> <new_line> <shaken> <speak> <text> something like this </text> </speak> </shaken> <new_line> \\\n",
        "<button2> <open_camera>  </button> <new_line> <button3> <play_video> starwars.mp4 </play_video> </button> <new_line> <button4> <stop_play> </button> <new_line> <end_code>\".split()"
      ],
      "execution_count": 0,
      "outputs": []
    },
    {
      "cell_type": "code",
      "metadata": {
        "id": "cFGO5_EUVdGF",
        "colab_type": "code",
        "outputId": "7062c618-56a8-4ea0-964a-3e3265437949",
        "colab": {
          "base_uri": "https://localhost:8080/",
          "height": 739
        }
      },
      "source": [
        "tokens"
      ],
      "execution_count": 362,
      "outputs": [
        {
          "output_type": "execute_result",
          "data": {
            "text/plain": [
              "['<start_vis>',\n",
              " '<button>',\n",
              " '<button>',\n",
              " '<button>',\n",
              " '<button>',\n",
              " '<accelerometer>',\n",
              " '<video>',\n",
              " '<camera>',\n",
              " '<text2speech>',\n",
              " '<player>',\n",
              " '<end_vis>',\n",
              " '<start_code>',\n",
              " '<button1>',\n",
              " '<play>',\n",
              " 'panini.mp3',\n",
              " '</play>',\n",
              " '</button>',\n",
              " '<new_line>',\n",
              " '<shaken>',\n",
              " '<speak>',\n",
              " '<text>',\n",
              " 'something',\n",
              " 'like',\n",
              " 'this',\n",
              " '</text>',\n",
              " '</speak>',\n",
              " '</shaken>',\n",
              " '<new_line>',\n",
              " '<button2>',\n",
              " '<open_camera>',\n",
              " '</button>',\n",
              " '<new_line>',\n",
              " '<button3>',\n",
              " '<play_video>',\n",
              " 'starwars.mp4',\n",
              " '</play_video>',\n",
              " '</button>',\n",
              " '<new_line>',\n",
              " '<button4>',\n",
              " '<stop_play>',\n",
              " '</button>',\n",
              " '<new_line>',\n",
              " '<end_code>']"
            ]
          },
          "metadata": {
            "tags": []
          },
          "execution_count": 362
        }
      ]
    },
    {
      "cell_type": "code",
      "metadata": {
        "id": "ITtu8RJ0H40_",
        "colab_type": "code",
        "colab": {}
      },
      "source": [
        "vis_tokens = tokens[1:tokens.index(\"<end_vis>\")]\n",
        "code_tokens = tokens[tokens.index(\"<end_vis>\")+1:]"
      ],
      "execution_count": 0,
      "outputs": []
    },
    {
      "cell_type": "code",
      "metadata": {
        "id": "X-YJ-kRlIh7J",
        "colab_type": "code",
        "colab": {
          "base_uri": "https://localhost:8080/",
          "height": 168
        },
        "outputId": "2a7be0d5-611b-4f4b-aa66-c54ef8f1679a"
      },
      "source": [
        "vis_tokens"
      ],
      "execution_count": 364,
      "outputs": [
        {
          "output_type": "execute_result",
          "data": {
            "text/plain": [
              "['<button>',\n",
              " '<button>',\n",
              " '<button>',\n",
              " '<button>',\n",
              " '<accelerometer>',\n",
              " '<video>',\n",
              " '<camera>',\n",
              " '<text2speech>',\n",
              " '<player>']"
            ]
          },
          "metadata": {
            "tags": []
          },
          "execution_count": 364
        }
      ]
    },
    {
      "cell_type": "code",
      "metadata": {
        "id": "EPBG6CWSIjjg",
        "colab_type": "code",
        "colab": {
          "base_uri": "https://localhost:8080/",
          "height": 554
        },
        "outputId": "94bffdd0-55e0-4695-ea61-73fb667a4cc6"
      },
      "source": [
        "code_tokens"
      ],
      "execution_count": 365,
      "outputs": [
        {
          "output_type": "execute_result",
          "data": {
            "text/plain": [
              "['<start_code>',\n",
              " '<button1>',\n",
              " '<play>',\n",
              " 'panini.mp3',\n",
              " '</play>',\n",
              " '</button>',\n",
              " '<new_line>',\n",
              " '<shaken>',\n",
              " '<speak>',\n",
              " '<text>',\n",
              " 'something',\n",
              " 'like',\n",
              " 'this',\n",
              " '</text>',\n",
              " '</speak>',\n",
              " '</shaken>',\n",
              " '<new_line>',\n",
              " '<button2>',\n",
              " '<open_camera>',\n",
              " '</button>',\n",
              " '<new_line>',\n",
              " '<button3>',\n",
              " '<play_video>',\n",
              " 'starwars.mp4',\n",
              " '</play_video>',\n",
              " '</button>',\n",
              " '<new_line>',\n",
              " '<button4>',\n",
              " '<stop_play>',\n",
              " '</button>',\n",
              " '<new_line>',\n",
              " '<end_code>']"
            ]
          },
          "metadata": {
            "tags": []
          },
          "execution_count": 365
        }
      ]
    },
    {
      "cell_type": "code",
      "metadata": {
        "id": "6xuWHSt9Vd2E",
        "colab_type": "code",
        "colab": {}
      },
      "source": [
        "i = 0\n",
        "bky = \"\"\n",
        "while i < len(code_tokens):\n",
        "  #print(i)\n",
        "  token = code_tokens[i]\n",
        "  if token == '<text>':\n",
        "    i+=1\n",
        "    text = \"\"\n",
        "    while True:\n",
        "      token = code_tokens[i]\n",
        "      if token == '</text>':\n",
        "        break\n",
        "      text += token+\" \"\n",
        "      i+=1\n",
        "    bky += text\n",
        "  elif token == '<play>' or token == '<play_video>':\n",
        "    bky += dic[token]\n",
        "    i += 1\n",
        "    token = code_tokens[i]\n",
        "    bky += token\n",
        "  else:\n",
        "    bky += dic[token]\n",
        "  i+=1"
      ],
      "execution_count": 0,
      "outputs": []
    },
    {
      "cell_type": "code",
      "metadata": {
        "id": "YXit6fs0W9km",
        "colab_type": "code",
        "outputId": "343b5e5c-2878-4536-97be-5376be6a2580",
        "colab": {
          "base_uri": "https://localhost:8080/",
          "height": 54
        }
      },
      "source": [
        "bky"
      ],
      "execution_count": 367,
      "outputs": [
        {
          "output_type": "execute_result",
          "data": {
            "text/plain": [
              "'<xml xmlns=\"http://www.w3.org/1999/xhtml\">  <block type=\"component_event\" id=\"5Fnc2eKTqXnvQEkuEb,`\" x=\"-717\" y=\"-541\">\\n\\t    <mutation component_type=\"Button\" is_generic=\"false\" instance_name=\"Button1\" event_name=\"Click\"></mutation>\\n\\t    <field name=\"COMPONENT_SELECTOR\">Button1</field>\\n\\t    <statement name=\"DO\">      <block type=\"component_set_get\" id=\"M`ORo822oPPT_NZ5UQl8\">\\n        <mutation component_type=\"Player\" set_or_get=\"set\" property_name=\"Source\" is_generic=\"false\" instance_name=\"Player1\"></mutation>\\n        <field name=\"COMPONENT_SELECTOR\">Player1</field>\\n\\n        <field name=\"PROP\">Source</field>\\n\\n        <value name=\"VALUE\">\\n          <block type=\"text\" id=\"Hv*@f(.v|qmJFJ5cpEY@\">\\n            <field name=\"TEXT\">panini.mp3\\t            </field>\\t\\n          </block>\\t\\n        </value>\\t\\n        <next>\\t\\n          <block type=\"component_method\" id=\"*|w:Ln#[K;pY=W:C0Tm2\">\\t\\n            <mutation component_type=\"Player\" method_name=\"Start\" is_generic=\"false\" instance_name=\"Player1\"></mutation>\\t\\n            <field name=\"COMPONENT_SELECTOR\">Player1</field>\\t\\n          </block>\\t\\n        </next>\\t\\n      </block>\\t    </statement>\\n  </block>\\n  <block type=\"component_event\" id=\"(mbR6!,f3BycMC6fV#vp\" x=\"-740\" y=\"-367\">\\n    <mutation component_type=\"AccelerometerSensor\" is_generic=\"false\" instance_name=\"AccelerometerSensor1\" event_name=\"Shaking\"></mutation>\\n    <field name=\"COMPONENT_SELECTOR\">AccelerometerSensor1</field>\\n    <statement name=\"DO\">      <block type=\"component_method\" id=\"uk1$YtD.~FFzEI{,^jo?\">\\n        <mutation component_type=\"TextToSpeech\" method_name=\"Speak\" is_generic=\"false\" instance_name=\"TextToSpeech1\"></mutation>\\n        <field name=\"COMPONENT_SELECTOR\">TextToSpeech1</field>\\n        <value name=\"ARG0\">\\n          <block type=\"text\" id=\"Pd3e?.zfPi`8U[y:Lq[I\">\\n            <field name=\"TEXT\">something like this             </field>\\n          </block>\\n        </value>\\n      </block>    </statement>\\n  </block>\\n  <block type=\"component_event\" id=\"L.k%OOfugWWKbB|X=PTB\" x=\"-208\" y=\"-503\">\\n    <mutation component_type=\"Button\" is_generic=\"false\" instance_name=\"Button2\" event_name=\"Click\"></mutation>\\n    <field name=\"COMPONENT_SELECTOR\">Button2</field>\\n    <statement name=\"DO\">      <block type=\"component_method\" id=\"w~=BBIJa$W%0rs}t%Gr0\">\\n        <mutation component_type=\"Camera\" method_name=\"TakePicture\" is_generic=\"false\" instance_name=\"Camera1\"></mutation>\\n        <field name=\"COMPONENT_SELECTOR\">Camera1</field>\\n        </block>    </statement>\\n  </block>\\n  <block type=\"component_event\" id=\"*H.?`=wW)@O-=dzx80i%\" x=\"-227\" y=\"-369\">\\n    <mutation component_type=\"Button\" is_generic=\"false\" instance_name=\"Button3\" event_name=\"Click\"></mutation>\\n    <field name=\"COMPONENT_SELECTOR\">Button3</field>\\n    <statement name=\"DO\">      <block type=\"component_set_get\" id=\"~@geDXo-K5C9N[!Q}9/}\">\\n        <mutation component_type=\"VideoPlayer\" set_or_get=\"set\" property_name=\"Source\" is_generic=\"false\" instance_name=\"VideoPlayer1\"></mutation>\\n        <field name=\"COMPONENT_SELECTOR\">VideoPlayer1</field>\\n        <field name=\"PROP\">Source</field>\\n        <value name=\"VALUE\">\\n          <block type=\"text\" id=\"c~qz-Tkkz9E}()oRV,`i\">\\n            <field name=\"TEXT\">starwars.mp4           </field>\\n          </block>\\n        </value>\\n        <next>\\n          <block type=\"component_method\" id=\"OR/@4AKMZY7KRq?ACKxg\">\\n            <mutation component_type=\"VideoPlayer\" method_name=\"Start\" is_generic=\"false\" instance_name=\"VideoPlayer1\"></mutation>\\n            <field name=\"COMPONENT_SELECTOR\">VideoPlayer1</field>\\n          </block>\\n        </next>\\n      </block>    </statement>\\n  </block>\\n  <block type=\"component_event\" id=\"V`+dX.LLP6k;~`}Y_Sy+\" x=\"-214\" y=\"-225\">\\n    <mutation component_type=\"Button\" is_generic=\"false\" instance_name=\"Button4\" event_name=\"Click\"></mutation>\\n    <field name=\"COMPONENT_SELECTOR\">Button4</field>\\n    <statement name=\"DO\">\\n      <block type=\"component_method\" id=\"|!X?VEIdC{:M92}$8Sev\">\\n        <mutation component_type=\"Player\" method_name=\"Stop\" is_generic=\"false\" instance_name=\"Player1\"></mutation>\\n        <field name=\"COMPONENT_SELECTOR\">Player1</field>\\n      </block>    </statement>\\n  </block>\\n<yacodeblocks ya-version=\"196\" language-version=\"27\"></yacodeblocks>\\n\\t</xml>'"
            ]
          },
          "metadata": {
            "tags": []
          },
          "execution_count": 367
        }
      ]
    },
    {
      "cell_type": "code",
      "metadata": {
        "id": "af5NSx58cN-f",
        "colab_type": "code",
        "outputId": "6b229de0-f4d0-4505-c294-0ea1ee25ff93",
        "colab": {
          "base_uri": "https://localhost:8080/",
          "height": 54
        }
      },
      "source": [
        "import xml.dom.minidom\n",
        "\n",
        "dom = xml.dom.minidom.parseString(bky) #xml.dom.minidom.parse(xml_fname) # or \n",
        "pretty_xml_as_string = dom.toprettyxml()\n",
        "pretty_xml_as_string"
      ],
      "execution_count": 368,
      "outputs": [
        {
          "output_type": "execute_result",
          "data": {
            "text/plain": [
              "'<?xml version=\"1.0\" ?>\\n<xml xmlns=\"http://www.w3.org/1999/xhtml\">\\n\\t  \\n\\t<block id=\"5Fnc2eKTqXnvQEkuEb,`\" type=\"component_event\" x=\"-717\" y=\"-541\">\\n\\t\\t\\n\\t    \\n\\t\\t<mutation component_type=\"Button\" event_name=\"Click\" instance_name=\"Button1\" is_generic=\"false\"/>\\n\\t\\t\\n\\t    \\n\\t\\t<field name=\"COMPONENT_SELECTOR\">Button1</field>\\n\\t\\t\\n\\t    \\n\\t\\t<statement name=\"DO\">\\n\\t\\t\\t      \\n\\t\\t\\t<block id=\"M`ORo822oPPT_NZ5UQl8\" type=\"component_set_get\">\\n\\t\\t\\t\\t\\n        \\n\\t\\t\\t\\t<mutation component_type=\"Player\" instance_name=\"Player1\" is_generic=\"false\" property_name=\"Source\" set_or_get=\"set\"/>\\n\\t\\t\\t\\t\\n        \\n\\t\\t\\t\\t<field name=\"COMPONENT_SELECTOR\">Player1</field>\\n\\t\\t\\t\\t\\n\\n        \\n\\t\\t\\t\\t<field name=\"PROP\">Source</field>\\n\\t\\t\\t\\t\\n\\n        \\n\\t\\t\\t\\t<value name=\"VALUE\">\\n\\t\\t\\t\\t\\t\\n          \\n\\t\\t\\t\\t\\t<block id=\"Hv*@f(.v|qmJFJ5cpEY@\" type=\"text\">\\n\\t\\t\\t\\t\\t\\t\\n            \\n\\t\\t\\t\\t\\t\\t<field name=\"TEXT\">panini.mp3\\t            </field>\\n\\t\\t\\t\\t\\t\\t\\t\\n          \\n\\t\\t\\t\\t\\t</block>\\n\\t\\t\\t\\t\\t\\t\\n        \\n\\t\\t\\t\\t</value>\\n\\t\\t\\t\\t\\t\\n        \\n\\t\\t\\t\\t<next>\\n\\t\\t\\t\\t\\t\\t\\n          \\n\\t\\t\\t\\t\\t<block id=\"*|w:Ln#[K;pY=W:C0Tm2\" type=\"component_method\">\\n\\t\\t\\t\\t\\t\\t\\t\\n            \\n\\t\\t\\t\\t\\t\\t<mutation component_type=\"Player\" instance_name=\"Player1\" is_generic=\"false\" method_name=\"Start\"/>\\n\\t\\t\\t\\t\\t\\t\\t\\n            \\n\\t\\t\\t\\t\\t\\t<field name=\"COMPONENT_SELECTOR\">Player1</field>\\n\\t\\t\\t\\t\\t\\t\\t\\n          \\n\\t\\t\\t\\t\\t</block>\\n\\t\\t\\t\\t\\t\\t\\n        \\n\\t\\t\\t\\t</next>\\n\\t\\t\\t\\t\\t\\n      \\n\\t\\t\\t</block>\\n\\t\\t\\t\\t    \\n\\t\\t</statement>\\n\\t\\t\\n  \\n\\t</block>\\n\\t\\n  \\n\\t<block id=\"(mbR6!,f3BycMC6fV#vp\" type=\"component_event\" x=\"-740\" y=\"-367\">\\n\\t\\t\\n    \\n\\t\\t<mutation component_type=\"AccelerometerSensor\" event_name=\"Shaking\" instance_name=\"AccelerometerSensor1\" is_generic=\"false\"/>\\n\\t\\t\\n    \\n\\t\\t<field name=\"COMPONENT_SELECTOR\">AccelerometerSensor1</field>\\n\\t\\t\\n    \\n\\t\\t<statement name=\"DO\">\\n\\t\\t\\t      \\n\\t\\t\\t<block id=\"uk1$YtD.~FFzEI{,^jo?\" type=\"component_method\">\\n\\t\\t\\t\\t\\n        \\n\\t\\t\\t\\t<mutation component_type=\"TextToSpeech\" instance_name=\"TextToSpeech1\" is_generic=\"false\" method_name=\"Speak\"/>\\n\\t\\t\\t\\t\\n        \\n\\t\\t\\t\\t<field name=\"COMPONENT_SELECTOR\">TextToSpeech1</field>\\n\\t\\t\\t\\t\\n        \\n\\t\\t\\t\\t<value name=\"ARG0\">\\n\\t\\t\\t\\t\\t\\n          \\n\\t\\t\\t\\t\\t<block id=\"Pd3e?.zfPi`8U[y:Lq[I\" type=\"text\">\\n\\t\\t\\t\\t\\t\\t\\n            \\n\\t\\t\\t\\t\\t\\t<field name=\"TEXT\">something like this             </field>\\n\\t\\t\\t\\t\\t\\t\\n          \\n\\t\\t\\t\\t\\t</block>\\n\\t\\t\\t\\t\\t\\n        \\n\\t\\t\\t\\t</value>\\n\\t\\t\\t\\t\\n      \\n\\t\\t\\t</block>\\n\\t\\t\\t    \\n\\t\\t</statement>\\n\\t\\t\\n  \\n\\t</block>\\n\\t\\n  \\n\\t<block id=\"L.k%OOfugWWKbB|X=PTB\" type=\"component_event\" x=\"-208\" y=\"-503\">\\n\\t\\t\\n    \\n\\t\\t<mutation component_type=\"Button\" event_name=\"Click\" instance_name=\"Button2\" is_generic=\"false\"/>\\n\\t\\t\\n    \\n\\t\\t<field name=\"COMPONENT_SELECTOR\">Button2</field>\\n\\t\\t\\n    \\n\\t\\t<statement name=\"DO\">\\n\\t\\t\\t      \\n\\t\\t\\t<block id=\"w~=BBIJa$W%0rs}t%Gr0\" type=\"component_method\">\\n\\t\\t\\t\\t\\n        \\n\\t\\t\\t\\t<mutation component_type=\"Camera\" instance_name=\"Camera1\" is_generic=\"false\" method_name=\"TakePicture\"/>\\n\\t\\t\\t\\t\\n        \\n\\t\\t\\t\\t<field name=\"COMPONENT_SELECTOR\">Camera1</field>\\n\\t\\t\\t\\t\\n        \\n\\t\\t\\t</block>\\n\\t\\t\\t    \\n\\t\\t</statement>\\n\\t\\t\\n  \\n\\t</block>\\n\\t\\n  \\n\\t<block id=\"*H.?`=wW)@O-=dzx80i%\" type=\"component_event\" x=\"-227\" y=\"-369\">\\n\\t\\t\\n    \\n\\t\\t<mutation component_type=\"Button\" event_name=\"Click\" instance_name=\"Button3\" is_generic=\"false\"/>\\n\\t\\t\\n    \\n\\t\\t<field name=\"COMPONENT_SELECTOR\">Button3</field>\\n\\t\\t\\n    \\n\\t\\t<statement name=\"DO\">\\n\\t\\t\\t      \\n\\t\\t\\t<block id=\"~@geDXo-K5C9N[!Q}9/}\" type=\"component_set_get\">\\n\\t\\t\\t\\t\\n        \\n\\t\\t\\t\\t<mutation component_type=\"VideoPlayer\" instance_name=\"VideoPlayer1\" is_generic=\"false\" property_name=\"Source\" set_or_get=\"set\"/>\\n\\t\\t\\t\\t\\n        \\n\\t\\t\\t\\t<field name=\"COMPONENT_SELECTOR\">VideoPlayer1</field>\\n\\t\\t\\t\\t\\n        \\n\\t\\t\\t\\t<field name=\"PROP\">Source</field>\\n\\t\\t\\t\\t\\n        \\n\\t\\t\\t\\t<value name=\"VALUE\">\\n\\t\\t\\t\\t\\t\\n          \\n\\t\\t\\t\\t\\t<block id=\"c~qz-Tkkz9E}()oRV,`i\" type=\"text\">\\n\\t\\t\\t\\t\\t\\t\\n            \\n\\t\\t\\t\\t\\t\\t<field name=\"TEXT\">starwars.mp4           </field>\\n\\t\\t\\t\\t\\t\\t\\n          \\n\\t\\t\\t\\t\\t</block>\\n\\t\\t\\t\\t\\t\\n        \\n\\t\\t\\t\\t</value>\\n\\t\\t\\t\\t\\n        \\n\\t\\t\\t\\t<next>\\n\\t\\t\\t\\t\\t\\n          \\n\\t\\t\\t\\t\\t<block id=\"OR/@4AKMZY7KRq?ACKxg\" type=\"component_method\">\\n\\t\\t\\t\\t\\t\\t\\n            \\n\\t\\t\\t\\t\\t\\t<mutation component_type=\"VideoPlayer\" instance_name=\"VideoPlayer1\" is_generic=\"false\" method_name=\"Start\"/>\\n\\t\\t\\t\\t\\t\\t\\n            \\n\\t\\t\\t\\t\\t\\t<field name=\"COMPONENT_SELECTOR\">VideoPlayer1</field>\\n\\t\\t\\t\\t\\t\\t\\n          \\n\\t\\t\\t\\t\\t</block>\\n\\t\\t\\t\\t\\t\\n        \\n\\t\\t\\t\\t</next>\\n\\t\\t\\t\\t\\n      \\n\\t\\t\\t</block>\\n\\t\\t\\t    \\n\\t\\t</statement>\\n\\t\\t\\n  \\n\\t</block>\\n\\t\\n  \\n\\t<block id=\"V`+dX.LLP6k;~`}Y_Sy+\" type=\"component_event\" x=\"-214\" y=\"-225\">\\n\\t\\t\\n    \\n\\t\\t<mutation component_type=\"Button\" event_name=\"Click\" instance_name=\"Button4\" is_generic=\"false\"/>\\n\\t\\t\\n    \\n\\t\\t<field name=\"COMPONENT_SELECTOR\">Button4</field>\\n\\t\\t\\n    \\n\\t\\t<statement name=\"DO\">\\n\\t\\t\\t\\n      \\n\\t\\t\\t<block id=\"|!X?VEIdC{:M92}$8Sev\" type=\"component_method\">\\n\\t\\t\\t\\t\\n        \\n\\t\\t\\t\\t<mutation component_type=\"Player\" instance_name=\"Player1\" is_generic=\"false\" method_name=\"Stop\"/>\\n\\t\\t\\t\\t\\n        \\n\\t\\t\\t\\t<field name=\"COMPONENT_SELECTOR\">Player1</field>\\n\\t\\t\\t\\t\\n      \\n\\t\\t\\t</block>\\n\\t\\t\\t    \\n\\t\\t</statement>\\n\\t\\t\\n  \\n\\t</block>\\n\\t\\n\\n\\t<yacodeblocks language-version=\"27\" ya-version=\"196\"/>\\n\\t\\n\\t\\n</xml>\\n'"
            ]
          },
          "metadata": {
            "tags": []
          },
          "execution_count": 368
        }
      ]
    },
    {
      "cell_type": "code",
      "metadata": {
        "id": "8Se6GRFrfR5h",
        "colab_type": "code",
        "outputId": "9b37ee93-62f3-4433-f5f8-8b914fc27ea4",
        "colab": {
          "base_uri": "https://localhost:8080/",
          "height": 1000
        }
      },
      "source": [
        "print(pretty_xml_as_string)"
      ],
      "execution_count": 369,
      "outputs": [
        {
          "output_type": "stream",
          "text": [
            "<?xml version=\"1.0\" ?>\n",
            "<xml xmlns=\"http://www.w3.org/1999/xhtml\">\n",
            "\t  \n",
            "\t<block id=\"5Fnc2eKTqXnvQEkuEb,`\" type=\"component_event\" x=\"-717\" y=\"-541\">\n",
            "\t\t\n",
            "\t    \n",
            "\t\t<mutation component_type=\"Button\" event_name=\"Click\" instance_name=\"Button1\" is_generic=\"false\"/>\n",
            "\t\t\n",
            "\t    \n",
            "\t\t<field name=\"COMPONENT_SELECTOR\">Button1</field>\n",
            "\t\t\n",
            "\t    \n",
            "\t\t<statement name=\"DO\">\n",
            "\t\t\t      \n",
            "\t\t\t<block id=\"M`ORo822oPPT_NZ5UQl8\" type=\"component_set_get\">\n",
            "\t\t\t\t\n",
            "        \n",
            "\t\t\t\t<mutation component_type=\"Player\" instance_name=\"Player1\" is_generic=\"false\" property_name=\"Source\" set_or_get=\"set\"/>\n",
            "\t\t\t\t\n",
            "        \n",
            "\t\t\t\t<field name=\"COMPONENT_SELECTOR\">Player1</field>\n",
            "\t\t\t\t\n",
            "\n",
            "        \n",
            "\t\t\t\t<field name=\"PROP\">Source</field>\n",
            "\t\t\t\t\n",
            "\n",
            "        \n",
            "\t\t\t\t<value name=\"VALUE\">\n",
            "\t\t\t\t\t\n",
            "          \n",
            "\t\t\t\t\t<block id=\"Hv*@f(.v|qmJFJ5cpEY@\" type=\"text\">\n",
            "\t\t\t\t\t\t\n",
            "            \n",
            "\t\t\t\t\t\t<field name=\"TEXT\">panini.mp3\t            </field>\n",
            "\t\t\t\t\t\t\t\n",
            "          \n",
            "\t\t\t\t\t</block>\n",
            "\t\t\t\t\t\t\n",
            "        \n",
            "\t\t\t\t</value>\n",
            "\t\t\t\t\t\n",
            "        \n",
            "\t\t\t\t<next>\n",
            "\t\t\t\t\t\t\n",
            "          \n",
            "\t\t\t\t\t<block id=\"*|w:Ln#[K;pY=W:C0Tm2\" type=\"component_method\">\n",
            "\t\t\t\t\t\t\t\n",
            "            \n",
            "\t\t\t\t\t\t<mutation component_type=\"Player\" instance_name=\"Player1\" is_generic=\"false\" method_name=\"Start\"/>\n",
            "\t\t\t\t\t\t\t\n",
            "            \n",
            "\t\t\t\t\t\t<field name=\"COMPONENT_SELECTOR\">Player1</field>\n",
            "\t\t\t\t\t\t\t\n",
            "          \n",
            "\t\t\t\t\t</block>\n",
            "\t\t\t\t\t\t\n",
            "        \n",
            "\t\t\t\t</next>\n",
            "\t\t\t\t\t\n",
            "      \n",
            "\t\t\t</block>\n",
            "\t\t\t\t    \n",
            "\t\t</statement>\n",
            "\t\t\n",
            "  \n",
            "\t</block>\n",
            "\t\n",
            "  \n",
            "\t<block id=\"(mbR6!,f3BycMC6fV#vp\" type=\"component_event\" x=\"-740\" y=\"-367\">\n",
            "\t\t\n",
            "    \n",
            "\t\t<mutation component_type=\"AccelerometerSensor\" event_name=\"Shaking\" instance_name=\"AccelerometerSensor1\" is_generic=\"false\"/>\n",
            "\t\t\n",
            "    \n",
            "\t\t<field name=\"COMPONENT_SELECTOR\">AccelerometerSensor1</field>\n",
            "\t\t\n",
            "    \n",
            "\t\t<statement name=\"DO\">\n",
            "\t\t\t      \n",
            "\t\t\t<block id=\"uk1$YtD.~FFzEI{,^jo?\" type=\"component_method\">\n",
            "\t\t\t\t\n",
            "        \n",
            "\t\t\t\t<mutation component_type=\"TextToSpeech\" instance_name=\"TextToSpeech1\" is_generic=\"false\" method_name=\"Speak\"/>\n",
            "\t\t\t\t\n",
            "        \n",
            "\t\t\t\t<field name=\"COMPONENT_SELECTOR\">TextToSpeech1</field>\n",
            "\t\t\t\t\n",
            "        \n",
            "\t\t\t\t<value name=\"ARG0\">\n",
            "\t\t\t\t\t\n",
            "          \n",
            "\t\t\t\t\t<block id=\"Pd3e?.zfPi`8U[y:Lq[I\" type=\"text\">\n",
            "\t\t\t\t\t\t\n",
            "            \n",
            "\t\t\t\t\t\t<field name=\"TEXT\">something like this             </field>\n",
            "\t\t\t\t\t\t\n",
            "          \n",
            "\t\t\t\t\t</block>\n",
            "\t\t\t\t\t\n",
            "        \n",
            "\t\t\t\t</value>\n",
            "\t\t\t\t\n",
            "      \n",
            "\t\t\t</block>\n",
            "\t\t\t    \n",
            "\t\t</statement>\n",
            "\t\t\n",
            "  \n",
            "\t</block>\n",
            "\t\n",
            "  \n",
            "\t<block id=\"L.k%OOfugWWKbB|X=PTB\" type=\"component_event\" x=\"-208\" y=\"-503\">\n",
            "\t\t\n",
            "    \n",
            "\t\t<mutation component_type=\"Button\" event_name=\"Click\" instance_name=\"Button2\" is_generic=\"false\"/>\n",
            "\t\t\n",
            "    \n",
            "\t\t<field name=\"COMPONENT_SELECTOR\">Button2</field>\n",
            "\t\t\n",
            "    \n",
            "\t\t<statement name=\"DO\">\n",
            "\t\t\t      \n",
            "\t\t\t<block id=\"w~=BBIJa$W%0rs}t%Gr0\" type=\"component_method\">\n",
            "\t\t\t\t\n",
            "        \n",
            "\t\t\t\t<mutation component_type=\"Camera\" instance_name=\"Camera1\" is_generic=\"false\" method_name=\"TakePicture\"/>\n",
            "\t\t\t\t\n",
            "        \n",
            "\t\t\t\t<field name=\"COMPONENT_SELECTOR\">Camera1</field>\n",
            "\t\t\t\t\n",
            "        \n",
            "\t\t\t</block>\n",
            "\t\t\t    \n",
            "\t\t</statement>\n",
            "\t\t\n",
            "  \n",
            "\t</block>\n",
            "\t\n",
            "  \n",
            "\t<block id=\"*H.?`=wW)@O-=dzx80i%\" type=\"component_event\" x=\"-227\" y=\"-369\">\n",
            "\t\t\n",
            "    \n",
            "\t\t<mutation component_type=\"Button\" event_name=\"Click\" instance_name=\"Button3\" is_generic=\"false\"/>\n",
            "\t\t\n",
            "    \n",
            "\t\t<field name=\"COMPONENT_SELECTOR\">Button3</field>\n",
            "\t\t\n",
            "    \n",
            "\t\t<statement name=\"DO\">\n",
            "\t\t\t      \n",
            "\t\t\t<block id=\"~@geDXo-K5C9N[!Q}9/}\" type=\"component_set_get\">\n",
            "\t\t\t\t\n",
            "        \n",
            "\t\t\t\t<mutation component_type=\"VideoPlayer\" instance_name=\"VideoPlayer1\" is_generic=\"false\" property_name=\"Source\" set_or_get=\"set\"/>\n",
            "\t\t\t\t\n",
            "        \n",
            "\t\t\t\t<field name=\"COMPONENT_SELECTOR\">VideoPlayer1</field>\n",
            "\t\t\t\t\n",
            "        \n",
            "\t\t\t\t<field name=\"PROP\">Source</field>\n",
            "\t\t\t\t\n",
            "        \n",
            "\t\t\t\t<value name=\"VALUE\">\n",
            "\t\t\t\t\t\n",
            "          \n",
            "\t\t\t\t\t<block id=\"c~qz-Tkkz9E}()oRV,`i\" type=\"text\">\n",
            "\t\t\t\t\t\t\n",
            "            \n",
            "\t\t\t\t\t\t<field name=\"TEXT\">starwars.mp4           </field>\n",
            "\t\t\t\t\t\t\n",
            "          \n",
            "\t\t\t\t\t</block>\n",
            "\t\t\t\t\t\n",
            "        \n",
            "\t\t\t\t</value>\n",
            "\t\t\t\t\n",
            "        \n",
            "\t\t\t\t<next>\n",
            "\t\t\t\t\t\n",
            "          \n",
            "\t\t\t\t\t<block id=\"OR/@4AKMZY7KRq?ACKxg\" type=\"component_method\">\n",
            "\t\t\t\t\t\t\n",
            "            \n",
            "\t\t\t\t\t\t<mutation component_type=\"VideoPlayer\" instance_name=\"VideoPlayer1\" is_generic=\"false\" method_name=\"Start\"/>\n",
            "\t\t\t\t\t\t\n",
            "            \n",
            "\t\t\t\t\t\t<field name=\"COMPONENT_SELECTOR\">VideoPlayer1</field>\n",
            "\t\t\t\t\t\t\n",
            "          \n",
            "\t\t\t\t\t</block>\n",
            "\t\t\t\t\t\n",
            "        \n",
            "\t\t\t\t</next>\n",
            "\t\t\t\t\n",
            "      \n",
            "\t\t\t</block>\n",
            "\t\t\t    \n",
            "\t\t</statement>\n",
            "\t\t\n",
            "  \n",
            "\t</block>\n",
            "\t\n",
            "  \n",
            "\t<block id=\"V`+dX.LLP6k;~`}Y_Sy+\" type=\"component_event\" x=\"-214\" y=\"-225\">\n",
            "\t\t\n",
            "    \n",
            "\t\t<mutation component_type=\"Button\" event_name=\"Click\" instance_name=\"Button4\" is_generic=\"false\"/>\n",
            "\t\t\n",
            "    \n",
            "\t\t<field name=\"COMPONENT_SELECTOR\">Button4</field>\n",
            "\t\t\n",
            "    \n",
            "\t\t<statement name=\"DO\">\n",
            "\t\t\t\n",
            "      \n",
            "\t\t\t<block id=\"|!X?VEIdC{:M92}$8Sev\" type=\"component_method\">\n",
            "\t\t\t\t\n",
            "        \n",
            "\t\t\t\t<mutation component_type=\"Player\" instance_name=\"Player1\" is_generic=\"false\" method_name=\"Stop\"/>\n",
            "\t\t\t\t\n",
            "        \n",
            "\t\t\t\t<field name=\"COMPONENT_SELECTOR\">Player1</field>\n",
            "\t\t\t\t\n",
            "      \n",
            "\t\t\t</block>\n",
            "\t\t\t    \n",
            "\t\t</statement>\n",
            "\t\t\n",
            "  \n",
            "\t</block>\n",
            "\t\n",
            "\n",
            "\t<yacodeblocks language-version=\"27\" ya-version=\"196\"/>\n",
            "\t\n",
            "\t\n",
            "</xml>\n",
            "\n"
          ],
          "name": "stdout"
        }
      ]
    },
    {
      "cell_type": "markdown",
      "metadata": {
        "id": "2CwNbO22nD60",
        "colab_type": "text"
      },
      "source": [
        "## Visual Componnets"
      ]
    },
    {
      "cell_type": "code",
      "metadata": {
        "id": "KrGJXog8i56g",
        "colab_type": "code",
        "colab": {}
      },
      "source": [
        "component_dict = {\n",
        "    \"button_count\": 0,\n",
        "    \"max_button_count\":3,\n",
        "    \"buttons\": [\n",
        "      {\"$Name\":\"Button1\",\"$Type\":\"Button\",\"$Version\":\"6\",\"Text\":\"Text for Button1\",\"Uuid\":\"-1018622447\"},\n",
        "      {\"$Name\":\"Button2\",\"$Type\":\"Button\",\"$Version\":\"6\",\"Text\":\"Text for Button2\",\"Uuid\":\"962267658\"},\n",
        "      {\"$Name\":\"Button3\",\"$Type\":\"Button\",\"$Version\":\"6\",\"Text\":\"Text for Button3\",\"Uuid\":\"1669738041\"},\n",
        "      {\"$Name\":\"Button4\",\"$Type\":\"Button\",\"$Version\":\"6\",\"Text\":\"Text for Button4\",\"Uuid\":\"1669558870\"}\n",
        "    ],\n",
        "    \"<video>\": {\"$Name\":\"VideoPlayer1\",\"$Type\":\"VideoPlayer\",\"$Version\":\"6\",\"Uuid\":\"-894931296\"},\n",
        "    \"<accelerometer>\": {\"$Name\":\"AccelerometerSensor1\",\"$Type\":\"AccelerometerSensor\",\"$Version\":\"4\",\"Uuid\":\"1490551342\"},\n",
        "    \"<camera>\": {\"$Name\":\"Camera1\",\"$Type\":\"Camera\",\"$Version\":\"3\",\"Uuid\":\"-569313149\"},\n",
        "    \"<text2speech>\": {\"$Name\":\"TextToSpeech1\",\"$Type\":\"TextToSpeech\",\"$Version\":\"5\",\"Uuid\":\"-1685610153\"},\n",
        "    \"<player>\": {\"$Name\":\"Player1\",\"$Type\":\"Player\",\"$Version\":\"6\",\"Uuid\":\"-382824747\"}\n",
        "}"
      ],
      "execution_count": 0,
      "outputs": []
    },
    {
      "cell_type": "code",
      "metadata": {
        "id": "dR_a29OFBYl2",
        "colab_type": "code",
        "colab": {}
      },
      "source": [
        "scm = \"\"\"#|\n",
        "$JSON\n",
        "{\"authURL\":[\"ai2.appinventor.mit.edu\"],\"YaVersion\":\"196\",\"Source\":\"Form\",\"Properties\":{\"$Name\":\"Screen1\",\"$Type\":\"Form\",\"$Version\":\"26\",\"ActionBar\":\"True\",\"AppName\":\"<|app_name|>\",\"ShowListsAsJson\":\"False\",\"Sizing\":\"Fixed\",\"Theme\":\"AppTheme.Light.DarkActionBar\",\"Title\":\"My App from Text\",\"Uuid\":\"0\",\n",
        "\"$Components\": <|components|>\n",
        "}}\n",
        "|#\"\"\""
      ],
      "execution_count": 0,
      "outputs": []
    },
    {
      "cell_type": "code",
      "metadata": {
        "id": "t1LaoBOIJPcG",
        "colab_type": "code",
        "colab": {}
      },
      "source": [
        "vis_components = []\n",
        "for token in vis_tokens:\n",
        "  if token == \"<button>\" and component_dict[\"button_count\"]<=component_dict[\"max_button_count\"]:\n",
        "    component = component_dict[\"buttons\"][component_dict[\"button_count\"]]\n",
        "    component_dict[\"button_count\"] += 1\n",
        "  else:\n",
        "    component = component_dict[token]\n",
        "  vis_components.append(component)"
      ],
      "execution_count": 0,
      "outputs": []
    },
    {
      "cell_type": "code",
      "metadata": {
        "id": "LTGOtBzCJdav",
        "colab_type": "code",
        "colab": {
          "base_uri": "https://localhost:8080/",
          "height": 54
        },
        "outputId": "eb44f35a-3d28-4e0e-8ac5-4b998cc1607d"
      },
      "source": [
        "str(vis_components)"
      ],
      "execution_count": 373,
      "outputs": [
        {
          "output_type": "execute_result",
          "data": {
            "text/plain": [
              "\"[{'$Name': 'Button1', '$Type': 'Button', '$Version': '6', 'Text': 'Text for Button1', 'Uuid': '-1018622447'}, {'$Name': 'Button2', '$Type': 'Button', '$Version': '6', 'Text': 'Text for Button2', 'Uuid': '962267658'}, {'$Name': 'Button3', '$Type': 'Button', '$Version': '6', 'Text': 'Text for Button3', 'Uuid': '1669738041'}, {'$Name': 'Button4', '$Type': 'Button', '$Version': '6', 'Text': 'Text for Button4', 'Uuid': '1669558870'}, {'$Name': 'AccelerometerSensor1', '$Type': 'AccelerometerSensor', '$Version': '4', 'Uuid': '1490551342'}, {'$Name': 'VideoPlayer1', '$Type': 'VideoPlayer', '$Version': '6', 'Uuid': '-894931296'}, {'$Name': 'Camera1', '$Type': 'Camera', '$Version': '3', 'Uuid': '-569313149'}, {'$Name': 'TextToSpeech1', '$Type': 'TextToSpeech', '$Version': '5', 'Uuid': '-1685610153'}, {'$Name': 'Player1', '$Type': 'Player', '$Version': '6', 'Uuid': '-382824747'}]\""
            ]
          },
          "metadata": {
            "tags": []
          },
          "execution_count": 373
        }
      ]
    },
    {
      "cell_type": "code",
      "metadata": {
        "id": "UNQ83mvBEY7I",
        "colab_type": "code",
        "colab": {
          "base_uri": "https://localhost:8080/",
          "height": 138
        },
        "outputId": "fd53daa8-a3f5-49fe-818a-f6bd27bbe387"
      },
      "source": [
        "print(scm)"
      ],
      "execution_count": 374,
      "outputs": [
        {
          "output_type": "stream",
          "text": [
            "#|\n",
            "$JSON\n",
            "{\"authURL\":[\"ai2.appinventor.mit.edu\"],\"YaVersion\":\"196\",\"Source\":\"Form\",\"Properties\":{\"$Name\":\"Screen1\",\"$Type\":\"Form\",\"$Version\":\"26\",\"ActionBar\":\"True\",\"AppName\":\"<|app_name|>\",\"ShowListsAsJson\":\"False\",\"Sizing\":\"Fixed\",\"Theme\":\"AppTheme.Light.DarkActionBar\",\"Title\":\"My App from Text\",\"Uuid\":\"0\",\n",
            "\"$Components\": <|components|>\n",
            "}}\n",
            "|#\n"
          ],
          "name": "stdout"
        }
      ]
    },
    {
      "cell_type": "code",
      "metadata": {
        "id": "MJnsjKVYEZvB",
        "colab_type": "code",
        "colab": {
          "base_uri": "https://localhost:8080/",
          "height": 138
        },
        "outputId": "493e8e91-5746-438d-d6c4-c190dd5ab52f"
      },
      "source": [
        "vis_file = scm.replace(\"<|app_name|>\", project_name).replace(\"<|components|>\", str(vis_components))\n",
        "print(vis_file)"
      ],
      "execution_count": 375,
      "outputs": [
        {
          "output_type": "stream",
          "text": [
            "#|\n",
            "$JSON\n",
            "{\"authURL\":[\"ai2.appinventor.mit.edu\"],\"YaVersion\":\"196\",\"Source\":\"Form\",\"Properties\":{\"$Name\":\"Screen1\",\"$Type\":\"Form\",\"$Version\":\"26\",\"ActionBar\":\"True\",\"AppName\":\"MyProject\",\"ShowListsAsJson\":\"False\",\"Sizing\":\"Fixed\",\"Theme\":\"AppTheme.Light.DarkActionBar\",\"Title\":\"My App from Text\",\"Uuid\":\"0\",\n",
            "\"$Components\": [{'$Name': 'Button1', '$Type': 'Button', '$Version': '6', 'Text': 'Text for Button1', 'Uuid': '-1018622447'}, {'$Name': 'Button2', '$Type': 'Button', '$Version': '6', 'Text': 'Text for Button2', 'Uuid': '962267658'}, {'$Name': 'Button3', '$Type': 'Button', '$Version': '6', 'Text': 'Text for Button3', 'Uuid': '1669738041'}, {'$Name': 'Button4', '$Type': 'Button', '$Version': '6', 'Text': 'Text for Button4', 'Uuid': '1669558870'}, {'$Name': 'AccelerometerSensor1', '$Type': 'AccelerometerSensor', '$Version': '4', 'Uuid': '1490551342'}, {'$Name': 'VideoPlayer1', '$Type': 'VideoPlayer', '$Version': '6', 'Uuid': '-894931296'}, {'$Name': 'Camera1', '$Type': 'Camera', '$Version': '3', 'Uuid': '-569313149'}, {'$Name': 'TextToSpeech1', '$Type': 'TextToSpeech', '$Version': '5', 'Uuid': '-1685610153'}, {'$Name': 'Player1', '$Type': 'Player', '$Version': '6', 'Uuid': '-382824747'}]\n",
            "}}\n",
            "|#\n"
          ],
          "name": "stdout"
        }
      ]
    },
    {
      "cell_type": "code",
      "metadata": {
        "id": "h3fCeP2xMOYz",
        "colab_type": "code",
        "colab": {}
      },
      "source": [
        "vis_file = vis_file.replace(\"\\'\", \"\\\"\")"
      ],
      "execution_count": 0,
      "outputs": []
    },
    {
      "cell_type": "markdown",
      "metadata": {
        "id": "3JROfo3zMhBY",
        "colab_type": "text"
      },
      "source": [
        "## Project Properties"
      ]
    },
    {
      "cell_type": "code",
      "metadata": {
        "id": "fUxD-dPNFE8c",
        "colab_type": "code",
        "colab": {}
      },
      "source": [
        "base_properties = \"\"\"\n",
        "main=appinventor.ai_{0}.{1}.Screen1\n",
        "name=BlankProject\n",
        "assets=../assets\n",
        "source=../src\n",
        "build=../build\n",
        "versioncode=1\n",
        "versionname=1.0\n",
        "useslocation=False\n",
        "aname={1}\n",
        "sizing=Fixed\n",
        "showlistsasjson=False\n",
        "actionbar=True\n",
        "theme=AppTheme.Light.DarkActionBar\n",
        "color.primary=&HFF3F51B5\n",
        "color.primary.dark=&HFF303F9F\n",
        "color.accent=&HFFFF4081\n",
        "\"\"\""
      ],
      "execution_count": 0,
      "outputs": []
    },
    {
      "cell_type": "code",
      "metadata": {
        "id": "c5e0qcRoMeVt",
        "colab_type": "code",
        "colab": {}
      },
      "source": [
        "project_properties = base_properties.format(user_name, project_name)"
      ],
      "execution_count": 0,
      "outputs": []
    },
    {
      "cell_type": "code",
      "metadata": {
        "id": "qJ59QydhMyJd",
        "colab_type": "code",
        "colab": {
          "base_uri": "https://localhost:8080/",
          "height": 319
        },
        "outputId": "94280049-1aaa-49aa-8610-903d79b31bd7"
      },
      "source": [
        "print(project_properties)"
      ],
      "execution_count": 379,
      "outputs": [
        {
          "output_type": "stream",
          "text": [
            "\n",
            "main=appinventor.ai_youngladesh.MyProject.Screen1\n",
            "name=BlankProject\n",
            "assets=../assets\n",
            "source=../src\n",
            "build=../build\n",
            "versioncode=1\n",
            "versionname=1.0\n",
            "useslocation=False\n",
            "aname=MyProject\n",
            "sizing=Fixed\n",
            "showlistsasjson=False\n",
            "actionbar=True\n",
            "theme=AppTheme.Light.DarkActionBar\n",
            "color.primary=&HFF3F51B5\n",
            "color.primary.dark=&HFF303F9F\n",
            "color.accent=&HFFFF4081\n",
            "\n"
          ],
          "name": "stdout"
        }
      ]
    },
    {
      "cell_type": "markdown",
      "metadata": {
        "id": "XENf9nPB4nZu",
        "colab_type": "text"
      },
      "source": [
        "## Media files"
      ]
    },
    {
      "cell_type": "code",
      "metadata": {
        "id": "SgpdjSe84rOQ",
        "colab_type": "code",
        "colab": {
          "base_uri": "https://localhost:8080/",
          "height": 171
        },
        "outputId": "52b33193-2c52-45c7-85e3-4c2c9c34cafa"
      },
      "source": [
        "%%bash\n",
        "git clone https://github.com/jeroenmeulenaar/python3-mega.git python3mega\n",
        "cd python3mega\n",
        "pip install -r requirements.txt"
      ],
      "execution_count": 343,
      "outputs": [
        {
          "output_type": "stream",
          "text": [
            "Requirement already satisfied: requests>=1.1.0 in /usr/local/lib/python3.6/dist-packages (from -r requirements.txt (line 1)) (2.21.0)\n",
            "Requirement already satisfied: URLObject>=2.1.1 in /usr/local/lib/python3.6/dist-packages (from -r requirements.txt (line 2)) (2.4.3)\n",
            "Requirement already satisfied: pycrypto>=2.6 in /usr/local/lib/python3.6/dist-packages (from -r requirements.txt (line 3)) (2.6.1)\n",
            "Requirement already satisfied: certifi>=2017.4.17 in /usr/local/lib/python3.6/dist-packages (from requests>=1.1.0->-r requirements.txt (line 1)) (2019.11.28)\n",
            "Requirement already satisfied: chardet<3.1.0,>=3.0.2 in /usr/local/lib/python3.6/dist-packages (from requests>=1.1.0->-r requirements.txt (line 1)) (3.0.4)\n",
            "Requirement already satisfied: urllib3<1.25,>=1.21.1 in /usr/local/lib/python3.6/dist-packages (from requests>=1.1.0->-r requirements.txt (line 1)) (1.24.3)\n",
            "Requirement already satisfied: idna<2.9,>=2.5 in /usr/local/lib/python3.6/dist-packages (from requests>=1.1.0->-r requirements.txt (line 1)) (2.8)\n"
          ],
          "name": "stdout"
        },
        {
          "output_type": "stream",
          "text": [
            "fatal: destination path 'python3mega' already exists and is not an empty directory.\n"
          ],
          "name": "stderr"
        }
      ]
    },
    {
      "cell_type": "code",
      "metadata": {
        "id": "5g6v9Ih45SdD",
        "colab_type": "code",
        "colab": {}
      },
      "source": [
        "import os\n",
        "os.chdir('python3mega')\n",
        "from mega import Mega\n",
        "m = Mega.from_ephemeral()\n",
        "os.chdir('..')"
      ],
      "execution_count": 0,
      "outputs": []
    },
    {
      "cell_type": "code",
      "metadata": {
        "id": "DM_bXPkj5bhn",
        "colab_type": "code",
        "colab": {}
      },
      "source": [
        "url = 'https://mega.nz/#!AUJH3YAI!CSCDxZgDluEcyNCI0bO3qXyzT423m0ekjyl9o-euwZg'"
      ],
      "execution_count": 0,
      "outputs": []
    },
    {
      "cell_type": "code",
      "metadata": {
        "id": "kV8uj4FP5UzR",
        "colab_type": "code",
        "colab": {}
      },
      "source": [
        "m.download_from_url(url)"
      ],
      "execution_count": 0,
      "outputs": []
    },
    {
      "cell_type": "code",
      "metadata": {
        "id": "5emTHqyZ6fa0",
        "colab_type": "code",
        "colab": {
          "base_uri": "https://localhost:8080/",
          "height": 134
        },
        "outputId": "c64f0597-fa7c-4399-cecb-739c2e549ed8"
      },
      "source": [
        "!unzip -o text2app_media.zip"
      ],
      "execution_count": 214,
      "outputs": [
        {
          "output_type": "stream",
          "text": [
            "Archive:  text2app_media.zip\n",
            "  inflating: text2app_media/breakingbad.mp4  \n",
            "  inflating: text2app_media/paintitblack.mp3  \n",
            "  inflating: text2app_media/panini.mp3  \n",
            "  inflating: text2app_media/shapeofyou.mp3  \n",
            "  inflating: text2app_media/spiderverse.mp4  \n",
            "  inflating: text2app_media/starwars.mp4  \n"
          ],
          "name": "stdout"
        }
      ]
    },
    {
      "cell_type": "markdown",
      "metadata": {
        "id": "a9olM-axbwCf",
        "colab_type": "text"
      },
      "source": [
        "## Reverse Engineering App Inventor Export file"
      ]
    },
    {
      "cell_type": "code",
      "metadata": {
        "id": "tmbs3aUlUV7Y",
        "colab_type": "code",
        "colab": {}
      },
      "source": [
        "# .\n",
        "# ├── assets\n",
        "# │   ├── panini.mp3\n",
        "# │   └── starwars.mp4\n",
        "# ├── src\n",
        "# │   └── appinventor\n",
        "# │       └── ai_youngladesh\n",
        "# │           └── BlankProject\n",
        "# │               ├── Screen1.bky\n",
        "# │               └── Screen1.scm\n",
        "# └── youngandroidproject\n",
        "#     └── project.properties"
      ],
      "execution_count": 0,
      "outputs": []
    },
    {
      "cell_type": "code",
      "metadata": {
        "id": "xFN_JPDnBEtk",
        "colab_type": "code",
        "colab": {}
      },
      "source": [
        "if os.path.exists('myapp'):\n",
        "  !rm -r myapp"
      ],
      "execution_count": 0,
      "outputs": []
    },
    {
      "cell_type": "code",
      "metadata": {
        "id": "bHaJj6BCT_Ue",
        "colab_type": "code",
        "colab": {}
      },
      "source": [
        "import os\n",
        "os.makedirs('myapp/src/appinventor/ai_{0}/{1}'.format(user_name, project_name))\n",
        "os.makedirs('myapp/youngandroidproject')"
      ],
      "execution_count": 0,
      "outputs": []
    },
    {
      "cell_type": "code",
      "metadata": {
        "id": "FNqnniin7byY",
        "colab_type": "code",
        "colab": {}
      },
      "source": [
        "# Comment while debugging\n",
        "#os.makedirs('myapp/assets')\n",
        "#!cp text2app_media/* myapp/assets/"
      ],
      "execution_count": 0,
      "outputs": []
    },
    {
      "cell_type": "code",
      "metadata": {
        "id": "MojoVjfnMyb8",
        "colab_type": "code",
        "colab": {}
      },
      "source": [
        "bky_file = open('myapp/src/appinventor/ai_{0}/{1}/Screen1.bky'.format(user_name, project_name), 'w+')\n",
        "scm_file = open('myapp/src/appinventor/ai_{0}/{1}/Screen1.scm'.format(user_name, project_name), 'w+')\n",
        "properties = open('myapp/youngandroidproject/project.properties', 'w+')"
      ],
      "execution_count": 0,
      "outputs": []
    },
    {
      "cell_type": "code",
      "metadata": {
        "id": "kP87pqbjT6JF",
        "colab_type": "code",
        "colab": {
          "base_uri": "https://localhost:8080/",
          "height": 34
        },
        "outputId": "07246204-5f19-41fd-e275-0a79c80d732c"
      },
      "source": [
        "bky_file.write(pretty_xml_as_string)\n",
        "scm_file.write(vis_file)\n",
        "properties.write(project_properties)"
      ],
      "execution_count": 385,
      "outputs": [
        {
          "output_type": "execute_result",
          "data": {
            "text/plain": [
              "344"
            ]
          },
          "metadata": {
            "tags": []
          },
          "execution_count": 385
        }
      ]
    },
    {
      "cell_type": "code",
      "metadata": {
        "id": "eKhtsKBYYDyP",
        "colab_type": "code",
        "colab": {}
      },
      "source": [
        "bky_file.close()\n",
        "scm_file.close()\n",
        "properties.close()"
      ],
      "execution_count": 0,
      "outputs": []
    },
    {
      "cell_type": "code",
      "metadata": {
        "id": "SkZHy8sRYVXm",
        "colab_type": "code",
        "colab": {
          "base_uri": "https://localhost:8080/",
          "height": 202
        },
        "outputId": "19892753-d6e2-4a13-dab2-202959ddb271"
      },
      "source": [
        "!tree myapp"
      ],
      "execution_count": 387,
      "outputs": [
        {
          "output_type": "stream",
          "text": [
            "myapp\n",
            "├── src\n",
            "│   └── appinventor\n",
            "│       └── ai_youngladesh\n",
            "│           └── MyProject\n",
            "│               ├── Screen1.bky\n",
            "│               └── Screen1.scm\n",
            "└── youngandroidproject\n",
            "    └── project.properties\n",
            "\n",
            "5 directories, 3 files\n"
          ],
          "name": "stdout"
        }
      ]
    },
    {
      "cell_type": "code",
      "metadata": {
        "id": "u8pTOippYZak",
        "colab_type": "code",
        "colab": {
          "base_uri": "https://localhost:8080/",
          "height": 151
        },
        "outputId": "0df5ac09-c691-449e-afd8-fad99ffd8e90"
      },
      "source": [
        "%%bash\n",
        "cd myapp\n",
        "zip -r myapp.zip *\n",
        "mv myapp.zip .."
      ],
      "execution_count": 388,
      "outputs": [
        {
          "output_type": "stream",
          "text": [
            "  adding: src/ (stored 0%)\n",
            "  adding: src/appinventor/ (stored 0%)\n",
            "  adding: src/appinventor/ai_youngladesh/ (stored 0%)\n",
            "  adding: src/appinventor/ai_youngladesh/MyProject/ (stored 0%)\n",
            "  adding: src/appinventor/ai_youngladesh/MyProject/Screen1.scm (deflated 62%)\n",
            "  adding: src/appinventor/ai_youngladesh/MyProject/Screen1.bky (deflated 78%)\n",
            "  adding: youngandroidproject/ (stored 0%)\n",
            "  adding: youngandroidproject/project.properties (deflated 34%)\n"
          ],
          "name": "stdout"
        }
      ]
    },
    {
      "cell_type": "code",
      "metadata": {
        "id": "g9-lovI2auUH",
        "colab_type": "code",
        "colab": {}
      },
      "source": [
        "!mv myapp.zip '$project_name'.aia"
      ],
      "execution_count": 0,
      "outputs": []
    },
    {
      "cell_type": "code",
      "metadata": {
        "id": "fPiH9oae-K9W",
        "colab_type": "code",
        "colab": {}
      },
      "source": [
        "from google.colab import files\n",
        "files.download('{}.aia'.format(project_name))"
      ],
      "execution_count": 0,
      "outputs": []
    },
    {
      "cell_type": "code",
      "metadata": {
        "id": "iFa-zgCsZ9Zx",
        "colab_type": "code",
        "colab": {}
      },
      "source": [
        ""
      ],
      "execution_count": 0,
      "outputs": []
    },
    {
      "cell_type": "markdown",
      "metadata": {
        "id": "OR4FZDfnTtie",
        "colab_type": "text"
      },
      "source": [
        "# Generate synthetic data"
      ]
    },
    {
      "cell_type": "code",
      "metadata": {
        "id": "LMOzfRZ9UKOq",
        "colab_type": "code",
        "colab": {}
      },
      "source": [
        "audio_files = ['paintinblack.mp3', 'shapeofyou.mp3', 'panini.mp3']\n",
        "video_files = ['breakingbad.mp4', 'spiderverse.mp4', 'starwars.mp4']"
      ],
      "execution_count": 0,
      "outputs": []
    },
    {
      "cell_type": "code",
      "metadata": {
        "id": "vUxsHsoSUr8F",
        "colab_type": "code",
        "colab": {
          "base_uri": "https://localhost:8080/",
          "height": 151
        },
        "outputId": "a4405a31-5dac-41e3-d6a5-18aa5e6f2e67"
      },
      "source": [
        "possible_components = [\n",
        " 'buttons',\n",
        " '<video>',\n",
        " '<accelerometer>',\n",
        " '<camera>',\n",
        " '<text2speech>',\n",
        " '<player>'\n",
        " ]"
      ],
      "execution_count": 392,
      "outputs": [
        {
          "output_type": "execute_result",
          "data": {
            "text/plain": [
              "['button_count',\n",
              " 'max_button_count',\n",
              " 'buttons',\n",
              " '<video>',\n",
              " '<accelerometer>',\n",
              " '<camera>',\n",
              " '<text2speech>',\n",
              " '<player>']"
            ]
          },
          "metadata": {
            "tags": []
          },
          "execution_count": 392
        }
      ]
    },
    {
      "cell_type": "code",
      "metadata": {
        "id": "BcrJA7jiVR2h",
        "colab_type": "code",
        "colab": {}
      },
      "source": [
        "output_vocab = [\n",
        " '<speak>',\n",
        " '<text2speech>',\n",
        " '<stop_play>',\n",
        " '<text>',\n",
        " '</play>',\n",
        " '</text>',\n",
        " '<play>',\n",
        " '<player>',\n",
        " '</button>',\n",
        " '<end_vis>',\n",
        " '<accelerometer>',\n",
        " '</shaken>',\n",
        " '<open_camera>',\n",
        " '<start_code>',\n",
        " '<play_video>',\n",
        " '<end_code>',\n",
        " '<button2>',\n",
        " '<video>',\n",
        " '</speak>',\n",
        " '<new_line>',\n",
        " '<button4>',\n",
        " '<button>',\n",
        " '<shaken>',\n",
        " '<camera>',\n",
        " '</play_video>',\n",
        " '<start_vis>',\n",
        " '<button3>',\n",
        " '<button1>']"
      ],
      "execution_count": 0,
      "outputs": []
    },
    {
      "cell_type": "markdown",
      "metadata": {
        "id": "MVOk_II-TzEp",
        "colab_type": "text"
      },
      "source": [
        "# Neural Machine Translation model for Text to SAR"
      ]
    },
    {
      "cell_type": "code",
      "metadata": {
        "id": "csgYx-SrTyUQ",
        "colab_type": "code",
        "colab": {}
      },
      "source": [
        "!git clone https://github.com/OpenNMT/OpenNMT-py"
      ],
      "execution_count": 0,
      "outputs": []
    },
    {
      "cell_type": "code",
      "metadata": {
        "id": "irIyiILWfLRe",
        "colab_type": "code",
        "colab": {}
      },
      "source": [
        "!pip install OpenNMT-py"
      ],
      "execution_count": 0,
      "outputs": []
    },
    {
      "cell_type": "markdown",
      "metadata": {
        "id": "XrzHXLECf-jt",
        "colab_type": "text"
      },
      "source": [
        "Preprocessing"
      ]
    },
    {
      "cell_type": "code",
      "metadata": {
        "id": "MrKObkKDfQZc",
        "colab_type": "code",
        "colab": {}
      },
      "source": [
        "!python OpenNMT-py/preprocess.py -train_src OpenNMT-py/data/src-train-bpe.txt -train_tgt OpenNMT-py/data/tgt-train-bpe.txt \\\n",
        "-valid_src OpenNMT-py/data/src-val-bpe.txt -valid_tgt OpenNMT-py/data/tgt-val-bpe.txt -save_data OpenNMT-py/data/demo"
      ],
      "execution_count": 0,
      "outputs": []
    },
    {
      "cell_type": "code",
      "metadata": {
        "id": "4uJZJb67fd7L",
        "colab_type": "code",
        "colab": {}
      },
      "source": [
        "!nvidia-smi"
      ],
      "execution_count": 0,
      "outputs": []
    },
    {
      "cell_type": "code",
      "metadata": {
        "id": "GVdDyaOeffI5",
        "colab_type": "code",
        "colab": {}
      },
      "source": [
        "!python OpenNMT-py/train.py -data OpenNMT-py/data/demo -save_model OpenNMT-py/demo-model"
      ],
      "execution_count": 0,
      "outputs": []
    },
    {
      "cell_type": "markdown",
      "metadata": {
        "id": "CkVbcos0gA6a",
        "colab_type": "text"
      },
      "source": [
        "Training a Transformer (change to seq2seq LSTM later)"
      ]
    },
    {
      "cell_type": "code",
      "metadata": {
        "id": "3_DmCCcGfjCL",
        "colab_type": "code",
        "colab": {}
      },
      "source": [
        "!python OpenNMT-py/train.py -data OpenNMT-py/data/demo -save_model OpenNMT-py/data/model/model \\\n",
        "-layers 6 -rnn_size 512 -word_vec_size 512 -transformer_ff 2048 -heads 8 -encoder_type transformer \\\n",
        " -decoder_type transformer -position_encoding -train_steps 200000 -max_generator_batches 2 -dropout 0.1 \\\n",
        " -batch_size 4096 -batch_type tokens -normalization tokens -accum_count 2 -optim adam -adam_beta2 0.998 \\\n",
        " -decay_method noam -warmup_steps 8000 -learning_rate 2 -max_grad_norm 0 -param_init 0 -param_init_glorot\\\n",
        "  -label_smoothing 0.1 -valid_steps 1000 -save_checkpoint_steps 1000 -world_size 1 -gpu_rank 0"
      ],
      "execution_count": 0,
      "outputs": []
    },
    {
      "cell_type": "markdown",
      "metadata": {
        "id": "Rw6ynYFWgKXz",
        "colab_type": "text"
      },
      "source": [
        "Inference"
      ]
    },
    {
      "cell_type": "code",
      "metadata": {
        "id": "g5TVGsm_fy9_",
        "colab_type": "code",
        "colab": {}
      },
      "source": [
        "!python OpenNMT-py/translate.py -model OpenNMT-py/data/model/demo-model_YOUR_MODEL.pt -src \\\n",
        "OpenNMT-py/data/src-test.txt -output OpenNMT-py/data/pred.txt -replace_unk -verbose -beam_size 1"
      ],
      "execution_count": 0,
      "outputs": []
    },
    {
      "cell_type": "code",
      "metadata": {
        "id": "kFofCDo8f44o",
        "colab_type": "code",
        "colab": {}
      },
      "source": [
        "sed -i \"s/@@ //g\"  OpenNMT-py/data/pred.txt"
      ],
      "execution_count": 0,
      "outputs": []
    }
  ]
}